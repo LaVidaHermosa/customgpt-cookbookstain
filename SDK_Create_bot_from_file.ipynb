{
  "cells": [
    {
      "cell_type": "code",
      "execution_count": 1,
      "metadata": {
        "colab": {
          "base_uri": "https://localhost:8080/"
        },
        "id": "cMS4FTgtE0s1",
        "outputId": "05404cb8-b315-44fb-ad3f-a283b1558a0e"
      },
      "outputs": [
        {
          "output_type": "stream",
          "name": "stdout",
          "text": [
            "Collecting customgpt-client==1.1.3\n",
            "  Downloading customgpt_client-1.1.3-py3-none-any.whl (404 kB)\n",
            "\u001b[2K     \u001b[90m━━━━━━━━━━━━━━━━━━━━━━━━━━━━━━━━━━━━━━━\u001b[0m \u001b[32m404.5/404.5 kB\u001b[0m \u001b[31m8.3 MB/s\u001b[0m eta \u001b[36m0:00:00\u001b[0m\n",
            "\u001b[?25hRequirement already satisfied: attrs>=21.3.0 in /usr/local/lib/python3.10/dist-packages (from customgpt-client==1.1.3) (23.1.0)\n",
            "Requirement already satisfied: python-dateutil<3.0.0,>=2.8.0 in /usr/local/lib/python3.10/dist-packages (from customgpt-client==1.1.3) (2.8.2)\n",
            "Collecting sseclient-py==1.7.2 (from customgpt-client==1.1.3)\n",
            "  Downloading sseclient_py-1.7.2-py2.py3-none-any.whl (8.4 kB)\n",
            "Requirement already satisfied: six>=1.5 in /usr/local/lib/python3.10/dist-packages (from python-dateutil<3.0.0,>=2.8.0->customgpt-client==1.1.3) (1.16.0)\n",
            "Installing collected packages: sseclient-py, customgpt-client\n",
            "Successfully installed customgpt-client-1.1.3 sseclient-py-1.7.2\n"
          ]
        }
      ],
      "source": [
        "!pip install customgpt-client==1.1.3"
      ]
    },
    {
      "cell_type": "markdown",
      "metadata": {
        "id": "PAWpaaSa1WLi"
      },
      "source": [
        "**Create your custom chat bot using a sitemap.**\n"
      ]
    },
    {
      "cell_type": "code",
      "execution_count": 2,
      "metadata": {
        "id": "Hc9SsdoR1WLm"
      },
      "outputs": [],
      "source": [
        "from customgpt_client import CustomGPT\n",
        "CustomGPT.api_key = \"YOUR_API_TOKEN\""
      ]
    },
    {
      "cell_type": "markdown",
      "metadata": {
        "id": "Z1ISHsxb1WLo"
      },
      "source": [
        "**An example for to create a project with a sitemap**"
      ]
    },
    {
      "cell_type": "code",
      "execution_count": 3,
      "metadata": {
        "colab": {
          "base_uri": "https://localhost:8080/",
          "height": 113
        },
        "id": "PNbGtm_A1WLp",
        "outputId": "b64296b3-02a8-44e3-a0c8-0b66b886ef15"
      },
      "outputs": [
        {
          "output_type": "display_data",
          "data": {
            "text/plain": [
              "<IPython.core.display.HTML object>"
            ],
            "text/html": [
              "\n",
              "     <input type=\"file\" id=\"files-8059a634-4247-4194-ab96-f078936f7e4a\" name=\"files[]\" multiple disabled\n",
              "        style=\"border:none\" />\n",
              "     <output id=\"result-8059a634-4247-4194-ab96-f078936f7e4a\">\n",
              "      Upload widget is only available when the cell has been executed in the\n",
              "      current browser session. Please rerun this cell to enable.\n",
              "      </output>\n",
              "      <script>// Copyright 2017 Google LLC\n",
              "//\n",
              "// Licensed under the Apache License, Version 2.0 (the \"License\");\n",
              "// you may not use this file except in compliance with the License.\n",
              "// You may obtain a copy of the License at\n",
              "//\n",
              "//      http://www.apache.org/licenses/LICENSE-2.0\n",
              "//\n",
              "// Unless required by applicable law or agreed to in writing, software\n",
              "// distributed under the License is distributed on an \"AS IS\" BASIS,\n",
              "// WITHOUT WARRANTIES OR CONDITIONS OF ANY KIND, either express or implied.\n",
              "// See the License for the specific language governing permissions and\n",
              "// limitations under the License.\n",
              "\n",
              "/**\n",
              " * @fileoverview Helpers for google.colab Python module.\n",
              " */\n",
              "(function(scope) {\n",
              "function span(text, styleAttributes = {}) {\n",
              "  const element = document.createElement('span');\n",
              "  element.textContent = text;\n",
              "  for (const key of Object.keys(styleAttributes)) {\n",
              "    element.style[key] = styleAttributes[key];\n",
              "  }\n",
              "  return element;\n",
              "}\n",
              "\n",
              "// Max number of bytes which will be uploaded at a time.\n",
              "const MAX_PAYLOAD_SIZE = 100 * 1024;\n",
              "\n",
              "function _uploadFiles(inputId, outputId) {\n",
              "  const steps = uploadFilesStep(inputId, outputId);\n",
              "  const outputElement = document.getElementById(outputId);\n",
              "  // Cache steps on the outputElement to make it available for the next call\n",
              "  // to uploadFilesContinue from Python.\n",
              "  outputElement.steps = steps;\n",
              "\n",
              "  return _uploadFilesContinue(outputId);\n",
              "}\n",
              "\n",
              "// This is roughly an async generator (not supported in the browser yet),\n",
              "// where there are multiple asynchronous steps and the Python side is going\n",
              "// to poll for completion of each step.\n",
              "// This uses a Promise to block the python side on completion of each step,\n",
              "// then passes the result of the previous step as the input to the next step.\n",
              "function _uploadFilesContinue(outputId) {\n",
              "  const outputElement = document.getElementById(outputId);\n",
              "  const steps = outputElement.steps;\n",
              "\n",
              "  const next = steps.next(outputElement.lastPromiseValue);\n",
              "  return Promise.resolve(next.value.promise).then((value) => {\n",
              "    // Cache the last promise value to make it available to the next\n",
              "    // step of the generator.\n",
              "    outputElement.lastPromiseValue = value;\n",
              "    return next.value.response;\n",
              "  });\n",
              "}\n",
              "\n",
              "/**\n",
              " * Generator function which is called between each async step of the upload\n",
              " * process.\n",
              " * @param {string} inputId Element ID of the input file picker element.\n",
              " * @param {string} outputId Element ID of the output display.\n",
              " * @return {!Iterable<!Object>} Iterable of next steps.\n",
              " */\n",
              "function* uploadFilesStep(inputId, outputId) {\n",
              "  const inputElement = document.getElementById(inputId);\n",
              "  inputElement.disabled = false;\n",
              "\n",
              "  const outputElement = document.getElementById(outputId);\n",
              "  outputElement.innerHTML = '';\n",
              "\n",
              "  const pickedPromise = new Promise((resolve) => {\n",
              "    inputElement.addEventListener('change', (e) => {\n",
              "      resolve(e.target.files);\n",
              "    });\n",
              "  });\n",
              "\n",
              "  const cancel = document.createElement('button');\n",
              "  inputElement.parentElement.appendChild(cancel);\n",
              "  cancel.textContent = 'Cancel upload';\n",
              "  const cancelPromise = new Promise((resolve) => {\n",
              "    cancel.onclick = () => {\n",
              "      resolve(null);\n",
              "    };\n",
              "  });\n",
              "\n",
              "  // Wait for the user to pick the files.\n",
              "  const files = yield {\n",
              "    promise: Promise.race([pickedPromise, cancelPromise]),\n",
              "    response: {\n",
              "      action: 'starting',\n",
              "    }\n",
              "  };\n",
              "\n",
              "  cancel.remove();\n",
              "\n",
              "  // Disable the input element since further picks are not allowed.\n",
              "  inputElement.disabled = true;\n",
              "\n",
              "  if (!files) {\n",
              "    return {\n",
              "      response: {\n",
              "        action: 'complete',\n",
              "      }\n",
              "    };\n",
              "  }\n",
              "\n",
              "  for (const file of files) {\n",
              "    const li = document.createElement('li');\n",
              "    li.append(span(file.name, {fontWeight: 'bold'}));\n",
              "    li.append(span(\n",
              "        `(${file.type || 'n/a'}) - ${file.size} bytes, ` +\n",
              "        `last modified: ${\n",
              "            file.lastModifiedDate ? file.lastModifiedDate.toLocaleDateString() :\n",
              "                                    'n/a'} - `));\n",
              "    const percent = span('0% done');\n",
              "    li.appendChild(percent);\n",
              "\n",
              "    outputElement.appendChild(li);\n",
              "\n",
              "    const fileDataPromise = new Promise((resolve) => {\n",
              "      const reader = new FileReader();\n",
              "      reader.onload = (e) => {\n",
              "        resolve(e.target.result);\n",
              "      };\n",
              "      reader.readAsArrayBuffer(file);\n",
              "    });\n",
              "    // Wait for the data to be ready.\n",
              "    let fileData = yield {\n",
              "      promise: fileDataPromise,\n",
              "      response: {\n",
              "        action: 'continue',\n",
              "      }\n",
              "    };\n",
              "\n",
              "    // Use a chunked sending to avoid message size limits. See b/62115660.\n",
              "    let position = 0;\n",
              "    do {\n",
              "      const length = Math.min(fileData.byteLength - position, MAX_PAYLOAD_SIZE);\n",
              "      const chunk = new Uint8Array(fileData, position, length);\n",
              "      position += length;\n",
              "\n",
              "      const base64 = btoa(String.fromCharCode.apply(null, chunk));\n",
              "      yield {\n",
              "        response: {\n",
              "          action: 'append',\n",
              "          file: file.name,\n",
              "          data: base64,\n",
              "        },\n",
              "      };\n",
              "\n",
              "      let percentDone = fileData.byteLength === 0 ?\n",
              "          100 :\n",
              "          Math.round((position / fileData.byteLength) * 100);\n",
              "      percent.textContent = `${percentDone}% done`;\n",
              "\n",
              "    } while (position < fileData.byteLength);\n",
              "  }\n",
              "\n",
              "  // All done.\n",
              "  yield {\n",
              "    response: {\n",
              "      action: 'complete',\n",
              "    }\n",
              "  };\n",
              "}\n",
              "\n",
              "scope.google = scope.google || {};\n",
              "scope.google.colab = scope.google.colab || {};\n",
              "scope.google.colab._files = {\n",
              "  _uploadFiles,\n",
              "  _uploadFilesContinue,\n",
              "};\n",
              "})(self);\n",
              "</script> "
            ]
          },
          "metadata": {}
        },
        {
          "output_type": "stream",
          "name": "stdout",
          "text": [
            "Saving Vanka-By-Anton-Chekhov-book-PDF.pdf to Vanka-By-Anton-Chekhov-book-PDF.pdf\n",
            "Response(status_code=<HTTPStatus.CREATED: 201>, content=b'{\"data\":{\"id\":922,\"project_name\":\"Example ChatBot using Sitemap\",\"sitemap_path\":null,\"user_id\":42,\"is_chat_active\":null,\"created_at\":\"2023-07-12T18:10:22.000000Z\",\"updated_at\":\"2023-07-12T18:10:22.000000Z\",\"is_shared\":null,\"deleted_at\":null,\"type\":\"SITEMAP\"},\"status\":\"success\"}', headers={'Server': 'nginx', 'Content-Type': 'application/json', 'Transfer-Encoding': 'chunked', 'Connection': 'keep-alive', 'Cache-Control': 'no-cache, private', 'Date': 'Wed, 12 Jul 2023 18:10:23 GMT', 'X-RateLimit-Limit': '60', 'X-RateLimit-Remaining': '59', 'Access-Control-Allow-Origin': '*', 'X-XSS-Protection': '1; mode=block', 'X-Content-Type-Options': 'nosniff'}, parsed=CreateProjectResponse201(status=<CreateProjectResponse201Status.SUCCESS: 'success'>, data=CreateProjectResponse201Data(id=922, project_name='Example ChatBot using Sitemap', sitemap_path=None, is_chat_active=None, user_id=42, created_at=datetime.datetime(2023, 7, 12, 18, 10, 22, tzinfo=tzutc()), updated_at=datetime.datetime(2023, 7, 12, 18, 10, 22, tzinfo=tzutc()), deleted_at=None, type=<CreateProjectResponse201DataType.SITEMAP: 'SITEMAP'>, is_shared=None, shareable_slug=None, shareable_link=None, embed_code=None, live_chat_code=None, additional_properties={'id': 922, 'project_name': 'Example ChatBot using Sitemap', 'sitemap_path': None, 'user_id': 42, 'is_chat_active': None, 'created_at': '2023-07-12T18:10:22.000000Z', 'updated_at': '2023-07-12T18:10:22.000000Z', 'is_shared': None, 'deleted_at': None, 'type': 'SITEMAP'}), additional_properties={'data': {'id': 922, 'project_name': 'Example ChatBot using Sitemap', 'sitemap_path': None, 'user_id': 42, 'is_chat_active': None, 'created_at': '2023-07-12T18:10:22.000000Z', 'updated_at': '2023-07-12T18:10:22.000000Z', 'is_shared': None, 'deleted_at': None, 'type': 'SITEMAP'}, 'status': 'success'}))\n"
          ]
        }
      ],
      "source": [
        "from google.colab import files\n",
        "from customgpt_client.types import File\n",
        "# Give a name to your project\n",
        "project_name = 'Example ChatBot using Sitemap'\n",
        "uploaded_file = files.upload()\n",
        "file_content = next(iter(uploaded_file.values()))\n",
        "create_project = CustomGPT.Project.create(project_name=project_name, file=File(payload=file_content, file_name='Yes'))\n",
        "print(create_project)"
      ]
    },
    {
      "cell_type": "code",
      "execution_count": 7,
      "metadata": {
        "id": "D1La0GFc1WLq",
        "colab": {
          "base_uri": "https://localhost:8080/"
        },
        "outputId": "dccdfc42-7027-44eb-8280-1a4236eee1db"
      },
      "outputs": [
        {
          "output_type": "stream",
          "name": "stdout",
          "text": [
            "True\n"
          ]
        }
      ],
      "source": [
        "# Check status of the project if chat bot is active\n",
        "data = create_project.parsed.data\n",
        "\n",
        "# Get project id from response for created project\n",
        "project_id = data.id\n",
        "\n",
        "# Check if chat bot is active using `is_chat_active` flag in project detail response\n",
        "# GET project details\n",
        "get_project = CustomGPT.Project.get(project_id=project_id)\n",
        "project_data = get_project.parsed\n",
        "is_chat_active = project_data.data.is_chat_active\n",
        "\n",
        "print(is_chat_active)\n",
        "\n",
        "# One can poll this GET project details API to check if chat bot is active before starting a conversation\n"
      ]
    },
    {
      "cell_type": "code",
      "execution_count": 8,
      "metadata": {
        "colab": {
          "base_uri": "https://localhost:8080/"
        },
        "id": "ZnAs_Bhe1WLr",
        "outputId": "fc41c496-3d01-4be3-9484-073d40d84534"
      },
      "outputs": [
        {
          "output_type": "stream",
          "name": "stdout",
          "text": [
            "CreateProjectConversationResponse201(status=<CreateProjectConversationResponse201Status.SUCCESS: 'success'>, data=CreateProjectConversationResponse201Data(created_at=datetime.datetime(2023, 7, 12, 18, 10, 39, tzinfo=tzutc()), updated_at=datetime.datetime(2023, 7, 12, 18, 10, 39, tzinfo=tzutc()), deleted_at=None, id=420, name='My First Conversation', project_id=922, created_by=42, session_id='625dcc03-0f47-475a-bcdf-eb03dd0cfe53', additional_properties={'project_id': 922, 'name': 'My First Conversation', 'created_by': 42, 'session_id': '625dcc03-0f47-475a-bcdf-eb03dd0cfe53', 'updated_at': '2023-07-12T18:10:39.000000Z', 'created_at': '2023-07-12T18:10:39.000000Z', 'id': 420, 'project': {'id': 922, 'project_name': 'Example ChatBot using Sitemap', 'sitemap_path': None, 'user_id': 42, 'is_chat_active': True, 'created_at': '2023-07-12T18:10:22.000000Z', 'updated_at': '2023-07-12 18:10:26', 'shareable_slug': '68580dba388d8807c990baca463b9287', 'is_shared': False, 'deleted_at': None, 'type': 'SITEMAP'}}), additional_properties={'data': {'project_id': 922, 'name': 'My First Conversation', 'created_by': 42, 'session_id': '625dcc03-0f47-475a-bcdf-eb03dd0cfe53', 'updated_at': '2023-07-12T18:10:39.000000Z', 'created_at': '2023-07-12T18:10:39.000000Z', 'id': 420, 'project': {'id': 922, 'project_name': 'Example ChatBot using Sitemap', 'sitemap_path': None, 'user_id': 42, 'is_chat_active': True, 'created_at': '2023-07-12T18:10:22.000000Z', 'updated_at': '2023-07-12 18:10:26', 'shareable_slug': '68580dba388d8807c990baca463b9287', 'is_shared': False, 'deleted_at': None, 'type': 'SITEMAP'}}, 'status': 'success'})\n"
          ]
        }
      ],
      "source": [
        "# Create a conversation before sending a message to the chat bot\n",
        "project_conversataion = CustomGPT.Conversation.create(project_id=project_id, name=\"My First Conversation\")\n",
        "project_data = project_conversataion.parsed\n",
        "print(project_data)"
      ]
    },
    {
      "cell_type": "code",
      "execution_count": 9,
      "metadata": {
        "colab": {
          "base_uri": "https://localhost:8080/"
        },
        "id": "B4gnIWk31WLs",
        "outputId": "8f8e0a6b-9dc5-4e7e-a6ae-8b351044fa50"
      },
      "outputs": [
        {
          "output_type": "stream",
          "name": "stdout",
          "text": [
            "{\"status\":\"start\",\"prompt\":\"Who is Vanka\"}\n",
            "{\"status\":\"progress\",\"message\":\"\"}\n",
            "{\"status\":\"progress\",\"message\":\"V\"}\n",
            "{\"status\":\"progress\",\"message\":\"anka\"}\n",
            "{\"status\":\"progress\",\"message\":\",\"}\n",
            "{\"status\":\"progress\",\"message\":\" whose\"}\n",
            "{\"status\":\"progress\",\"message\":\" full\"}\n",
            "{\"status\":\"progress\",\"message\":\" name\"}\n",
            "{\"status\":\"progress\",\"message\":\" is\"}\n",
            "{\"status\":\"progress\",\"message\":\" V\"}\n",
            "{\"status\":\"progress\",\"message\":\"anka\"}\n",
            "{\"status\":\"progress\",\"message\":\" Zh\"}\n",
            "{\"status\":\"progress\",\"message\":\"uk\"}\n",
            "{\"status\":\"progress\",\"message\":\"ov\"}\n",
            "{\"status\":\"progress\",\"message\":\",\"}\n",
            "{\"status\":\"progress\",\"message\":\" is\"}\n",
            "{\"status\":\"progress\",\"message\":\" a\"}\n",
            "{\"status\":\"progress\",\"message\":\" nine\"}\n",
            "{\"status\":\"progress\",\"message\":\"-year\"}\n",
            "{\"status\":\"progress\",\"message\":\"-old\"}\n",
            "{\"status\":\"progress\",\"message\":\" boy\"}\n",
            "{\"status\":\"progress\",\"message\":\" who\"}\n",
            "{\"status\":\"progress\",\"message\":\" is\"}\n",
            "{\"status\":\"progress\",\"message\":\" the\"}\n",
            "{\"status\":\"progress\",\"message\":\" main\"}\n",
            "{\"status\":\"progress\",\"message\":\" character\"}\n",
            "{\"status\":\"progress\",\"message\":\" in\"}\n",
            "{\"status\":\"progress\",\"message\":\" the\"}\n",
            "{\"status\":\"progress\",\"message\":\" story\"}\n",
            "{\"status\":\"progress\",\"message\":\" \\\"\"}\n",
            "{\"status\":\"progress\",\"message\":\"V\"}\n",
            "{\"status\":\"progress\",\"message\":\"anka\"}\n",
            "{\"status\":\"progress\",\"message\":\"\\\"\"}\n",
            "{\"status\":\"progress\",\"message\":\" by\"}\n",
            "{\"status\":\"progress\",\"message\":\" Anton\"}\n",
            "{\"status\":\"progress\",\"message\":\" Che\"}\n",
            "{\"status\":\"progress\",\"message\":\"kh\"}\n",
            "{\"status\":\"progress\",\"message\":\"ov\"}\n",
            "{\"status\":\"progress\",\"message\":\".\"}\n",
            "{\"status\":\"progress\",\"message\":\" He\"}\n",
            "{\"status\":\"progress\",\"message\":\" has\"}\n",
            "{\"status\":\"progress\",\"message\":\" been\"}\n",
            "{\"status\":\"progress\",\"message\":\" apprent\"}\n",
            "{\"status\":\"progress\",\"message\":\"iced\"}\n",
            "{\"status\":\"progress\",\"message\":\" to\"}\n",
            "{\"status\":\"progress\",\"message\":\" Aly\"}\n",
            "{\"status\":\"progress\",\"message\":\"ah\"}\n",
            "{\"status\":\"progress\",\"message\":\"in\"}\n",
            "{\"status\":\"progress\",\"message\":\" the\"}\n",
            "{\"status\":\"progress\",\"message\":\" sho\"}\n",
            "{\"status\":\"progress\",\"message\":\"emaker\"}\n",
            "{\"status\":\"progress\",\"message\":\" for\"}\n",
            "{\"status\":\"progress\",\"message\":\" three\"}\n",
            "{\"status\":\"progress\",\"message\":\" months\"}\n",
            "{\"status\":\"progress\",\"message\":\".\"}\n",
            "{\"status\":\"progress\",\"message\":\" He\"}\n",
            "{\"status\":\"progress\",\"message\":\" is\"}\n",
            "{\"status\":\"progress\",\"message\":\" depicted\"}\n",
            "{\"status\":\"progress\",\"message\":\" as\"}\n",
            "{\"status\":\"progress\",\"message\":\" an\"}\n",
            "{\"status\":\"progress\",\"message\":\" unhappy\"}\n",
            "{\"status\":\"progress\",\"message\":\" orphan\"}\n",
            "{\"status\":\"progress\",\"message\":\" who\"}\n",
            "{\"status\":\"progress\",\"message\":\" is\"}\n",
            "{\"status\":\"progress\",\"message\":\" often\"}\n",
            "{\"status\":\"progress\",\"message\":\" mist\"}\n",
            "{\"status\":\"progress\",\"message\":\"reated\"}\n",
            "{\"status\":\"progress\",\"message\":\".\"}\n",
            "{\"status\":\"progress\",\"message\":\" He\"}\n",
            "{\"status\":\"progress\",\"message\":\" misses\"}\n",
            "{\"status\":\"progress\",\"message\":\" his\"}\n",
            "{\"status\":\"progress\",\"message\":\" grandfather\"}\n",
            "{\"status\":\"progress\",\"message\":\",\"}\n",
            "{\"status\":\"progress\",\"message\":\" Kon\"}\n",
            "{\"status\":\"progress\",\"message\":\"stant\"}\n",
            "{\"status\":\"progress\",\"message\":\"in\"}\n",
            "{\"status\":\"progress\",\"message\":\" Mak\"}\n",
            "{\"status\":\"progress\",\"message\":\"ar\"}\n",
            "{\"status\":\"progress\",\"message\":\"itch\"}\n",
            "{\"status\":\"progress\",\"message\":\",\"}\n",
            "{\"status\":\"progress\",\"message\":\" who\"}\n",
            "{\"status\":\"progress\",\"message\":\" he\"}\n",
            "{\"status\":\"progress\",\"message\":\" lived\"}\n",
            "{\"status\":\"progress\",\"message\":\" with\"}\n",
            "{\"status\":\"progress\",\"message\":\" in\"}\n",
            "{\"status\":\"progress\",\"message\":\" the\"}\n",
            "{\"status\":\"progress\",\"message\":\" village\"}\n",
            "{\"status\":\"progress\",\"message\":\" before\"}\n",
            "{\"status\":\"progress\",\"message\":\" being\"}\n",
            "{\"status\":\"progress\",\"message\":\" sent\"}\n",
            "{\"status\":\"progress\",\"message\":\" to\"}\n",
            "{\"status\":\"progress\",\"message\":\" Moscow\"}\n",
            "{\"status\":\"progress\",\"message\":\".\"}\n",
            "{\"status\":\"progress\",\"message\":\" V\"}\n",
            "{\"status\":\"progress\",\"message\":\"anka\"}\n",
            "{\"status\":\"progress\",\"message\":\" is\"}\n",
            "{\"status\":\"progress\",\"message\":\" liter\"}\n",
            "{\"status\":\"progress\",\"message\":\"ate\"}\n",
            "{\"status\":\"progress\",\"message\":\",\"}\n",
            "{\"status\":\"progress\",\"message\":\" having\"}\n",
            "{\"status\":\"progress\",\"message\":\" been\"}\n",
            "{\"status\":\"progress\",\"message\":\" taught\"}\n",
            "{\"status\":\"progress\",\"message\":\" to\"}\n",
            "{\"status\":\"progress\",\"message\":\" read\"}\n",
            "{\"status\":\"progress\",\"message\":\" and\"}\n",
            "{\"status\":\"progress\",\"message\":\" write\"}\n",
            "{\"status\":\"progress\",\"message\":\" by\"}\n",
            "{\"status\":\"progress\",\"message\":\" Ol\"}\n",
            "{\"status\":\"progress\",\"message\":\"ga\"}\n",
            "{\"status\":\"progress\",\"message\":\" Ign\"}\n",
            "{\"status\":\"progress\",\"message\":\"aty\"}\n",
            "{\"status\":\"progress\",\"message\":\"ev\"}\n",
            "{\"status\":\"progress\",\"message\":\"na\"}\n",
            "{\"status\":\"progress\",\"message\":\" when\"}\n",
            "{\"status\":\"progress\",\"message\":\" his\"}\n",
            "{\"status\":\"progress\",\"message\":\" mother\"}\n",
            "{\"status\":\"progress\",\"message\":\",\"}\n",
            "{\"status\":\"progress\",\"message\":\" Pel\"}\n",
            "{\"status\":\"progress\",\"message\":\"age\"}\n",
            "{\"status\":\"progress\",\"message\":\"ya\"}\n",
            "{\"status\":\"progress\",\"message\":\",\"}\n",
            "{\"status\":\"progress\",\"message\":\" was\"}\n",
            "{\"status\":\"progress\",\"message\":\" alive\"}\n",
            "{\"status\":\"progress\",\"message\":\" and\"}\n",
            "{\"status\":\"progress\",\"message\":\" working\"}\n",
            "{\"status\":\"progress\",\"message\":\" in\"}\n",
            "{\"status\":\"progress\",\"message\":\" the\"}\n",
            "{\"status\":\"progress\",\"message\":\" big\"}\n",
            "{\"status\":\"progress\",\"message\":\" house\"}\n",
            "{\"status\":\"progress\",\"message\":\".\"}\n",
            "{\"status\":\"progress\",\"message\":\" He\"}\n",
            "{\"status\":\"progress\",\"message\":\" writes\"}\n",
            "{\"status\":\"progress\",\"message\":\" a\"}\n",
            "{\"status\":\"progress\",\"message\":\" letter\"}\n",
            "{\"status\":\"progress\",\"message\":\" to\"}\n",
            "{\"status\":\"progress\",\"message\":\" his\"}\n",
            "{\"status\":\"progress\",\"message\":\" grandfather\"}\n",
            "{\"status\":\"progress\",\"message\":\" on\"}\n",
            "{\"status\":\"progress\",\"message\":\" Christmas\"}\n",
            "{\"status\":\"progress\",\"message\":\" Eve\"}\n",
            "{\"status\":\"progress\",\"message\":\",\"}\n",
            "{\"status\":\"progress\",\"message\":\" pleading\"}\n",
            "{\"status\":\"progress\",\"message\":\" with\"}\n",
            "{\"status\":\"progress\",\"message\":\" him\"}\n",
            "{\"status\":\"progress\",\"message\":\" to\"}\n",
            "{\"status\":\"progress\",\"message\":\" take\"}\n",
            "{\"status\":\"progress\",\"message\":\" him\"}\n",
            "{\"status\":\"progress\",\"message\":\" away\"}\n",
            "{\"status\":\"progress\",\"message\":\" from\"}\n",
            "{\"status\":\"progress\",\"message\":\" his\"}\n",
            "{\"status\":\"progress\",\"message\":\" miserable\"}\n",
            "{\"status\":\"progress\",\"message\":\" life\"}\n",
            "{\"status\":\"progress\",\"message\":\" in\"}\n",
            "{\"status\":\"progress\",\"message\":\" Moscow\"}\n",
            "{\"status\":\"progress\",\"message\":\".\"}\n",
            "{\"status\":\"finish\",\"id\":547,\"created_at\":\"2023-07-12T18:11:00.000000Z\",\"session_id\":\"625dcc03-0f47-475a-bcdf-eb03dd0cfe53\",\"citations\":[16334]}\n"
          ]
        }
      ],
      "source": [
        "session_id = project_data.data.session_id\n",
        "# Create a message to the above conversation\n",
        "\n",
        "# pass in your question to prompt\n",
        "prompt = \"Who is Vanka\"\n",
        "\n",
        "stream_response = CustomGPT.Conversation.send(project_id=project_id, session_id=session_id, prompt=prompt, stream=True)\n",
        "for event in stream_response.events():\n",
        "    print(event.data)"
      ]
    },
    {
      "cell_type": "code",
      "execution_count": 6,
      "metadata": {
        "id": "FJSmijEUDA8e"
      },
      "outputs": [],
      "source": []
    }
  ],
  "metadata": {
    "colab": {
      "provenance": []
    },
    "kernelspec": {
      "display_name": "Python 3",
      "language": "python",
      "name": "python3"
    },
    "language_info": {
      "codemirror_mode": {
        "name": "ipython",
        "version": 3
      },
      "file_extension": ".py",
      "mimetype": "text/x-python",
      "name": "python",
      "nbconvert_exporter": "python",
      "pygments_lexer": "ipython3",
      "version": "3.11.2"
    }
  },
  "nbformat": 4,
  "nbformat_minor": 0
}
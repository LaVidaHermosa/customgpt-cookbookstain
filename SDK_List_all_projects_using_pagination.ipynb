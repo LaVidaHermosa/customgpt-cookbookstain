{
  "cells": [
    {
      "cell_type": "code",
      "execution_count": 1,
      "metadata": {
        "colab": {
          "base_uri": "https://localhost:8080/"
        },
        "id": "cMS4FTgtE0s1",
        "outputId": "a7b29105-a254-4f19-d9ee-dc42b9f3c86e"
      },
      "outputs": [
        {
          "output_type": "stream",
          "name": "stdout",
          "text": [
            "Collecting customgpt-client==1.1.3\n",
            "  Downloading customgpt_client-1.1.3-py3-none-any.whl (404 kB)\n",
            "\u001b[?25l     \u001b[90m━━━━━━━━━━━━━━━━━━━━━━━━━━━━━━━━━━━━━━━━\u001b[0m \u001b[32m0.0/404.5 kB\u001b[0m \u001b[31m?\u001b[0m eta \u001b[36m-:--:--\u001b[0m\r\u001b[2K     \u001b[91m━━━━━━━━━━━━━━━━━━━━━━\u001b[0m\u001b[91m╸\u001b[0m\u001b[90m━━━━━━━━━━━━━━━━\u001b[0m \u001b[32m235.5/404.5 kB\u001b[0m \u001b[31m7.2 MB/s\u001b[0m eta \u001b[36m0:00:01\u001b[0m\r\u001b[2K     \u001b[90m━━━━━━━━━━━━━━━━━━━━━━━━━━━━━━━━━━━━━━━\u001b[0m \u001b[32m404.5/404.5 kB\u001b[0m \u001b[31m7.8 MB/s\u001b[0m eta \u001b[36m0:00:00\u001b[0m\n",
            "\u001b[?25hRequirement already satisfied: attrs>=21.3.0 in /usr/local/lib/python3.10/dist-packages (from customgpt-client==1.1.3) (23.1.0)\n",
            "Requirement already satisfied: python-dateutil<3.0.0,>=2.8.0 in /usr/local/lib/python3.10/dist-packages (from customgpt-client==1.1.3) (2.8.2)\n",
            "Collecting sseclient-py==1.7.2 (from customgpt-client==1.1.3)\n",
            "  Downloading sseclient_py-1.7.2-py2.py3-none-any.whl (8.4 kB)\n",
            "Requirement already satisfied: six>=1.5 in /usr/local/lib/python3.10/dist-packages (from python-dateutil<3.0.0,>=2.8.0->customgpt-client==1.1.3) (1.16.0)\n",
            "Installing collected packages: sseclient-py, customgpt-client\n",
            "Successfully installed customgpt-client-1.1.3 sseclient-py-1.7.2\n"
          ]
        }
      ],
      "source": [
        "!pip install customgpt-client==1.1.3"
      ]
    },
    {
      "cell_type": "markdown",
      "metadata": {
        "id": "PAWpaaSa1WLi"
      },
      "source": [
        "**Create your custom chat bot using a sitemap.**\n"
      ]
    },
    {
      "cell_type": "code",
      "execution_count": 2,
      "metadata": {
        "id": "Hc9SsdoR1WLm"
      },
      "outputs": [],
      "source": [
        "from customgpt_client import CustomGPT\n",
        "CustomGPT.api_key = \"YOUR_API_TOKEN\""
      ]
    },
    {
      "cell_type": "markdown",
      "metadata": {
        "id": "Z1ISHsxb1WLo"
      },
      "source": [
        "**An example for to create a project with a sitemap**"
      ]
    },
    {
      "cell_type": "code",
      "execution_count": 3,
      "metadata": {
        "colab": {
          "base_uri": "https://localhost:8080/",
          "height": 113
        },
        "id": "PNbGtm_A1WLp",
        "outputId": "d28c180a-0079-4829-b85e-0b9e94da7d89"
      },
      "outputs": [
        {
          "output_type": "display_data",
          "data": {
            "text/plain": [
              "<IPython.core.display.HTML object>"
            ],
            "text/html": [
              "\n",
              "     <input type=\"file\" id=\"files-1bf03d93-12dd-4ed7-b524-ea8170ef02a8\" name=\"files[]\" multiple disabled\n",
              "        style=\"border:none\" />\n",
              "     <output id=\"result-1bf03d93-12dd-4ed7-b524-ea8170ef02a8\">\n",
              "      Upload widget is only available when the cell has been executed in the\n",
              "      current browser session. Please rerun this cell to enable.\n",
              "      </output>\n",
              "      <script>// Copyright 2017 Google LLC\n",
              "//\n",
              "// Licensed under the Apache License, Version 2.0 (the \"License\");\n",
              "// you may not use this file except in compliance with the License.\n",
              "// You may obtain a copy of the License at\n",
              "//\n",
              "//      http://www.apache.org/licenses/LICENSE-2.0\n",
              "//\n",
              "// Unless required by applicable law or agreed to in writing, software\n",
              "// distributed under the License is distributed on an \"AS IS\" BASIS,\n",
              "// WITHOUT WARRANTIES OR CONDITIONS OF ANY KIND, either express or implied.\n",
              "// See the License for the specific language governing permissions and\n",
              "// limitations under the License.\n",
              "\n",
              "/**\n",
              " * @fileoverview Helpers for google.colab Python module.\n",
              " */\n",
              "(function(scope) {\n",
              "function span(text, styleAttributes = {}) {\n",
              "  const element = document.createElement('span');\n",
              "  element.textContent = text;\n",
              "  for (const key of Object.keys(styleAttributes)) {\n",
              "    element.style[key] = styleAttributes[key];\n",
              "  }\n",
              "  return element;\n",
              "}\n",
              "\n",
              "// Max number of bytes which will be uploaded at a time.\n",
              "const MAX_PAYLOAD_SIZE = 100 * 1024;\n",
              "\n",
              "function _uploadFiles(inputId, outputId) {\n",
              "  const steps = uploadFilesStep(inputId, outputId);\n",
              "  const outputElement = document.getElementById(outputId);\n",
              "  // Cache steps on the outputElement to make it available for the next call\n",
              "  // to uploadFilesContinue from Python.\n",
              "  outputElement.steps = steps;\n",
              "\n",
              "  return _uploadFilesContinue(outputId);\n",
              "}\n",
              "\n",
              "// This is roughly an async generator (not supported in the browser yet),\n",
              "// where there are multiple asynchronous steps and the Python side is going\n",
              "// to poll for completion of each step.\n",
              "// This uses a Promise to block the python side on completion of each step,\n",
              "// then passes the result of the previous step as the input to the next step.\n",
              "function _uploadFilesContinue(outputId) {\n",
              "  const outputElement = document.getElementById(outputId);\n",
              "  const steps = outputElement.steps;\n",
              "\n",
              "  const next = steps.next(outputElement.lastPromiseValue);\n",
              "  return Promise.resolve(next.value.promise).then((value) => {\n",
              "    // Cache the last promise value to make it available to the next\n",
              "    // step of the generator.\n",
              "    outputElement.lastPromiseValue = value;\n",
              "    return next.value.response;\n",
              "  });\n",
              "}\n",
              "\n",
              "/**\n",
              " * Generator function which is called between each async step of the upload\n",
              " * process.\n",
              " * @param {string} inputId Element ID of the input file picker element.\n",
              " * @param {string} outputId Element ID of the output display.\n",
              " * @return {!Iterable<!Object>} Iterable of next steps.\n",
              " */\n",
              "function* uploadFilesStep(inputId, outputId) {\n",
              "  const inputElement = document.getElementById(inputId);\n",
              "  inputElement.disabled = false;\n",
              "\n",
              "  const outputElement = document.getElementById(outputId);\n",
              "  outputElement.innerHTML = '';\n",
              "\n",
              "  const pickedPromise = new Promise((resolve) => {\n",
              "    inputElement.addEventListener('change', (e) => {\n",
              "      resolve(e.target.files);\n",
              "    });\n",
              "  });\n",
              "\n",
              "  const cancel = document.createElement('button');\n",
              "  inputElement.parentElement.appendChild(cancel);\n",
              "  cancel.textContent = 'Cancel upload';\n",
              "  const cancelPromise = new Promise((resolve) => {\n",
              "    cancel.onclick = () => {\n",
              "      resolve(null);\n",
              "    };\n",
              "  });\n",
              "\n",
              "  // Wait for the user to pick the files.\n",
              "  const files = yield {\n",
              "    promise: Promise.race([pickedPromise, cancelPromise]),\n",
              "    response: {\n",
              "      action: 'starting',\n",
              "    }\n",
              "  };\n",
              "\n",
              "  cancel.remove();\n",
              "\n",
              "  // Disable the input element since further picks are not allowed.\n",
              "  inputElement.disabled = true;\n",
              "\n",
              "  if (!files) {\n",
              "    return {\n",
              "      response: {\n",
              "        action: 'complete',\n",
              "      }\n",
              "    };\n",
              "  }\n",
              "\n",
              "  for (const file of files) {\n",
              "    const li = document.createElement('li');\n",
              "    li.append(span(file.name, {fontWeight: 'bold'}));\n",
              "    li.append(span(\n",
              "        `(${file.type || 'n/a'}) - ${file.size} bytes, ` +\n",
              "        `last modified: ${\n",
              "            file.lastModifiedDate ? file.lastModifiedDate.toLocaleDateString() :\n",
              "                                    'n/a'} - `));\n",
              "    const percent = span('0% done');\n",
              "    li.appendChild(percent);\n",
              "\n",
              "    outputElement.appendChild(li);\n",
              "\n",
              "    const fileDataPromise = new Promise((resolve) => {\n",
              "      const reader = new FileReader();\n",
              "      reader.onload = (e) => {\n",
              "        resolve(e.target.result);\n",
              "      };\n",
              "      reader.readAsArrayBuffer(file);\n",
              "    });\n",
              "    // Wait for the data to be ready.\n",
              "    let fileData = yield {\n",
              "      promise: fileDataPromise,\n",
              "      response: {\n",
              "        action: 'continue',\n",
              "      }\n",
              "    };\n",
              "\n",
              "    // Use a chunked sending to avoid message size limits. See b/62115660.\n",
              "    let position = 0;\n",
              "    do {\n",
              "      const length = Math.min(fileData.byteLength - position, MAX_PAYLOAD_SIZE);\n",
              "      const chunk = new Uint8Array(fileData, position, length);\n",
              "      position += length;\n",
              "\n",
              "      const base64 = btoa(String.fromCharCode.apply(null, chunk));\n",
              "      yield {\n",
              "        response: {\n",
              "          action: 'append',\n",
              "          file: file.name,\n",
              "          data: base64,\n",
              "        },\n",
              "      };\n",
              "\n",
              "      let percentDone = fileData.byteLength === 0 ?\n",
              "          100 :\n",
              "          Math.round((position / fileData.byteLength) * 100);\n",
              "      percent.textContent = `${percentDone}% done`;\n",
              "\n",
              "    } while (position < fileData.byteLength);\n",
              "  }\n",
              "\n",
              "  // All done.\n",
              "  yield {\n",
              "    response: {\n",
              "      action: 'complete',\n",
              "    }\n",
              "  };\n",
              "}\n",
              "\n",
              "scope.google = scope.google || {};\n",
              "scope.google.colab = scope.google.colab || {};\n",
              "scope.google.colab._files = {\n",
              "  _uploadFiles,\n",
              "  _uploadFilesContinue,\n",
              "};\n",
              "})(self);\n",
              "</script> "
            ]
          },
          "metadata": {}
        },
        {
          "output_type": "stream",
          "name": "stdout",
          "text": [
            "Saving Vanka-By-Anton-Chekhov-book-PDF.pdf to Vanka-By-Anton-Chekhov-book-PDF.pdf\n",
            "Response(status_code=<HTTPStatus.CREATED: 201>, content=b'{\"data\":{\"id\":924,\"project_name\":\"Example ChatBot using Sitemap\",\"sitemap_path\":null,\"user_id\":42,\"is_chat_active\":null,\"created_at\":\"2023-07-12T18:15:58.000000Z\",\"updated_at\":\"2023-07-12T18:15:58.000000Z\",\"is_shared\":null,\"deleted_at\":null,\"type\":\"SITEMAP\"},\"status\":\"success\"}', headers={'Server': 'nginx', 'Content-Type': 'application/json', 'Transfer-Encoding': 'chunked', 'Connection': 'keep-alive', 'Cache-Control': 'no-cache, private', 'Date': 'Wed, 12 Jul 2023 18:15:59 GMT', 'X-RateLimit-Limit': '60', 'X-RateLimit-Remaining': '59', 'Access-Control-Allow-Origin': '*', 'X-XSS-Protection': '1; mode=block', 'X-Content-Type-Options': 'nosniff'}, parsed=CreateProjectResponse201(status=<CreateProjectResponse201Status.SUCCESS: 'success'>, data=CreateProjectResponse201Data(id=924, project_name='Example ChatBot using Sitemap', sitemap_path=None, is_chat_active=None, user_id=42, created_at=datetime.datetime(2023, 7, 12, 18, 15, 58, tzinfo=tzutc()), updated_at=datetime.datetime(2023, 7, 12, 18, 15, 58, tzinfo=tzutc()), deleted_at=None, type=<CreateProjectResponse201DataType.SITEMAP: 'SITEMAP'>, is_shared=None, shareable_slug=None, shareable_link=None, embed_code=None, live_chat_code=None, additional_properties={'id': 924, 'project_name': 'Example ChatBot using Sitemap', 'sitemap_path': None, 'user_id': 42, 'is_chat_active': None, 'created_at': '2023-07-12T18:15:58.000000Z', 'updated_at': '2023-07-12T18:15:58.000000Z', 'is_shared': None, 'deleted_at': None, 'type': 'SITEMAP'}), additional_properties={'data': {'id': 924, 'project_name': 'Example ChatBot using Sitemap', 'sitemap_path': None, 'user_id': 42, 'is_chat_active': None, 'created_at': '2023-07-12T18:15:58.000000Z', 'updated_at': '2023-07-12T18:15:58.000000Z', 'is_shared': None, 'deleted_at': None, 'type': 'SITEMAP'}, 'status': 'success'}))\n"
          ]
        }
      ],
      "source": [
        "from google.colab import files\n",
        "from customgpt_client.types import File\n",
        "from io import BytesIO\n",
        "# Give a name to your project\n",
        "project_name = 'Example ChatBot using Sitemap'\n",
        "uploaded_file = files.upload()\n",
        "file_content = next(iter(uploaded_file.values()))\n",
        "create_project = CustomGPT.Project.create(project_name=project_name, file=File(payload=file_content, file_name='Yes'))\n",
        "print(create_project)"
      ]
    },
    {
      "cell_type": "code",
      "execution_count": 5,
      "metadata": {
        "colab": {
          "base_uri": "https://localhost:8080/"
        },
        "id": "D1La0GFc1WLq",
        "outputId": "8ee13b3f-3863-4002-f298-7783cffbfbe2"
      },
      "outputs": [
        {
          "output_type": "stream",
          "name": "stdout",
          "text": [
            "Response(status_code=<HTTPStatus.OK: 200>, content=b'{\"data\":{\"current_page\":1,\"data\":[{\"id\":924,\"project_name\":\"Example ChatBot using Sitemap\",\"sitemap_path\":null,\"user_id\":42,\"is_chat_active\":true,\"created_at\":\"2023-07-12T18:15:58.000000Z\",\"updated_at\":\"2023-07-12 18:16:06\",\"is_shared\":false,\"deleted_at\":null,\"type\":\"SITEMAP\"},{\"id\":923,\"project_name\":\"Example ChatBot using Sitemap\",\"sitemap_path\":null,\"user_id\":42,\"is_chat_active\":true,\"created_at\":\"2023-07-12T18:12:37.000000Z\",\"updated_at\":\"2023-07-12 18:12:54\",\"is_shared\":false,\"deleted_at\":null,\"type\":\"SITEMAP\"},{\"id\":922,\"project_name\":\"Example ChatBot using Sitemap\",\"sitemap_path\":null,\"user_id\":42,\"is_chat_active\":true,\"created_at\":\"2023-07-12T18:10:22.000000Z\",\"updated_at\":\"2023-07-12 18:10:26\",\"is_shared\":false,\"deleted_at\":null,\"type\":\"SITEMAP\"},{\"id\":921,\"project_name\":\"Example ChatBot using Sitemap\",\"sitemap_path\":null,\"user_id\":42,\"is_chat_active\":true,\"created_at\":\"2023-07-12T18:04:23.000000Z\",\"updated_at\":\"2023-07-12 18:04:40\",\"is_shared\":false,\"deleted_at\":null,\"type\":\"SITEMAP\"},{\"id\":917,\"project_name\":\"test\",\"sitemap_path\":null,\"user_id\":42,\"is_chat_active\":true,\"created_at\":\"2023-07-10T20:30:59.000000Z\",\"updated_at\":\"2023-07-10 20:31:12\",\"is_shared\":false,\"deleted_at\":null,\"type\":\"SITEMAP\"},{\"id\":916,\"project_name\":\"test\",\"sitemap_path\":null,\"user_id\":42,\"is_chat_active\":true,\"created_at\":\"2023-07-10T20:30:55.000000Z\",\"updated_at\":\"2023-07-10 20:31:18\",\"is_shared\":false,\"deleted_at\":null,\"type\":\"SITEMAP\"},{\"id\":915,\"project_name\":\"test\",\"sitemap_path\":null,\"user_id\":42,\"is_chat_active\":true,\"created_at\":\"2023-07-10T20:30:41.000000Z\",\"updated_at\":\"2023-07-10 20:30:54\",\"is_shared\":false,\"deleted_at\":null,\"type\":\"SITEMAP\"},{\"id\":914,\"project_name\":\"test\",\"sitemap_path\":null,\"user_id\":42,\"is_chat_active\":true,\"created_at\":\"2023-07-10T20:30:37.000000Z\",\"updated_at\":\"2023-07-10 20:30:55\",\"is_shared\":false,\"deleted_at\":null,\"type\":\"SITEMAP\"},{\"id\":913,\"project_name\":\"test\",\"sitemap_path\":null,\"user_id\":42,\"is_chat_active\":true,\"created_at\":\"2023-07-10T20:12:45.000000Z\",\"updated_at\":\"2023-07-10 20:12:56\",\"is_shared\":false,\"deleted_at\":null,\"type\":\"SITEMAP\"},{\"id\":912,\"project_name\":\"test\",\"sitemap_path\":null,\"user_id\":42,\"is_chat_active\":true,\"created_at\":\"2023-07-10T20:06:43.000000Z\",\"updated_at\":\"2023-07-10 20:07:13\",\"is_shared\":false,\"deleted_at\":null,\"type\":\"SITEMAP\"}],\"first_page_url\":\"https:\\\\/\\\\/dev.customgpt.ai\\\\/api\\\\/v1\\\\/projects?page=1&duration=90&order=desc&width=100%25&height=auto\",\"from\":1,\"last_page\":8,\"last_page_url\":\"https:\\\\/\\\\/dev.customgpt.ai\\\\/api\\\\/v1\\\\/projects?page=8&duration=90&order=desc&width=100%25&height=auto\",\"next_page_url\":\"https:\\\\/\\\\/dev.customgpt.ai\\\\/api\\\\/v1\\\\/projects?page=2&duration=90&order=desc&width=100%25&height=auto\",\"path\":\"https:\\\\/\\\\/dev.customgpt.ai\\\\/api\\\\/v1\\\\/projects\",\"per_page\":10,\"prev_page_url\":null,\"to\":10,\"total\":74},\"status\":\"success\"}', headers={'Server': 'nginx', 'Content-Type': 'application/json', 'Transfer-Encoding': 'chunked', 'Connection': 'keep-alive', 'Vary': 'Accept-Encoding', 'Cache-Control': 'no-cache, private', 'Date': 'Wed, 12 Jul 2023 18:22:04 GMT', 'X-RateLimit-Limit': '60', 'X-RateLimit-Remaining': '51', 'Access-Control-Allow-Origin': '*', 'X-XSS-Protection': '1; mode=block', 'X-Content-Type-Options': 'nosniff', 'Content-Encoding': 'gzip'}, parsed=ListProjectsResponse200(status=<ListProjectsResponse200Status.SUCCESS: 'success'>, data=ListProjectsResponse200Data(current_page=1, data=[ListProjectsResponse200DataDataItem(id=924, project_name='Example ChatBot using Sitemap', sitemap_path=None, is_chat_active=True, user_id=42, created_at=datetime.datetime(2023, 7, 12, 18, 15, 58, tzinfo=tzutc()), updated_at=datetime.datetime(2023, 7, 12, 18, 16, 6), deleted_at=None, type=<ListProjectsResponse200DataDataItemType.SITEMAP: 'SITEMAP'>, is_shared=False, shareable_slug=None, shareable_link=None, embed_code=None, live_chat_code=None, additional_properties={'id': 924, 'project_name': 'Example ChatBot using Sitemap', 'sitemap_path': None, 'user_id': 42, 'is_chat_active': True, 'created_at': '2023-07-12T18:15:58.000000Z', 'updated_at': '2023-07-12 18:16:06', 'is_shared': False, 'deleted_at': None, 'type': 'SITEMAP'}), ListProjectsResponse200DataDataItem(id=923, project_name='Example ChatBot using Sitemap', sitemap_path=None, is_chat_active=True, user_id=42, created_at=datetime.datetime(2023, 7, 12, 18, 12, 37, tzinfo=tzutc()), updated_at=datetime.datetime(2023, 7, 12, 18, 12, 54), deleted_at=None, type=<ListProjectsResponse200DataDataItemType.SITEMAP: 'SITEMAP'>, is_shared=False, shareable_slug=None, shareable_link=None, embed_code=None, live_chat_code=None, additional_properties={'id': 923, 'project_name': 'Example ChatBot using Sitemap', 'sitemap_path': None, 'user_id': 42, 'is_chat_active': True, 'created_at': '2023-07-12T18:12:37.000000Z', 'updated_at': '2023-07-12 18:12:54', 'is_shared': False, 'deleted_at': None, 'type': 'SITEMAP'}), ListProjectsResponse200DataDataItem(id=922, project_name='Example ChatBot using Sitemap', sitemap_path=None, is_chat_active=True, user_id=42, created_at=datetime.datetime(2023, 7, 12, 18, 10, 22, tzinfo=tzutc()), updated_at=datetime.datetime(2023, 7, 12, 18, 10, 26), deleted_at=None, type=<ListProjectsResponse200DataDataItemType.SITEMAP: 'SITEMAP'>, is_shared=False, shareable_slug=None, shareable_link=None, embed_code=None, live_chat_code=None, additional_properties={'id': 922, 'project_name': 'Example ChatBot using Sitemap', 'sitemap_path': None, 'user_id': 42, 'is_chat_active': True, 'created_at': '2023-07-12T18:10:22.000000Z', 'updated_at': '2023-07-12 18:10:26', 'is_shared': False, 'deleted_at': None, 'type': 'SITEMAP'}), ListProjectsResponse200DataDataItem(id=921, project_name='Example ChatBot using Sitemap', sitemap_path=None, is_chat_active=True, user_id=42, created_at=datetime.datetime(2023, 7, 12, 18, 4, 23, tzinfo=tzutc()), updated_at=datetime.datetime(2023, 7, 12, 18, 4, 40), deleted_at=None, type=<ListProjectsResponse200DataDataItemType.SITEMAP: 'SITEMAP'>, is_shared=False, shareable_slug=None, shareable_link=None, embed_code=None, live_chat_code=None, additional_properties={'id': 921, 'project_name': 'Example ChatBot using Sitemap', 'sitemap_path': None, 'user_id': 42, 'is_chat_active': True, 'created_at': '2023-07-12T18:04:23.000000Z', 'updated_at': '2023-07-12 18:04:40', 'is_shared': False, 'deleted_at': None, 'type': 'SITEMAP'}), ListProjectsResponse200DataDataItem(id=917, project_name='test', sitemap_path=None, is_chat_active=True, user_id=42, created_at=datetime.datetime(2023, 7, 10, 20, 30, 59, tzinfo=tzutc()), updated_at=datetime.datetime(2023, 7, 10, 20, 31, 12), deleted_at=None, type=<ListProjectsResponse200DataDataItemType.SITEMAP: 'SITEMAP'>, is_shared=False, shareable_slug=None, shareable_link=None, embed_code=None, live_chat_code=None, additional_properties={'id': 917, 'project_name': 'test', 'sitemap_path': None, 'user_id': 42, 'is_chat_active': True, 'created_at': '2023-07-10T20:30:59.000000Z', 'updated_at': '2023-07-10 20:31:12', 'is_shared': False, 'deleted_at': None, 'type': 'SITEMAP'}), ListProjectsResponse200DataDataItem(id=916, project_name='test', sitemap_path=None, is_chat_active=True, user_id=42, created_at=datetime.datetime(2023, 7, 10, 20, 30, 55, tzinfo=tzutc()), updated_at=datetime.datetime(2023, 7, 10, 20, 31, 18), deleted_at=None, type=<ListProjectsResponse200DataDataItemType.SITEMAP: 'SITEMAP'>, is_shared=False, shareable_slug=None, shareable_link=None, embed_code=None, live_chat_code=None, additional_properties={'id': 916, 'project_name': 'test', 'sitemap_path': None, 'user_id': 42, 'is_chat_active': True, 'created_at': '2023-07-10T20:30:55.000000Z', 'updated_at': '2023-07-10 20:31:18', 'is_shared': False, 'deleted_at': None, 'type': 'SITEMAP'}), ListProjectsResponse200DataDataItem(id=915, project_name='test', sitemap_path=None, is_chat_active=True, user_id=42, created_at=datetime.datetime(2023, 7, 10, 20, 30, 41, tzinfo=tzutc()), updated_at=datetime.datetime(2023, 7, 10, 20, 30, 54), deleted_at=None, type=<ListProjectsResponse200DataDataItemType.SITEMAP: 'SITEMAP'>, is_shared=False, shareable_slug=None, shareable_link=None, embed_code=None, live_chat_code=None, additional_properties={'id': 915, 'project_name': 'test', 'sitemap_path': None, 'user_id': 42, 'is_chat_active': True, 'created_at': '2023-07-10T20:30:41.000000Z', 'updated_at': '2023-07-10 20:30:54', 'is_shared': False, 'deleted_at': None, 'type': 'SITEMAP'}), ListProjectsResponse200DataDataItem(id=914, project_name='test', sitemap_path=None, is_chat_active=True, user_id=42, created_at=datetime.datetime(2023, 7, 10, 20, 30, 37, tzinfo=tzutc()), updated_at=datetime.datetime(2023, 7, 10, 20, 30, 55), deleted_at=None, type=<ListProjectsResponse200DataDataItemType.SITEMAP: 'SITEMAP'>, is_shared=False, shareable_slug=None, shareable_link=None, embed_code=None, live_chat_code=None, additional_properties={'id': 914, 'project_name': 'test', 'sitemap_path': None, 'user_id': 42, 'is_chat_active': True, 'created_at': '2023-07-10T20:30:37.000000Z', 'updated_at': '2023-07-10 20:30:55', 'is_shared': False, 'deleted_at': None, 'type': 'SITEMAP'}), ListProjectsResponse200DataDataItem(id=913, project_name='test', sitemap_path=None, is_chat_active=True, user_id=42, created_at=datetime.datetime(2023, 7, 10, 20, 12, 45, tzinfo=tzutc()), updated_at=datetime.datetime(2023, 7, 10, 20, 12, 56), deleted_at=None, type=<ListProjectsResponse200DataDataItemType.SITEMAP: 'SITEMAP'>, is_shared=False, shareable_slug=None, shareable_link=None, embed_code=None, live_chat_code=None, additional_properties={'id': 913, 'project_name': 'test', 'sitemap_path': None, 'user_id': 42, 'is_chat_active': True, 'created_at': '2023-07-10T20:12:45.000000Z', 'updated_at': '2023-07-10 20:12:56', 'is_shared': False, 'deleted_at': None, 'type': 'SITEMAP'}), ListProjectsResponse200DataDataItem(id=912, project_name='test', sitemap_path=None, is_chat_active=True, user_id=42, created_at=datetime.datetime(2023, 7, 10, 20, 6, 43, tzinfo=tzutc()), updated_at=datetime.datetime(2023, 7, 10, 20, 7, 13), deleted_at=None, type=<ListProjectsResponse200DataDataItemType.SITEMAP: 'SITEMAP'>, is_shared=False, shareable_slug=None, shareable_link=None, embed_code=None, live_chat_code=None, additional_properties={'id': 912, 'project_name': 'test', 'sitemap_path': None, 'user_id': 42, 'is_chat_active': True, 'created_at': '2023-07-10T20:06:43.000000Z', 'updated_at': '2023-07-10 20:07:13', 'is_shared': False, 'deleted_at': None, 'type': 'SITEMAP'})], first_page_url='https://dev.customgpt.ai/api/v1/projects?page=1&duration=90&order=desc&width=100%25&height=auto', from_=1, last_page=8, last_page_url='https://dev.customgpt.ai/api/v1/projects?page=8&duration=90&order=desc&width=100%25&height=auto', next_page_url='https://dev.customgpt.ai/api/v1/projects?page=2&duration=90&order=desc&width=100%25&height=auto', path='https://dev.customgpt.ai/api/v1/projects', per_page=10, prev_page_url=None, to=10, total=74, additional_properties={'current_page': 1, 'data': [{'id': 924, 'project_name': 'Example ChatBot using Sitemap', 'sitemap_path': None, 'user_id': 42, 'is_chat_active': True, 'created_at': '2023-07-12T18:15:58.000000Z', 'updated_at': '2023-07-12 18:16:06', 'is_shared': False, 'deleted_at': None, 'type': 'SITEMAP'}, {'id': 923, 'project_name': 'Example ChatBot using Sitemap', 'sitemap_path': None, 'user_id': 42, 'is_chat_active': True, 'created_at': '2023-07-12T18:12:37.000000Z', 'updated_at': '2023-07-12 18:12:54', 'is_shared': False, 'deleted_at': None, 'type': 'SITEMAP'}, {'id': 922, 'project_name': 'Example ChatBot using Sitemap', 'sitemap_path': None, 'user_id': 42, 'is_chat_active': True, 'created_at': '2023-07-12T18:10:22.000000Z', 'updated_at': '2023-07-12 18:10:26', 'is_shared': False, 'deleted_at': None, 'type': 'SITEMAP'}, {'id': 921, 'project_name': 'Example ChatBot using Sitemap', 'sitemap_path': None, 'user_id': 42, 'is_chat_active': True, 'created_at': '2023-07-12T18:04:23.000000Z', 'updated_at': '2023-07-12 18:04:40', 'is_shared': False, 'deleted_at': None, 'type': 'SITEMAP'}, {'id': 917, 'project_name': 'test', 'sitemap_path': None, 'user_id': 42, 'is_chat_active': True, 'created_at': '2023-07-10T20:30:59.000000Z', 'updated_at': '2023-07-10 20:31:12', 'is_shared': False, 'deleted_at': None, 'type': 'SITEMAP'}, {'id': 916, 'project_name': 'test', 'sitemap_path': None, 'user_id': 42, 'is_chat_active': True, 'created_at': '2023-07-10T20:30:55.000000Z', 'updated_at': '2023-07-10 20:31:18', 'is_shared': False, 'deleted_at': None, 'type': 'SITEMAP'}, {'id': 915, 'project_name': 'test', 'sitemap_path': None, 'user_id': 42, 'is_chat_active': True, 'created_at': '2023-07-10T20:30:41.000000Z', 'updated_at': '2023-07-10 20:30:54', 'is_shared': False, 'deleted_at': None, 'type': 'SITEMAP'}, {'id': 914, 'project_name': 'test', 'sitemap_path': None, 'user_id': 42, 'is_chat_active': True, 'created_at': '2023-07-10T20:30:37.000000Z', 'updated_at': '2023-07-10 20:30:55', 'is_shared': False, 'deleted_at': None, 'type': 'SITEMAP'}, {'id': 913, 'project_name': 'test', 'sitemap_path': None, 'user_id': 42, 'is_chat_active': True, 'created_at': '2023-07-10T20:12:45.000000Z', 'updated_at': '2023-07-10 20:12:56', 'is_shared': False, 'deleted_at': None, 'type': 'SITEMAP'}, {'id': 912, 'project_name': 'test', 'sitemap_path': None, 'user_id': 42, 'is_chat_active': True, 'created_at': '2023-07-10T20:06:43.000000Z', 'updated_at': '2023-07-10 20:07:13', 'is_shared': False, 'deleted_at': None, 'type': 'SITEMAP'}], 'first_page_url': 'https://dev.customgpt.ai/api/v1/projects?page=1&duration=90&order=desc&width=100%25&height=auto', 'from': 1, 'last_page': 8, 'last_page_url': 'https://dev.customgpt.ai/api/v1/projects?page=8&duration=90&order=desc&width=100%25&height=auto', 'next_page_url': 'https://dev.customgpt.ai/api/v1/projects?page=2&duration=90&order=desc&width=100%25&height=auto', 'path': 'https://dev.customgpt.ai/api/v1/projects', 'per_page': 10, 'prev_page_url': None, 'to': 10, 'total': 74}), additional_properties={'data': {'current_page': 1, 'data': [{'id': 924, 'project_name': 'Example ChatBot using Sitemap', 'sitemap_path': None, 'user_id': 42, 'is_chat_active': True, 'created_at': '2023-07-12T18:15:58.000000Z', 'updated_at': '2023-07-12 18:16:06', 'is_shared': False, 'deleted_at': None, 'type': 'SITEMAP'}, {'id': 923, 'project_name': 'Example ChatBot using Sitemap', 'sitemap_path': None, 'user_id': 42, 'is_chat_active': True, 'created_at': '2023-07-12T18:12:37.000000Z', 'updated_at': '2023-07-12 18:12:54', 'is_shared': False, 'deleted_at': None, 'type': 'SITEMAP'}, {'id': 922, 'project_name': 'Example ChatBot using Sitemap', 'sitemap_path': None, 'user_id': 42, 'is_chat_active': True, 'created_at': '2023-07-12T18:10:22.000000Z', 'updated_at': '2023-07-12 18:10:26', 'is_shared': False, 'deleted_at': None, 'type': 'SITEMAP'}, {'id': 921, 'project_name': 'Example ChatBot using Sitemap', 'sitemap_path': None, 'user_id': 42, 'is_chat_active': True, 'created_at': '2023-07-12T18:04:23.000000Z', 'updated_at': '2023-07-12 18:04:40', 'is_shared': False, 'deleted_at': None, 'type': 'SITEMAP'}, {'id': 917, 'project_name': 'test', 'sitemap_path': None, 'user_id': 42, 'is_chat_active': True, 'created_at': '2023-07-10T20:30:59.000000Z', 'updated_at': '2023-07-10 20:31:12', 'is_shared': False, 'deleted_at': None, 'type': 'SITEMAP'}, {'id': 916, 'project_name': 'test', 'sitemap_path': None, 'user_id': 42, 'is_chat_active': True, 'created_at': '2023-07-10T20:30:55.000000Z', 'updated_at': '2023-07-10 20:31:18', 'is_shared': False, 'deleted_at': None, 'type': 'SITEMAP'}, {'id': 915, 'project_name': 'test', 'sitemap_path': None, 'user_id': 42, 'is_chat_active': True, 'created_at': '2023-07-10T20:30:41.000000Z', 'updated_at': '2023-07-10 20:30:54', 'is_shared': False, 'deleted_at': None, 'type': 'SITEMAP'}, {'id': 914, 'project_name': 'test', 'sitemap_path': None, 'user_id': 42, 'is_chat_active': True, 'created_at': '2023-07-10T20:30:37.000000Z', 'updated_at': '2023-07-10 20:30:55', 'is_shared': False, 'deleted_at': None, 'type': 'SITEMAP'}, {'id': 913, 'project_name': 'test', 'sitemap_path': None, 'user_id': 42, 'is_chat_active': True, 'created_at': '2023-07-10T20:12:45.000000Z', 'updated_at': '2023-07-10 20:12:56', 'is_shared': False, 'deleted_at': None, 'type': 'SITEMAP'}, {'id': 912, 'project_name': 'test', 'sitemap_path': None, 'user_id': 42, 'is_chat_active': True, 'created_at': '2023-07-10T20:06:43.000000Z', 'updated_at': '2023-07-10 20:07:13', 'is_shared': False, 'deleted_at': None, 'type': 'SITEMAP'}], 'first_page_url': 'https://dev.customgpt.ai/api/v1/projects?page=1&duration=90&order=desc&width=100%25&height=auto', 'from': 1, 'last_page': 8, 'last_page_url': 'https://dev.customgpt.ai/api/v1/projects?page=8&duration=90&order=desc&width=100%25&height=auto', 'next_page_url': 'https://dev.customgpt.ai/api/v1/projects?page=2&duration=90&order=desc&width=100%25&height=auto', 'path': 'https://dev.customgpt.ai/api/v1/projects', 'per_page': 10, 'prev_page_url': None, 'to': 10, 'total': 74}, 'status': 'success'}))\n",
            "15\n"
          ]
        }
      ],
      "source": [
        "import time\n",
        "project_page = CustomGPT.Project.list()\n",
        "print(project_page)\n",
        "data = project_page.parsed.data.data\n",
        "total = project_page.parsed.data.total\n",
        "for i in range(5):\n",
        "  page = i + 1\n",
        "  project_page = CustomGPT.Project.list(page=page)\n",
        "  data.append(project_page.parsed.data.data)\n",
        "  time.sleep(5)\n",
        "\n",
        "print(len(data))"
      ]
    }
  ],
  "metadata": {
    "colab": {
      "provenance": []
    },
    "kernelspec": {
      "display_name": "Python 3",
      "language": "python",
      "name": "python3"
    },
    "language_info": {
      "codemirror_mode": {
        "name": "ipython",
        "version": 3
      },
      "file_extension": ".py",
      "mimetype": "text/x-python",
      "name": "python",
      "nbconvert_exporter": "python",
      "pygments_lexer": "ipython3",
      "version": "3.11.2"
    }
  },
  "nbformat": 4,
  "nbformat_minor": 0
}
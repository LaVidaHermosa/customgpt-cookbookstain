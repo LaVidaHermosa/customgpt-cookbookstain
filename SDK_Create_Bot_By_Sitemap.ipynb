{
  "cells": [
    {
      "cell_type": "code",
      "source": [
        "!pip install customgpt-client==1.1.3"
      ],
      "metadata": {
        "colab": {
          "base_uri": "https://localhost:8080/"
        },
        "id": "cMS4FTgtE0s1",
        "outputId": "b4b38c60-e129-4e2a-e157-3d419e066312"
      },
      "execution_count": 1,
      "outputs": [
        {
          "output_type": "stream",
          "name": "stdout",
          "text": [
            "Collecting customgpt-client==1.1.3\n",
            "  Downloading customgpt_client-1.1.3-py3-none-any.whl (404 kB)\n",
            "\u001b[?25l     \u001b[90m━━━━━━━━━━━━━━━━━━━━━━━━━━━━━━━━━━━━━━━━\u001b[0m \u001b[32m0.0/404.5 kB\u001b[0m \u001b[31m?\u001b[0m eta \u001b[36m-:--:--\u001b[0m\r\u001b[2K     \u001b[91m━━━━━━━━━━━━━━━━━━━━━━━━━━━━━━━━━━━━━\u001b[0m\u001b[91m╸\u001b[0m \u001b[32m399.4/404.5 kB\u001b[0m \u001b[31m15.4 MB/s\u001b[0m eta \u001b[36m0:00:01\u001b[0m\r\u001b[2K     \u001b[90m━━━━━━━━━━━━━━━━━━━━━━━━━━━━━━━━━━━━━━\u001b[0m \u001b[32m404.5/404.5 kB\u001b[0m \u001b[31m11.0 MB/s\u001b[0m eta \u001b[36m0:00:00\u001b[0m\n",
            "\u001b[?25hRequirement already satisfied: attrs>=21.3.0 in /usr/local/lib/python3.10/dist-packages (from customgpt-client==1.1.3) (23.1.0)\n",
            "Requirement already satisfied: python-dateutil<3.0.0,>=2.8.0 in /usr/local/lib/python3.10/dist-packages (from customgpt-client==1.1.3) (2.8.2)\n",
            "Collecting sseclient-py==1.7.2 (from customgpt-client==1.1.3)\n",
            "  Downloading sseclient_py-1.7.2-py2.py3-none-any.whl (8.4 kB)\n",
            "Requirement already satisfied: six>=1.5 in /usr/local/lib/python3.10/dist-packages (from python-dateutil<3.0.0,>=2.8.0->customgpt-client==1.1.3) (1.16.0)\n",
            "Installing collected packages: sseclient-py, customgpt-client\n",
            "Successfully installed customgpt-client-1.1.3 sseclient-py-1.7.2\n"
          ]
        }
      ]
    },
    {
      "cell_type": "markdown",
      "metadata": {
        "id": "PAWpaaSa1WLi"
      },
      "source": [
        "**Create your custom chat bot using a sitemap.**\n"
      ]
    },
    {
      "cell_type": "code",
      "execution_count": 2,
      "metadata": {
        "id": "Hc9SsdoR1WLm"
      },
      "outputs": [],
      "source": [
        "from customgpt_client import CustomGPT\n",
        "CustomGPT.api_key = \"YOUR_API_TOKEN\""
      ]
    },
    {
      "cell_type": "markdown",
      "metadata": {
        "id": "Z1ISHsxb1WLo"
      },
      "source": [
        "**An example for to create a project with a sitemap**"
      ]
    },
    {
      "cell_type": "code",
      "execution_count": 3,
      "metadata": {
        "id": "PNbGtm_A1WLp",
        "colab": {
          "base_uri": "https://localhost:8080/"
        },
        "outputId": "2a5dd45e-fcdf-4566-f136-c7be87726696"
      },
      "outputs": [
        {
          "output_type": "stream",
          "name": "stdout",
          "text": [
            "Response(status_code=<HTTPStatus.CREATED: 201>, content=b'{\"data\":{\"id\":921,\"project_name\":\"Example ChatBot using Sitemap\",\"sitemap_path\":null,\"user_id\":42,\"is_chat_active\":null,\"created_at\":\"2023-07-12T18:04:23.000000Z\",\"updated_at\":\"2023-07-12T18:04:23.000000Z\",\"is_shared\":null,\"deleted_at\":null,\"type\":\"SITEMAP\"},\"status\":\"success\"}', headers={'Server': 'nginx', 'Content-Type': 'application/json', 'Transfer-Encoding': 'chunked', 'Connection': 'keep-alive', 'Cache-Control': 'no-cache, private', 'Date': 'Wed, 12 Jul 2023 18:04:23 GMT', 'X-RateLimit-Limit': '60', 'X-RateLimit-Remaining': '59', 'Access-Control-Allow-Origin': '*', 'X-XSS-Protection': '1; mode=block', 'X-Content-Type-Options': 'nosniff'}, parsed=CreateProjectResponse201(status=<CreateProjectResponse201Status.SUCCESS: 'success'>, data=CreateProjectResponse201Data(id=921, project_name='Example ChatBot using Sitemap', sitemap_path=None, is_chat_active=None, user_id=42, created_at=datetime.datetime(2023, 7, 12, 18, 4, 23, tzinfo=tzutc()), updated_at=datetime.datetime(2023, 7, 12, 18, 4, 23, tzinfo=tzutc()), deleted_at=None, type=<CreateProjectResponse201DataType.SITEMAP: 'SITEMAP'>, is_shared=None, shareable_slug=None, shareable_link=None, embed_code=None, live_chat_code=None, additional_properties={'id': 921, 'project_name': 'Example ChatBot using Sitemap', 'sitemap_path': None, 'user_id': 42, 'is_chat_active': None, 'created_at': '2023-07-12T18:04:23.000000Z', 'updated_at': '2023-07-12T18:04:23.000000Z', 'is_shared': None, 'deleted_at': None, 'type': 'SITEMAP'}), additional_properties={'data': {'id': 921, 'project_name': 'Example ChatBot using Sitemap', 'sitemap_path': None, 'user_id': 42, 'is_chat_active': None, 'created_at': '2023-07-12T18:04:23.000000Z', 'updated_at': '2023-07-12T18:04:23.000000Z', 'is_shared': None, 'deleted_at': None, 'type': 'SITEMAP'}, 'status': 'success'}))\n"
          ]
        }
      ],
      "source": [
        "# Give a name to your project\n",
        "project_name = 'Example ChatBot using Sitemap'\n",
        "sitemap_path = 'https://adorosario.github.io/small-sitemap.xml'\n",
        "\n",
        "create_project = CustomGPT.Project.create(project_name=project_name, sitemap_path=sitemap_path)\n",
        "print(create_project)"
      ]
    },
    {
      "cell_type": "code",
      "execution_count": 5,
      "metadata": {
        "id": "D1La0GFc1WLq",
        "colab": {
          "base_uri": "https://localhost:8080/"
        },
        "outputId": "ffb3e483-9063-42b7-fe16-b9ce78194b53"
      },
      "outputs": [
        {
          "output_type": "stream",
          "name": "stdout",
          "text": [
            "True\n"
          ]
        }
      ],
      "source": [
        "# Check status of the project if chat bot is active\n",
        "data = create_project.parsed.data\n",
        "\n",
        "# Get project id from response for created project\n",
        "project_id = data.id\n",
        "\n",
        "# Check if chat bot is active using `is_chat_active` flag in project detail response\n",
        "# GET project details\n",
        "get_project = CustomGPT.Project.get(project_id=project_id)\n",
        "project_data = get_project.parsed\n",
        "is_chat_active = project_data.data.is_chat_active\n",
        "\n",
        "print(is_chat_active)\n",
        "\n",
        "# One can poll this GET project details API to check if chat bot is active before starting a conversation\n"
      ]
    },
    {
      "cell_type": "code",
      "execution_count": 6,
      "metadata": {
        "id": "ZnAs_Bhe1WLr",
        "colab": {
          "base_uri": "https://localhost:8080/"
        },
        "outputId": "83586e4f-c5c8-4a8b-f44e-beaf29776660"
      },
      "outputs": [
        {
          "output_type": "stream",
          "name": "stdout",
          "text": [
            "CreateProjectConversationResponse201(status=<CreateProjectConversationResponse201Status.SUCCESS: 'success'>, data=CreateProjectConversationResponse201Data(created_at=datetime.datetime(2023, 7, 12, 18, 4, 47, tzinfo=tzutc()), updated_at=datetime.datetime(2023, 7, 12, 18, 4, 47, tzinfo=tzutc()), deleted_at=None, id=418, name='My First Conversation', project_id=921, created_by=42, session_id='6842bec2-b2db-42d2-884b-46d1b75ee506', additional_properties={'project_id': 921, 'name': 'My First Conversation', 'created_by': 42, 'session_id': '6842bec2-b2db-42d2-884b-46d1b75ee506', 'updated_at': '2023-07-12T18:04:47.000000Z', 'created_at': '2023-07-12T18:04:47.000000Z', 'id': 418, 'project': {'id': 921, 'project_name': 'Example ChatBot using Sitemap', 'sitemap_path': None, 'user_id': 42, 'is_chat_active': True, 'created_at': '2023-07-12T18:04:23.000000Z', 'updated_at': '2023-07-12 18:04:40', 'shareable_slug': '248c0caf008d1caf86ce0a4518adf9a9', 'is_shared': False, 'deleted_at': None, 'type': 'SITEMAP'}}), additional_properties={'data': {'project_id': 921, 'name': 'My First Conversation', 'created_by': 42, 'session_id': '6842bec2-b2db-42d2-884b-46d1b75ee506', 'updated_at': '2023-07-12T18:04:47.000000Z', 'created_at': '2023-07-12T18:04:47.000000Z', 'id': 418, 'project': {'id': 921, 'project_name': 'Example ChatBot using Sitemap', 'sitemap_path': None, 'user_id': 42, 'is_chat_active': True, 'created_at': '2023-07-12T18:04:23.000000Z', 'updated_at': '2023-07-12 18:04:40', 'shareable_slug': '248c0caf008d1caf86ce0a4518adf9a9', 'is_shared': False, 'deleted_at': None, 'type': 'SITEMAP'}}, 'status': 'success'})\n"
          ]
        }
      ],
      "source": [
        "# Create a conversation before sending a message to the chat bot\n",
        "project_conversataion = CustomGPT.Conversation.create(project_id=project_id, name=\"My First Conversation\")\n",
        "project_data = project_conversataion.parsed\n",
        "print(project_data)"
      ]
    },
    {
      "cell_type": "markdown",
      "source": [
        "Streaming False\n"
      ],
      "metadata": {
        "id": "ybFNNqkTSLVS"
      }
    },
    {
      "cell_type": "code",
      "execution_count": 8,
      "metadata": {
        "id": "B4gnIWk31WLs",
        "colab": {
          "base_uri": "https://localhost:8080/"
        },
        "outputId": "227dfe6e-a4c3-4424-f13a-af43b0605666"
      },
      "outputs": [
        {
          "output_type": "stream",
          "name": "stdout",
          "text": [
            "Response(status_code=<HTTPStatus.OK: 200>, content=b'{\"data\":{\"id\":546,\"created_at\":\"2023-07-12T18:05:05.000000Z\",\"updated_at\":\"2023-07-12T18:05:05.000000Z\",\"user_id\":42,\"user_query\":\"Who is Tom Brady\",\"openai_response\":\"Tom Brady is a former professional American football quarterback who is widely considered one of the greatest quarterbacks of all time. He spent the majority of his career with the New England Patriots, with whom he won multiple Super Bowl titles. Later in his career, he moved to the Tampa Bay Buccaneers, where he continued his success. Brady is known for his exceptional skill and longevity in the sport. He announced his retirement from the NFL in February 2023.\",\"citations\":[\"16331.0\",\"16332.0\",\"16325.0\"]},\"status\":\"success\"}', headers={'Server': 'nginx', 'Content-Type': 'application/json', 'Transfer-Encoding': 'chunked', 'Connection': 'keep-alive', 'Vary': 'Accept-Encoding', 'Cache-Control': 'no-cache, private', 'Date': 'Wed, 12 Jul 2023 18:06:29 GMT', 'X-RateLimit-Limit': '60', 'X-RateLimit-Remaining': '59', 'Access-Control-Allow-Origin': '*', 'X-XSS-Protection': '1; mode=block', 'X-Content-Type-Options': 'nosniff', 'Content-Encoding': 'gzip'}, parsed=SendMessageToConversationResponse200(status=<SendMessageToConversationResponse200Status.SUCCESS: 'success'>, data=SendMessageToConversationResponse200Data(id=546, user_id=42, user_query='Who is Tom Brady', openai_response='Tom Brady is a former professional American football quarterback who is widely considered one of the greatest quarterbacks of all time. He spent the majority of his career with the New England Patriots, with whom he won multiple Super Bowl titles. Later in his career, he moved to the Tampa Bay Buccaneers, where he continued his success. Brady is known for his exceptional skill and longevity in the sport. He announced his retirement from the NFL in February 2023.', created_at=datetime.datetime(2023, 7, 12, 18, 5, 5, tzinfo=tzutc()), updated_at=datetime.datetime(2023, 7, 12, 18, 5, 5, tzinfo=tzutc()), conversation_id=None, citations=['16331.0', '16332.0', '16325.0'], additional_properties={'id': 546, 'created_at': '2023-07-12T18:05:05.000000Z', 'updated_at': '2023-07-12T18:05:05.000000Z', 'user_id': 42, 'user_query': 'Who is Tom Brady', 'openai_response': 'Tom Brady is a former professional American football quarterback who is widely considered one of the greatest quarterbacks of all time. He spent the majority of his career with the New England Patriots, with whom he won multiple Super Bowl titles. Later in his career, he moved to the Tampa Bay Buccaneers, where he continued his success. Brady is known for his exceptional skill and longevity in the sport. He announced his retirement from the NFL in February 2023.', 'citations': ['16331.0', '16332.0', '16325.0']}), additional_properties={'data': {'id': 546, 'created_at': '2023-07-12T18:05:05.000000Z', 'updated_at': '2023-07-12T18:05:05.000000Z', 'user_id': 42, 'user_query': 'Who is Tom Brady', 'openai_response': 'Tom Brady is a former professional American football quarterback who is widely considered one of the greatest quarterbacks of all time. He spent the majority of his career with the New England Patriots, with whom he won multiple Super Bowl titles. Later in his career, he moved to the Tampa Bay Buccaneers, where he continued his success. Brady is known for his exceptional skill and longevity in the sport. He announced his retirement from the NFL in February 2023.', 'citations': ['16331.0', '16332.0', '16325.0']}, 'status': 'success'}))\n"
          ]
        }
      ],
      "source": [
        "session_id = project_data.data.session_id\n",
        "# Create a message to the above conversation\n",
        "\n",
        "# pass in your question to prompt\n",
        "prompt = \"Who is Tom Brady\"\n",
        "\n",
        "stream_response = CustomGPT.Conversation.send(project_id=project_id, session_id=session_id, prompt=prompt, stream=False)\n",
        "print(stream_response)\n"
      ]
    },
    {
      "cell_type": "markdown",
      "source": [
        "Streaming True\n"
      ],
      "metadata": {
        "id": "F3DGWGQbSOZU"
      }
    },
    {
      "cell_type": "code",
      "source": [
        "session_id = project_data.data.session_id\n",
        "# Create a message to the above conversation\n",
        "\n",
        "# pass in your question to prompt\n",
        "prompt = \"Who is Tom Brady\"\n",
        "\n",
        "stream_response = CustomGPT.Conversation.send(project_id=project_id, session_id=session_id, prompt=prompt, stream=True)\n",
        "for event in stream_response.events():\n",
        "  print(event.data)"
      ],
      "metadata": {
        "id": "FJSmijEUDA8e",
        "colab": {
          "base_uri": "https://localhost:8080/"
        },
        "outputId": "f7798892-c1ce-420d-cc53-2a976d1f7727"
      },
      "execution_count": 10,
      "outputs": [
        {
          "output_type": "stream",
          "name": "stdout",
          "text": [
            "{\"status\":\"start\",\"prompt\":\"Who is Tom Brady\"}\n",
            "{\"status\":\"progress\",\"message\":\"Tom \"}\n",
            "{\"status\":\"progress\",\"message\":\"Brady \"}\n",
            "{\"status\":\"progress\",\"message\":\"is \"}\n",
            "{\"status\":\"progress\",\"message\":\"a \"}\n",
            "{\"status\":\"progress\",\"message\":\"former \"}\n",
            "{\"status\":\"progress\",\"message\":\"professional \"}\n",
            "{\"status\":\"progress\",\"message\":\"American \"}\n",
            "{\"status\":\"progress\",\"message\":\"football \"}\n",
            "{\"status\":\"progress\",\"message\":\"quarterback \"}\n",
            "{\"status\":\"progress\",\"message\":\"who \"}\n",
            "{\"status\":\"progress\",\"message\":\"is \"}\n",
            "{\"status\":\"progress\",\"message\":\"widely \"}\n",
            "{\"status\":\"progress\",\"message\":\"considered \"}\n",
            "{\"status\":\"progress\",\"message\":\"one \"}\n",
            "{\"status\":\"progress\",\"message\":\"of \"}\n",
            "{\"status\":\"progress\",\"message\":\"the \"}\n",
            "{\"status\":\"progress\",\"message\":\"greatest \"}\n",
            "{\"status\":\"progress\",\"message\":\"quarterbacks \"}\n",
            "{\"status\":\"progress\",\"message\":\"of \"}\n",
            "{\"status\":\"progress\",\"message\":\"all \"}\n",
            "{\"status\":\"progress\",\"message\":\"time. \"}\n",
            "{\"status\":\"progress\",\"message\":\"He \"}\n",
            "{\"status\":\"progress\",\"message\":\"spent \"}\n",
            "{\"status\":\"progress\",\"message\":\"the \"}\n",
            "{\"status\":\"progress\",\"message\":\"majority \"}\n",
            "{\"status\":\"progress\",\"message\":\"of \"}\n",
            "{\"status\":\"progress\",\"message\":\"his \"}\n",
            "{\"status\":\"progress\",\"message\":\"career \"}\n",
            "{\"status\":\"progress\",\"message\":\"with \"}\n",
            "{\"status\":\"progress\",\"message\":\"the \"}\n",
            "{\"status\":\"progress\",\"message\":\"New \"}\n",
            "{\"status\":\"progress\",\"message\":\"England \"}\n",
            "{\"status\":\"progress\",\"message\":\"Patriots, \"}\n",
            "{\"status\":\"progress\",\"message\":\"with \"}\n",
            "{\"status\":\"progress\",\"message\":\"whom \"}\n",
            "{\"status\":\"progress\",\"message\":\"he \"}\n",
            "{\"status\":\"progress\",\"message\":\"won \"}\n",
            "{\"status\":\"progress\",\"message\":\"multiple \"}\n",
            "{\"status\":\"progress\",\"message\":\"Super \"}\n",
            "{\"status\":\"progress\",\"message\":\"Bowl \"}\n",
            "{\"status\":\"progress\",\"message\":\"titles. \"}\n",
            "{\"status\":\"progress\",\"message\":\"Later \"}\n",
            "{\"status\":\"progress\",\"message\":\"in \"}\n",
            "{\"status\":\"progress\",\"message\":\"his \"}\n",
            "{\"status\":\"progress\",\"message\":\"career, \"}\n",
            "{\"status\":\"progress\",\"message\":\"he \"}\n",
            "{\"status\":\"progress\",\"message\":\"moved \"}\n",
            "{\"status\":\"progress\",\"message\":\"to \"}\n",
            "{\"status\":\"progress\",\"message\":\"the \"}\n",
            "{\"status\":\"progress\",\"message\":\"Tampa \"}\n",
            "{\"status\":\"progress\",\"message\":\"Bay \"}\n",
            "{\"status\":\"progress\",\"message\":\"Buccaneers, \"}\n",
            "{\"status\":\"progress\",\"message\":\"where \"}\n",
            "{\"status\":\"progress\",\"message\":\"he \"}\n",
            "{\"status\":\"progress\",\"message\":\"continued \"}\n",
            "{\"status\":\"progress\",\"message\":\"his \"}\n",
            "{\"status\":\"progress\",\"message\":\"success. \"}\n",
            "{\"status\":\"progress\",\"message\":\"Brady \"}\n",
            "{\"status\":\"progress\",\"message\":\"is \"}\n",
            "{\"status\":\"progress\",\"message\":\"known \"}\n",
            "{\"status\":\"progress\",\"message\":\"for \"}\n",
            "{\"status\":\"progress\",\"message\":\"his \"}\n",
            "{\"status\":\"progress\",\"message\":\"exceptional \"}\n",
            "{\"status\":\"progress\",\"message\":\"skill \"}\n",
            "{\"status\":\"progress\",\"message\":\"and \"}\n",
            "{\"status\":\"progress\",\"message\":\"longevity \"}\n",
            "{\"status\":\"progress\",\"message\":\"in \"}\n",
            "{\"status\":\"progress\",\"message\":\"the \"}\n",
            "{\"status\":\"progress\",\"message\":\"sport. \"}\n",
            "{\"status\":\"progress\",\"message\":\"He \"}\n",
            "{\"status\":\"progress\",\"message\":\"announced \"}\n",
            "{\"status\":\"progress\",\"message\":\"his \"}\n",
            "{\"status\":\"progress\",\"message\":\"retirement \"}\n",
            "{\"status\":\"progress\",\"message\":\"from \"}\n",
            "{\"status\":\"progress\",\"message\":\"the \"}\n",
            "{\"status\":\"progress\",\"message\":\"NFL \"}\n",
            "{\"status\":\"progress\",\"message\":\"in \"}\n",
            "{\"status\":\"progress\",\"message\":\"February \"}\n",
            "{\"status\":\"progress\",\"message\":\"2023. \"}\n",
            "{\"status\":\"finish\",\"id\":546,\"created_at\":\"2023-07-12T18:05:05.000000Z\",\"session_id\":\"6842bec2-b2db-42d2-884b-46d1b75ee506\",\"citations\":[\"16331.0\",\"16332.0\",\"16325.0\"]}\n"
          ]
        }
      ]
    },
    {
      "cell_type": "code",
      "source": [],
      "metadata": {
        "id": "5hxZ8sW1ScoT"
      },
      "execution_count": null,
      "outputs": []
    }
  ],
  "metadata": {
    "kernelspec": {
      "display_name": "Python 3",
      "language": "python",
      "name": "python3"
    },
    "language_info": {
      "codemirror_mode": {
        "name": "ipython",
        "version": 3
      },
      "file_extension": ".py",
      "mimetype": "text/x-python",
      "name": "python",
      "nbconvert_exporter": "python",
      "pygments_lexer": "ipython3",
      "version": "3.11.2"
    },
    "orig_nbformat": 4,
    "colab": {
      "provenance": []
    }
  },
  "nbformat": 4,
  "nbformat_minor": 0
}
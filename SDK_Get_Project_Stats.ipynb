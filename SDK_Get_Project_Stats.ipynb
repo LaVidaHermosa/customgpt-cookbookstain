{
  "cells": [
    {
      "cell_type": "code",
      "execution_count": 1,
      "metadata": {
        "colab": {
          "base_uri": "https://localhost:8080/"
        },
        "id": "cMS4FTgtE0s1",
        "outputId": "24547194-fcbe-4799-97b0-73a03607ed0e"
      },
      "outputs": [
        {
          "output_type": "stream",
          "name": "stdout",
          "text": [
            "Collecting customgpt-client==1.1.3\n",
            "  Downloading customgpt_client-1.1.3-py3-none-any.whl (404 kB)\n",
            "\u001b[2K     \u001b[90m━━━━━━━━━━━━━━━━━━━━━━━━━━━━━━━━━━━━━━━\u001b[0m \u001b[32m404.5/404.5 kB\u001b[0m \u001b[31m8.1 MB/s\u001b[0m eta \u001b[36m0:00:00\u001b[0m\n",
            "\u001b[?25hRequirement already satisfied: attrs>=21.3.0 in /usr/local/lib/python3.10/dist-packages (from customgpt-client==1.1.3) (23.1.0)\n",
            "Requirement already satisfied: python-dateutil<3.0.0,>=2.8.0 in /usr/local/lib/python3.10/dist-packages (from customgpt-client==1.1.3) (2.8.2)\n",
            "Collecting sseclient-py==1.7.2 (from customgpt-client==1.1.3)\n",
            "  Downloading sseclient_py-1.7.2-py2.py3-none-any.whl (8.4 kB)\n",
            "Requirement already satisfied: six>=1.5 in /usr/local/lib/python3.10/dist-packages (from python-dateutil<3.0.0,>=2.8.0->customgpt-client==1.1.3) (1.16.0)\n",
            "Installing collected packages: sseclient-py, customgpt-client\n",
            "Successfully installed customgpt-client-1.1.3 sseclient-py-1.7.2\n"
          ]
        }
      ],
      "source": [
        "!pip install customgpt-client==1.1.3"
      ]
    },
    {
      "cell_type": "markdown",
      "metadata": {
        "id": "PAWpaaSa1WLi"
      },
      "source": [
        "**Create your custom chat bot using a sitemap.**\n"
      ]
    },
    {
      "cell_type": "code",
      "execution_count": 2,
      "metadata": {
        "id": "Hc9SsdoR1WLm"
      },
      "outputs": [],
      "source": [
        "from customgpt_client import CustomGPT\n",
        "CustomGPT.api_key = \"YOUR_API_TOKEN\""
      ]
    },
    {
      "cell_type": "markdown",
      "metadata": {
        "id": "Z1ISHsxb1WLo"
      },
      "source": [
        "**An example for to create a project with a sitemap**"
      ]
    },
    {
      "cell_type": "code",
      "execution_count": 3,
      "metadata": {
        "colab": {
          "base_uri": "https://localhost:8080/"
        },
        "id": "PNbGtm_A1WLp",
        "outputId": "802642b6-a06f-4df2-eb2b-bf2e60c7fb6e"
      },
      "outputs": [
        {
          "output_type": "stream",
          "name": "stdout",
          "text": [
            "Response(status_code=<HTTPStatus.CREATED: 201>, content=b'{\"data\":{\"id\":930,\"project_name\":\"Example ChatBot using Sitemap\",\"sitemap_path\":null,\"user_id\":42,\"is_chat_active\":null,\"created_at\":\"2023-07-12T18:40:35.000000Z\",\"updated_at\":\"2023-07-12T18:40:35.000000Z\",\"is_shared\":null,\"deleted_at\":null,\"type\":\"SITEMAP\"},\"status\":\"success\"}', headers={'Server': 'nginx', 'Content-Type': 'application/json', 'Transfer-Encoding': 'chunked', 'Connection': 'keep-alive', 'Cache-Control': 'no-cache, private', 'Date': 'Wed, 12 Jul 2023 18:40:35 GMT', 'X-RateLimit-Limit': '60', 'X-RateLimit-Remaining': '57', 'Access-Control-Allow-Origin': '*', 'X-XSS-Protection': '1; mode=block', 'X-Content-Type-Options': 'nosniff'}, parsed=CreateProjectResponse201(status=<CreateProjectResponse201Status.SUCCESS: 'success'>, data=CreateProjectResponse201Data(id=930, project_name='Example ChatBot using Sitemap', sitemap_path=None, is_chat_active=None, user_id=42, created_at=datetime.datetime(2023, 7, 12, 18, 40, 35, tzinfo=tzutc()), updated_at=datetime.datetime(2023, 7, 12, 18, 40, 35, tzinfo=tzutc()), deleted_at=None, type=<CreateProjectResponse201DataType.SITEMAP: 'SITEMAP'>, is_shared=None, shareable_slug=None, shareable_link=None, embed_code=None, live_chat_code=None, additional_properties={'id': 930, 'project_name': 'Example ChatBot using Sitemap', 'sitemap_path': None, 'user_id': 42, 'is_chat_active': None, 'created_at': '2023-07-12T18:40:35.000000Z', 'updated_at': '2023-07-12T18:40:35.000000Z', 'is_shared': None, 'deleted_at': None, 'type': 'SITEMAP'}), additional_properties={'data': {'id': 930, 'project_name': 'Example ChatBot using Sitemap', 'sitemap_path': None, 'user_id': 42, 'is_chat_active': None, 'created_at': '2023-07-12T18:40:35.000000Z', 'updated_at': '2023-07-12T18:40:35.000000Z', 'is_shared': None, 'deleted_at': None, 'type': 'SITEMAP'}, 'status': 'success'}))\n"
          ]
        }
      ],
      "source": [
        "# Give a name to your project\n",
        "project_name = 'Example ChatBot using Sitemap'\n",
        "sitemap_path = 'https://adorosario.github.io/small-sitemap.xml'\n",
        "\n",
        "create_project = CustomGPT.Project.create(project_name=project_name, sitemap_path=sitemap_path)\n",
        "print(create_project)"
      ]
    },
    {
      "cell_type": "markdown",
      "source": [
        "**Get Project Stats**"
      ],
      "metadata": {
        "id": "DYDQmEzvanvn"
      }
    },
    {
      "cell_type": "code",
      "source": [
        "project_id = create_project.parsed.data.id\n",
        "project_stats= CustomGPT.Project.stats(project_id=project_id)\n",
        "print(project_stats)"
      ],
      "metadata": {
        "colab": {
          "base_uri": "https://localhost:8080/"
        },
        "id": "ptvLSyBIambC",
        "outputId": "2c981dc8-373e-4625-b319-d83e9d397b37"
      },
      "execution_count": 4,
      "outputs": [
        {
          "output_type": "stream",
          "name": "stdout",
          "text": [
            "Response(status_code=<HTTPStatus.OK: 200>, content=b'{\"data\":{\"pages_found\":0,\"pages_crawled\":0,\"pages_indexed\":0,\"crawl_credits_used\":0,\"query_credits_used\":0,\"total_queries\":0,\"total_words_indexed\":0},\"status\":\"success\"}', headers={'Server': 'nginx', 'Content-Type': 'application/json', 'Transfer-Encoding': 'chunked', 'Connection': 'keep-alive', 'Vary': 'Accept-Encoding', 'Cache-Control': 'no-cache, private', 'Date': 'Wed, 12 Jul 2023 18:40:36 GMT', 'X-RateLimit-Limit': '60', 'X-RateLimit-Remaining': '60', 'Access-Control-Allow-Origin': '*', 'X-XSS-Protection': '1; mode=block', 'X-Content-Type-Options': 'nosniff', 'Content-Encoding': 'gzip'}, parsed=StatsProjectResponse200(status=<StatsProjectResponse200Status.SUCCESS: 'success'>, data=StatsProjectResponse200Data(pages_found=0, pages_crawled=0, pages_indexed=0, crawl_credits_used=0, query_credits_used=0, index_credits_used=None, additional_properties={'pages_found': 0, 'pages_crawled': 0, 'pages_indexed': 0, 'crawl_credits_used': 0, 'query_credits_used': 0, 'total_queries': 0, 'total_words_indexed': 0}), additional_properties={'data': {'pages_found': 0, 'pages_crawled': 0, 'pages_indexed': 0, 'crawl_credits_used': 0, 'query_credits_used': 0, 'total_queries': 0, 'total_words_indexed': 0}, 'status': 'success'}))\n"
          ]
        }
      ]
    }
  ],
  "metadata": {
    "colab": {
      "provenance": []
    },
    "kernelspec": {
      "display_name": "Python 3",
      "language": "python",
      "name": "python3"
    },
    "language_info": {
      "codemirror_mode": {
        "name": "ipython",
        "version": 3
      },
      "file_extension": ".py",
      "mimetype": "text/x-python",
      "name": "python",
      "nbconvert_exporter": "python",
      "pygments_lexer": "ipython3",
      "version": "3.11.2"
    }
  },
  "nbformat": 4,
  "nbformat_minor": 0
}
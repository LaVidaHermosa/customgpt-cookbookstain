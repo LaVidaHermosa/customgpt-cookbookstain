{
  "cells": [
    {
      "cell_type": "code",
      "execution_count": 1,
      "metadata": {
        "colab": {
          "base_uri": "https://localhost:8080/"
        },
        "id": "cMS4FTgtE0s1",
        "outputId": "2b3f458f-ef7e-4b4c-c226-0f7866aaeb35"
      },
      "outputs": [
        {
          "output_type": "stream",
          "name": "stdout",
          "text": [
            "Collecting customgpt-client==1.1.3\n",
            "  Downloading customgpt_client-1.1.3-py3-none-any.whl (404 kB)\n",
            "\u001b[?25l     \u001b[90m━━━━━━━━━━━━━━━━━━━━━━━━━━━━━━━━━━━━━━━━\u001b[0m \u001b[32m0.0/404.5 kB\u001b[0m \u001b[31m?\u001b[0m eta \u001b[36m-:--:--\u001b[0m\r\u001b[2K     \u001b[90m━━━━━━━━━━━━━━━━━━━━━━━━━━━━━━━━━━━━━━\u001b[0m \u001b[32m404.5/404.5 kB\u001b[0m \u001b[31m21.7 MB/s\u001b[0m eta \u001b[36m0:00:00\u001b[0m\n",
            "\u001b[?25hRequirement already satisfied: attrs>=21.3.0 in /usr/local/lib/python3.10/dist-packages (from customgpt-client==1.1.3) (23.1.0)\n",
            "Requirement already satisfied: python-dateutil<3.0.0,>=2.8.0 in /usr/local/lib/python3.10/dist-packages (from customgpt-client==1.1.3) (2.8.2)\n",
            "Collecting sseclient-py==1.7.2 (from customgpt-client==1.1.3)\n",
            "  Downloading sseclient_py-1.7.2-py2.py3-none-any.whl (8.4 kB)\n",
            "Requirement already satisfied: six>=1.5 in /usr/local/lib/python3.10/dist-packages (from python-dateutil<3.0.0,>=2.8.0->customgpt-client==1.1.3) (1.16.0)\n",
            "Installing collected packages: sseclient-py, customgpt-client\n",
            "Successfully installed customgpt-client-1.1.3 sseclient-py-1.7.2\n"
          ]
        }
      ],
      "source": [
        "!pip install customgpt-client==1.1.3"
      ]
    },
    {
      "cell_type": "markdown",
      "metadata": {
        "id": "PAWpaaSa1WLi"
      },
      "source": [
        "**Create your custom chat bot using a sitemap.**\n"
      ]
    },
    {
      "cell_type": "code",
      "execution_count": 2,
      "metadata": {
        "id": "Hc9SsdoR1WLm"
      },
      "outputs": [],
      "source": [
        "from customgpt_client import CustomGPT\n",
        "CustomGPT.api_key = \"YOUR_API_TOKEN\""
      ]
    },
    {
      "cell_type": "markdown",
      "metadata": {
        "id": "Z1ISHsxb1WLo"
      },
      "source": [
        "**An example for to create a project with a sitemap**"
      ]
    },
    {
      "cell_type": "code",
      "execution_count": 3,
      "metadata": {
        "colab": {
          "base_uri": "https://localhost:8080/"
        },
        "id": "PNbGtm_A1WLp",
        "outputId": "9beb7b2e-4c9d-4b3c-e18c-345ae633852e"
      },
      "outputs": [
        {
          "output_type": "stream",
          "name": "stdout",
          "text": [
            "Response(status_code=<HTTPStatus.CREATED: 201>, content=b'{\"data\":{\"id\":928,\"project_name\":\"Example ChatBot using Sitemap\",\"sitemap_path\":null,\"user_id\":42,\"is_chat_active\":null,\"created_at\":\"2023-07-12T18:32:34.000000Z\",\"updated_at\":\"2023-07-12T18:32:34.000000Z\",\"is_shared\":null,\"deleted_at\":null,\"type\":\"SITEMAP\"},\"status\":\"success\"}', headers={'Server': 'nginx', 'Content-Type': 'application/json', 'Transfer-Encoding': 'chunked', 'Connection': 'keep-alive', 'Cache-Control': 'no-cache, private', 'Date': 'Wed, 12 Jul 2023 18:32:34 GMT', 'X-RateLimit-Limit': '60', 'X-RateLimit-Remaining': '59', 'Access-Control-Allow-Origin': '*', 'X-XSS-Protection': '1; mode=block', 'X-Content-Type-Options': 'nosniff'}, parsed=CreateProjectResponse201(status=<CreateProjectResponse201Status.SUCCESS: 'success'>, data=CreateProjectResponse201Data(id=928, project_name='Example ChatBot using Sitemap', sitemap_path=None, is_chat_active=None, user_id=42, created_at=datetime.datetime(2023, 7, 12, 18, 32, 34, tzinfo=tzutc()), updated_at=datetime.datetime(2023, 7, 12, 18, 32, 34, tzinfo=tzutc()), deleted_at=None, type=<CreateProjectResponse201DataType.SITEMAP: 'SITEMAP'>, is_shared=None, shareable_slug=None, shareable_link=None, embed_code=None, live_chat_code=None, additional_properties={'id': 928, 'project_name': 'Example ChatBot using Sitemap', 'sitemap_path': None, 'user_id': 42, 'is_chat_active': None, 'created_at': '2023-07-12T18:32:34.000000Z', 'updated_at': '2023-07-12T18:32:34.000000Z', 'is_shared': None, 'deleted_at': None, 'type': 'SITEMAP'}), additional_properties={'data': {'id': 928, 'project_name': 'Example ChatBot using Sitemap', 'sitemap_path': None, 'user_id': 42, 'is_chat_active': None, 'created_at': '2023-07-12T18:32:34.000000Z', 'updated_at': '2023-07-12T18:32:34.000000Z', 'is_shared': None, 'deleted_at': None, 'type': 'SITEMAP'}, 'status': 'success'}))\n"
          ]
        }
      ],
      "source": [
        "# Give a name to your project\n",
        "project_name = 'Example ChatBot using Sitemap'\n",
        "sitemap_path = 'https://adorosario.github.io/small-sitemap.xml'\n",
        "\n",
        "create_project = CustomGPT.Project.create(project_name=project_name, sitemap_path=sitemap_path)\n",
        "print(create_project)"
      ]
    },
    {
      "cell_type": "markdown",
      "source": [
        "**Add conversation to fill in pages**"
      ],
      "metadata": {
        "id": "JgXAwGsFavRE"
      }
    },
    {
      "cell_type": "code",
      "execution_count": 4,
      "metadata": {
        "colab": {
          "base_uri": "https://localhost:8080/"
        },
        "id": "D1La0GFc1WLq",
        "outputId": "5fa3f276-611d-4903-db00-442a64a2fe45"
      },
      "outputs": [
        {
          "output_type": "stream",
          "name": "stdout",
          "text": [
            "Response(status_code=<HTTPStatus.CREATED: 201>, content=b'{\"data\":{\"project_id\":928,\"name\":\"conversation\",\"created_by\":42,\"session_id\":\"75665677-afa1-4210-9183-0e04aef97576\",\"updated_at\":\"2023-07-12T18:32:35.000000Z\",\"created_at\":\"2023-07-12T18:32:35.000000Z\",\"id\":422,\"project\":{\"id\":928,\"project_name\":\"Example ChatBot using Sitemap\",\"sitemap_path\":null,\"user_id\":42,\"is_chat_active\":false,\"created_at\":\"2023-07-12T18:32:34.000000Z\",\"updated_at\":\"2023-07-12 18:32:34\",\"shareable_slug\":\"53c4abb1770f8ed5513c3eed7b6aafec\",\"is_shared\":false,\"deleted_at\":null,\"type\":\"SITEMAP\"}},\"status\":\"success\"}', headers={'Server': 'nginx', 'Content-Type': 'application/json', 'Transfer-Encoding': 'chunked', 'Connection': 'keep-alive', 'Cache-Control': 'no-cache, private', 'Date': 'Wed, 12 Jul 2023 18:32:35 GMT', 'X-RateLimit-Limit': '60', 'X-RateLimit-Remaining': '58', 'Access-Control-Allow-Origin': '*', 'X-XSS-Protection': '1; mode=block', 'X-Content-Type-Options': 'nosniff'}, parsed=CreateProjectConversationResponse201(status=<CreateProjectConversationResponse201Status.SUCCESS: 'success'>, data=CreateProjectConversationResponse201Data(created_at=datetime.datetime(2023, 7, 12, 18, 32, 35, tzinfo=tzutc()), updated_at=datetime.datetime(2023, 7, 12, 18, 32, 35, tzinfo=tzutc()), deleted_at=None, id=422, name='conversation', project_id=928, created_by=42, session_id='75665677-afa1-4210-9183-0e04aef97576', additional_properties={'project_id': 928, 'name': 'conversation', 'created_by': 42, 'session_id': '75665677-afa1-4210-9183-0e04aef97576', 'updated_at': '2023-07-12T18:32:35.000000Z', 'created_at': '2023-07-12T18:32:35.000000Z', 'id': 422, 'project': {'id': 928, 'project_name': 'Example ChatBot using Sitemap', 'sitemap_path': None, 'user_id': 42, 'is_chat_active': False, 'created_at': '2023-07-12T18:32:34.000000Z', 'updated_at': '2023-07-12 18:32:34', 'shareable_slug': '53c4abb1770f8ed5513c3eed7b6aafec', 'is_shared': False, 'deleted_at': None, 'type': 'SITEMAP'}}), additional_properties={'data': {'project_id': 928, 'name': 'conversation', 'created_by': 42, 'session_id': '75665677-afa1-4210-9183-0e04aef97576', 'updated_at': '2023-07-12T18:32:35.000000Z', 'created_at': '2023-07-12T18:32:35.000000Z', 'id': 422, 'project': {'id': 928, 'project_name': 'Example ChatBot using Sitemap', 'sitemap_path': None, 'user_id': 42, 'is_chat_active': False, 'created_at': '2023-07-12T18:32:34.000000Z', 'updated_at': '2023-07-12 18:32:34', 'shareable_slug': '53c4abb1770f8ed5513c3eed7b6aafec', 'is_shared': False, 'deleted_at': None, 'type': 'SITEMAP'}}, 'status': 'success'}))\n"
          ]
        }
      ],
      "source": [
        "project_id = create_project.parsed.data.id\n",
        "# to make the chatbot sharable we will set is_shared to 1\n",
        "project_conversation = CustomGPT.Conversation.create(project_id=project_id, name='conversation')\n",
        "print(project_conversation)"
      ]
    },
    {
      "cell_type": "markdown",
      "source": [
        "**Delete Project Page**"
      ],
      "metadata": {
        "id": "DYDQmEzvanvn"
      }
    },
    {
      "cell_type": "code",
      "source": [
        "project_pages = CustomGPT.Page.get(project_id=project_id)\n",
        "page_id = project_pages.parsed.data.pages.data[0].id\n",
        "print(page_id)\n",
        "delete_page = CustomGPT.Page.delete(page_id=page_id, project_id=project_id)\n",
        "print(delete_page)"
      ],
      "metadata": {
        "colab": {
          "base_uri": "https://localhost:8080/"
        },
        "id": "ptvLSyBIambC",
        "outputId": "0c938c7d-2f67-4473-a0df-1189912d09e3"
      },
      "execution_count": 16,
      "outputs": [
        {
          "output_type": "stream",
          "name": "stdout",
          "text": [
            "16375\n",
            "Response(status_code=<HTTPStatus.OK: 200>, content=b'{\"data\":{\"deleted\":true},\"status\":\"success\"}', headers={'Server': 'nginx', 'Content-Type': 'application/json', 'Transfer-Encoding': 'chunked', 'Connection': 'keep-alive', 'Vary': 'Accept-Encoding', 'Cache-Control': 'no-cache, private', 'Date': 'Wed, 12 Jul 2023 18:35:45 GMT', 'X-RateLimit-Limit': '60', 'X-RateLimit-Remaining': '58', 'Access-Control-Allow-Origin': '*', 'X-XSS-Protection': '1; mode=block', 'X-Content-Type-Options': 'nosniff', 'Content-Encoding': 'gzip'}, parsed=DeleteProjectPageResponse200(status=<DeleteProjectPageResponse200Status.SUCCESS: 'success'>, data=DeleteProjectPageResponse200Data(deleted=True, additional_properties={'deleted': True}), additional_properties={'data': {'deleted': True}, 'status': 'success'}))\n"
          ]
        }
      ]
    }
  ],
  "metadata": {
    "colab": {
      "provenance": []
    },
    "kernelspec": {
      "display_name": "Python 3",
      "language": "python",
      "name": "python3"
    },
    "language_info": {
      "codemirror_mode": {
        "name": "ipython",
        "version": 3
      },
      "file_extension": ".py",
      "mimetype": "text/x-python",
      "name": "python",
      "nbconvert_exporter": "python",
      "pygments_lexer": "ipython3",
      "version": "3.11.2"
    }
  },
  "nbformat": 4,
  "nbformat_minor": 0
}
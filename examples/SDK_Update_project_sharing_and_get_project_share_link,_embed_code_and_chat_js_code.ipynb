{
  "cells": [
    {
      "cell_type": "code",
      "execution_count": 1,
      "metadata": {
        "colab": {
          "base_uri": "https://localhost:8080/"
        },
        "id": "cMS4FTgtE0s1",
        "outputId": "5e08b569-d2c5-4412-e326-3982f9ea12bc"
      },
      "outputs": [
        {
          "output_type": "stream",
          "name": "stdout",
          "text": [
            ""
          ]
        }
      ],
      "source": [
        "!pip install customgpt-client==1.1.3"
      ]
    },
    {
      "cell_type": "markdown",
      "metadata": {
        "id": "PAWpaaSa1WLi"
      },
      "source": [
        "**Create your custom chat bot using a sitemap.**\n"
      ]
    },
    {
      "cell_type": "code",
      "execution_count": 2,
      "metadata": {
        "id": "Hc9SsdoR1WLm"
      },
      "outputs": [],
      "source": [
        "from customgpt_client import CustomGPT\n",
        "CustomGPT.api_key = \"YOUR_API_TOKEN\""
      ]
    },
    {
      "cell_type": "markdown",
      "metadata": {
        "id": "Z1ISHsxb1WLo"
      },
      "source": [
        "**An example for to create a project with a sitemap**"
      ]
    },
    {
      "cell_type": "code",
      "execution_count": 3,
      "metadata": {
        "colab": {
          "base_uri": "https://localhost:8080/"
        },
        "id": "PNbGtm_A1WLp",
        "outputId": "84984d89-951a-4a3e-97da-b008f0383ccb"
      },
      "outputs": [
        {
          "output_type": "stream",
          "name": "stdout",
          "text": [
            "Response(status_code=<HTTPStatus.CREATED: 201>, content=b'{\"data\":{\"id\":931,\"project_name\":\"Example ChatBot using Sitemap\",\"sitemap_path\":null,\"user_id\":42,\"is_chat_active\":null,\"created_at\":\"2023-07-12T18:41:36.000000Z\",\"updated_at\":\"2023-07-12T18:41:36.000000Z\",\"is_shared\":null,\"deleted_at\":null,\"type\":\"SITEMAP\"},\"status\":\"success\"}', headers={'Server': 'nginx', 'Content-Type': 'application/json', 'Transfer-Encoding': 'chunked', 'Connection': 'keep-alive', 'Cache-Control': 'no-cache, private', 'Date': 'Wed, 12 Jul 2023 18:41:37 GMT', 'X-RateLimit-Limit': '60', 'X-RateLimit-Remaining': '59', 'Access-Control-Allow-Origin': '*', 'X-XSS-Protection': '1; mode=block', 'X-Content-Type-Options': 'nosniff'}, parsed=CreateProjectResponse201(status=<CreateProjectResponse201Status.SUCCESS: 'success'>, data=CreateProjectResponse201Data(id=931, project_name='Example ChatBot using Sitemap', sitemap_path=None, is_chat_active=None, user_id=42, created_at=datetime.datetime(2023, 7, 12, 18, 41, 36, tzinfo=tzutc()), updated_at=datetime.datetime(2023, 7, 12, 18, 41, 36, tzinfo=tzutc()), deleted_at=None, type=<CreateProjectResponse201DataType.SITEMAP: 'SITEMAP'>, is_shared=None, shareable_slug=None, shareable_link=None, embed_code=None, live_chat_code=None, additional_properties={'id': 931, 'project_name': 'Example ChatBot using Sitemap', 'sitemap_path': None, 'user_id': 42, 'is_chat_active': None, 'created_at': '2023-07-12T18:41:36.000000Z', 'updated_at': '2023-07-12T18:41:36.000000Z', 'is_shared': None, 'deleted_at': None, 'type': 'SITEMAP'}), additional_properties={'data': {'id': 931, 'project_name': 'Example ChatBot using Sitemap', 'sitemap_path': None, 'user_id': 42, 'is_chat_active': None, 'created_at': '2023-07-12T18:41:36.000000Z', 'updated_at': '2023-07-12T18:41:36.000000Z', 'is_shared': None, 'deleted_at': None, 'type': 'SITEMAP'}, 'status': 'success'}))\n"
          ]
        }
      ],
      "source": [
        "# Give a name to your project\n",
        "project_name = 'Example ChatBot using Sitemap'\n",
        "sitemap_path = 'https://adorosario.github.io/small-sitemap.xml'\n",
        "\n",
        "create_project = CustomGPT.Project.create(project_name=project_name, sitemap_path=sitemap_path)\n",
        "print(create_project)"
      ]
    },
    {
      "cell_type": "code",
      "execution_count": 4,
      "metadata": {
        "colab": {
          "base_uri": "https://localhost:8080/"
        },
        "id": "D1La0GFc1WLq",
        "outputId": "0011cf18-0534-4ea2-8c0b-f92561215777"
      },
      "outputs": [
        {
          "output_type": "stream",
          "name": "stdout",
          "text": [
            ""
          ]
        }
      ],
      "source": [
        "project_id = create_project.parsed.data.id\n",
        "# to make the chatbot sharable we will set is_shared to 1\n",
        "\n",
        "update_project = CustomGPT.Project.update(project_id=project_id, is_shared=1)\n",
        "print(update_project)\n",
        "\n",
        "print('Share Link')\n",
        "print(update_project.parsed.data.shareable_link)\n",
        "print('Embed Code')\n",
        "print(update_project.parsed.data.embed_code)\n",
        "print('Live Chat Code')\n",
        "print(update_project.parsed.data.live_chat_code)"
      ]
    }
  ],
  "metadata": {
    "colab": {
      "provenance": []
    },
    "kernelspec": {
      "display_name": "Python 3",
      "language": "python",
      "name": "python3"
    },
    "language_info": {
      "codemirror_mode": {
        "name": "ipython",
        "version": 3
      },
      "file_extension": ".py",
      "mimetype": "text/x-python",
      "name": "python",
      "nbconvert_exporter": "python",
      "pygments_lexer": "ipython3",
      "version": "3.11.2"
    }
  },
  "nbformat": 4,
  "nbformat_minor": 0
}

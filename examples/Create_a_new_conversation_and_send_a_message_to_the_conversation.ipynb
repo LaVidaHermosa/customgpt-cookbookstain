{
  "cells": [
    {
      "cell_type": "markdown",
      "metadata": {
        "id": "PAWpaaSa1WLi"
      },
      "source": [
        "**Create a new conversation and send a message to the converstation**"
      ]
    },
    {
      "cell_type": "code",
      "execution_count": 1,
      "metadata": {
        "id": "Hc9SsdoR1WLm"
      },
      "outputs": [],
      "source": [
        "# setup API URL and API Token\n",
        "api_endpoint = 'https://app.customgpt.ai/api/v1/'\n",
        "api_token = 'YOUR_API_TOKEN'\n",
        "\n",
        "headers = {\n",
        "    'Content-type': 'application/json',\n",
        "    'Authorization': 'Bearer ' + api_token\n",
        "}\n",
        "# imports\n",
        "import requests\n",
        "import json"
      ]
    },
    {
      "cell_type": "markdown",
      "source": [
        "**Create a project for the account**"
      ],
      "metadata": {
        "id": "SDGeV1BbMTmS"
      }
    },
    {
      "cell_type": "code",
      "execution_count": 2,
      "metadata": {
        "id": "PNbGtm_A1WLp",
        "colab": {
          "base_uri": "https://localhost:8080/"
        },
        "outputId": "b7cb6b68-3ed5-40fd-ba6e-53d6c9babe68"
      },
      "outputs": [
        {
          "output_type": "stream",
          "name": "stdout",
          "text": [
            "{\"data\":{\"id\":1243,\"project_name\":\"Example ChatBot using Sitemap\",\"sitemap_path\":null,\"user_id\":42,\"is_chat_active\":null,\"created_at\":\"2023-09-29T11:29:14.000000Z\",\"updated_at\":\"2023-09-29T11:29:14.000000Z\",\"is_shared\":null,\"deleted_at\":null,\"type\":\"SITEMAP\"},\"status\":\"success\"}\n"
          ]
        }
      ],
      "source": [
        "# Give a name to your project\n",
        "project_name = 'Example ChatBot using Sitemap'\n",
        "sitemap_path = 'https://adorosario.github.io/small-sitemap.xml'\n",
        "\n",
        "payload = json.dumps({\n",
        "    \"project_name\": project_name,\n",
        "    \"sitemap_path\": sitemap_path\n",
        "})\n",
        "\n",
        "url = api_endpoint + 'projects'\n",
        "\n",
        "create_project = requests.request('POST', url, headers=headers, data=payload)\n",
        "print(create_project.text)"
      ]
    },
    {
      "cell_type": "markdown",
      "source": [
        "**Create Project Conversation**\n"
      ],
      "metadata": {
        "id": "3f0Raa_UOquJ"
      }
    },
    {
      "cell_type": "code",
      "source": [
        "data = json.loads(create_project.text)[\"data\"]\n",
        "project_id = data['id']\n",
        "# Get the project settings\n",
        "name = 'Test Converasation'\n",
        "\n",
        "payload = json.dumps({\n",
        "    \"name\": project_name\n",
        "})\n",
        "\n",
        "url = api_endpoint + 'projects' + f\"/{project_id}\" + '/conversations'\n",
        "\n",
        "create_conversation = requests.request('POST', url, headers=headers, data=payload)\n",
        "print(create_conversation.text)"
      ],
      "metadata": {
        "id": "uoCUM2FdMR-V"
      },
      "execution_count": null,
      "outputs": []
    },
    {
      "cell_type": "markdown",
      "source": [
        "**Send message to conversation stream True**"
      ],
      "metadata": {
        "id": "_yGXSwRbP6qi"
      }
    },
    {
      "cell_type": "code",
      "execution_count": null,
      "metadata": {
        "id": "-FXUfq-i1WLr"
      },
      "outputs": [],
      "source": [
        "# for streaming response import SSE Client\n",
        "!pip install sseclient-py\n",
        "\n",
        "from sseclient import SSEClient"
      ]
    },
    {
      "cell_type": "code",
      "source": [
        "# Create a message to the above conversation\n",
        "conversation_data = json.loads(create_conversation.text)[\"data\"]\n",
        "\n",
        "# session_id is important to maintain chat history\n",
        "session_id = conversation_data[\"session_id\"]\n",
        "\n",
        "# pass in your question to prompt\n",
        "prompt = \"Who is Tom Brady\"\n",
        "\n",
        "# set stream to 1 to get a streaming response\n",
        "stream = 1\n",
        "\n",
        "url = api_endpoint + 'projects/' + str(project_id) + '/conversations/' + str(session_id) + '/messages'\n",
        "payload = json.dumps({\n",
        "    \"prompt\": prompt,\n",
        "    \"custom_persona\": \"You are a custom chatbot assistant called *Story Teller*, a friendly story teller who works for Test and answers questions based on the given context. Be as helpful as possible. Always prioritize the customer. Escalate complex issues. Stay on topic. Use appropriate language, Acknowledge limitations.\",\n",
        "    \"stream\": stream\n",
        "})\n",
        "\n",
        "headers[\"Accept\"] = \"text/event-stream\"\n",
        "\n",
        "stream_response = requests.post(url, stream=False, headers=headers, data=payload)\n",
        "client = SSEClient(stream_response)\n",
        "for event in client.events():\n",
        "    print(event.data)"
      ],
      "metadata": {
        "id": "0xnMN8tQUQXj"
      },
      "execution_count": null,
      "outputs": []
    },
    {
      "cell_type": "markdown",
      "source": [
        "**Send message to conversation stream False**"
      ],
      "metadata": {
        "id": "TSuIaZjbeUGu"
      }
    },
    {
      "cell_type": "code",
      "source": [
        "# Create a message to the above conversation\n",
        "conversation_data = json.loads(create_conversation.text)[\"data\"]\n",
        "\n",
        "# session_id is important to maintain chat history\n",
        "session_id = conversation_data[\"session_id\"]\n",
        "\n",
        "# pass in your question to prompt\n",
        "prompt = \"Who is Tom\"\n",
        "\n",
        "# set stream to 1 to get a streaming response\n",
        "stream = 0\n",
        "\n",
        "url = api_endpoint + 'projects/' + str(project_id) + '/conversations/' + str(session_id) + '/messages'\n",
        "payload = json.dumps({\n",
        "    \"prompt\": prompt,\n",
        "    \"stream\": stream\n",
        "})\n",
        "non_stream_response = requests.post(url, stream=False, headers=headers, data=payload)\n",
        "print(non_stream_response)\n",
        "print(non_stream_response.text)"
      ],
      "metadata": {
        "id": "Dcwzbnn1eaIX"
      },
      "execution_count": null,
      "outputs": []
    }
  ],
  "metadata": {
    "kernelspec": {
      "display_name": "Python 3",
      "language": "python",
      "name": "python3"
    },
    "language_info": {
      "codemirror_mode": {
        "name": "ipython",
        "version": 3
      },
      "file_extension": ".py",
      "mimetype": "text/x-python",
      "name": "python",
      "nbconvert_exporter": "python",
      "pygments_lexer": "ipython3",
      "version": "3.11.2"
    },
    "orig_nbformat": 4,
    "colab": {
      "provenance": []
    }
  },
  "nbformat": 4,
  "nbformat_minor": 0
}
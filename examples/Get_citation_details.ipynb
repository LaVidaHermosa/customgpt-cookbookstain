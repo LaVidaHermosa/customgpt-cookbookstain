{
  "cells": [
    {
      "cell_type": "markdown",
      "metadata": {
        "id": "PAWpaaSa1WLi"
      },
      "source": [
        "**Get citation details**\n"
      ]
    },
    {
      "cell_type": "code",
      "execution_count": 1,
      "metadata": {
        "id": "Hc9SsdoR1WLm"
      },
      "outputs": [],
      "source": [
        "# setup API URL and API Token\n",
        "api_endpoint = 'https://app.customgpt.ai/api/v1/'\n",
        "api_token = 'ADD_YOUR_API_TOKEN_HERE'\n",
        "\n",
        "headers = {\n",
        "    'Content-type': 'application/json',\n",
        "    'Authorization': 'Bearer ' + api_token\n",
        "}\n",
        "# imports\n",
        "import requests\n",
        "import json"
      ]
    },
    {
      "cell_type": "markdown",
      "source": [
        "**Create a project for the account**"
      ],
      "metadata": {
        "id": "SDGeV1BbMTmS"
      }
    },
    {
      "cell_type": "code",
      "execution_count": 2,
      "metadata": {
        "id": "PNbGtm_A1WLp",
        "colab": {
          "base_uri": "https://localhost:8080/"
        },
        "outputId": "babab6ce-abe3-4eff-b412-6c240368dc23"
      },
      "outputs": [
        {
          "output_type": "stream",
          "name": "stdout",
          "text": [
            "{\"data\":{\"id\":533,\"project_name\":\"Example ChatBot using Sitemap\",\"sitemap_path\":null,\"user_id\":35,\"is_chat_active\":null,\"created_at\":\"2023-06-25T17:33:54.000000Z\",\"updated_at\":\"2023-06-25T17:33:54.000000Z\",\"is_shared\":null,\"deleted_at\":null,\"type\":\"SITEMAP\"},\"status\":\"success\"}\n"
          ]
        }
      ],
      "source": [
        "# Give a name to your project\n",
        "project_name = 'Example ChatBot using Sitemap'\n",
        "sitemap_path = 'https://adorosario.github.io/small-sitemap.xml'\n",
        "\n",
        "payload = json.dumps({\n",
        "    \"project_name\": project_name,\n",
        "    \"sitemap_path\": sitemap_path\n",
        "})\n",
        "\n",
        "url = api_endpoint + 'projects'\n",
        "\n",
        "create_project = requests.request('POST', url, headers=headers, data=payload)\n",
        "print(create_project.text)"
      ]
    },
    {
      "cell_type": "markdown",
      "source": [
        "**Create Project Conversation**\n"
      ],
      "metadata": {
        "id": "3f0Raa_UOquJ"
      }
    },
    {
      "cell_type": "code",
      "source": [
        "data = json.loads(create_project.text)[\"data\"]\n",
        "project_id = data[\"id\"]\n",
        "# Get the project settings\n",
        "name = 'Test Converasation'\n",
        "\n",
        "payload = json.dumps({\n",
        "    \"name\": project_name\n",
        "})\n",
        "\n",
        "url = api_endpoint + 'projects' + f\"/{project_id}\" + '/conversations'\n",
        "\n",
        "create_conversation = requests.request('POST', url, headers=headers, data=payload)\n",
        "print(create_conversation.text)"
      ],
      "metadata": {
        "id": "uoCUM2FdMR-V",
        "colab": {
          "base_uri": "https://localhost:8080/"
        },
        "outputId": "c7b52530-6c0e-4d84-e191-948356db166c"
      },
      "execution_count": 3,
      "outputs": [
        {
          "output_type": "stream",
          "name": "stdout",
          "text": [
            "{\"data\":{\"project_id\":533,\"name\":\"Example ChatBot using Sitemap\",\"created_by\":35,\"session_id\":\"b7623e49-2ed4-45b7-961c-12759669f2b5\",\"updated_at\":\"2023-06-25T17:33:54.000000Z\",\"created_at\":\"2023-06-25T17:33:54.000000Z\",\"id\":223},\"status\":\"success\"}\n"
          ]
        }
      ]
    },
    {
      "cell_type": "markdown",
      "source": [
        "**Send Message to conversation**\n",
        "\n"
      ],
      "metadata": {
        "id": "_yGXSwRbP6qi"
      }
    },
    {
      "cell_type": "code",
      "source": [
        "# Create a message to the above conversation\n",
        "conversation_data = json.loads(create_conversation.text)[\"data\"]\n",
        "\n",
        "# session_id is important to maintain chat history\n",
        "session_id = conversation_data[\"session_id\"]\n",
        "\n",
        "# pass in your question to prompt\n",
        "prompt = \"Who is Tom\"\n",
        "\n",
        "# set stream to 1 to get a streaming response\n",
        "stream = 0\n",
        "\n",
        "url = api_endpoint + 'projects/' + str(project_id) + '/conversations/' + str(session_id) + '/messages'\n",
        "payload = json.dumps({\n",
        "    \"prompt\": prompt,\n",
        "    \"stream\": stream\n",
        "})\n",
        "non_stream_response = requests.post(url, stream=False, headers=headers, data=payload)\n",
        "print(non_stream_response.text)"
      ],
      "metadata": {
        "id": "0xnMN8tQUQXj",
        "colab": {
          "base_uri": "https://localhost:8080/"
        },
        "outputId": "da7f6a4f-8618-40c1-9fe1-21e0b8bc71be"
      },
      "execution_count": 5,
      "outputs": [
        {
          "output_type": "stream",
          "name": "stdout",
          "text": [
            "{\"data\":{\"id\":434,\"created_at\":\"2023-06-25T17:34:18.000000Z\",\"updated_at\":\"2023-06-25T17:34:18.000000Z\",\"user_id\":35,\"user_query\":\"Who is Tom\",\"openai_response\":\"Tom Brady is a former professional football player who played in the NFL. He is known for his successful career and has won more Super Bowls than 17 teams combined. He briefly retired after last season, returned to the Tampa Bay Buccaneers for one more season, and then announced his retirement again.\",\"citations\":[\"12085.0\",\"12091.0\",\"12088.0\"]},\"status\":\"success\"}\n"
          ]
        }
      ]
    },
    {
      "cell_type": "markdown",
      "source": [
        "**Get citation id from message and check citation details**"
      ],
      "metadata": {
        "id": "ITA7rjBGn5yJ"
      }
    },
    {
      "cell_type": "code",
      "source": [
        "message_data = json.loads(non_stream_response.text)[\"data\"]\n",
        "citation_id = message_data['citations'][0]\n",
        "url = api_endpoint + 'projects/' + str(project_id) + '/citations/' + str(citation_id)\n",
        "citation_response = requests.get(url, headers=headers, data=payload)\n",
        "print(citation_response.text)"
      ],
      "metadata": {
        "colab": {
          "base_uri": "https://localhost:8080/"
        },
        "id": "kBp7_HCuoDmE",
        "outputId": "fea185a6-5900-4443-d96e-5836375f8529"
      },
      "execution_count": 8,
      "outputs": [
        {
          "output_type": "stream",
          "name": "stdout",
          "text": [
            "{\"data\":{\"id\":21,\"page_url\":null,\"title\":\"Tom Brady Has Won More Super Bowls Than These 17 Teams Combined\",\"description\":\"Quarterback Tom Brady continues to defy the odds.\",\"image\":\"https:\\/\\/townsquare.media\\/site\\/37\\/files\\/2021\\/02\\/GettyImages-1300927942.jpg?w=1200&h=0&zc=1&s=0&a=t&q=89\",\"image_width\":1200,\"image_height\":630,\"favicon\":\"https:\\/\\/townsquare.media\\/site\\/37\\/files\\/2011\\/02\\/favicon.ico\",\"site_name\":\"103.3 The G.O.A.T.\",\"url\":\"https:\\/\\/1033thegoat.com\\/tom-brady-has-won-more-super-bowls-than-these-18-teams-combined\\/\"},\"status\":\"success\"}\n"
          ]
        }
      ]
    }
  ],
  "metadata": {
    "kernelspec": {
      "display_name": "Python 3",
      "language": "python",
      "name": "python3"
    },
    "language_info": {
      "codemirror_mode": {
        "name": "ipython",
        "version": 3
      },
      "file_extension": ".py",
      "mimetype": "text/x-python",
      "name": "python",
      "nbconvert_exporter": "python",
      "pygments_lexer": "ipython3",
      "version": "3.11.2"
    },
    "orig_nbformat": 4,
    "colab": {
      "provenance": []
    }
  },
  "nbformat": 4,
  "nbformat_minor": 0
}
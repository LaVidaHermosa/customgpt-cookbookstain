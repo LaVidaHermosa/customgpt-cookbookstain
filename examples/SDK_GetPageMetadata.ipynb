{
  "nbformat": 4,
  "nbformat_minor": 0,
  "metadata": {
    "colab": {
      "provenance": []
    },
    "kernelspec": {
      "name": "python3",
      "display_name": "Python 3"
    },
    "language_info": {
      "name": "python"
    }
  },
  "cells": [
    {
      "cell_type": "code",
      "execution_count": null,
      "metadata": {
        "id": "eZWXtZ0nfAoA"
      },
      "outputs": [],
      "source": [
        "!pip install customgpt-client"
      ]
    },
    {
      "cell_type": "markdown",
      "source": [
        "**Configure CustomGPT**"
      ],
      "metadata": {
        "id": "KypGOfYUfIR9"
      }
    },
    {
      "cell_type": "code",
      "source": [
        "from customgpt_client import CustomGPT\n",
        "CustomGPT.api_key = \"YOUR_API_KEY\""
      ],
      "metadata": {
        "id": "6l-_SXCKfQ6q"
      },
      "execution_count": 4,
      "outputs": []
    },
    {
      "cell_type": "markdown",
      "source": [
        "**Create a Chatbot**"
      ],
      "metadata": {
        "id": "b4Zh1NvwfUx0"
      }
    },
    {
      "cell_type": "code",
      "source": [
        "from google.colab import files\n",
        "from customgpt_client.types import File\n",
        "# Give a name to your project\n",
        "project_name = 'Example ChatBot using Sitemap'\n",
        "uploaded_file = files.upload()\n",
        "file_content = next(iter(uploaded_file.values()))\n",
        "print(file_content)\n",
        "create_project = CustomGPT.Project.create(project_name=project_name, file=File(payload=file_content, file_name='Yes.doc'))\n",
        "print(create_project)"
      ],
      "metadata": {
        "id": "AGD7EdMYgXUD"
      },
      "execution_count": null,
      "outputs": []
    },
    {
      "cell_type": "markdown",
      "source": [
        "**Get a project page**"
      ],
      "metadata": {
        "id": "_fQc28ICgbZ6"
      }
    },
    {
      "cell_type": "code",
      "source": [
        "project_id = create_project.parsed.data.id\n",
        "project_page = CustomGPT.Page.get(project_id=project_id)\n",
        "data = project_page.parsed.data\n",
        "print(data)\n",
        "page_id = data.pages.data[0].id\n",
        "print(page_id)"
      ],
      "metadata": {
        "id": "iE7Urhq7g06t"
      },
      "execution_count": null,
      "outputs": []
    },
    {
      "cell_type": "markdown",
      "source": [
        "**Get page metadata**"
      ],
      "metadata": {
        "id": "2HMP-W40jXH-"
      }
    },
    {
      "cell_type": "code",
      "source": [
        "page_metadata = CustomGPT.PageMetadata.get(project_id=project_id, page_id=page_id)\n",
        "data = page_metadata.parsed.data\n",
        "print(data)\n",
        "print(data.title)"
      ],
      "metadata": {
        "id": "bJYqBzHdiFHv"
      },
      "execution_count": null,
      "outputs": []
    },
    {
      "cell_type": "markdown",
      "source": [
        "**Update Project Metadata**"
      ],
      "metadata": {
        "id": "PxWvN0yAoaWU"
      }
    },
    {
      "cell_type": "code",
      "source": [
        "page_metadata = CustomGPT.PageMetadata.update(project_id=project_id, page_id=page_id, title='Vanka')\n",
        "data = page_metadata.parsed.data\n",
        "print(data)"
      ],
      "metadata": {
        "id": "m6axeH_KoeSC"
      },
      "execution_count": null,
      "outputs": []
    }
  ]
}
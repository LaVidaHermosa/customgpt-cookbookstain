{
  "cells": [
    {
      "cell_type": "markdown",
      "metadata": {
        "id": "PAWpaaSa1WLi"
      },
      "source": [
        "**Add a sitemap to an existing project**\n"
      ]
    },
    {
      "cell_type": "code",
      "execution_count": 1,
      "metadata": {
        "id": "Hc9SsdoR1WLm"
      },
      "outputs": [],
      "source": [
        "# setup API URL and API Token\n",
        "api_endpoint = 'https://app.customgpt.ai/api/v1/'\n",
        "api_token = 'ADD_YOUR_API_TOKEN_HERE'\n",
        "\n",
        "headers = {\n",
        "    'Content-type': 'application/json',\n",
        "    'Authorization': 'Bearer ' + api_token\n",
        "}\n",
        "# imports\n",
        "import requests\n",
        "import json"
      ]
    },
    {
      "cell_type": "markdown",
      "metadata": {
        "id": "SDGeV1BbMTmS"
      },
      "source": [
        "**Create a project for the account**"
      ]
    },
    {
      "cell_type": "code",
      "execution_count": 2,
      "metadata": {
        "colab": {
          "base_uri": "https://localhost:8080/"
        },
        "id": "PNbGtm_A1WLp",
        "outputId": "7fd8497b-39cf-404c-af1c-8077d4cd77b8"
      },
      "outputs": [
        {
          "output_type": "stream",
          "name": "stdout",
          "text": [
            "{\"data\":{\"id\":833,\"project_name\":\"Example ChatBot using Sitemap\",\"sitemap_path\":null,\"user_id\":41,\"is_chat_active\":null,\"created_at\":\"2023-07-06T20:32:17.000000Z\",\"updated_at\":\"2023-07-06T20:32:17.000000Z\",\"is_shared\":null,\"deleted_at\":null,\"type\":\"SITEMAP\"},\"status\":\"success\"}\n"
          ]
        }
      ],
      "source": [
        "# Give a name to your project\n",
        "project_name = 'Example ChatBot using Sitemap'\n",
        "sitemap_path = 'https://adorosario.github.io/small-sitemap.xml'\n",
        "\n",
        "payload = json.dumps({\n",
        "    \"project_name\": project_name,\n",
        "    \"sitemap_path\": sitemap_path\n",
        "})\n",
        "\n",
        "url = api_endpoint + 'projects'\n",
        "\n",
        "create_project = requests.request('POST', url, headers=headers, data=payload)\n",
        "print(create_project.text)"
      ]
    },
    {
      "cell_type": "markdown",
      "metadata": {
        "id": "PpE82Xu4XCRY"
      },
      "source": [
        "** Add a sitemap to project**"
      ]
    },
    {
      "cell_type": "code",
      "execution_count": 5,
      "metadata": {
        "colab": {
          "base_uri": "https://localhost:8080/"
        },
        "id": "iMHuDBmDWcLU",
        "outputId": "fc6373d3-683b-46d0-f4a4-bbbdf7d42030"
      },
      "outputs": [
        {
          "output_type": "stream",
          "name": "stdout",
          "text": [
            "{\"data\":{\"id\":1592,\"created_at\":\"2023-07-06T20:33:04.000000Z\",\"updated_at\":\"2023-07-06T20:33:04.000000Z\",\"type\":\"sitemap\",\"settings\":{\"sitemap_path\":\"https:\\/\\/adorosario.github.io\\/small-sitemap.xml\",\"data_refresh\":false,\"executive_js\":true,\"data_refresh_frequency\":\"never\"}},\"status\":\"success\"}\n"
          ]
        }
      ],
      "source": [
        "# Give a name to your project\n",
        "project_id = json.loads(create_project.text)['data']['id']\n",
        "new_sitemap_path = 'https://adorosario.github.io/small-sitemap.xml'\n",
        "payload = json.dumps({\n",
        "    \"sitemap_path\": new_sitemap_path\n",
        "})\n",
        "\n",
        "url = api_endpoint + 'projects' + f\"/{project_id}/\" + 'sources'\n",
        "create_source = requests.request('POST', url, headers=headers, data=payload)\n",
        "print(create_source.text)\n"
      ]
    }
  ],
  "metadata": {
    "colab": {
      "provenance": []
    },
    "kernelspec": {
      "display_name": "Python 3",
      "language": "python",
      "name": "python3"
    },
    "language_info": {
      "codemirror_mode": {
        "name": "ipython",
        "version": 3
      },
      "file_extension": ".py",
      "mimetype": "text/x-python",
      "name": "python",
      "nbconvert_exporter": "python",
      "pygments_lexer": "ipython3",
      "version": "3.11.2"
    }
  },
  "nbformat": 4,
  "nbformat_minor": 0
}
{
  "cells": [
    {
      "cell_type": "code",
      "execution_count": null,
      "metadata": {
        "colab": {
          "base_uri": "https://localhost:8080/"
        },
        "id": "cMS4FTgtE0s1",
        "outputId": "8f7789ec-cb47-4bda-cb3c-2d5be938b604"
      },
      "outputs": [
        {
          "name": "stdout",
          "output_type": "stream",
          "text": [
            "Looking in indexes: https://pypi.org/simple, https://us-python.pkg.dev/colab-wheels/public/simple/\n",
            "Collecting customgpt-client==1.1.2\n",
            "  Downloading customgpt_client-1.1.2-py3-none-any.whl (304 kB)\n",
            "\u001b[2K     \u001b[90m━━━━━━━━━━━━━━━━━━━━━━━━━━━━━━━━━━━━━━━\u001b[0m \u001b[32m304.7/304.7 kB\u001b[0m \u001b[31m6.4 MB/s\u001b[0m eta \u001b[36m0:00:00\u001b[0m\n",
            "\u001b[?25hRequirement already satisfied: attrs>=21.3.0 in /usr/local/lib/python3.10/dist-packages (from customgpt-client==1.1.2) (23.1.0)\n",
            "Collecting httpx<0.25.0,>=0.15.4 (from customgpt-client==1.1.2)\n",
            "  Downloading httpx-0.24.1-py3-none-any.whl (75 kB)\n",
            "\u001b[2K     \u001b[90m━━━━━━━━━━━━━━━━━━━━━━━━━━━━━━━━━━━━━━━━\u001b[0m \u001b[32m75.4/75.4 kB\u001b[0m \u001b[31m8.5 MB/s\u001b[0m eta \u001b[36m0:00:00\u001b[0m\n",
            "\u001b[?25hRequirement already satisfied: python-dateutil<3.0.0,>=2.8.0 in /usr/local/lib/python3.10/dist-packages (from customgpt-client==1.1.2) (2.8.2)\n",
            "Requirement already satisfied: certifi in /usr/local/lib/python3.10/dist-packages (from httpx<0.25.0,>=0.15.4->customgpt-client==1.1.2) (2023.5.7)\n",
            "Collecting httpcore<0.18.0,>=0.15.0 (from httpx<0.25.0,>=0.15.4->customgpt-client==1.1.2)\n",
            "  Downloading httpcore-0.17.2-py3-none-any.whl (72 kB)\n",
            "\u001b[2K     \u001b[90m━━━━━━━━━━━━━━━━━━━━━━━━━━━━━━━━━━━━━━━━\u001b[0m \u001b[32m72.5/72.5 kB\u001b[0m \u001b[31m8.4 MB/s\u001b[0m eta \u001b[36m0:00:00\u001b[0m\n",
            "\u001b[?25hRequirement already satisfied: idna in /usr/local/lib/python3.10/dist-packages (from httpx<0.25.0,>=0.15.4->customgpt-client==1.1.2) (3.4)\n",
            "Requirement already satisfied: sniffio in /usr/local/lib/python3.10/dist-packages (from httpx<0.25.0,>=0.15.4->customgpt-client==1.1.2) (1.3.0)\n",
            "Requirement already satisfied: six>=1.5 in /usr/local/lib/python3.10/dist-packages (from python-dateutil<3.0.0,>=2.8.0->customgpt-client==1.1.2) (1.16.0)\n",
            "Collecting h11<0.15,>=0.13 (from httpcore<0.18.0,>=0.15.0->httpx<0.25.0,>=0.15.4->customgpt-client==1.1.2)\n",
            "  Downloading h11-0.14.0-py3-none-any.whl (58 kB)\n",
            "\u001b[2K     \u001b[90m━━━━━━━━━━━━━━━━━━━━━━━━━━━━━━━━━━━━━━━━\u001b[0m \u001b[32m58.3/58.3 kB\u001b[0m \u001b[31m7.0 MB/s\u001b[0m eta \u001b[36m0:00:00\u001b[0m\n",
            "\u001b[?25hRequirement already satisfied: anyio<5.0,>=3.0 in /usr/local/lib/python3.10/dist-packages (from httpcore<0.18.0,>=0.15.0->httpx<0.25.0,>=0.15.4->customgpt-client==1.1.2) (3.7.0)\n",
            "Requirement already satisfied: exceptiongroup in /usr/local/lib/python3.10/dist-packages (from anyio<5.0,>=3.0->httpcore<0.18.0,>=0.15.0->httpx<0.25.0,>=0.15.4->customgpt-client==1.1.2) (1.1.1)\n",
            "Installing collected packages: h11, httpcore, httpx, customgpt-client\n",
            "Successfully installed customgpt-client-1.1.2 h11-0.14.0 httpcore-0.17.2 httpx-0.24.1\n"
          ]
        }
      ],
      "source": [
        "!pip install customgpt-client==1.1.2"
      ]
    },
    {
      "cell_type": "markdown",
      "metadata": {
        "id": "PAWpaaSa1WLi"
      },
      "source": [
        "**Create your custom chat bot using a sitemap.**\n"
      ]
    },
    {
      "cell_type": "code",
      "execution_count": null,
      "metadata": {
        "id": "Hc9SsdoR1WLm"
      },
      "outputs": [],
      "source": [
        "from customgpt_client import CustomGPT\n",
        "CustomGPT.api_key = \"YOUR_API_TOKEN\""
      ]
    },
    {
      "cell_type": "markdown",
      "metadata": {
        "id": "Z1ISHsxb1WLo"
      },
      "source": [
        "**An example for to create a project with a sitemap**"
      ]
    },
    {
      "cell_type": "code",
      "execution_count": null,
      "metadata": {
        "colab": {
          "base_uri": "https://localhost:8080/",
          "height": 113
        },
        "id": "PNbGtm_A1WLp",
        "outputId": "681e7253-7ef9-4167-ab14-f2cba19b109f"
      },
      "outputs": [
        {
          "data": {
            "text/html": [
              "\n",
              "     <input type=\"file\" id=\"files-2129c28f-2ed4-4daa-9455-5a2fcd2b7c69\" name=\"files[]\" multiple disabled\n",
              "        style=\"border:none\" />\n",
              "     <output id=\"result-2129c28f-2ed4-4daa-9455-5a2fcd2b7c69\">\n",
              "      Upload widget is only available when the cell has been executed in the\n",
              "      current browser session. Please rerun this cell to enable.\n",
              "      </output>\n",
              "      <script>// Copyright 2017 Google LLC\n",
              "//\n",
              "// Licensed under the Apache License, Version 2.0 (the \"License\");\n",
              "// you may not use this file except in compliance with the License.\n",
              "// You may obtain a copy of the License at\n",
              "//\n",
              "//      http://www.apache.org/licenses/LICENSE-2.0\n",
              "//\n",
              "// Unless required by applicable law or agreed to in writing, software\n",
              "// distributed under the License is distributed on an \"AS IS\" BASIS,\n",
              "// WITHOUT WARRANTIES OR CONDITIONS OF ANY KIND, either express or implied.\n",
              "// See the License for the specific language governing permissions and\n",
              "// limitations under the License.\n",
              "\n",
              "/**\n",
              " * @fileoverview Helpers for google.colab Python module.\n",
              " */\n",
              "(function(scope) {\n",
              "function span(text, styleAttributes = {}) {\n",
              "  const element = document.createElement('span');\n",
              "  element.textContent = text;\n",
              "  for (const key of Object.keys(styleAttributes)) {\n",
              "    element.style[key] = styleAttributes[key];\n",
              "  }\n",
              "  return element;\n",
              "}\n",
              "\n",
              "// Max number of bytes which will be uploaded at a time.\n",
              "const MAX_PAYLOAD_SIZE = 100 * 1024;\n",
              "\n",
              "function _uploadFiles(inputId, outputId) {\n",
              "  const steps = uploadFilesStep(inputId, outputId);\n",
              "  const outputElement = document.getElementById(outputId);\n",
              "  // Cache steps on the outputElement to make it available for the next call\n",
              "  // to uploadFilesContinue from Python.\n",
              "  outputElement.steps = steps;\n",
              "\n",
              "  return _uploadFilesContinue(outputId);\n",
              "}\n",
              "\n",
              "// This is roughly an async generator (not supported in the browser yet),\n",
              "// where there are multiple asynchronous steps and the Python side is going\n",
              "// to poll for completion of each step.\n",
              "// This uses a Promise to block the python side on completion of each step,\n",
              "// then passes the result of the previous step as the input to the next step.\n",
              "function _uploadFilesContinue(outputId) {\n",
              "  const outputElement = document.getElementById(outputId);\n",
              "  const steps = outputElement.steps;\n",
              "\n",
              "  const next = steps.next(outputElement.lastPromiseValue);\n",
              "  return Promise.resolve(next.value.promise).then((value) => {\n",
              "    // Cache the last promise value to make it available to the next\n",
              "    // step of the generator.\n",
              "    outputElement.lastPromiseValue = value;\n",
              "    return next.value.response;\n",
              "  });\n",
              "}\n",
              "\n",
              "/**\n",
              " * Generator function which is called between each async step of the upload\n",
              " * process.\n",
              " * @param {string} inputId Element ID of the input file picker element.\n",
              " * @param {string} outputId Element ID of the output display.\n",
              " * @return {!Iterable<!Object>} Iterable of next steps.\n",
              " */\n",
              "function* uploadFilesStep(inputId, outputId) {\n",
              "  const inputElement = document.getElementById(inputId);\n",
              "  inputElement.disabled = false;\n",
              "\n",
              "  const outputElement = document.getElementById(outputId);\n",
              "  outputElement.innerHTML = '';\n",
              "\n",
              "  const pickedPromise = new Promise((resolve) => {\n",
              "    inputElement.addEventListener('change', (e) => {\n",
              "      resolve(e.target.files);\n",
              "    });\n",
              "  });\n",
              "\n",
              "  const cancel = document.createElement('button');\n",
              "  inputElement.parentElement.appendChild(cancel);\n",
              "  cancel.textContent = 'Cancel upload';\n",
              "  const cancelPromise = new Promise((resolve) => {\n",
              "    cancel.onclick = () => {\n",
              "      resolve(null);\n",
              "    };\n",
              "  });\n",
              "\n",
              "  // Wait for the user to pick the files.\n",
              "  const files = yield {\n",
              "    promise: Promise.race([pickedPromise, cancelPromise]),\n",
              "    response: {\n",
              "      action: 'starting',\n",
              "    }\n",
              "  };\n",
              "\n",
              "  cancel.remove();\n",
              "\n",
              "  // Disable the input element since further picks are not allowed.\n",
              "  inputElement.disabled = true;\n",
              "\n",
              "  if (!files) {\n",
              "    return {\n",
              "      response: {\n",
              "        action: 'complete',\n",
              "      }\n",
              "    };\n",
              "  }\n",
              "\n",
              "  for (const file of files) {\n",
              "    const li = document.createElement('li');\n",
              "    li.append(span(file.name, {fontWeight: 'bold'}));\n",
              "    li.append(span(\n",
              "        `(${file.type || 'n/a'}) - ${file.size} bytes, ` +\n",
              "        `last modified: ${\n",
              "            file.lastModifiedDate ? file.lastModifiedDate.toLocaleDateString() :\n",
              "                                    'n/a'} - `));\n",
              "    const percent = span('0% done');\n",
              "    li.appendChild(percent);\n",
              "\n",
              "    outputElement.appendChild(li);\n",
              "\n",
              "    const fileDataPromise = new Promise((resolve) => {\n",
              "      const reader = new FileReader();\n",
              "      reader.onload = (e) => {\n",
              "        resolve(e.target.result);\n",
              "      };\n",
              "      reader.readAsArrayBuffer(file);\n",
              "    });\n",
              "    // Wait for the data to be ready.\n",
              "    let fileData = yield {\n",
              "      promise: fileDataPromise,\n",
              "      response: {\n",
              "        action: 'continue',\n",
              "      }\n",
              "    };\n",
              "\n",
              "    // Use a chunked sending to avoid message size limits. See b/62115660.\n",
              "    let position = 0;\n",
              "    do {\n",
              "      const length = Math.min(fileData.byteLength - position, MAX_PAYLOAD_SIZE);\n",
              "      const chunk = new Uint8Array(fileData, position, length);\n",
              "      position += length;\n",
              "\n",
              "      const base64 = btoa(String.fromCharCode.apply(null, chunk));\n",
              "      yield {\n",
              "        response: {\n",
              "          action: 'append',\n",
              "          file: file.name,\n",
              "          data: base64,\n",
              "        },\n",
              "      };\n",
              "\n",
              "      let percentDone = fileData.byteLength === 0 ?\n",
              "          100 :\n",
              "          Math.round((position / fileData.byteLength) * 100);\n",
              "      percent.textContent = `${percentDone}% done`;\n",
              "\n",
              "    } while (position < fileData.byteLength);\n",
              "  }\n",
              "\n",
              "  // All done.\n",
              "  yield {\n",
              "    response: {\n",
              "      action: 'complete',\n",
              "    }\n",
              "  };\n",
              "}\n",
              "\n",
              "scope.google = scope.google || {};\n",
              "scope.google.colab = scope.google.colab || {};\n",
              "scope.google.colab._files = {\n",
              "  _uploadFiles,\n",
              "  _uploadFilesContinue,\n",
              "};\n",
              "})(self);\n",
              "</script> "
            ],
            "text/plain": [
              "<IPython.core.display.HTML object>"
            ]
          },
          "metadata": {},
          "output_type": "display_data"
        },
        {
          "name": "stdout",
          "output_type": "stream",
          "text": [
            "Saving Vanka-By-Anton-Chekhov-book-PDF.pdf to Vanka-By-Anton-Chekhov-book-PDF.pdf\n",
            "Response(status_code=<HTTPStatus.CREATED: 201>, content=b'{\"data\":{\"id\":574,\"project_name\":\"Example ChatBot using Sitemap\",\"sitemap_path\":null,\"user_id\":35,\"is_chat_active\":null,\"created_at\":\"2023-06-26T21:47:14.000000Z\",\"updated_at\":\"2023-06-26T21:47:14.000000Z\",\"is_shared\":null,\"deleted_at\":null,\"type\":\"SITEMAP\"},\"status\":\"success\"}', headers=Headers({'server': 'nginx', 'content-type': 'application/json', 'transfer-encoding': 'chunked', 'connection': 'keep-alive', 'cache-control': 'no-cache, private', 'date': 'Mon, 26 Jun 2023 21:47:15 GMT', 'x-ratelimit-limit': '60', 'x-ratelimit-remaining': '59', 'access-control-allow-origin': '*', 'x-xss-protection': '1; mode=block', 'x-content-type-options': 'nosniff'}), parsed=CreateProjectResponse201(status=<CreateProjectResponse201Status.SUCCESS: 'success'>, data=CreateProjectResponse201Data(id=574, project_name='Example ChatBot using Sitemap', sitemap_path=None, is_chat_active=None, user_id=35, created_at=datetime.datetime(2023, 6, 26, 21, 47, 14, tzinfo=tzutc()), updated_at=datetime.datetime(2023, 6, 26, 21, 47, 14, tzinfo=tzutc()), deleted_at=None, type=<CreateProjectResponse201DataType.SITEMAP: 'SITEMAP'>, is_shared=None, shareable_slug=<customgpt_client.types.Unset object at 0x7f94cb567130>, shareable_link=<customgpt_client.types.Unset object at 0x7f94cb567130>, embed_code=<customgpt_client.types.Unset object at 0x7f94cb567130>, live_chat_code=<customgpt_client.types.Unset object at 0x7f94cb567130>, additional_properties={}), additional_properties={}))\n"
          ]
        }
      ],
      "source": [
        "from google.colab import files\n",
        "from customgpt_client.types import File\n",
        "from io import BytesIO\n",
        "# Give a name to your project\n",
        "project_name = 'Example ChatBot using Sitemap'\n",
        "uploaded_file = files.upload()\n",
        "file_content = next(iter(uploaded_file.values()))\n",
        "create_project = CustomGPT.Project.create(project_name=project_name, file=File(payload=file_content, file_name='Yes'))\n",
        "print(create_project)"
      ]
    },
    {
      "cell_type": "code",
      "execution_count": null,
      "metadata": {
        "colab": {
          "background_save": true,
          "base_uri": "https://localhost:8080/"
        },
        "id": "D1La0GFc1WLq",
        "outputId": "18bf3620-e13e-4d6e-9bd4-663d8b174e4a"
      },
      "outputs": [
        {
          "name": "stdout",
          "output_type": "stream",
          "text": [
            "Response(status_code=<HTTPStatus.OK: 200>, content=b'{\"data\":{\"current_page\":1,\"data\":[{\"id\":574,\"project_name\":\"Example ChatBot using Sitemap\",\"sitemap_path\":null,\"user_id\":35,\"is_chat_active\":1,\"created_at\":\"2023-06-26T21:47:14.000000Z\",\"updated_at\":\"2023-06-26 21:47:23\",\"is_shared\":0,\"deleted_at\":null,\"type\":\"SITEMAP\"},{\"id\":573,\"project_name\":\"Example ChatBot using Sitemap\",\"sitemap_path\":null,\"user_id\":35,\"is_chat_active\":1,\"created_at\":\"2023-06-26T20:26:36.000000Z\",\"updated_at\":\"2023-06-26 20:26:46\",\"is_shared\":0,\"deleted_at\":null,\"type\":\"SITEMAP\"},{\"id\":572,\"project_name\":\"Example ChatBot using Sitemap\",\"sitemap_path\":null,\"user_id\":35,\"is_chat_active\":1,\"created_at\":\"2023-06-26T20:25:31.000000Z\",\"updated_at\":\"2023-06-26 20:25:40\",\"is_shared\":0,\"deleted_at\":null,\"type\":\"SITEMAP\"},{\"id\":571,\"project_name\":\"Example ChatBot using Sitemap\",\"sitemap_path\":null,\"user_id\":35,\"is_chat_active\":1,\"created_at\":\"2023-06-26T20:22:46.000000Z\",\"updated_at\":\"2023-06-26 20:22:50\",\"is_shared\":0,\"deleted_at\":null,\"type\":\"SITEMAP\"},{\"id\":570,\"project_name\":\"Example ChatBot using Sitemap\",\"sitemap_path\":null,\"user_id\":35,\"is_chat_active\":1,\"created_at\":\"2023-06-26T12:44:06.000000Z\",\"updated_at\":\"2023-06-26 12:44:17\",\"is_shared\":0,\"deleted_at\":null,\"type\":\"SITEMAP\"},{\"id\":569,\"project_name\":\"test\",\"sitemap_path\":null,\"user_id\":35,\"is_chat_active\":1,\"created_at\":\"2023-06-26T12:38:10.000000Z\",\"updated_at\":\"2023-06-26 12:38:31\",\"is_shared\":0,\"deleted_at\":null,\"type\":\"SITEMAP\"},{\"id\":567,\"project_name\":\"test\",\"sitemap_path\":null,\"user_id\":35,\"is_chat_active\":1,\"created_at\":\"2023-06-26T12:38:01.000000Z\",\"updated_at\":\"2023-06-26 12:38:15\",\"is_shared\":0,\"deleted_at\":null,\"type\":\"SITEMAP\"},{\"id\":566,\"project_name\":\"test\",\"sitemap_path\":null,\"user_id\":35,\"is_chat_active\":1,\"created_at\":\"2023-06-26T12:37:57.000000Z\",\"updated_at\":\"2023-06-26 12:38:10\",\"is_shared\":0,\"deleted_at\":null,\"type\":\"SITEMAP\"},{\"id\":565,\"project_name\":\"test\",\"sitemap_path\":null,\"user_id\":35,\"is_chat_active\":1,\"created_at\":\"2023-06-26T12:37:30.000000Z\",\"updated_at\":\"2023-06-26 12:37:38\",\"is_shared\":0,\"deleted_at\":null,\"type\":\"SITEMAP\"},{\"id\":564,\"project_name\":\"test\",\"sitemap_path\":null,\"user_id\":35,\"is_chat_active\":1,\"created_at\":\"2023-06-26T12:36:57.000000Z\",\"updated_at\":\"2023-06-26 12:37:18\",\"is_shared\":0,\"deleted_at\":null,\"type\":\"SITEMAP\"}],\"first_page_url\":\"https:\\\\/\\\\/dev.customgpt.ai\\\\/api\\\\/v1\\\\/projects?page=1&duration=90&order=desc&width=100%25&height=auto\",\"from\":1,\"last_page\":44,\"last_page_url\":\"https:\\\\/\\\\/dev.customgpt.ai\\\\/api\\\\/v1\\\\/projects?page=44&duration=90&order=desc&width=100%25&height=auto\",\"next_page_url\":\"https:\\\\/\\\\/dev.customgpt.ai\\\\/api\\\\/v1\\\\/projects?page=2&duration=90&order=desc&width=100%25&height=auto\",\"path\":\"https:\\\\/\\\\/dev.customgpt.ai\\\\/api\\\\/v1\\\\/projects\",\"per_page\":10,\"prev_page_url\":null,\"to\":10,\"total\":432},\"status\":\"success\"}', headers=Headers({'server': 'nginx', 'content-type': 'application/json', 'transfer-encoding': 'chunked', 'connection': 'keep-alive', 'vary': 'Accept-Encoding', 'cache-control': 'no-cache, private', 'date': 'Mon, 26 Jun 2023 22:07:33 GMT', 'x-ratelimit-limit': '60', 'x-ratelimit-remaining': '57', 'access-control-allow-origin': '*', 'x-xss-protection': '1; mode=block', 'x-content-type-options': 'nosniff', 'content-encoding': 'gzip'}), parsed=ListProjectsResponse200(status=<ListProjectsResponse200Status.SUCCESS: 'success'>, data=ListProjectsResponse200Data(current_page=1, data=[ListProjectsResponse200DataDataItem(id=574, project_name='Example ChatBot using Sitemap', sitemap_path=None, is_chat_active=1, user_id=35, created_at=datetime.datetime(2023, 6, 26, 21, 47, 14, tzinfo=tzutc()), updated_at=datetime.datetime(2023, 6, 26, 21, 47, 23), deleted_at=None, type=<ListProjectsResponse200DataDataItemType.SITEMAP: 'SITEMAP'>, is_shared=0, shareable_slug=<customgpt_client.types.Unset object at 0x7ff8e1002890>, shareable_link=<customgpt_client.types.Unset object at 0x7ff8e1002890>, embed_code=<customgpt_client.types.Unset object at 0x7ff8e1002890>, live_chat_code=<customgpt_client.types.Unset object at 0x7ff8e1002890>, additional_properties={}), ListProjectsResponse200DataDataItem(id=573, project_name='Example ChatBot using Sitemap', sitemap_path=None, is_chat_active=1, user_id=35, created_at=datetime.datetime(2023, 6, 26, 20, 26, 36, tzinfo=tzutc()), updated_at=datetime.datetime(2023, 6, 26, 20, 26, 46), deleted_at=None, type=<ListProjectsResponse200DataDataItemType.SITEMAP: 'SITEMAP'>, is_shared=0, shareable_slug=<customgpt_client.types.Unset object at 0x7ff8e1002890>, shareable_link=<customgpt_client.types.Unset object at 0x7ff8e1002890>, embed_code=<customgpt_client.types.Unset object at 0x7ff8e1002890>, live_chat_code=<customgpt_client.types.Unset object at 0x7ff8e1002890>, additional_properties={}), ListProjectsResponse200DataDataItem(id=572, project_name='Example ChatBot using Sitemap', sitemap_path=None, is_chat_active=1, user_id=35, created_at=datetime.datetime(2023, 6, 26, 20, 25, 31, tzinfo=tzutc()), updated_at=datetime.datetime(2023, 6, 26, 20, 25, 40), deleted_at=None, type=<ListProjectsResponse200DataDataItemType.SITEMAP: 'SITEMAP'>, is_shared=0, shareable_slug=<customgpt_client.types.Unset object at 0x7ff8e1002890>, shareable_link=<customgpt_client.types.Unset object at 0x7ff8e1002890>, embed_code=<customgpt_client.types.Unset object at 0x7ff8e1002890>, live_chat_code=<customgpt_client.types.Unset object at 0x7ff8e1002890>, additional_properties={}), ListProjectsResponse200DataDataItem(id=571, project_name='Example ChatBot using Sitemap', sitemap_path=None, is_chat_active=1, user_id=35, created_at=datetime.datetime(2023, 6, 26, 20, 22, 46, tzinfo=tzutc()), updated_at=datetime.datetime(2023, 6, 26, 20, 22, 50), deleted_at=None, type=<ListProjectsResponse200DataDataItemType.SITEMAP: 'SITEMAP'>, is_shared=0, shareable_slug=<customgpt_client.types.Unset object at 0x7ff8e1002890>, shareable_link=<customgpt_client.types.Unset object at 0x7ff8e1002890>, embed_code=<customgpt_client.types.Unset object at 0x7ff8e1002890>, live_chat_code=<customgpt_client.types.Unset object at 0x7ff8e1002890>, additional_properties={}), ListProjectsResponse200DataDataItem(id=570, project_name='Example ChatBot using Sitemap', sitemap_path=None, is_chat_active=1, user_id=35, created_at=datetime.datetime(2023, 6, 26, 12, 44, 6, tzinfo=tzutc()), updated_at=datetime.datetime(2023, 6, 26, 12, 44, 17), deleted_at=None, type=<ListProjectsResponse200DataDataItemType.SITEMAP: 'SITEMAP'>, is_shared=0, shareable_slug=<customgpt_client.types.Unset object at 0x7ff8e1002890>, shareable_link=<customgpt_client.types.Unset object at 0x7ff8e1002890>, embed_code=<customgpt_client.types.Unset object at 0x7ff8e1002890>, live_chat_code=<customgpt_client.types.Unset object at 0x7ff8e1002890>, additional_properties={}), ListProjectsResponse200DataDataItem(id=569, project_name='test', sitemap_path=None, is_chat_active=1, user_id=35, created_at=datetime.datetime(2023, 6, 26, 12, 38, 10, tzinfo=tzutc()), updated_at=datetime.datetime(2023, 6, 26, 12, 38, 31), deleted_at=None, type=<ListProjectsResponse200DataDataItemType.SITEMAP: 'SITEMAP'>, is_shared=0, shareable_slug=<customgpt_client.types.Unset object at 0x7ff8e1002890>, shareable_link=<customgpt_client.types.Unset object at 0x7ff8e1002890>, embed_code=<customgpt_client.types.Unset object at 0x7ff8e1002890>, live_chat_code=<customgpt_client.types.Unset object at 0x7ff8e1002890>, additional_properties={}), ListProjectsResponse200DataDataItem(id=567, project_name='test', sitemap_path=None, is_chat_active=1, user_id=35, created_at=datetime.datetime(2023, 6, 26, 12, 38, 1, tzinfo=tzutc()), updated_at=datetime.datetime(2023, 6, 26, 12, 38, 15), deleted_at=None, type=<ListProjectsResponse200DataDataItemType.SITEMAP: 'SITEMAP'>, is_shared=0, shareable_slug=<customgpt_client.types.Unset object at 0x7ff8e1002890>, shareable_link=<customgpt_client.types.Unset object at 0x7ff8e1002890>, embed_code=<customgpt_client.types.Unset object at 0x7ff8e1002890>, live_chat_code=<customgpt_client.types.Unset object at 0x7ff8e1002890>, additional_properties={}), ListProjectsResponse200DataDataItem(id=566, project_name='test', sitemap_path=None, is_chat_active=1, user_id=35, created_at=datetime.datetime(2023, 6, 26, 12, 37, 57, tzinfo=tzutc()), updated_at=datetime.datetime(2023, 6, 26, 12, 38, 10), deleted_at=None, type=<ListProjectsResponse200DataDataItemType.SITEMAP: 'SITEMAP'>, is_shared=0, shareable_slug=<customgpt_client.types.Unset object at 0x7ff8e1002890>, shareable_link=<customgpt_client.types.Unset object at 0x7ff8e1002890>, embed_code=<customgpt_client.types.Unset object at 0x7ff8e1002890>, live_chat_code=<customgpt_client.types.Unset object at 0x7ff8e1002890>, additional_properties={}), ListProjectsResponse200DataDataItem(id=565, project_name='test', sitemap_path=None, is_chat_active=1, user_id=35, created_at=datetime.datetime(2023, 6, 26, 12, 37, 30, tzinfo=tzutc()), updated_at=datetime.datetime(2023, 6, 26, 12, 37, 38), deleted_at=None, type=<ListProjectsResponse200DataDataItemType.SITEMAP: 'SITEMAP'>, is_shared=0, shareable_slug=<customgpt_client.types.Unset object at 0x7ff8e1002890>, shareable_link=<customgpt_client.types.Unset object at 0x7ff8e1002890>, embed_code=<customgpt_client.types.Unset object at 0x7ff8e1002890>, live_chat_code=<customgpt_client.types.Unset object at 0x7ff8e1002890>, additional_properties={}), ListProjectsResponse200DataDataItem(id=564, project_name='test', sitemap_path=None, is_chat_active=1, user_id=35, created_at=datetime.datetime(2023, 6, 26, 12, 36, 57, tzinfo=tzutc()), updated_at=datetime.datetime(2023, 6, 26, 12, 37, 18), deleted_at=None, type=<ListProjectsResponse200DataDataItemType.SITEMAP: 'SITEMAP'>, is_shared=0, shareable_slug=<customgpt_client.types.Unset object at 0x7ff8e1002890>, shareable_link=<customgpt_client.types.Unset object at 0x7ff8e1002890>, embed_code=<customgpt_client.types.Unset object at 0x7ff8e1002890>, live_chat_code=<customgpt_client.types.Unset object at 0x7ff8e1002890>, additional_properties={})], first_page_url='https://dev.customgpt.ai/api/v1/projects?page=1&duration=90&order=desc&width=100%25&height=auto', from_=1, last_page=44, last_page_url='https://dev.customgpt.ai/api/v1/projects?page=44&duration=90&order=desc&width=100%25&height=auto', links=<customgpt_client.types.Unset object at 0x7ff8e1002890>, next_page_url='https://dev.customgpt.ai/api/v1/projects?page=2&duration=90&order=desc&width=100%25&height=auto', path='https://dev.customgpt.ai/api/v1/projects', per_page=10, prev_page_url=None, to=10, total=432, additional_properties={}), additional_properties={}))\n",
            "442\n"
          ]
        }
      ],
      "source": [
        "import time\n",
        "project_page = CustomGPT.Project.list()\n",
        "print(project_page)\n",
        "data = project_page.parsed.data.data\n",
        "total = project_page.parsed.data.total\n",
        "for i in range(total):\n",
        "  page = i + 1\n",
        "  project_page = CustomGPT.Project.list(page=page)\n",
        "  data.append(project_page.parsed.data.data)\n",
        "  time.sleep(5)\n",
        "\n",
        "print(len(data))"
      ]
    }
  ],
  "metadata": {
    "colab": {
      "provenance": []
    },
    "kernelspec": {
      "display_name": "Python 3",
      "language": "python",
      "name": "python3"
    },
    "language_info": {
      "codemirror_mode": {
        "name": "ipython",
        "version": 3
      },
      "file_extension": ".py",
      "mimetype": "text/x-python",
      "name": "python",
      "nbconvert_exporter": "python",
      "pygments_lexer": "ipython3",
      "version": "3.11.2"
    }
  },
  "nbformat": 4,
  "nbformat_minor": 0
}
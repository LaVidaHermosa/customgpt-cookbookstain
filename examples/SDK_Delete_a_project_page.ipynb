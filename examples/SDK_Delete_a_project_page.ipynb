{
  "cells": [
    {
      "cell_type": "code",
      "execution_count": 1,
      "metadata": {
        "colab": {
          "base_uri": "https://localhost:8080/"
        },
        "id": "cMS4FTgtE0s1",
        "outputId": "735b7242-a6ee-4e37-bb86-213bd4a09843"
      },
      "outputs": [
        {
          "output_type": "stream",
          "name": "stdout",
          "text": [
            "Collecting customgpt-client==1.1.2\n",
            "  Downloading customgpt_client-1.1.2-py3-none-any.whl (304 kB)\n",
            "\u001b[?25l     \u001b[90m━━━━━━━━━━━━━━━━━━━━━━━━━━━━━━━━━━━━━━━━\u001b[0m \u001b[32m0.0/304.7 kB\u001b[0m \u001b[31m?\u001b[0m eta \u001b[36m-:--:--\u001b[0m\r\u001b[2K     \u001b[90m━━━━━━━━━━━━━━━━━━━━━━━━━━━━━━━━━━━━━━\u001b[0m \u001b[32m304.7/304.7 kB\u001b[0m \u001b[31m21.2 MB/s\u001b[0m eta \u001b[36m0:00:00\u001b[0m\n",
            "\u001b[?25hRequirement already satisfied: attrs>=21.3.0 in /usr/local/lib/python3.10/dist-packages (from customgpt-client==1.1.2) (23.1.0)\n",
            "Collecting httpx<0.25.0,>=0.15.4 (from customgpt-client==1.1.2)\n",
            "  Downloading httpx-0.24.1-py3-none-any.whl (75 kB)\n",
            "\u001b[?25l     \u001b[90m━━━━━━━━━━━━━━━━━━━━━━━━━━━━━━━━━━━━━━━━\u001b[0m \u001b[32m0.0/75.4 kB\u001b[0m \u001b[31m?\u001b[0m eta \u001b[36m-:--:--\u001b[0m\r\u001b[2K     \u001b[90m━━━━━━━━━━━━━━━━━━━━━━━━━━━━━━━━━━━━━━━━\u001b[0m \u001b[32m75.4/75.4 kB\u001b[0m \u001b[31m9.6 MB/s\u001b[0m eta \u001b[36m0:00:00\u001b[0m\n",
            "\u001b[?25hRequirement already satisfied: python-dateutil<3.0.0,>=2.8.0 in /usr/local/lib/python3.10/dist-packages (from customgpt-client==1.1.2) (2.8.2)\n",
            "Requirement already satisfied: certifi in /usr/local/lib/python3.10/dist-packages (from httpx<0.25.0,>=0.15.4->customgpt-client==1.1.2) (2023.5.7)\n",
            "Collecting httpcore<0.18.0,>=0.15.0 (from httpx<0.25.0,>=0.15.4->customgpt-client==1.1.2)\n",
            "  Downloading httpcore-0.17.2-py3-none-any.whl (72 kB)\n",
            "\u001b[2K     \u001b[90m━━━━━━━━━━━━━━━━━━━━━━━━━━━━━━━━━━━━━━━━\u001b[0m \u001b[32m72.5/72.5 kB\u001b[0m \u001b[31m9.6 MB/s\u001b[0m eta \u001b[36m0:00:00\u001b[0m\n",
            "\u001b[?25hRequirement already satisfied: idna in /usr/local/lib/python3.10/dist-packages (from httpx<0.25.0,>=0.15.4->customgpt-client==1.1.2) (3.4)\n",
            "Requirement already satisfied: sniffio in /usr/local/lib/python3.10/dist-packages (from httpx<0.25.0,>=0.15.4->customgpt-client==1.1.2) (1.3.0)\n",
            "Requirement already satisfied: six>=1.5 in /usr/local/lib/python3.10/dist-packages (from python-dateutil<3.0.0,>=2.8.0->customgpt-client==1.1.2) (1.16.0)\n",
            "Collecting h11<0.15,>=0.13 (from httpcore<0.18.0,>=0.15.0->httpx<0.25.0,>=0.15.4->customgpt-client==1.1.2)\n",
            "  Downloading h11-0.14.0-py3-none-any.whl (58 kB)\n",
            "\u001b[2K     \u001b[90m━━━━━━━━━━━━━━━━━━━━━━━━━━━━━━━━━━━━━━━━\u001b[0m \u001b[32m58.3/58.3 kB\u001b[0m \u001b[31m7.7 MB/s\u001b[0m eta \u001b[36m0:00:00\u001b[0m\n",
            "\u001b[?25hRequirement already satisfied: anyio<5.0,>=3.0 in /usr/local/lib/python3.10/dist-packages (from httpcore<0.18.0,>=0.15.0->httpx<0.25.0,>=0.15.4->customgpt-client==1.1.2) (3.7.0)\n",
            "Requirement already satisfied: exceptiongroup in /usr/local/lib/python3.10/dist-packages (from anyio<5.0,>=3.0->httpcore<0.18.0,>=0.15.0->httpx<0.25.0,>=0.15.4->customgpt-client==1.1.2) (1.1.1)\n",
            "Installing collected packages: h11, httpcore, httpx, customgpt-client\n",
            "Successfully installed customgpt-client-1.1.2 h11-0.14.0 httpcore-0.17.2 httpx-0.24.1\n"
          ]
        }
      ],
      "source": [
        "!pip install customgpt-client==1.1.2"
      ]
    },
    {
      "cell_type": "markdown",
      "metadata": {
        "id": "PAWpaaSa1WLi"
      },
      "source": [
        "**Create your custom chat bot using a sitemap.**\n"
      ]
    },
    {
      "cell_type": "code",
      "execution_count": 2,
      "metadata": {
        "id": "Hc9SsdoR1WLm"
      },
      "outputs": [],
      "source": [
        "from customgpt_client import CustomGPT\n",
        "CustomGPT.api_key = \"YOUR_API_TOKEN\""
      ]
    },
    {
      "cell_type": "markdown",
      "metadata": {
        "id": "Z1ISHsxb1WLo"
      },
      "source": [
        "**An example for to create a project with a sitemap**"
      ]
    },
    {
      "cell_type": "code",
      "execution_count": 3,
      "metadata": {
        "colab": {
          "base_uri": "https://localhost:8080/"
        },
        "id": "PNbGtm_A1WLp",
        "outputId": "cfb5e0e6-fa25-407f-f3b0-8bdbe6d59abc"
      },
      "outputs": [
        {
          "output_type": "stream",
          "name": "stdout",
          "text": [
            "Response(status_code=<HTTPStatus.CREATED: 201>, content=b'{\"data\":{\"id\":584,\"project_name\":\"Example ChatBot using Sitemap\",\"sitemap_path\":null,\"user_id\":35,\"is_chat_active\":null,\"created_at\":\"2023-06-27T17:53:51.000000Z\",\"updated_at\":\"2023-06-27T17:53:51.000000Z\",\"is_shared\":null,\"deleted_at\":null,\"type\":\"SITEMAP\"},\"status\":\"success\"}', headers=Headers({'server': 'nginx', 'content-type': 'application/json', 'transfer-encoding': 'chunked', 'connection': 'keep-alive', 'cache-control': 'no-cache, private', 'date': 'Tue, 27 Jun 2023 17:53:51 GMT', 'x-ratelimit-limit': '60', 'x-ratelimit-remaining': '58', 'access-control-allow-origin': '*', 'x-xss-protection': '1; mode=block', 'x-content-type-options': 'nosniff'}), parsed=CreateProjectResponse201(status=<CreateProjectResponse201Status.SUCCESS: 'success'>, data=CreateProjectResponse201Data(id=584, project_name='Example ChatBot using Sitemap', sitemap_path=None, is_chat_active=None, user_id=35, created_at=datetime.datetime(2023, 6, 27, 17, 53, 51, tzinfo=tzutc()), updated_at=datetime.datetime(2023, 6, 27, 17, 53, 51, tzinfo=tzutc()), deleted_at=None, type=<CreateProjectResponse201DataType.SITEMAP: 'SITEMAP'>, is_shared=None, shareable_slug=<customgpt_client.types.Unset object at 0x7f9d09072740>, shareable_link=<customgpt_client.types.Unset object at 0x7f9d09072740>, embed_code=<customgpt_client.types.Unset object at 0x7f9d09072740>, live_chat_code=<customgpt_client.types.Unset object at 0x7f9d09072740>, additional_properties={}), additional_properties={}))\n"
          ]
        }
      ],
      "source": [
        "# Give a name to your project\n",
        "project_name = 'Example ChatBot using Sitemap'\n",
        "sitemap_path = 'https://adorosario.github.io/small-sitemap.xml'\n",
        "\n",
        "create_project = CustomGPT.Project.create(project_name=project_name, sitemap_path=sitemap_path)\n",
        "print(create_project)"
      ]
    },
    {
      "cell_type": "markdown",
      "source": [
        "**Add conversation to fill in pages**"
      ],
      "metadata": {
        "id": "JgXAwGsFavRE"
      }
    },
    {
      "cell_type": "code",
      "execution_count": 4,
      "metadata": {
        "colab": {
          "base_uri": "https://localhost:8080/"
        },
        "id": "D1La0GFc1WLq",
        "outputId": "b01feb7b-8a5f-4635-d896-49ed6135d87a"
      },
      "outputs": [
        {
          "output_type": "stream",
          "name": "stdout",
          "text": [
            "Response(status_code=<HTTPStatus.CREATED: 201>, content=b'{\"data\":{\"project_id\":584,\"name\":\"conversation\",\"created_by\":35,\"session_id\":\"b7bf63c7-078f-4c43-8fbc-e658a8227aed\",\"updated_at\":\"2023-06-27T17:53:53.000000Z\",\"created_at\":\"2023-06-27T17:53:53.000000Z\",\"id\":244},\"status\":\"success\"}', headers=Headers({'server': 'nginx', 'content-type': 'application/json', 'transfer-encoding': 'chunked', 'connection': 'keep-alive', 'cache-control': 'no-cache, private', 'date': 'Tue, 27 Jun 2023 17:53:53 GMT', 'x-ratelimit-limit': '60', 'x-ratelimit-remaining': '57', 'access-control-allow-origin': '*', 'x-xss-protection': '1; mode=block', 'x-content-type-options': 'nosniff'}), parsed=CreateProjectConversationResponse201(status=<CreateProjectConversationResponse201Status.SUCCESS: 'success'>, data=CreateProjectConversationResponse201Data(created_at=datetime.datetime(2023, 6, 27, 17, 53, 53, tzinfo=tzutc()), updated_at=datetime.datetime(2023, 6, 27, 17, 53, 53, tzinfo=tzutc()), deleted_at=<customgpt_client.types.Unset object at 0x7f9d09072740>, id=244, name='conversation', project_id=584, created_by=35, session_id='b7bf63c7-078f-4c43-8fbc-e658a8227aed', additional_properties={}), additional_properties={}))\n"
          ]
        }
      ],
      "source": [
        "project_id = create_project.parsed.data.id\n",
        "# to make the chatbot sharable we will set is_shared to 1\n",
        "project_conversation = CustomGPT.Conversation.create(project_id=project_id, name='conversation')\n",
        "print(project_conversation)"
      ]
    },
    {
      "cell_type": "markdown",
      "source": [
        "**Delete Project Page**"
      ],
      "metadata": {
        "id": "DYDQmEzvanvn"
      }
    },
    {
      "cell_type": "code",
      "source": [
        "project_pages = CustomGPT.Page.get(project_id=project_id)\n",
        "page_id = project_pages.parsed.data.pages.data[0].id\n",
        "delete_page = CustomGPT.Page.delete(page_id=page_id, project_id=project_id)\n",
        "print(delete_page)"
      ],
      "metadata": {
        "colab": {
          "base_uri": "https://localhost:8080/"
        },
        "id": "ptvLSyBIambC",
        "outputId": "5800a217-154c-4838-e56e-82e63cab6867"
      },
      "execution_count": 11,
      "outputs": [
        {
          "output_type": "stream",
          "name": "stdout",
          "text": [
            "Response(status_code=<HTTPStatus.OK: 200>, content=b'{\"data\":{\"project\":{\"id\":584,\"project_name\":\"Example ChatBot using Sitemap\",\"sitemap_path\":null,\"user_id\":35,\"is_chat_active\":1,\"created_at\":\"2023-06-27T17:53:51.000000Z\",\"updated_at\":\"2023-06-27T17:54:07.000000Z\",\"is_shared\":0,\"deleted_at\":null,\"type\":\"SITEMAP\"},\"pages\":{\"current_page\":1,\"data\":[{\"id\":12639,\"page_url\":\"https:\\\\/\\\\/apnews.com\\\\/article\\\\/tom-brady-tampa-bay-buccaneers-new-england-patriots-indianapolis-colts-denver-broncos-64c660906bfdd828c9cf69e94cfefcb7\",\"page_url_hash\":\"c63e5fb2e92bd5345c91f8d50b5b3736\",\"created_at\":\"2023-06-27T17:53:54.000000Z\",\"updated_at\":\"2023-06-27 17:54:20\",\"crawl_status\":\"ok\",\"index_status\":\"ok\",\"is_file\":false},{\"id\":12638,\"page_url\":\"https:\\\\/\\\\/apnews.com\\\\/article\\\\/tom-brady-retirement-a53ee71d6ab99276fd0765052c0dd7aa\",\"page_url_hash\":\"13d0ae8867ab1f7177464f48efaf28e2\",\"created_at\":\"2023-06-27T17:53:54.000000Z\",\"updated_at\":\"2023-06-27 17:54:21\",\"crawl_status\":\"ok\",\"index_status\":\"ok\",\"is_file\":false},{\"id\":12637,\"page_url\":\"https:\\\\/\\\\/apnews.com\\\\/article\\\\/tom-brady-announces-retirement-3ac2e55d0880672d330e8ff3d4318367\",\"page_url_hash\":\"fda42c4a04c24e0b00d4e39a597a782a\",\"created_at\":\"2023-06-27T17:53:54.000000Z\",\"updated_at\":\"2023-06-27 17:54:10\",\"crawl_status\":\"ok\",\"index_status\":\"ok\",\"is_file\":false},{\"id\":12636,\"page_url\":\"https:\\\\/\\\\/apnews.com\\\\/article\\\\/nfl-sports-entertainment-tom-brady-florida-60b97f2aaf51b83f0e76c7d07e7dc2cd\",\"page_url_hash\":\"388de9a2a5d51623ad69de0084ec4ee4\",\"created_at\":\"2023-06-27T17:53:54.000000Z\",\"updated_at\":\"2023-06-27 17:54:17\",\"crawl_status\":\"ok\",\"index_status\":\"ok\",\"is_file\":false},{\"id\":12635,\"page_url\":\"https:\\\\/\\\\/americanfootball.fandom.com\\\\/wiki\\\\/tom_brady\",\"page_url_hash\":\"ea128fabb583550dc26f539cd4ba6718\",\"created_at\":\"2023-06-27T17:53:54.000000Z\",\"updated_at\":\"2023-06-27 17:54:14\",\"crawl_status\":\"ok\",\"index_status\":\"n\\\\/a\",\"is_file\":false},{\"id\":12634,\"page_url\":\"https:\\\\/\\\\/alexaanswers.amazon.com\\\\/question\\\\/2zmobid9uhszpzjea8060k\",\"page_url_hash\":\"72b248ec584f6e5efdb08a92c83f8074\",\"created_at\":\"2023-06-27T17:53:54.000000Z\",\"updated_at\":\"2023-06-27 17:54:52\",\"crawl_status\":\"ok\",\"index_status\":\"n\\\\/a\",\"is_file\":false},{\"id\":12633,\"page_url\":\"https:\\\\/\\\\/abcnews.go.com\\\\/us\\\\/tom-brady-announces-retirement\\\\/story?id=96815178\",\"page_url_hash\":\"5a9027d19891a4f08358a2e7100ed6d5\",\"created_at\":\"2023-06-27T17:53:54.000000Z\",\"updated_at\":\"2023-06-27 17:54:18\",\"crawl_status\":\"ok\",\"index_status\":\"ok\",\"is_file\":false},{\"id\":12632,\"page_url\":\"https:\\\\/\\\\/985thesportshub.com\\\\/listicle\\\\/tom-brady-retiring-from-football-after-22-seasons-7-super-bowl-titles\\\\/\",\"page_url_hash\":\"ced794a09f3d91825453d9d141e75794\",\"created_at\":\"2023-06-27T17:53:54.000000Z\",\"updated_at\":\"2023-06-27 17:54:16\",\"crawl_status\":\"ok\",\"index_status\":\"ok\",\"is_file\":false},{\"id\":12631,\"page_url\":\"https:\\\\/\\\\/247sports.com\\\\/player\\\\/tom-brady-76179\\\\/\",\"page_url_hash\":\"b18a144a7b5de4a94cc57c64346ccf2f\",\"created_at\":\"2023-06-27T17:53:54.000000Z\",\"updated_at\":\"2023-06-27 17:54:11\",\"crawl_status\":\"ok\",\"index_status\":\"ok\",\"is_file\":false},{\"id\":12630,\"page_url\":\"https:\\\\/\\\\/1033thegoat.com\\\\/tom-brady-has-won-more-super-bowls-than-these-18-teams-combined\\\\/\",\"page_url_hash\":\"4d05356e44f08caf9bda3a7667d4f1aa\",\"created_at\":\"2023-06-27T17:53:54.000000Z\",\"updated_at\":\"2023-06-27 17:54:07\",\"crawl_status\":\"ok\",\"index_status\":\"ok\",\"is_file\":false}],\"first_page_url\":\"https:\\\\/\\\\/dev.customgpt.ai\\\\/api\\\\/v1\\\\/projects\\\\/584\\\\/pages?page=1&duration=90&order=desc\",\"from\":1,\"last_page\":1,\"last_page_url\":\"https:\\\\/\\\\/dev.customgpt.ai\\\\/api\\\\/v1\\\\/projects\\\\/584\\\\/pages?page=1&duration=90&order=desc\",\"next_page_url\":null,\"path\":\"https:\\\\/\\\\/dev.customgpt.ai\\\\/api\\\\/v1\\\\/projects\\\\/584\\\\/pages\",\"per_page\":20,\"prev_page_url\":null,\"to\":10,\"total\":10}},\"status\":\"success\"}', headers=Headers({'server': 'nginx', 'content-type': 'application/json', 'transfer-encoding': 'chunked', 'connection': 'keep-alive', 'vary': 'Accept-Encoding', 'cache-control': 'no-cache, private', 'date': 'Tue, 27 Jun 2023 17:57:34 GMT', 'x-ratelimit-limit': '60', 'x-ratelimit-remaining': '58', 'access-control-allow-origin': '*', 'x-xss-protection': '1; mode=block', 'x-content-type-options': 'nosniff', 'content-encoding': 'gzip'}), parsed=GetProjectPagesResponse200(status=<GetProjectPagesResponse200Status.SUCCESS: 'success'>, data=GetProjectPagesResponse200Data(project=GetProjectPagesResponse200DataProject(id=584, project_name='Example ChatBot using Sitemap', sitemap_path=None, is_chat_active=1, user_id=35, created_at=datetime.datetime(2023, 6, 27, 17, 53, 51, tzinfo=tzutc()), updated_at=datetime.datetime(2023, 6, 27, 17, 54, 7, tzinfo=tzutc()), deleted_at=None, type=<GetProjectPagesResponse200DataProjectType.SITEMAP: 'SITEMAP'>, is_shared=0, shareable_slug=<customgpt_client.types.Unset object at 0x7f9d09072740>, shareable_link=<customgpt_client.types.Unset object at 0x7f9d09072740>, embed_code=<customgpt_client.types.Unset object at 0x7f9d09072740>, live_chat_code=<customgpt_client.types.Unset object at 0x7f9d09072740>, additional_properties={}), pages=GetProjectPagesResponse200DataPages(current_page=1, data=[GetProjectPagesResponse200DataPagesDataItem(id=12639, page_url='https://apnews.com/article/tom-brady-tampa-bay-buccaneers-new-england-patriots-indianapolis-colts-denver-broncos-64c660906bfdd828c9cf69e94cfefcb7', page_url_hash='c63e5fb2e92bd5345c91f8d50b5b3736', project_id=<customgpt_client.types.Unset object at 0x7f9d09072740>, s3_path=<customgpt_client.types.Unset object at 0x7f9d09072740>, crawl_status=<GetProjectPagesResponse200DataPagesDataItemCrawlStatus.OK: 'ok'>, index_status=<GetProjectPagesResponse200DataPagesDataItemIndexStatus.OK: 'ok'>, is_file=False, is_file_kept=<customgpt_client.types.Unset object at 0x7f9d09072740>, filename=<customgpt_client.types.Unset object at 0x7f9d09072740>, filesize=<customgpt_client.types.Unset object at 0x7f9d09072740>, created_at=datetime.datetime(2023, 6, 27, 17, 53, 54, tzinfo=tzutc()), updated_at=datetime.datetime(2023, 6, 27, 17, 54, 20), deleted_at=<customgpt_client.types.Unset object at 0x7f9d09072740>, additional_properties={}), GetProjectPagesResponse200DataPagesDataItem(id=12638, page_url='https://apnews.com/article/tom-brady-retirement-a53ee71d6ab99276fd0765052c0dd7aa', page_url_hash='13d0ae8867ab1f7177464f48efaf28e2', project_id=<customgpt_client.types.Unset object at 0x7f9d09072740>, s3_path=<customgpt_client.types.Unset object at 0x7f9d09072740>, crawl_status=<GetProjectPagesResponse200DataPagesDataItemCrawlStatus.OK: 'ok'>, index_status=<GetProjectPagesResponse200DataPagesDataItemIndexStatus.OK: 'ok'>, is_file=False, is_file_kept=<customgpt_client.types.Unset object at 0x7f9d09072740>, filename=<customgpt_client.types.Unset object at 0x7f9d09072740>, filesize=<customgpt_client.types.Unset object at 0x7f9d09072740>, created_at=datetime.datetime(2023, 6, 27, 17, 53, 54, tzinfo=tzutc()), updated_at=datetime.datetime(2023, 6, 27, 17, 54, 21), deleted_at=<customgpt_client.types.Unset object at 0x7f9d09072740>, additional_properties={}), GetProjectPagesResponse200DataPagesDataItem(id=12637, page_url='https://apnews.com/article/tom-brady-announces-retirement-3ac2e55d0880672d330e8ff3d4318367', page_url_hash='fda42c4a04c24e0b00d4e39a597a782a', project_id=<customgpt_client.types.Unset object at 0x7f9d09072740>, s3_path=<customgpt_client.types.Unset object at 0x7f9d09072740>, crawl_status=<GetProjectPagesResponse200DataPagesDataItemCrawlStatus.OK: 'ok'>, index_status=<GetProjectPagesResponse200DataPagesDataItemIndexStatus.OK: 'ok'>, is_file=False, is_file_kept=<customgpt_client.types.Unset object at 0x7f9d09072740>, filename=<customgpt_client.types.Unset object at 0x7f9d09072740>, filesize=<customgpt_client.types.Unset object at 0x7f9d09072740>, created_at=datetime.datetime(2023, 6, 27, 17, 53, 54, tzinfo=tzutc()), updated_at=datetime.datetime(2023, 6, 27, 17, 54, 10), deleted_at=<customgpt_client.types.Unset object at 0x7f9d09072740>, additional_properties={}), GetProjectPagesResponse200DataPagesDataItem(id=12636, page_url='https://apnews.com/article/nfl-sports-entertainment-tom-brady-florida-60b97f2aaf51b83f0e76c7d07e7dc2cd', page_url_hash='388de9a2a5d51623ad69de0084ec4ee4', project_id=<customgpt_client.types.Unset object at 0x7f9d09072740>, s3_path=<customgpt_client.types.Unset object at 0x7f9d09072740>, crawl_status=<GetProjectPagesResponse200DataPagesDataItemCrawlStatus.OK: 'ok'>, index_status=<GetProjectPagesResponse200DataPagesDataItemIndexStatus.OK: 'ok'>, is_file=False, is_file_kept=<customgpt_client.types.Unset object at 0x7f9d09072740>, filename=<customgpt_client.types.Unset object at 0x7f9d09072740>, filesize=<customgpt_client.types.Unset object at 0x7f9d09072740>, created_at=datetime.datetime(2023, 6, 27, 17, 53, 54, tzinfo=tzutc()), updated_at=datetime.datetime(2023, 6, 27, 17, 54, 17), deleted_at=<customgpt_client.types.Unset object at 0x7f9d09072740>, additional_properties={}), GetProjectPagesResponse200DataPagesDataItem(id=12635, page_url='https://americanfootball.fandom.com/wiki/tom_brady', page_url_hash='ea128fabb583550dc26f539cd4ba6718', project_id=<customgpt_client.types.Unset object at 0x7f9d09072740>, s3_path=<customgpt_client.types.Unset object at 0x7f9d09072740>, crawl_status=<GetProjectPagesResponse200DataPagesDataItemCrawlStatus.OK: 'ok'>, index_status=<GetProjectPagesResponse200DataPagesDataItemIndexStatus.NA: 'n/a'>, is_file=False, is_file_kept=<customgpt_client.types.Unset object at 0x7f9d09072740>, filename=<customgpt_client.types.Unset object at 0x7f9d09072740>, filesize=<customgpt_client.types.Unset object at 0x7f9d09072740>, created_at=datetime.datetime(2023, 6, 27, 17, 53, 54, tzinfo=tzutc()), updated_at=datetime.datetime(2023, 6, 27, 17, 54, 14), deleted_at=<customgpt_client.types.Unset object at 0x7f9d09072740>, additional_properties={}), GetProjectPagesResponse200DataPagesDataItem(id=12634, page_url='https://alexaanswers.amazon.com/question/2zmobid9uhszpzjea8060k', page_url_hash='72b248ec584f6e5efdb08a92c83f8074', project_id=<customgpt_client.types.Unset object at 0x7f9d09072740>, s3_path=<customgpt_client.types.Unset object at 0x7f9d09072740>, crawl_status=<GetProjectPagesResponse200DataPagesDataItemCrawlStatus.OK: 'ok'>, index_status=<GetProjectPagesResponse200DataPagesDataItemIndexStatus.NA: 'n/a'>, is_file=False, is_file_kept=<customgpt_client.types.Unset object at 0x7f9d09072740>, filename=<customgpt_client.types.Unset object at 0x7f9d09072740>, filesize=<customgpt_client.types.Unset object at 0x7f9d09072740>, created_at=datetime.datetime(2023, 6, 27, 17, 53, 54, tzinfo=tzutc()), updated_at=datetime.datetime(2023, 6, 27, 17, 54, 52), deleted_at=<customgpt_client.types.Unset object at 0x7f9d09072740>, additional_properties={}), GetProjectPagesResponse200DataPagesDataItem(id=12633, page_url='https://abcnews.go.com/us/tom-brady-announces-retirement/story?id=96815178', page_url_hash='5a9027d19891a4f08358a2e7100ed6d5', project_id=<customgpt_client.types.Unset object at 0x7f9d09072740>, s3_path=<customgpt_client.types.Unset object at 0x7f9d09072740>, crawl_status=<GetProjectPagesResponse200DataPagesDataItemCrawlStatus.OK: 'ok'>, index_status=<GetProjectPagesResponse200DataPagesDataItemIndexStatus.OK: 'ok'>, is_file=False, is_file_kept=<customgpt_client.types.Unset object at 0x7f9d09072740>, filename=<customgpt_client.types.Unset object at 0x7f9d09072740>, filesize=<customgpt_client.types.Unset object at 0x7f9d09072740>, created_at=datetime.datetime(2023, 6, 27, 17, 53, 54, tzinfo=tzutc()), updated_at=datetime.datetime(2023, 6, 27, 17, 54, 18), deleted_at=<customgpt_client.types.Unset object at 0x7f9d09072740>, additional_properties={}), GetProjectPagesResponse200DataPagesDataItem(id=12632, page_url='https://985thesportshub.com/listicle/tom-brady-retiring-from-football-after-22-seasons-7-super-bowl-titles/', page_url_hash='ced794a09f3d91825453d9d141e75794', project_id=<customgpt_client.types.Unset object at 0x7f9d09072740>, s3_path=<customgpt_client.types.Unset object at 0x7f9d09072740>, crawl_status=<GetProjectPagesResponse200DataPagesDataItemCrawlStatus.OK: 'ok'>, index_status=<GetProjectPagesResponse200DataPagesDataItemIndexStatus.OK: 'ok'>, is_file=False, is_file_kept=<customgpt_client.types.Unset object at 0x7f9d09072740>, filename=<customgpt_client.types.Unset object at 0x7f9d09072740>, filesize=<customgpt_client.types.Unset object at 0x7f9d09072740>, created_at=datetime.datetime(2023, 6, 27, 17, 53, 54, tzinfo=tzutc()), updated_at=datetime.datetime(2023, 6, 27, 17, 54, 16), deleted_at=<customgpt_client.types.Unset object at 0x7f9d09072740>, additional_properties={}), GetProjectPagesResponse200DataPagesDataItem(id=12631, page_url='https://247sports.com/player/tom-brady-76179/', page_url_hash='b18a144a7b5de4a94cc57c64346ccf2f', project_id=<customgpt_client.types.Unset object at 0x7f9d09072740>, s3_path=<customgpt_client.types.Unset object at 0x7f9d09072740>, crawl_status=<GetProjectPagesResponse200DataPagesDataItemCrawlStatus.OK: 'ok'>, index_status=<GetProjectPagesResponse200DataPagesDataItemIndexStatus.OK: 'ok'>, is_file=False, is_file_kept=<customgpt_client.types.Unset object at 0x7f9d09072740>, filename=<customgpt_client.types.Unset object at 0x7f9d09072740>, filesize=<customgpt_client.types.Unset object at 0x7f9d09072740>, created_at=datetime.datetime(2023, 6, 27, 17, 53, 54, tzinfo=tzutc()), updated_at=datetime.datetime(2023, 6, 27, 17, 54, 11), deleted_at=<customgpt_client.types.Unset object at 0x7f9d09072740>, additional_properties={}), GetProjectPagesResponse200DataPagesDataItem(id=12630, page_url='https://1033thegoat.com/tom-brady-has-won-more-super-bowls-than-these-18-teams-combined/', page_url_hash='4d05356e44f08caf9bda3a7667d4f1aa', project_id=<customgpt_client.types.Unset object at 0x7f9d09072740>, s3_path=<customgpt_client.types.Unset object at 0x7f9d09072740>, crawl_status=<GetProjectPagesResponse200DataPagesDataItemCrawlStatus.OK: 'ok'>, index_status=<GetProjectPagesResponse200DataPagesDataItemIndexStatus.OK: 'ok'>, is_file=False, is_file_kept=<customgpt_client.types.Unset object at 0x7f9d09072740>, filename=<customgpt_client.types.Unset object at 0x7f9d09072740>, filesize=<customgpt_client.types.Unset object at 0x7f9d09072740>, created_at=datetime.datetime(2023, 6, 27, 17, 53, 54, tzinfo=tzutc()), updated_at=datetime.datetime(2023, 6, 27, 17, 54, 7), deleted_at=<customgpt_client.types.Unset object at 0x7f9d09072740>, additional_properties={})], first_page_url='https://dev.customgpt.ai/api/v1/projects/584/pages?page=1&duration=90&order=desc', from_=1, last_page=1, last_page_url='https://dev.customgpt.ai/api/v1/projects/584/pages?page=1&duration=90&order=desc', links=<customgpt_client.types.Unset object at 0x7f9d09072740>, next_page_url=None, path='https://dev.customgpt.ai/api/v1/projects/584/pages', per_page=20, prev_page_url=None, to=10, total=10, additional_properties={}), additional_properties={}), additional_properties={}))\n",
            "12639\n",
            "Response(status_code=<HTTPStatus.OK: 200>, content=b'{\"data\":{\"deleted\":true},\"status\":\"success\"}', headers=Headers({'server': 'nginx', 'content-type': 'application/json', 'transfer-encoding': 'chunked', 'connection': 'keep-alive', 'vary': 'Accept-Encoding', 'cache-control': 'no-cache, private', 'date': 'Tue, 27 Jun 2023 17:57:34 GMT', 'x-ratelimit-limit': '60', 'x-ratelimit-remaining': '57', 'access-control-allow-origin': '*', 'x-xss-protection': '1; mode=block', 'x-content-type-options': 'nosniff', 'content-encoding': 'gzip'}), parsed=DeleteProjectPageResponse200(status=<DeleteProjectPageResponse200Status.SUCCESS: 'success'>, data=DeleteProjectPageResponse200Data(deleted=True, additional_properties={}), additional_properties={}))\n"
          ]
        }
      ]
    }
  ],
  "metadata": {
    "colab": {
      "provenance": []
    },
    "kernelspec": {
      "display_name": "Python 3",
      "language": "python",
      "name": "python3"
    },
    "language_info": {
      "codemirror_mode": {
        "name": "ipython",
        "version": 3
      },
      "file_extension": ".py",
      "mimetype": "text/x-python",
      "name": "python",
      "nbconvert_exporter": "python",
      "pygments_lexer": "ipython3",
      "version": "3.11.2"
    }
  },
  "nbformat": 4,
  "nbformat_minor": 0
}
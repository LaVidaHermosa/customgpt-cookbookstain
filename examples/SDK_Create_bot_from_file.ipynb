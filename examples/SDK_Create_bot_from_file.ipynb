{
  "cells": [
    {
      "cell_type": "code",
      "execution_count": null,
      "metadata": {
        "id": "cMS4FTgtE0s1"
      },
      "outputs": [],
      "source": [
        "!pip install customgpt-client==1.1.3"
      ]
    },
    {
      "cell_type": "markdown",
      "metadata": {
        "id": "PAWpaaSa1WLi"
      },
      "source": [
        "**Create your custom chat bot using a sitemap.**\n"
      ]
    },
    {
      "cell_type": "code",
      "execution_count": null,
      "metadata": {
        "id": "Hc9SsdoR1WLm"
      },
      "outputs": [],
      "source": [
        "from customgpt_client import CustomGPT\n",
        "CustomGPT.api_key = \"YOUR_API_TOKEN\""
      ]
    },
    {
      "cell_type": "markdown",
      "metadata": {
        "id": "Z1ISHsxb1WLo"
      },
      "source": [
        "**An example for to create a project with a file**"
      ]
    },
    {
      "cell_type": "code",
      "execution_count": null,
      "metadata": {
        "id": "PNbGtm_A1WLp"
      },
      "outputs": [],
      "source": [
        "from google.colab import files\n",
        "from customgpt_client.types import File\n",
        "# Give a name to your project\n",
        "project_name = 'Example ChatBot using Sitemap'\n",
        "uploaded_file = files.upload()\n",
        "file_content = next(iter(uploaded_file.values()))\n",
        "create_project = CustomGPT.Project.create(project_name=project_name, file=File(payload=file_content, file_name='Yes'))\n",
        "print(create_project)"
      ]
    },
    {
      "cell_type": "markdown",
      "source": [
        "**Fetch Project Details to check is chatbot is active**"
      ],
      "metadata": {
        "id": "W-OV8uLuMUyk"
      }
    },
    {
      "cell_type": "code",
      "execution_count": null,
      "metadata": {
        "id": "D1La0GFc1WLq"
      },
      "outputs": [],
      "source": [
        "# Check status of the project if chat bot is active\n",
        "data = create_project.parsed.data\n",
        "\n",
        "# Get project id from response for created project\n",
        "project_id = data.id\n",
        "\n",
        "# Check if chat bot is active using `is_chat_active` flag in project detail response\n",
        "# GET project details\n",
        "get_project = CustomGPT.Project.get(project_id=project_id)\n",
        "project_data = get_project.parsed\n",
        "is_chat_active = project_data.data.is_chat_active\n",
        "\n",
        "print(is_chat_active)\n",
        "\n",
        "# One can poll this GET project details API to check if chat bot is active before starting a conversation\n"
      ]
    },
    {
      "cell_type": "markdown",
      "source": [
        "**Create a conversation to send a message a to**"
      ],
      "metadata": {
        "id": "2XYGpAzGMlPC"
      }
    },
    {
      "cell_type": "code",
      "execution_count": null,
      "metadata": {
        "id": "ZnAs_Bhe1WLr"
      },
      "outputs": [],
      "source": [
        "# Create a conversation before sending a message to the chat bot\n",
        "project_conversataion = CustomGPT.Conversation.create(project_id=project_id, name=\"My First Conversation\")\n",
        "project_data = project_conversataion.parsed\n",
        "print(project_data)"
      ]
    },
    {
      "cell_type": "markdown",
      "source": [
        "**Send a message to chatbot**"
      ],
      "metadata": {
        "id": "wnPkFcpMMrF0"
      }
    },
    {
      "cell_type": "code",
      "execution_count": null,
      "metadata": {
        "id": "B4gnIWk31WLs"
      },
      "outputs": [],
      "source": [
        "session_id = project_data.data.session_id\n",
        "# Create a message to the above conversation\n",
        "\n",
        "# pass in your question to prompt\n",
        "prompt = \"Who is Vanka\"\n",
        "\n",
        "stream_response = CustomGPT.Conversation.send(project_id=project_id, session_id=session_id, prompt=prompt, stream=True)\n",
        "for event in stream_response.events():\n",
        "    print(event.data)"
      ]
    }
  ],
  "metadata": {
    "colab": {
      "provenance": []
    },
    "kernelspec": {
      "display_name": "Python 3",
      "language": "python",
      "name": "python3"
    },
    "language_info": {
      "codemirror_mode": {
        "name": "ipython",
        "version": 3
      },
      "file_extension": ".py",
      "mimetype": "text/x-python",
      "name": "python",
      "nbconvert_exporter": "python",
      "pygments_lexer": "ipython3",
      "version": "3.11.2"
    }
  },
  "nbformat": 4,
  "nbformat_minor": 0
}
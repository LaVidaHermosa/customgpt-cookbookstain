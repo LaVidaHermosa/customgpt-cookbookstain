{
  "cells": [
    {
      "cell_type": "code",
      "execution_count": null,
      "metadata": {
        "colab": {
          "base_uri": "https://localhost:8080/"
        },
        "id": "cMS4FTgtE0s1",
        "outputId": "3f49430f-3385-4705-95d8-8ae0e53bd1a8"
      },
      "outputs": [
        {
          "name": "stdout",
          "output_type": "stream",
          "text": [
            "Looking in indexes: https://pypi.org/simple, https://us-python.pkg.dev/colab-wheels/public/simple/\n",
            "Collecting customgpt-client==1.1.2\n",
            "  Downloading customgpt_client-1.1.2-py3-none-any.whl (304 kB)\n",
            "\u001b[2K     \u001b[90m━━━━━━━━━━━━━━━━━━━━━━━━━━━━━━━━━━━━━━━\u001b[0m \u001b[32m304.7/304.7 kB\u001b[0m \u001b[31m6.5 MB/s\u001b[0m eta \u001b[36m0:00:00\u001b[0m\n",
            "\u001b[?25hRequirement already satisfied: attrs>=21.3.0 in /usr/local/lib/python3.10/dist-packages (from customgpt-client==1.1.2) (23.1.0)\n",
            "Collecting httpx<0.25.0,>=0.15.4 (from customgpt-client==1.1.2)\n",
            "  Downloading httpx-0.24.1-py3-none-any.whl (75 kB)\n",
            "\u001b[2K     \u001b[90m━━━━━━━━━━━━━━━━━━━━━━━━━━━━━━━━━━━━━━━━\u001b[0m \u001b[32m75.4/75.4 kB\u001b[0m \u001b[31m9.4 MB/s\u001b[0m eta \u001b[36m0:00:00\u001b[0m\n",
            "\u001b[?25hRequirement already satisfied: python-dateutil<3.0.0,>=2.8.0 in /usr/local/lib/python3.10/dist-packages (from customgpt-client==1.1.2) (2.8.2)\n",
            "Requirement already satisfied: certifi in /usr/local/lib/python3.10/dist-packages (from httpx<0.25.0,>=0.15.4->customgpt-client==1.1.2) (2023.5.7)\n",
            "Collecting httpcore<0.18.0,>=0.15.0 (from httpx<0.25.0,>=0.15.4->customgpt-client==1.1.2)\n",
            "  Downloading httpcore-0.17.2-py3-none-any.whl (72 kB)\n",
            "\u001b[2K     \u001b[90m━━━━━━━━━━━━━━━━━━━━━━━━━━━━━━━━━━━━━━━━\u001b[0m \u001b[32m72.5/72.5 kB\u001b[0m \u001b[31m9.9 MB/s\u001b[0m eta \u001b[36m0:00:00\u001b[0m\n",
            "\u001b[?25hRequirement already satisfied: idna in /usr/local/lib/python3.10/dist-packages (from httpx<0.25.0,>=0.15.4->customgpt-client==1.1.2) (3.4)\n",
            "Requirement already satisfied: sniffio in /usr/local/lib/python3.10/dist-packages (from httpx<0.25.0,>=0.15.4->customgpt-client==1.1.2) (1.3.0)\n",
            "Requirement already satisfied: six>=1.5 in /usr/local/lib/python3.10/dist-packages (from python-dateutil<3.0.0,>=2.8.0->customgpt-client==1.1.2) (1.16.0)\n",
            "Collecting h11<0.15,>=0.13 (from httpcore<0.18.0,>=0.15.0->httpx<0.25.0,>=0.15.4->customgpt-client==1.1.2)\n",
            "  Downloading h11-0.14.0-py3-none-any.whl (58 kB)\n",
            "\u001b[2K     \u001b[90m━━━━━━━━━━━━━━━━━━━━━━━━━━━━━━━━━━━━━━━━\u001b[0m \u001b[32m58.3/58.3 kB\u001b[0m \u001b[31m7.6 MB/s\u001b[0m eta \u001b[36m0:00:00\u001b[0m\n",
            "\u001b[?25hRequirement already satisfied: anyio<5.0,>=3.0 in /usr/local/lib/python3.10/dist-packages (from httpcore<0.18.0,>=0.15.0->httpx<0.25.0,>=0.15.4->customgpt-client==1.1.2) (3.7.0)\n",
            "Requirement already satisfied: exceptiongroup in /usr/local/lib/python3.10/dist-packages (from anyio<5.0,>=3.0->httpcore<0.18.0,>=0.15.0->httpx<0.25.0,>=0.15.4->customgpt-client==1.1.2) (1.1.1)\n",
            "Installing collected packages: h11, httpcore, httpx, customgpt-client\n",
            "Successfully installed customgpt-client-1.1.2 h11-0.14.0 httpcore-0.17.2 httpx-0.24.1\n"
          ]
        }
      ],
      "source": [
        "!pip install customgpt-client==1.1.2"
      ]
    },
    {
      "cell_type": "markdown",
      "metadata": {
        "id": "PAWpaaSa1WLi"
      },
      "source": [
        "**Create your custom chat bot using a sitemap.**\n"
      ]
    },
    {
      "cell_type": "code",
      "execution_count": null,
      "metadata": {
        "id": "Hc9SsdoR1WLm"
      },
      "outputs": [],
      "source": [
        "from customgpt_client import CustomGPT\n",
        "CustomGPT.api_key = \"YOUR_API_TOKEN\""
      ]
    },
    {
      "cell_type": "markdown",
      "metadata": {
        "id": "Z1ISHsxb1WLo"
      },
      "source": [
        "**An example for to create a project with a sitemap**"
      ]
    },
    {
      "cell_type": "code",
      "execution_count": null,
      "metadata": {
        "colab": {
          "base_uri": "https://localhost:8080/",
          "height": 113
        },
        "id": "PNbGtm_A1WLp",
        "outputId": "e914ce64-4632-44a6-cd4c-4bffc309c0ec"
      },
      "outputs": [
        {
          "output_type": "display_data",
          "data": {
            "text/plain": [
              "<IPython.core.display.HTML object>"
            ],
            "text/html": [
              "\n",
              "     <input type=\"file\" id=\"files-9ed732a3-5b21-404e-9959-53599b3521d8\" name=\"files[]\" multiple disabled\n",
              "        style=\"border:none\" />\n",
              "     <output id=\"result-9ed732a3-5b21-404e-9959-53599b3521d8\">\n",
              "      Upload widget is only available when the cell has been executed in the\n",
              "      current browser session. Please rerun this cell to enable.\n",
              "      </output>\n",
              "      <script>// Copyright 2017 Google LLC\n",
              "//\n",
              "// Licensed under the Apache License, Version 2.0 (the \"License\");\n",
              "// you may not use this file except in compliance with the License.\n",
              "// You may obtain a copy of the License at\n",
              "//\n",
              "//      http://www.apache.org/licenses/LICENSE-2.0\n",
              "//\n",
              "// Unless required by applicable law or agreed to in writing, software\n",
              "// distributed under the License is distributed on an \"AS IS\" BASIS,\n",
              "// WITHOUT WARRANTIES OR CONDITIONS OF ANY KIND, either express or implied.\n",
              "// See the License for the specific language governing permissions and\n",
              "// limitations under the License.\n",
              "\n",
              "/**\n",
              " * @fileoverview Helpers for google.colab Python module.\n",
              " */\n",
              "(function(scope) {\n",
              "function span(text, styleAttributes = {}) {\n",
              "  const element = document.createElement('span');\n",
              "  element.textContent = text;\n",
              "  for (const key of Object.keys(styleAttributes)) {\n",
              "    element.style[key] = styleAttributes[key];\n",
              "  }\n",
              "  return element;\n",
              "}\n",
              "\n",
              "// Max number of bytes which will be uploaded at a time.\n",
              "const MAX_PAYLOAD_SIZE = 100 * 1024;\n",
              "\n",
              "function _uploadFiles(inputId, outputId) {\n",
              "  const steps = uploadFilesStep(inputId, outputId);\n",
              "  const outputElement = document.getElementById(outputId);\n",
              "  // Cache steps on the outputElement to make it available for the next call\n",
              "  // to uploadFilesContinue from Python.\n",
              "  outputElement.steps = steps;\n",
              "\n",
              "  return _uploadFilesContinue(outputId);\n",
              "}\n",
              "\n",
              "// This is roughly an async generator (not supported in the browser yet),\n",
              "// where there are multiple asynchronous steps and the Python side is going\n",
              "// to poll for completion of each step.\n",
              "// This uses a Promise to block the python side on completion of each step,\n",
              "// then passes the result of the previous step as the input to the next step.\n",
              "function _uploadFilesContinue(outputId) {\n",
              "  const outputElement = document.getElementById(outputId);\n",
              "  const steps = outputElement.steps;\n",
              "\n",
              "  const next = steps.next(outputElement.lastPromiseValue);\n",
              "  return Promise.resolve(next.value.promise).then((value) => {\n",
              "    // Cache the last promise value to make it available to the next\n",
              "    // step of the generator.\n",
              "    outputElement.lastPromiseValue = value;\n",
              "    return next.value.response;\n",
              "  });\n",
              "}\n",
              "\n",
              "/**\n",
              " * Generator function which is called between each async step of the upload\n",
              " * process.\n",
              " * @param {string} inputId Element ID of the input file picker element.\n",
              " * @param {string} outputId Element ID of the output display.\n",
              " * @return {!Iterable<!Object>} Iterable of next steps.\n",
              " */\n",
              "function* uploadFilesStep(inputId, outputId) {\n",
              "  const inputElement = document.getElementById(inputId);\n",
              "  inputElement.disabled = false;\n",
              "\n",
              "  const outputElement = document.getElementById(outputId);\n",
              "  outputElement.innerHTML = '';\n",
              "\n",
              "  const pickedPromise = new Promise((resolve) => {\n",
              "    inputElement.addEventListener('change', (e) => {\n",
              "      resolve(e.target.files);\n",
              "    });\n",
              "  });\n",
              "\n",
              "  const cancel = document.createElement('button');\n",
              "  inputElement.parentElement.appendChild(cancel);\n",
              "  cancel.textContent = 'Cancel upload';\n",
              "  const cancelPromise = new Promise((resolve) => {\n",
              "    cancel.onclick = () => {\n",
              "      resolve(null);\n",
              "    };\n",
              "  });\n",
              "\n",
              "  // Wait for the user to pick the files.\n",
              "  const files = yield {\n",
              "    promise: Promise.race([pickedPromise, cancelPromise]),\n",
              "    response: {\n",
              "      action: 'starting',\n",
              "    }\n",
              "  };\n",
              "\n",
              "  cancel.remove();\n",
              "\n",
              "  // Disable the input element since further picks are not allowed.\n",
              "  inputElement.disabled = true;\n",
              "\n",
              "  if (!files) {\n",
              "    return {\n",
              "      response: {\n",
              "        action: 'complete',\n",
              "      }\n",
              "    };\n",
              "  }\n",
              "\n",
              "  for (const file of files) {\n",
              "    const li = document.createElement('li');\n",
              "    li.append(span(file.name, {fontWeight: 'bold'}));\n",
              "    li.append(span(\n",
              "        `(${file.type || 'n/a'}) - ${file.size} bytes, ` +\n",
              "        `last modified: ${\n",
              "            file.lastModifiedDate ? file.lastModifiedDate.toLocaleDateString() :\n",
              "                                    'n/a'} - `));\n",
              "    const percent = span('0% done');\n",
              "    li.appendChild(percent);\n",
              "\n",
              "    outputElement.appendChild(li);\n",
              "\n",
              "    const fileDataPromise = new Promise((resolve) => {\n",
              "      const reader = new FileReader();\n",
              "      reader.onload = (e) => {\n",
              "        resolve(e.target.result);\n",
              "      };\n",
              "      reader.readAsArrayBuffer(file);\n",
              "    });\n",
              "    // Wait for the data to be ready.\n",
              "    let fileData = yield {\n",
              "      promise: fileDataPromise,\n",
              "      response: {\n",
              "        action: 'continue',\n",
              "      }\n",
              "    };\n",
              "\n",
              "    // Use a chunked sending to avoid message size limits. See b/62115660.\n",
              "    let position = 0;\n",
              "    do {\n",
              "      const length = Math.min(fileData.byteLength - position, MAX_PAYLOAD_SIZE);\n",
              "      const chunk = new Uint8Array(fileData, position, length);\n",
              "      position += length;\n",
              "\n",
              "      const base64 = btoa(String.fromCharCode.apply(null, chunk));\n",
              "      yield {\n",
              "        response: {\n",
              "          action: 'append',\n",
              "          file: file.name,\n",
              "          data: base64,\n",
              "        },\n",
              "      };\n",
              "\n",
              "      let percentDone = fileData.byteLength === 0 ?\n",
              "          100 :\n",
              "          Math.round((position / fileData.byteLength) * 100);\n",
              "      percent.textContent = `${percentDone}% done`;\n",
              "\n",
              "    } while (position < fileData.byteLength);\n",
              "  }\n",
              "\n",
              "  // All done.\n",
              "  yield {\n",
              "    response: {\n",
              "      action: 'complete',\n",
              "    }\n",
              "  };\n",
              "}\n",
              "\n",
              "scope.google = scope.google || {};\n",
              "scope.google.colab = scope.google.colab || {};\n",
              "scope.google.colab._files = {\n",
              "  _uploadFiles,\n",
              "  _uploadFilesContinue,\n",
              "};\n",
              "})(self);\n",
              "</script> "
            ]
          },
          "metadata": {}
        },
        {
          "output_type": "stream",
          "name": "stdout",
          "text": [
            "Saving Vanka-By-Anton-Chekhov-book-PDF.pdf to Vanka-By-Anton-Chekhov-book-PDF (20).pdf\n",
            "Response(status_code=<HTTPStatus.CREATED: 201>, content=b'{\"data\":{\"id\":573,\"project_name\":\"Example ChatBot using Sitemap\",\"sitemap_path\":null,\"user_id\":35,\"is_chat_active\":null,\"created_at\":\"2023-06-26T20:26:36.000000Z\",\"updated_at\":\"2023-06-26T20:26:36.000000Z\",\"is_shared\":null,\"deleted_at\":null,\"type\":\"SITEMAP\"},\"status\":\"success\"}', headers=Headers({'server': 'nginx', 'content-type': 'application/json', 'transfer-encoding': 'chunked', 'connection': 'keep-alive', 'cache-control': 'no-cache, private', 'date': 'Mon, 26 Jun 2023 20:26:36 GMT', 'x-ratelimit-limit': '60', 'x-ratelimit-remaining': '59', 'access-control-allow-origin': '*', 'x-xss-protection': '1; mode=block', 'x-content-type-options': 'nosniff'}), parsed=CreateProjectResponse201(status=<CreateProjectResponse201Status.SUCCESS: 'success'>, data=CreateProjectResponse201Data(id=573, project_name='Example ChatBot using Sitemap', sitemap_path=None, is_chat_active=None, user_id=35, created_at=datetime.datetime(2023, 6, 26, 20, 26, 36, tzinfo=tzutc()), updated_at=datetime.datetime(2023, 6, 26, 20, 26, 36, tzinfo=tzutc()), deleted_at=None, type=<CreateProjectResponse201DataType.SITEMAP: 'SITEMAP'>, is_shared=None, shareable_slug=<customgpt_client.types.Unset object at 0x7efdde8d68c0>, shareable_link=<customgpt_client.types.Unset object at 0x7efdde8d68c0>, embed_code=<customgpt_client.types.Unset object at 0x7efdde8d68c0>, live_chat_code=<customgpt_client.types.Unset object at 0x7efdde8d68c0>, additional_properties={}), additional_properties={}))\n"
          ]
        }
      ],
      "source": [
        "from google.colab import files\n",
        "from customgpt_client.types import File\n",
        "# Give a name to your project\n",
        "project_name = 'Example ChatBot using Sitemap'\n",
        "uploaded_file = files.upload()\n",
        "file_content = next(iter(uploaded_file.values()))\n",
        "create_project = CustomGPT.Project.create(project_name=project_name, file=File(payload=file_content, file_name='Yes'))\n",
        "print(create_project)"
      ]
    },
    {
      "cell_type": "code",
      "execution_count": null,
      "metadata": {
        "id": "D1La0GFc1WLq",
        "colab": {
          "base_uri": "https://localhost:8080/"
        },
        "outputId": "4e6b2d03-bbf1-4d84-b78a-28a09b2ed7cc"
      },
      "outputs": [
        {
          "output_type": "stream",
          "name": "stdout",
          "text": [
            "1\n"
          ]
        }
      ],
      "source": [
        "# Check status of the project if chat bot is active\n",
        "data = create_project.parsed.data\n",
        "\n",
        "# Get project id from response for created project\n",
        "project_id = data.id\n",
        "\n",
        "# Check if chat bot is active using `is_chat_active` flag in project detail response\n",
        "# GET project details\n",
        "get_project = CustomGPT.Project.get(project_id=project_id)\n",
        "project_data = get_project.parsed\n",
        "is_chat_active = project_data.data.is_chat_active\n",
        "\n",
        "print(is_chat_active)\n",
        "\n",
        "# One can poll this GET project details API to check if chat bot is active before starting a conversation\n"
      ]
    },
    {
      "cell_type": "code",
      "execution_count": null,
      "metadata": {
        "colab": {
          "base_uri": "https://localhost:8080/"
        },
        "id": "ZnAs_Bhe1WLr",
        "outputId": "f392296c-3741-4754-e8ba-06a239f702d8"
      },
      "outputs": [
        {
          "output_type": "stream",
          "name": "stdout",
          "text": [
            "CreateProjectConversationResponse201(status=<CreateProjectConversationResponse201Status.SUCCESS: 'success'>, data=CreateProjectConversationResponse201Data(created_at=datetime.datetime(2023, 6, 26, 20, 26, 56, tzinfo=tzutc()), updated_at=datetime.datetime(2023, 6, 26, 20, 26, 56, tzinfo=tzutc()), deleted_at=<customgpt_client.types.Unset object at 0x7efdde8d68c0>, id=240, name='My First Conversation', project_id=573, created_by=35, session_id='c03aa997-0863-490f-af3e-f4474939f2d0', additional_properties={}), additional_properties={})\n"
          ]
        }
      ],
      "source": [
        "# Create a conversation before sending a message to the chat bot\n",
        "project_conversataion = CustomGPT.Conversation.create(project_id=project_id, name=\"My First Conversation\")\n",
        "project_data = project_conversataion.parsed\n",
        "print(project_data)"
      ]
    },
    {
      "cell_type": "code",
      "execution_count": null,
      "metadata": {
        "colab": {
          "base_uri": "https://localhost:8080/"
        },
        "id": "B4gnIWk31WLs",
        "outputId": "91d1a7a7-4773-4054-dce8-a51d77747f40"
      },
      "outputs": [
        {
          "output_type": "stream",
          "name": "stdout",
          "text": [
            "Response(status_code=<HTTPStatus.OK: 200>, content={'status': 'start', 'prompt': 'Who is Vanka'}, headers=Headers({'server': 'nginx', 'content-type': 'text/event-stream; charset=UTF-8', 'transfer-encoding': 'chunked', 'connection': 'keep-alive', 'cache-control': 'no-cache, private', 'date': 'Mon, 26 Jun 2023 20:27:34 GMT', 'x-ratelimit-limit': '60', 'x-ratelimit-remaining': '54', 'access-control-allow-origin': '*', 'x-xss-protection': '1; mode=block', 'x-content-type-options': 'nosniff'}), parsed=None)\n",
            "Response(status_code=<HTTPStatus.OK: 200>, content={'status': 'progress', 'message': 'Vanka '}, headers=Headers({'server': 'nginx', 'content-type': 'text/event-stream; charset=UTF-8', 'transfer-encoding': 'chunked', 'connection': 'keep-alive', 'cache-control': 'no-cache, private', 'date': 'Mon, 26 Jun 2023 20:27:34 GMT', 'x-ratelimit-limit': '60', 'x-ratelimit-remaining': '54', 'access-control-allow-origin': '*', 'x-xss-protection': '1; mode=block', 'x-content-type-options': 'nosniff'}), parsed=None)\n",
            "Response(status_code=<HTTPStatus.OK: 200>, content={'status': 'progress', 'message': 'Zhukov '}, headers=Headers({'server': 'nginx', 'content-type': 'text/event-stream; charset=UTF-8', 'transfer-encoding': 'chunked', 'connection': 'keep-alive', 'cache-control': 'no-cache, private', 'date': 'Mon, 26 Jun 2023 20:27:34 GMT', 'x-ratelimit-limit': '60', 'x-ratelimit-remaining': '54', 'access-control-allow-origin': '*', 'x-xss-protection': '1; mode=block', 'x-content-type-options': 'nosniff'}), parsed=None)\n",
            "Response(status_code=<HTTPStatus.OK: 200>, content={'status': 'progress', 'message': 'is '}, headers=Headers({'server': 'nginx', 'content-type': 'text/event-stream; charset=UTF-8', 'transfer-encoding': 'chunked', 'connection': 'keep-alive', 'cache-control': 'no-cache, private', 'date': 'Mon, 26 Jun 2023 20:27:34 GMT', 'x-ratelimit-limit': '60', 'x-ratelimit-remaining': '54', 'access-control-allow-origin': '*', 'x-xss-protection': '1; mode=block', 'x-content-type-options': 'nosniff'}), parsed=None)\n",
            "Response(status_code=<HTTPStatus.OK: 200>, content={'status': 'progress', 'message': 'a '}, headers=Headers({'server': 'nginx', 'content-type': 'text/event-stream; charset=UTF-8', 'transfer-encoding': 'chunked', 'connection': 'keep-alive', 'cache-control': 'no-cache, private', 'date': 'Mon, 26 Jun 2023 20:27:34 GMT', 'x-ratelimit-limit': '60', 'x-ratelimit-remaining': '54', 'access-control-allow-origin': '*', 'x-xss-protection': '1; mode=block', 'x-content-type-options': 'nosniff'}), parsed=None)\n",
            "Response(status_code=<HTTPStatus.OK: 200>, content={'status': 'progress', 'message': 'nine-year-old '}, headers=Headers({'server': 'nginx', 'content-type': 'text/event-stream; charset=UTF-8', 'transfer-encoding': 'chunked', 'connection': 'keep-alive', 'cache-control': 'no-cache, private', 'date': 'Mon, 26 Jun 2023 20:27:34 GMT', 'x-ratelimit-limit': '60', 'x-ratelimit-remaining': '54', 'access-control-allow-origin': '*', 'x-xss-protection': '1; mode=block', 'x-content-type-options': 'nosniff'}), parsed=None)\n",
            "Response(status_code=<HTTPStatus.OK: 200>, content={'status': 'progress', 'message': 'boy '}, headers=Headers({'server': 'nginx', 'content-type': 'text/event-stream; charset=UTF-8', 'transfer-encoding': 'chunked', 'connection': 'keep-alive', 'cache-control': 'no-cache, private', 'date': 'Mon, 26 Jun 2023 20:27:34 GMT', 'x-ratelimit-limit': '60', 'x-ratelimit-remaining': '54', 'access-control-allow-origin': '*', 'x-xss-protection': '1; mode=block', 'x-content-type-options': 'nosniff'}), parsed=None)\n",
            "Response(status_code=<HTTPStatus.OK: 200>, content={'status': 'progress', 'message': 'who '}, headers=Headers({'server': 'nginx', 'content-type': 'text/event-stream; charset=UTF-8', 'transfer-encoding': 'chunked', 'connection': 'keep-alive', 'cache-control': 'no-cache, private', 'date': 'Mon, 26 Jun 2023 20:27:34 GMT', 'x-ratelimit-limit': '60', 'x-ratelimit-remaining': '54', 'access-control-allow-origin': '*', 'x-xss-protection': '1; mode=block', 'x-content-type-options': 'nosniff'}), parsed=None)\n",
            "Response(status_code=<HTTPStatus.OK: 200>, content={'status': 'progress', 'message': 'has '}, headers=Headers({'server': 'nginx', 'content-type': 'text/event-stream; charset=UTF-8', 'transfer-encoding': 'chunked', 'connection': 'keep-alive', 'cache-control': 'no-cache, private', 'date': 'Mon, 26 Jun 2023 20:27:34 GMT', 'x-ratelimit-limit': '60', 'x-ratelimit-remaining': '54', 'access-control-allow-origin': '*', 'x-xss-protection': '1; mode=block', 'x-content-type-options': 'nosniff'}), parsed=None)\n",
            "Response(status_code=<HTTPStatus.OK: 200>, content={'status': 'progress', 'message': 'been '}, headers=Headers({'server': 'nginx', 'content-type': 'text/event-stream; charset=UTF-8', 'transfer-encoding': 'chunked', 'connection': 'keep-alive', 'cache-control': 'no-cache, private', 'date': 'Mon, 26 Jun 2023 20:27:34 GMT', 'x-ratelimit-limit': '60', 'x-ratelimit-remaining': '54', 'access-control-allow-origin': '*', 'x-xss-protection': '1; mode=block', 'x-content-type-options': 'nosniff'}), parsed=None)\n",
            "Response(status_code=<HTTPStatus.OK: 200>, content={'status': 'progress', 'message': 'apprenticed '}, headers=Headers({'server': 'nginx', 'content-type': 'text/event-stream; charset=UTF-8', 'transfer-encoding': 'chunked', 'connection': 'keep-alive', 'cache-control': 'no-cache, private', 'date': 'Mon, 26 Jun 2023 20:27:34 GMT', 'x-ratelimit-limit': '60', 'x-ratelimit-remaining': '54', 'access-control-allow-origin': '*', 'x-xss-protection': '1; mode=block', 'x-content-type-options': 'nosniff'}), parsed=None)\n",
            "Response(status_code=<HTTPStatus.OK: 200>, content={'status': 'progress', 'message': 'to '}, headers=Headers({'server': 'nginx', 'content-type': 'text/event-stream; charset=UTF-8', 'transfer-encoding': 'chunked', 'connection': 'keep-alive', 'cache-control': 'no-cache, private', 'date': 'Mon, 26 Jun 2023 20:27:34 GMT', 'x-ratelimit-limit': '60', 'x-ratelimit-remaining': '54', 'access-control-allow-origin': '*', 'x-xss-protection': '1; mode=block', 'x-content-type-options': 'nosniff'}), parsed=None)\n",
            "Response(status_code=<HTTPStatus.OK: 200>, content={'status': 'progress', 'message': 'Alyahin '}, headers=Headers({'server': 'nginx', 'content-type': 'text/event-stream; charset=UTF-8', 'transfer-encoding': 'chunked', 'connection': 'keep-alive', 'cache-control': 'no-cache, private', 'date': 'Mon, 26 Jun 2023 20:27:34 GMT', 'x-ratelimit-limit': '60', 'x-ratelimit-remaining': '54', 'access-control-allow-origin': '*', 'x-xss-protection': '1; mode=block', 'x-content-type-options': 'nosniff'}), parsed=None)\n",
            "Response(status_code=<HTTPStatus.OK: 200>, content={'status': 'progress', 'message': 'the '}, headers=Headers({'server': 'nginx', 'content-type': 'text/event-stream; charset=UTF-8', 'transfer-encoding': 'chunked', 'connection': 'keep-alive', 'cache-control': 'no-cache, private', 'date': 'Mon, 26 Jun 2023 20:27:34 GMT', 'x-ratelimit-limit': '60', 'x-ratelimit-remaining': '54', 'access-control-allow-origin': '*', 'x-xss-protection': '1; mode=block', 'x-content-type-options': 'nosniff'}), parsed=None)\n",
            "Response(status_code=<HTTPStatus.OK: 200>, content={'status': 'progress', 'message': 'shoemaker '}, headers=Headers({'server': 'nginx', 'content-type': 'text/event-stream; charset=UTF-8', 'transfer-encoding': 'chunked', 'connection': 'keep-alive', 'cache-control': 'no-cache, private', 'date': 'Mon, 26 Jun 2023 20:27:34 GMT', 'x-ratelimit-limit': '60', 'x-ratelimit-remaining': '54', 'access-control-allow-origin': '*', 'x-xss-protection': '1; mode=block', 'x-content-type-options': 'nosniff'}), parsed=None)\n",
            "Response(status_code=<HTTPStatus.OK: 200>, content={'status': 'progress', 'message': 'for '}, headers=Headers({'server': 'nginx', 'content-type': 'text/event-stream; charset=UTF-8', 'transfer-encoding': 'chunked', 'connection': 'keep-alive', 'cache-control': 'no-cache, private', 'date': 'Mon, 26 Jun 2023 20:27:34 GMT', 'x-ratelimit-limit': '60', 'x-ratelimit-remaining': '54', 'access-control-allow-origin': '*', 'x-xss-protection': '1; mode=block', 'x-content-type-options': 'nosniff'}), parsed=None)\n",
            "Response(status_code=<HTTPStatus.OK: 200>, content={'status': 'progress', 'message': 'three '}, headers=Headers({'server': 'nginx', 'content-type': 'text/event-stream; charset=UTF-8', 'transfer-encoding': 'chunked', 'connection': 'keep-alive', 'cache-control': 'no-cache, private', 'date': 'Mon, 26 Jun 2023 20:27:34 GMT', 'x-ratelimit-limit': '60', 'x-ratelimit-remaining': '54', 'access-control-allow-origin': '*', 'x-xss-protection': '1; mode=block', 'x-content-type-options': 'nosniff'}), parsed=None)\n",
            "Response(status_code=<HTTPStatus.OK: 200>, content={'status': 'progress', 'message': 'months. '}, headers=Headers({'server': 'nginx', 'content-type': 'text/event-stream; charset=UTF-8', 'transfer-encoding': 'chunked', 'connection': 'keep-alive', 'cache-control': 'no-cache, private', 'date': 'Mon, 26 Jun 2023 20:27:34 GMT', 'x-ratelimit-limit': '60', 'x-ratelimit-remaining': '54', 'access-control-allow-origin': '*', 'x-xss-protection': '1; mode=block', 'x-content-type-options': 'nosniff'}), parsed=None)\n",
            "Response(status_code=<HTTPStatus.OK: 200>, content={'status': 'progress', 'message': 'He '}, headers=Headers({'server': 'nginx', 'content-type': 'text/event-stream; charset=UTF-8', 'transfer-encoding': 'chunked', 'connection': 'keep-alive', 'cache-control': 'no-cache, private', 'date': 'Mon, 26 Jun 2023 20:27:34 GMT', 'x-ratelimit-limit': '60', 'x-ratelimit-remaining': '54', 'access-control-allow-origin': '*', 'x-xss-protection': '1; mode=block', 'x-content-type-options': 'nosniff'}), parsed=None)\n",
            "Response(status_code=<HTTPStatus.OK: 200>, content={'status': 'progress', 'message': 'was '}, headers=Headers({'server': 'nginx', 'content-type': 'text/event-stream; charset=UTF-8', 'transfer-encoding': 'chunked', 'connection': 'keep-alive', 'cache-control': 'no-cache, private', 'date': 'Mon, 26 Jun 2023 20:27:34 GMT', 'x-ratelimit-limit': '60', 'x-ratelimit-remaining': '54', 'access-control-allow-origin': '*', 'x-xss-protection': '1; mode=block', 'x-content-type-options': 'nosniff'}), parsed=None)\n",
            "Response(status_code=<HTTPStatus.OK: 200>, content={'status': 'progress', 'message': 'taught '}, headers=Headers({'server': 'nginx', 'content-type': 'text/event-stream; charset=UTF-8', 'transfer-encoding': 'chunked', 'connection': 'keep-alive', 'cache-control': 'no-cache, private', 'date': 'Mon, 26 Jun 2023 20:27:34 GMT', 'x-ratelimit-limit': '60', 'x-ratelimit-remaining': '54', 'access-control-allow-origin': '*', 'x-xss-protection': '1; mode=block', 'x-content-type-options': 'nosniff'}), parsed=None)\n",
            "Response(status_code=<HTTPStatus.OK: 200>, content={'status': 'progress', 'message': 'to '}, headers=Headers({'server': 'nginx', 'content-type': 'text/event-stream; charset=UTF-8', 'transfer-encoding': 'chunked', 'connection': 'keep-alive', 'cache-control': 'no-cache, private', 'date': 'Mon, 26 Jun 2023 20:27:34 GMT', 'x-ratelimit-limit': '60', 'x-ratelimit-remaining': '54', 'access-control-allow-origin': '*', 'x-xss-protection': '1; mode=block', 'x-content-type-options': 'nosniff'}), parsed=None)\n",
            "Response(status_code=<HTTPStatus.OK: 200>, content={'status': 'progress', 'message': 'read, '}, headers=Headers({'server': 'nginx', 'content-type': 'text/event-stream; charset=UTF-8', 'transfer-encoding': 'chunked', 'connection': 'keep-alive', 'cache-control': 'no-cache, private', 'date': 'Mon, 26 Jun 2023 20:27:34 GMT', 'x-ratelimit-limit': '60', 'x-ratelimit-remaining': '54', 'access-control-allow-origin': '*', 'x-xss-protection': '1; mode=block', 'x-content-type-options': 'nosniff'}), parsed=None)\n",
            "Response(status_code=<HTTPStatus.OK: 200>, content={'status': 'progress', 'message': 'write, '}, headers=Headers({'server': 'nginx', 'content-type': 'text/event-stream; charset=UTF-8', 'transfer-encoding': 'chunked', 'connection': 'keep-alive', 'cache-control': 'no-cache, private', 'date': 'Mon, 26 Jun 2023 20:27:34 GMT', 'x-ratelimit-limit': '60', 'x-ratelimit-remaining': '54', 'access-control-allow-origin': '*', 'x-xss-protection': '1; mode=block', 'x-content-type-options': 'nosniff'}), parsed=None)\n",
            "Response(status_code=<HTTPStatus.OK: 200>, content={'status': 'progress', 'message': 'count, '}, headers=Headers({'server': 'nginx', 'content-type': 'text/event-stream; charset=UTF-8', 'transfer-encoding': 'chunked', 'connection': 'keep-alive', 'cache-control': 'no-cache, private', 'date': 'Mon, 26 Jun 2023 20:27:34 GMT', 'x-ratelimit-limit': '60', 'x-ratelimit-remaining': '54', 'access-control-allow-origin': '*', 'x-xss-protection': '1; mode=block', 'x-content-type-options': 'nosniff'}), parsed=None)\n",
            "Response(status_code=<HTTPStatus.OK: 200>, content={'status': 'progress', 'message': 'and '}, headers=Headers({'server': 'nginx', 'content-type': 'text/event-stream; charset=UTF-8', 'transfer-encoding': 'chunked', 'connection': 'keep-alive', 'cache-control': 'no-cache, private', 'date': 'Mon, 26 Jun 2023 20:27:34 GMT', 'x-ratelimit-limit': '60', 'x-ratelimit-remaining': '54', 'access-control-allow-origin': '*', 'x-xss-protection': '1; mode=block', 'x-content-type-options': 'nosniff'}), parsed=None)\n",
            "Response(status_code=<HTTPStatus.OK: 200>, content={'status': 'progress', 'message': 'even '}, headers=Headers({'server': 'nginx', 'content-type': 'text/event-stream; charset=UTF-8', 'transfer-encoding': 'chunked', 'connection': 'keep-alive', 'cache-control': 'no-cache, private', 'date': 'Mon, 26 Jun 2023 20:27:34 GMT', 'x-ratelimit-limit': '60', 'x-ratelimit-remaining': '54', 'access-control-allow-origin': '*', 'x-xss-protection': '1; mode=block', 'x-content-type-options': 'nosniff'}), parsed=None)\n",
            "Response(status_code=<HTTPStatus.OK: 200>, content={'status': 'progress', 'message': 'dance '}, headers=Headers({'server': 'nginx', 'content-type': 'text/event-stream; charset=UTF-8', 'transfer-encoding': 'chunked', 'connection': 'keep-alive', 'cache-control': 'no-cache, private', 'date': 'Mon, 26 Jun 2023 20:27:34 GMT', 'x-ratelimit-limit': '60', 'x-ratelimit-remaining': '54', 'access-control-allow-origin': '*', 'x-xss-protection': '1; mode=block', 'x-content-type-options': 'nosniff'}), parsed=None)\n",
            "Response(status_code=<HTTPStatus.OK: 200>, content={'status': 'progress', 'message': 'by '}, headers=Headers({'server': 'nginx', 'content-type': 'text/event-stream; charset=UTF-8', 'transfer-encoding': 'chunked', 'connection': 'keep-alive', 'cache-control': 'no-cache, private', 'date': 'Mon, 26 Jun 2023 20:27:34 GMT', 'x-ratelimit-limit': '60', 'x-ratelimit-remaining': '54', 'access-control-allow-origin': '*', 'x-xss-protection': '1; mode=block', 'x-content-type-options': 'nosniff'}), parsed=None)\n",
            "Response(status_code=<HTTPStatus.OK: 200>, content={'status': 'progress', 'message': 'Olga '}, headers=Headers({'server': 'nginx', 'content-type': 'text/event-stream; charset=UTF-8', 'transfer-encoding': 'chunked', 'connection': 'keep-alive', 'cache-control': 'no-cache, private', 'date': 'Mon, 26 Jun 2023 20:27:34 GMT', 'x-ratelimit-limit': '60', 'x-ratelimit-remaining': '54', 'access-control-allow-origin': '*', 'x-xss-protection': '1; mode=block', 'x-content-type-options': 'nosniff'}), parsed=None)\n",
            "Response(status_code=<HTTPStatus.OK: 200>, content={'status': 'progress', 'message': 'Ignatyevna '}, headers=Headers({'server': 'nginx', 'content-type': 'text/event-stream; charset=UTF-8', 'transfer-encoding': 'chunked', 'connection': 'keep-alive', 'cache-control': 'no-cache, private', 'date': 'Mon, 26 Jun 2023 20:27:34 GMT', 'x-ratelimit-limit': '60', 'x-ratelimit-remaining': '54', 'access-control-allow-origin': '*', 'x-xss-protection': '1; mode=block', 'x-content-type-options': 'nosniff'}), parsed=None)\n",
            "Response(status_code=<HTTPStatus.OK: 200>, content={'status': 'progress', 'message': 'when '}, headers=Headers({'server': 'nginx', 'content-type': 'text/event-stream; charset=UTF-8', 'transfer-encoding': 'chunked', 'connection': 'keep-alive', 'cache-control': 'no-cache, private', 'date': 'Mon, 26 Jun 2023 20:27:34 GMT', 'x-ratelimit-limit': '60', 'x-ratelimit-remaining': '54', 'access-control-allow-origin': '*', 'x-xss-protection': '1; mode=block', 'x-content-type-options': 'nosniff'}), parsed=None)\n",
            "Response(status_code=<HTTPStatus.OK: 200>, content={'status': 'progress', 'message': 'his '}, headers=Headers({'server': 'nginx', 'content-type': 'text/event-stream; charset=UTF-8', 'transfer-encoding': 'chunked', 'connection': 'keep-alive', 'cache-control': 'no-cache, private', 'date': 'Mon, 26 Jun 2023 20:27:34 GMT', 'x-ratelimit-limit': '60', 'x-ratelimit-remaining': '54', 'access-control-allow-origin': '*', 'x-xss-protection': '1; mode=block', 'x-content-type-options': 'nosniff'}), parsed=None)\n",
            "Response(status_code=<HTTPStatus.OK: 200>, content={'status': 'progress', 'message': 'mother, '}, headers=Headers({'server': 'nginx', 'content-type': 'text/event-stream; charset=UTF-8', 'transfer-encoding': 'chunked', 'connection': 'keep-alive', 'cache-control': 'no-cache, private', 'date': 'Mon, 26 Jun 2023 20:27:34 GMT', 'x-ratelimit-limit': '60', 'x-ratelimit-remaining': '54', 'access-control-allow-origin': '*', 'x-xss-protection': '1; mode=block', 'x-content-type-options': 'nosniff'}), parsed=None)\n",
            "Response(status_code=<HTTPStatus.OK: 200>, content={'status': 'progress', 'message': 'Pelageya, '}, headers=Headers({'server': 'nginx', 'content-type': 'text/event-stream; charset=UTF-8', 'transfer-encoding': 'chunked', 'connection': 'keep-alive', 'cache-control': 'no-cache, private', 'date': 'Mon, 26 Jun 2023 20:27:34 GMT', 'x-ratelimit-limit': '60', 'x-ratelimit-remaining': '54', 'access-control-allow-origin': '*', 'x-xss-protection': '1; mode=block', 'x-content-type-options': 'nosniff'}), parsed=None)\n",
            "Response(status_code=<HTTPStatus.OK: 200>, content={'status': 'progress', 'message': 'was '}, headers=Headers({'server': 'nginx', 'content-type': 'text/event-stream; charset=UTF-8', 'transfer-encoding': 'chunked', 'connection': 'keep-alive', 'cache-control': 'no-cache, private', 'date': 'Mon, 26 Jun 2023 20:27:34 GMT', 'x-ratelimit-limit': '60', 'x-ratelimit-remaining': '54', 'access-control-allow-origin': '*', 'x-xss-protection': '1; mode=block', 'x-content-type-options': 'nosniff'}), parsed=None)\n",
            "Response(status_code=<HTTPStatus.OK: 200>, content={'status': 'progress', 'message': 'alive '}, headers=Headers({'server': 'nginx', 'content-type': 'text/event-stream; charset=UTF-8', 'transfer-encoding': 'chunked', 'connection': 'keep-alive', 'cache-control': 'no-cache, private', 'date': 'Mon, 26 Jun 2023 20:27:34 GMT', 'x-ratelimit-limit': '60', 'x-ratelimit-remaining': '54', 'access-control-allow-origin': '*', 'x-xss-protection': '1; mode=block', 'x-content-type-options': 'nosniff'}), parsed=None)\n",
            "Response(status_code=<HTTPStatus.OK: 200>, content={'status': 'progress', 'message': 'and '}, headers=Headers({'server': 'nginx', 'content-type': 'text/event-stream; charset=UTF-8', 'transfer-encoding': 'chunked', 'connection': 'keep-alive', 'cache-control': 'no-cache, private', 'date': 'Mon, 26 Jun 2023 20:27:34 GMT', 'x-ratelimit-limit': '60', 'x-ratelimit-remaining': '54', 'access-control-allow-origin': '*', 'x-xss-protection': '1; mode=block', 'x-content-type-options': 'nosniff'}), parsed=None)\n",
            "Response(status_code=<HTTPStatus.OK: 200>, content={'status': 'progress', 'message': 'working '}, headers=Headers({'server': 'nginx', 'content-type': 'text/event-stream; charset=UTF-8', 'transfer-encoding': 'chunked', 'connection': 'keep-alive', 'cache-control': 'no-cache, private', 'date': 'Mon, 26 Jun 2023 20:27:34 GMT', 'x-ratelimit-limit': '60', 'x-ratelimit-remaining': '54', 'access-control-allow-origin': '*', 'x-xss-protection': '1; mode=block', 'x-content-type-options': 'nosniff'}), parsed=None)\n",
            "Response(status_code=<HTTPStatus.OK: 200>, content={'status': 'progress', 'message': 'in '}, headers=Headers({'server': 'nginx', 'content-type': 'text/event-stream; charset=UTF-8', 'transfer-encoding': 'chunked', 'connection': 'keep-alive', 'cache-control': 'no-cache, private', 'date': 'Mon, 26 Jun 2023 20:27:34 GMT', 'x-ratelimit-limit': '60', 'x-ratelimit-remaining': '54', 'access-control-allow-origin': '*', 'x-xss-protection': '1; mode=block', 'x-content-type-options': 'nosniff'}), parsed=None)\n",
            "Response(status_code=<HTTPStatus.OK: 200>, content={'status': 'progress', 'message': 'the '}, headers=Headers({'server': 'nginx', 'content-type': 'text/event-stream; charset=UTF-8', 'transfer-encoding': 'chunked', 'connection': 'keep-alive', 'cache-control': 'no-cache, private', 'date': 'Mon, 26 Jun 2023 20:27:34 GMT', 'x-ratelimit-limit': '60', 'x-ratelimit-remaining': '54', 'access-control-allow-origin': '*', 'x-xss-protection': '1; mode=block', 'x-content-type-options': 'nosniff'}), parsed=None)\n",
            "Response(status_code=<HTTPStatus.OK: 200>, content={'status': 'progress', 'message': 'big '}, headers=Headers({'server': 'nginx', 'content-type': 'text/event-stream; charset=UTF-8', 'transfer-encoding': 'chunked', 'connection': 'keep-alive', 'cache-control': 'no-cache, private', 'date': 'Mon, 26 Jun 2023 20:27:34 GMT', 'x-ratelimit-limit': '60', 'x-ratelimit-remaining': '54', 'access-control-allow-origin': '*', 'x-xss-protection': '1; mode=block', 'x-content-type-options': 'nosniff'}), parsed=None)\n",
            "Response(status_code=<HTTPStatus.OK: 200>, content={'status': 'progress', 'message': 'house. '}, headers=Headers({'server': 'nginx', 'content-type': 'text/event-stream; charset=UTF-8', 'transfer-encoding': 'chunked', 'connection': 'keep-alive', 'cache-control': 'no-cache, private', 'date': 'Mon, 26 Jun 2023 20:27:34 GMT', 'x-ratelimit-limit': '60', 'x-ratelimit-remaining': '54', 'access-control-allow-origin': '*', 'x-xss-protection': '1; mode=block', 'x-content-type-options': 'nosniff'}), parsed=None)\n",
            "Response(status_code=<HTTPStatus.OK: 200>, content={'status': 'progress', 'message': 'After '}, headers=Headers({'server': 'nginx', 'content-type': 'text/event-stream; charset=UTF-8', 'transfer-encoding': 'chunked', 'connection': 'keep-alive', 'cache-control': 'no-cache, private', 'date': 'Mon, 26 Jun 2023 20:27:34 GMT', 'x-ratelimit-limit': '60', 'x-ratelimit-remaining': '54', 'access-control-allow-origin': '*', 'x-xss-protection': '1; mode=block', 'x-content-type-options': 'nosniff'}), parsed=None)\n",
            "Response(status_code=<HTTPStatus.OK: 200>, content={'status': 'progress', 'message': 'his '}, headers=Headers({'server': 'nginx', 'content-type': 'text/event-stream; charset=UTF-8', 'transfer-encoding': 'chunked', 'connection': 'keep-alive', 'cache-control': 'no-cache, private', 'date': 'Mon, 26 Jun 2023 20:27:34 GMT', 'x-ratelimit-limit': '60', 'x-ratelimit-remaining': '54', 'access-control-allow-origin': '*', 'x-xss-protection': '1; mode=block', 'x-content-type-options': 'nosniff'}), parsed=None)\n",
            "Response(status_code=<HTTPStatus.OK: 200>, content={'status': 'progress', 'message': \"mother's \"}, headers=Headers({'server': 'nginx', 'content-type': 'text/event-stream; charset=UTF-8', 'transfer-encoding': 'chunked', 'connection': 'keep-alive', 'cache-control': 'no-cache, private', 'date': 'Mon, 26 Jun 2023 20:27:34 GMT', 'x-ratelimit-limit': '60', 'x-ratelimit-remaining': '54', 'access-control-allow-origin': '*', 'x-xss-protection': '1; mode=block', 'x-content-type-options': 'nosniff'}), parsed=None)\n",
            "Response(status_code=<HTTPStatus.OK: 200>, content={'status': 'progress', 'message': 'death, '}, headers=Headers({'server': 'nginx', 'content-type': 'text/event-stream; charset=UTF-8', 'transfer-encoding': 'chunked', 'connection': 'keep-alive', 'cache-control': 'no-cache, private', 'date': 'Mon, 26 Jun 2023 20:27:34 GMT', 'x-ratelimit-limit': '60', 'x-ratelimit-remaining': '54', 'access-control-allow-origin': '*', 'x-xss-protection': '1; mode=block', 'x-content-type-options': 'nosniff'}), parsed=None)\n",
            "Response(status_code=<HTTPStatus.OK: 200>, content={'status': 'progress', 'message': 'he '}, headers=Headers({'server': 'nginx', 'content-type': 'text/event-stream; charset=UTF-8', 'transfer-encoding': 'chunked', 'connection': 'keep-alive', 'cache-control': 'no-cache, private', 'date': 'Mon, 26 Jun 2023 20:27:34 GMT', 'x-ratelimit-limit': '60', 'x-ratelimit-remaining': '54', 'access-control-allow-origin': '*', 'x-xss-protection': '1; mode=block', 'x-content-type-options': 'nosniff'}), parsed=None)\n",
            "Response(status_code=<HTTPStatus.OK: 200>, content={'status': 'progress', 'message': 'was '}, headers=Headers({'server': 'nginx', 'content-type': 'text/event-stream; charset=UTF-8', 'transfer-encoding': 'chunked', 'connection': 'keep-alive', 'cache-control': 'no-cache, private', 'date': 'Mon, 26 Jun 2023 20:27:34 GMT', 'x-ratelimit-limit': '60', 'x-ratelimit-remaining': '54', 'access-control-allow-origin': '*', 'x-xss-protection': '1; mode=block', 'x-content-type-options': 'nosniff'}), parsed=None)\n",
            "Response(status_code=<HTTPStatus.OK: 200>, content={'status': 'progress', 'message': 'moved '}, headers=Headers({'server': 'nginx', 'content-type': 'text/event-stream; charset=UTF-8', 'transfer-encoding': 'chunked', 'connection': 'keep-alive', 'cache-control': 'no-cache, private', 'date': 'Mon, 26 Jun 2023 20:27:34 GMT', 'x-ratelimit-limit': '60', 'x-ratelimit-remaining': '54', 'access-control-allow-origin': '*', 'x-xss-protection': '1; mode=block', 'x-content-type-options': 'nosniff'}), parsed=None)\n",
            "Response(status_code=<HTTPStatus.OK: 200>, content={'status': 'progress', 'message': 'to '}, headers=Headers({'server': 'nginx', 'content-type': 'text/event-stream; charset=UTF-8', 'transfer-encoding': 'chunked', 'connection': 'keep-alive', 'cache-control': 'no-cache, private', 'date': 'Mon, 26 Jun 2023 20:27:34 GMT', 'x-ratelimit-limit': '60', 'x-ratelimit-remaining': '54', 'access-control-allow-origin': '*', 'x-xss-protection': '1; mode=block', 'x-content-type-options': 'nosniff'}), parsed=None)\n",
            "Response(status_code=<HTTPStatus.OK: 200>, content={'status': 'progress', 'message': 'the '}, headers=Headers({'server': 'nginx', 'content-type': 'text/event-stream; charset=UTF-8', 'transfer-encoding': 'chunked', 'connection': 'keep-alive', 'cache-control': 'no-cache, private', 'date': 'Mon, 26 Jun 2023 20:27:34 GMT', 'x-ratelimit-limit': '60', 'x-ratelimit-remaining': '54', 'access-control-allow-origin': '*', 'x-xss-protection': '1; mode=block', 'x-content-type-options': 'nosniff'}), parsed=None)\n",
            "Response(status_code=<HTTPStatus.OK: 200>, content={'status': 'progress', 'message': \"servants' \"}, headers=Headers({'server': 'nginx', 'content-type': 'text/event-stream; charset=UTF-8', 'transfer-encoding': 'chunked', 'connection': 'keep-alive', 'cache-control': 'no-cache, private', 'date': 'Mon, 26 Jun 2023 20:27:34 GMT', 'x-ratelimit-limit': '60', 'x-ratelimit-remaining': '54', 'access-control-allow-origin': '*', 'x-xss-protection': '1; mode=block', 'x-content-type-options': 'nosniff'}), parsed=None)\n",
            "Response(status_code=<HTTPStatus.OK: 200>, content={'status': 'progress', 'message': 'kitchen '}, headers=Headers({'server': 'nginx', 'content-type': 'text/event-stream; charset=UTF-8', 'transfer-encoding': 'chunked', 'connection': 'keep-alive', 'cache-control': 'no-cache, private', 'date': 'Mon, 26 Jun 2023 20:27:34 GMT', 'x-ratelimit-limit': '60', 'x-ratelimit-remaining': '54', 'access-control-allow-origin': '*', 'x-xss-protection': '1; mode=block', 'x-content-type-options': 'nosniff'}), parsed=None)\n",
            "Response(status_code=<HTTPStatus.OK: 200>, content={'status': 'progress', 'message': 'to '}, headers=Headers({'server': 'nginx', 'content-type': 'text/event-stream; charset=UTF-8', 'transfer-encoding': 'chunked', 'connection': 'keep-alive', 'cache-control': 'no-cache, private', 'date': 'Mon, 26 Jun 2023 20:27:34 GMT', 'x-ratelimit-limit': '60', 'x-ratelimit-remaining': '54', 'access-control-allow-origin': '*', 'x-xss-protection': '1; mode=block', 'x-content-type-options': 'nosniff'}), parsed=None)\n",
            "Response(status_code=<HTTPStatus.OK: 200>, content={'status': 'progress', 'message': 'be '}, headers=Headers({'server': 'nginx', 'content-type': 'text/event-stream; charset=UTF-8', 'transfer-encoding': 'chunked', 'connection': 'keep-alive', 'cache-control': 'no-cache, private', 'date': 'Mon, 26 Jun 2023 20:27:34 GMT', 'x-ratelimit-limit': '60', 'x-ratelimit-remaining': '54', 'access-control-allow-origin': '*', 'x-xss-protection': '1; mode=block', 'x-content-type-options': 'nosniff'}), parsed=None)\n",
            "Response(status_code=<HTTPStatus.OK: 200>, content={'status': 'progress', 'message': 'with '}, headers=Headers({'server': 'nginx', 'content-type': 'text/event-stream; charset=UTF-8', 'transfer-encoding': 'chunked', 'connection': 'keep-alive', 'cache-control': 'no-cache, private', 'date': 'Mon, 26 Jun 2023 20:27:34 GMT', 'x-ratelimit-limit': '60', 'x-ratelimit-remaining': '54', 'access-control-allow-origin': '*', 'x-xss-protection': '1; mode=block', 'x-content-type-options': 'nosniff'}), parsed=None)\n",
            "Response(status_code=<HTTPStatus.OK: 200>, content={'status': 'progress', 'message': 'his '}, headers=Headers({'server': 'nginx', 'content-type': 'text/event-stream; charset=UTF-8', 'transfer-encoding': 'chunked', 'connection': 'keep-alive', 'cache-control': 'no-cache, private', 'date': 'Mon, 26 Jun 2023 20:27:34 GMT', 'x-ratelimit-limit': '60', 'x-ratelimit-remaining': '54', 'access-control-allow-origin': '*', 'x-xss-protection': '1; mode=block', 'x-content-type-options': 'nosniff'}), parsed=None)\n",
            "Response(status_code=<HTTPStatus.OK: 200>, content={'status': 'progress', 'message': 'grandfather '}, headers=Headers({'server': 'nginx', 'content-type': 'text/event-stream; charset=UTF-8', 'transfer-encoding': 'chunked', 'connection': 'keep-alive', 'cache-control': 'no-cache, private', 'date': 'Mon, 26 Jun 2023 20:27:34 GMT', 'x-ratelimit-limit': '60', 'x-ratelimit-remaining': '54', 'access-control-allow-origin': '*', 'x-xss-protection': '1; mode=block', 'x-content-type-options': 'nosniff'}), parsed=None)\n",
            "Response(status_code=<HTTPStatus.OK: 200>, content={'status': 'progress', 'message': 'and '}, headers=Headers({'server': 'nginx', 'content-type': 'text/event-stream; charset=UTF-8', 'transfer-encoding': 'chunked', 'connection': 'keep-alive', 'cache-control': 'no-cache, private', 'date': 'Mon, 26 Jun 2023 20:27:34 GMT', 'x-ratelimit-limit': '60', 'x-ratelimit-remaining': '54', 'access-control-allow-origin': '*', 'x-xss-protection': '1; mode=block', 'x-content-type-options': 'nosniff'}), parsed=None)\n",
            "Response(status_code=<HTTPStatus.OK: 200>, content={'status': 'progress', 'message': 'then '}, headers=Headers({'server': 'nginx', 'content-type': 'text/event-stream; charset=UTF-8', 'transfer-encoding': 'chunked', 'connection': 'keep-alive', 'cache-control': 'no-cache, private', 'date': 'Mon, 26 Jun 2023 20:27:34 GMT', 'x-ratelimit-limit': '60', 'x-ratelimit-remaining': '54', 'access-control-allow-origin': '*', 'x-xss-protection': '1; mode=block', 'x-content-type-options': 'nosniff'}), parsed=None)\n",
            "Response(status_code=<HTTPStatus.OK: 200>, content={'status': 'progress', 'message': 'to '}, headers=Headers({'server': 'nginx', 'content-type': 'text/event-stream; charset=UTF-8', 'transfer-encoding': 'chunked', 'connection': 'keep-alive', 'cache-control': 'no-cache, private', 'date': 'Mon, 26 Jun 2023 20:27:34 GMT', 'x-ratelimit-limit': '60', 'x-ratelimit-remaining': '54', 'access-control-allow-origin': '*', 'x-xss-protection': '1; mode=block', 'x-content-type-options': 'nosniff'}), parsed=None)\n",
            "Response(status_code=<HTTPStatus.OK: 200>, content={'status': 'progress', 'message': 'the '}, headers=Headers({'server': 'nginx', 'content-type': 'text/event-stream; charset=UTF-8', 'transfer-encoding': 'chunked', 'connection': 'keep-alive', 'cache-control': 'no-cache, private', 'date': 'Mon, 26 Jun 2023 20:27:34 GMT', 'x-ratelimit-limit': '60', 'x-ratelimit-remaining': '54', 'access-control-allow-origin': '*', 'x-xss-protection': '1; mode=block', 'x-content-type-options': 'nosniff'}), parsed=None)\n",
            "Response(status_code=<HTTPStatus.OK: 200>, content={'status': 'progress', 'message': \"shoemaker's \"}, headers=Headers({'server': 'nginx', 'content-type': 'text/event-stream; charset=UTF-8', 'transfer-encoding': 'chunked', 'connection': 'keep-alive', 'cache-control': 'no-cache, private', 'date': 'Mon, 26 Jun 2023 20:27:34 GMT', 'x-ratelimit-limit': '60', 'x-ratelimit-remaining': '54', 'access-control-allow-origin': '*', 'x-xss-protection': '1; mode=block', 'x-content-type-options': 'nosniff'}), parsed=None)\n",
            "Response(status_code=<HTTPStatus.OK: 200>, content={'status': 'progress', 'message': 'in '}, headers=Headers({'server': 'nginx', 'content-type': 'text/event-stream; charset=UTF-8', 'transfer-encoding': 'chunked', 'connection': 'keep-alive', 'cache-control': 'no-cache, private', 'date': 'Mon, 26 Jun 2023 20:27:34 GMT', 'x-ratelimit-limit': '60', 'x-ratelimit-remaining': '54', 'access-control-allow-origin': '*', 'x-xss-protection': '1; mode=block', 'x-content-type-options': 'nosniff'}), parsed=None)\n",
            "Response(status_code=<HTTPStatus.OK: 200>, content={'status': 'progress', 'message': 'Moscow. '}, headers=Headers({'server': 'nginx', 'content-type': 'text/event-stream; charset=UTF-8', 'transfer-encoding': 'chunked', 'connection': 'keep-alive', 'cache-control': 'no-cache, private', 'date': 'Mon, 26 Jun 2023 20:27:34 GMT', 'x-ratelimit-limit': '60', 'x-ratelimit-remaining': '54', 'access-control-allow-origin': '*', 'x-xss-protection': '1; mode=block', 'x-content-type-options': 'nosniff'}), parsed=None)\n",
            "Response(status_code=<HTTPStatus.OK: 200>, content={'status': 'progress', 'message': 'He '}, headers=Headers({'server': 'nginx', 'content-type': 'text/event-stream; charset=UTF-8', 'transfer-encoding': 'chunked', 'connection': 'keep-alive', 'cache-control': 'no-cache, private', 'date': 'Mon, 26 Jun 2023 20:27:34 GMT', 'x-ratelimit-limit': '60', 'x-ratelimit-remaining': '54', 'access-control-allow-origin': '*', 'x-xss-protection': '1; mode=block', 'x-content-type-options': 'nosniff'}), parsed=None)\n",
            "Response(status_code=<HTTPStatus.OK: 200>, content={'status': 'progress', 'message': 'is '}, headers=Headers({'server': 'nginx', 'content-type': 'text/event-stream; charset=UTF-8', 'transfer-encoding': 'chunked', 'connection': 'keep-alive', 'cache-control': 'no-cache, private', 'date': 'Mon, 26 Jun 2023 20:27:34 GMT', 'x-ratelimit-limit': '60', 'x-ratelimit-remaining': '54', 'access-control-allow-origin': '*', 'x-xss-protection': '1; mode=block', 'x-content-type-options': 'nosniff'}), parsed=None)\n",
            "Response(status_code=<HTTPStatus.OK: 200>, content={'status': 'progress', 'message': 'described '}, headers=Headers({'server': 'nginx', 'content-type': 'text/event-stream; charset=UTF-8', 'transfer-encoding': 'chunked', 'connection': 'keep-alive', 'cache-control': 'no-cache, private', 'date': 'Mon, 26 Jun 2023 20:27:34 GMT', 'x-ratelimit-limit': '60', 'x-ratelimit-remaining': '54', 'access-control-allow-origin': '*', 'x-xss-protection': '1; mode=block', 'x-content-type-options': 'nosniff'}), parsed=None)\n",
            "Response(status_code=<HTTPStatus.OK: 200>, content={'status': 'progress', 'message': 'as '}, headers=Headers({'server': 'nginx', 'content-type': 'text/event-stream; charset=UTF-8', 'transfer-encoding': 'chunked', 'connection': 'keep-alive', 'cache-control': 'no-cache, private', 'date': 'Mon, 26 Jun 2023 20:27:34 GMT', 'x-ratelimit-limit': '60', 'x-ratelimit-remaining': '54', 'access-control-allow-origin': '*', 'x-xss-protection': '1; mode=block', 'x-content-type-options': 'nosniff'}), parsed=None)\n",
            "Response(status_code=<HTTPStatus.OK: 200>, content={'status': 'progress', 'message': 'being '}, headers=Headers({'server': 'nginx', 'content-type': 'text/event-stream; charset=UTF-8', 'transfer-encoding': 'chunked', 'connection': 'keep-alive', 'cache-control': 'no-cache, private', 'date': 'Mon, 26 Jun 2023 20:27:34 GMT', 'x-ratelimit-limit': '60', 'x-ratelimit-remaining': '54', 'access-control-allow-origin': '*', 'x-xss-protection': '1; mode=block', 'x-content-type-options': 'nosniff'}), parsed=None)\n",
            "Response(status_code=<HTTPStatus.OK: 200>, content={'status': 'progress', 'message': 'unhappy '}, headers=Headers({'server': 'nginx', 'content-type': 'text/event-stream; charset=UTF-8', 'transfer-encoding': 'chunked', 'connection': 'keep-alive', 'cache-control': 'no-cache, private', 'date': 'Mon, 26 Jun 2023 20:27:34 GMT', 'x-ratelimit-limit': '60', 'x-ratelimit-remaining': '54', 'access-control-allow-origin': '*', 'x-xss-protection': '1; mode=block', 'x-content-type-options': 'nosniff'}), parsed=None)\n",
            "Response(status_code=<HTTPStatus.OK: 200>, content={'status': 'progress', 'message': 'and '}, headers=Headers({'server': 'nginx', 'content-type': 'text/event-stream; charset=UTF-8', 'transfer-encoding': 'chunked', 'connection': 'keep-alive', 'cache-control': 'no-cache, private', 'date': 'Mon, 26 Jun 2023 20:27:34 GMT', 'x-ratelimit-limit': '60', 'x-ratelimit-remaining': '54', 'access-control-allow-origin': '*', 'x-xss-protection': '1; mode=block', 'x-content-type-options': 'nosniff'}), parsed=None)\n",
            "Response(status_code=<HTTPStatus.OK: 200>, content={'status': 'progress', 'message': 'mistreated '}, headers=Headers({'server': 'nginx', 'content-type': 'text/event-stream; charset=UTF-8', 'transfer-encoding': 'chunked', 'connection': 'keep-alive', 'cache-control': 'no-cache, private', 'date': 'Mon, 26 Jun 2023 20:27:34 GMT', 'x-ratelimit-limit': '60', 'x-ratelimit-remaining': '54', 'access-control-allow-origin': '*', 'x-xss-protection': '1; mode=block', 'x-content-type-options': 'nosniff'}), parsed=None)\n",
            "Response(status_code=<HTTPStatus.OK: 200>, content={'status': 'progress', 'message': 'in '}, headers=Headers({'server': 'nginx', 'content-type': 'text/event-stream; charset=UTF-8', 'transfer-encoding': 'chunked', 'connection': 'keep-alive', 'cache-control': 'no-cache, private', 'date': 'Mon, 26 Jun 2023 20:27:34 GMT', 'x-ratelimit-limit': '60', 'x-ratelimit-remaining': '54', 'access-control-allow-origin': '*', 'x-xss-protection': '1; mode=block', 'x-content-type-options': 'nosniff'}), parsed=None)\n",
            "Response(status_code=<HTTPStatus.OK: 200>, content={'status': 'progress', 'message': 'his '}, headers=Headers({'server': 'nginx', 'content-type': 'text/event-stream; charset=UTF-8', 'transfer-encoding': 'chunked', 'connection': 'keep-alive', 'cache-control': 'no-cache, private', 'date': 'Mon, 26 Jun 2023 20:27:34 GMT', 'x-ratelimit-limit': '60', 'x-ratelimit-remaining': '54', 'access-control-allow-origin': '*', 'x-xss-protection': '1; mode=block', 'x-content-type-options': 'nosniff'}), parsed=None)\n",
            "Response(status_code=<HTTPStatus.OK: 200>, content={'status': 'progress', 'message': 'current '}, headers=Headers({'server': 'nginx', 'content-type': 'text/event-stream; charset=UTF-8', 'transfer-encoding': 'chunked', 'connection': 'keep-alive', 'cache-control': 'no-cache, private', 'date': 'Mon, 26 Jun 2023 20:27:34 GMT', 'x-ratelimit-limit': '60', 'x-ratelimit-remaining': '54', 'access-control-allow-origin': '*', 'x-xss-protection': '1; mode=block', 'x-content-type-options': 'nosniff'}), parsed=None)\n",
            "Response(status_code=<HTTPStatus.OK: 200>, content={'status': 'progress', 'message': 'situation. '}, headers=Headers({'server': 'nginx', 'content-type': 'text/event-stream; charset=UTF-8', 'transfer-encoding': 'chunked', 'connection': 'keep-alive', 'cache-control': 'no-cache, private', 'date': 'Mon, 26 Jun 2023 20:27:34 GMT', 'x-ratelimit-limit': '60', 'x-ratelimit-remaining': '54', 'access-control-allow-origin': '*', 'x-xss-protection': '1; mode=block', 'x-content-type-options': 'nosniff'}), parsed=None)\n",
            "Response(status_code=<HTTPStatus.OK: 200>, content={'status': 'finish', 'id': 445, 'created_at': '2023-06-26T20:27:33.000000Z', 'session_id': 'c03aa997-0863-490f-af3e-f4474939f2d0', 'citations': [12547]}, headers=Headers({'server': 'nginx', 'content-type': 'text/event-stream; charset=UTF-8', 'transfer-encoding': 'chunked', 'connection': 'keep-alive', 'cache-control': 'no-cache, private', 'date': 'Mon, 26 Jun 2023 20:27:34 GMT', 'x-ratelimit-limit': '60', 'x-ratelimit-remaining': '54', 'access-control-allow-origin': '*', 'x-xss-protection': '1; mode=block', 'x-content-type-options': 'nosniff'}), parsed=None)\n"
          ]
        }
      ],
      "source": [
        "session_id = project_data.data.session_id\n",
        "# Create a message to the above conversation\n",
        "\n",
        "# pass in your question to prompt\n",
        "prompt = \"Who is Vanka\"\n",
        "\n",
        "stream_response = CustomGPT.Conversation.send(project_id=project_id, session_id=session_id, prompt=prompt, stream=True)\n",
        "for event in stream_response:\n",
        "    print(event)"
      ]
    },
    {
      "cell_type": "code",
      "execution_count": null,
      "metadata": {
        "id": "FJSmijEUDA8e"
      },
      "outputs": [],
      "source": []
    }
  ],
  "metadata": {
    "colab": {
      "provenance": []
    },
    "kernelspec": {
      "display_name": "Python 3",
      "language": "python",
      "name": "python3"
    },
    "language_info": {
      "codemirror_mode": {
        "name": "ipython",
        "version": 3
      },
      "file_extension": ".py",
      "mimetype": "text/x-python",
      "name": "python",
      "nbconvert_exporter": "python",
      "pygments_lexer": "ipython3",
      "version": "3.11.2"
    }
  },
  "nbformat": 4,
  "nbformat_minor": 0
}
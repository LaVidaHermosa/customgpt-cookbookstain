{
  "cells": [
    {
      "cell_type": "code",
      "source": [
        "!pip install customgpt-client==1.1.3"
      ],
      "metadata": {
        "id": "cMS4FTgtE0s1",
        "colab": {
          "base_uri": "https://localhost:8080/"
        },
        "outputId": "cf7e82d6-9488-49be-93e6-51eb7faf22cc"
      },
      "execution_count": 1,
      "outputs": [
        {
          "output_type": "stream",
          "name": "stdout",
          "text": [
            "Collecting customgpt-client==1.1.3\n",
            "  Downloading customgpt_client-1.1.3-py3-none-any.whl (404 kB)\n",
            "\u001b[?25l     \u001b[90m━━━━━━━━━━━━━━━━━━━━━━━━━━━━━━━━━━━━━━━━\u001b[0m \u001b[32m0.0/404.5 kB\u001b[0m \u001b[31m?\u001b[0m eta \u001b[36m-:--:--\u001b[0m\r\u001b[2K     \u001b[90m━━━━━━━━━━━━━━━━━━━━━━━━━━━━━━━━━━━━━━\u001b[0m \u001b[32m404.5/404.5 kB\u001b[0m \u001b[31m12.0 MB/s\u001b[0m eta \u001b[36m0:00:00\u001b[0m\n",
            "\u001b[?25hRequirement already satisfied: attrs>=21.3.0 in /usr/local/lib/python3.10/dist-packages (from customgpt-client==1.1.3) (23.1.0)\n",
            "Requirement already satisfied: python-dateutil<3.0.0,>=2.8.0 in /usr/local/lib/python3.10/dist-packages (from customgpt-client==1.1.3) (2.8.2)\n",
            "Collecting sseclient-py==1.7.2 (from customgpt-client==1.1.3)\n",
            "  Downloading sseclient_py-1.7.2-py2.py3-none-any.whl (8.4 kB)\n",
            "Requirement already satisfied: six>=1.5 in /usr/local/lib/python3.10/dist-packages (from python-dateutil<3.0.0,>=2.8.0->customgpt-client==1.1.3) (1.16.0)\n",
            "Installing collected packages: sseclient-py, customgpt-client\n",
            "Successfully installed customgpt-client-1.1.3 sseclient-py-1.7.2\n"
          ]
        }
      ]
    },
    {
      "cell_type": "markdown",
      "metadata": {
        "id": "PAWpaaSa1WLi"
      },
      "source": [
        "**Initialize Client**\n"
      ]
    },
    {
      "cell_type": "code",
      "execution_count": 2,
      "metadata": {
        "id": "Hc9SsdoR1WLm"
      },
      "outputs": [],
      "source": [
        "from customgpt_client import CustomGPT\n",
        "CustomGPT.api_key = \"YOUR_API_TOKEN\""
      ]
    },
    {
      "cell_type": "markdown",
      "metadata": {
        "id": "Z1ISHsxb1WLo"
      },
      "source": [
        "**Create a project**\n"
      ]
    },
    {
      "cell_type": "code",
      "execution_count": 3,
      "metadata": {
        "id": "PNbGtm_A1WLp",
        "colab": {
          "base_uri": "https://localhost:8080/"
        },
        "outputId": "80f94c83-f8c7-4ac1-ee62-978382a42528"
      },
      "outputs": [
        {
          "output_type": "stream",
          "name": "stdout",
          "text": [
            "Response(status_code=<HTTPStatus.CREATED: 201>, content=b'{\"data\":{\"id\":937,\"project_name\":\"Example ChatBot using Sitemap\",\"sitemap_path\":null,\"user_id\":42,\"is_chat_active\":null,\"created_at\":\"2023-07-12T20:27:47.000000Z\",\"updated_at\":\"2023-07-12T20:27:47.000000Z\",\"is_shared\":null,\"deleted_at\":null,\"type\":\"SITEMAP\"},\"status\":\"success\"}', headers={'Server': 'nginx', 'Content-Type': 'application/json', 'Transfer-Encoding': 'chunked', 'Connection': 'keep-alive', 'Cache-Control': 'no-cache, private', 'Date': 'Wed, 12 Jul 2023 20:27:47 GMT', 'X-RateLimit-Limit': '60', 'X-RateLimit-Remaining': '59', 'Access-Control-Allow-Origin': '*', 'X-XSS-Protection': '1; mode=block', 'X-Content-Type-Options': 'nosniff'}, parsed=CreateProjectResponse201(status=<CreateProjectResponse201Status.SUCCESS: 'success'>, data=CreateProjectResponse201Data(id=937, project_name='Example ChatBot using Sitemap', sitemap_path=None, is_chat_active=None, user_id=42, created_at=datetime.datetime(2023, 7, 12, 20, 27, 47, tzinfo=tzutc()), updated_at=datetime.datetime(2023, 7, 12, 20, 27, 47, tzinfo=tzutc()), deleted_at=None, type=<CreateProjectResponse201DataType.SITEMAP: 'SITEMAP'>, is_shared=None, shareable_slug=None, shareable_link=None, embed_code=None, live_chat_code=None, additional_properties={'id': 937, 'project_name': 'Example ChatBot using Sitemap', 'sitemap_path': None, 'user_id': 42, 'is_chat_active': None, 'created_at': '2023-07-12T20:27:47.000000Z', 'updated_at': '2023-07-12T20:27:47.000000Z', 'is_shared': None, 'deleted_at': None, 'type': 'SITEMAP'}), additional_properties={'data': {'id': 937, 'project_name': 'Example ChatBot using Sitemap', 'sitemap_path': None, 'user_id': 42, 'is_chat_active': None, 'created_at': '2023-07-12T20:27:47.000000Z', 'updated_at': '2023-07-12T20:27:47.000000Z', 'is_shared': None, 'deleted_at': None, 'type': 'SITEMAP'}, 'status': 'success'}))\n"
          ]
        }
      ],
      "source": [
        "# Give a name to your project\n",
        "project_name = 'Example ChatBot using Sitemap'\n",
        "sitemap_path = 'https://adorosario.github.io/small-sitemap.xml'\n",
        "\n",
        "create_project = CustomGPT.Project.create(project_name=project_name, sitemap_path=sitemap_path)\n",
        "print(create_project)"
      ]
    },
    {
      "cell_type": "markdown",
      "source": [
        "**Create a conversation**"
      ],
      "metadata": {
        "id": "43a91gPXiOou"
      }
    },
    {
      "cell_type": "code",
      "execution_count": 4,
      "metadata": {
        "id": "D1La0GFc1WLq",
        "colab": {
          "base_uri": "https://localhost:8080/"
        },
        "outputId": "791ffb8f-0bab-4bb5-ce01-1d93935d87f2"
      },
      "outputs": [
        {
          "output_type": "stream",
          "name": "stdout",
          "text": [
            "Response(status_code=<HTTPStatus.CREATED: 201>, content=b'{\"data\":{\"project_id\":937,\"name\":\"Test\",\"created_by\":42,\"session_id\":\"f3597d29-6aac-4c0c-964c-4b70824d2513\",\"updated_at\":\"2023-07-12T20:27:49.000000Z\",\"created_at\":\"2023-07-12T20:27:49.000000Z\",\"id\":425,\"project\":{\"id\":937,\"project_name\":\"Example ChatBot using Sitemap\",\"sitemap_path\":null,\"user_id\":42,\"is_chat_active\":false,\"created_at\":\"2023-07-12T20:27:47.000000Z\",\"updated_at\":\"2023-07-12 20:27:47\",\"shareable_slug\":\"ef993ceda5051c5e2a7820c9499d665a\",\"is_shared\":false,\"deleted_at\":null,\"type\":\"SITEMAP\"}},\"status\":\"success\"}', headers={'Server': 'nginx', 'Content-Type': 'application/json', 'Transfer-Encoding': 'chunked', 'Connection': 'keep-alive', 'Cache-Control': 'no-cache, private', 'Date': 'Wed, 12 Jul 2023 20:27:49 GMT', 'X-RateLimit-Limit': '60', 'X-RateLimit-Remaining': '58', 'Access-Control-Allow-Origin': '*', 'X-XSS-Protection': '1; mode=block', 'X-Content-Type-Options': 'nosniff'}, parsed=CreateProjectConversationResponse201(status=<CreateProjectConversationResponse201Status.SUCCESS: 'success'>, data=CreateProjectConversationResponse201Data(created_at=datetime.datetime(2023, 7, 12, 20, 27, 49, tzinfo=tzutc()), updated_at=datetime.datetime(2023, 7, 12, 20, 27, 49, tzinfo=tzutc()), deleted_at=None, id=425, name='Test', project_id=937, created_by=42, session_id='f3597d29-6aac-4c0c-964c-4b70824d2513', additional_properties={'project_id': 937, 'name': 'Test', 'created_by': 42, 'session_id': 'f3597d29-6aac-4c0c-964c-4b70824d2513', 'updated_at': '2023-07-12T20:27:49.000000Z', 'created_at': '2023-07-12T20:27:49.000000Z', 'id': 425, 'project': {'id': 937, 'project_name': 'Example ChatBot using Sitemap', 'sitemap_path': None, 'user_id': 42, 'is_chat_active': False, 'created_at': '2023-07-12T20:27:47.000000Z', 'updated_at': '2023-07-12 20:27:47', 'shareable_slug': 'ef993ceda5051c5e2a7820c9499d665a', 'is_shared': False, 'deleted_at': None, 'type': 'SITEMAP'}}), additional_properties={'data': {'project_id': 937, 'name': 'Test', 'created_by': 42, 'session_id': 'f3597d29-6aac-4c0c-964c-4b70824d2513', 'updated_at': '2023-07-12T20:27:49.000000Z', 'created_at': '2023-07-12T20:27:49.000000Z', 'id': 425, 'project': {'id': 937, 'project_name': 'Example ChatBot using Sitemap', 'sitemap_path': None, 'user_id': 42, 'is_chat_active': False, 'created_at': '2023-07-12T20:27:47.000000Z', 'updated_at': '2023-07-12 20:27:47', 'shareable_slug': 'ef993ceda5051c5e2a7820c9499d665a', 'is_shared': False, 'deleted_at': None, 'type': 'SITEMAP'}}, 'status': 'success'}))\n"
          ]
        }
      ],
      "source": [
        "# Check status of the project if chat bot is active\n",
        "data = create_project.parsed.data\n",
        "\n",
        "# Get project id from response for created project\n",
        "project_id = data.id\n",
        "# Create conversation\n",
        "create_conversation = CustomGPT.Conversation.create(project_id=project_id, name='Test')\n",
        "print(create_conversation)"
      ]
    },
    {
      "cell_type": "markdown",
      "source": [
        "**Update a conversation**"
      ],
      "metadata": {
        "id": "3lWDBvw-wuzL"
      }
    },
    {
      "cell_type": "code",
      "source": [
        "session_id = create_conversation.parsed.data.session_id\n",
        "# Create a message to the above conversation\n",
        "\n",
        "update_conversation = CustomGPT.Conversation.update(project_id=project_id, session_id=session_id, name=\"Test 2\")\n",
        "print(update_conversation)\n"
      ],
      "metadata": {
        "colab": {
          "base_uri": "https://localhost:8080/"
        },
        "id": "JULBvcaGw4uN",
        "outputId": "fd727551-8cab-4676-8474-533133c84720"
      },
      "execution_count": 5,
      "outputs": [
        {
          "output_type": "stream",
          "name": "stdout",
          "text": [
            "Response(status_code=<HTTPStatus.OK: 200>, content=b'{\"data\":{\"id\":425,\"created_at\":\"2023-07-12T20:27:49.000000Z\",\"updated_at\":\"2023-07-12T20:29:18.000000Z\",\"session_id\":\"f3597d29-6aac-4c0c-964c-4b70824d2513\",\"project_id\":937,\"created_by\":42,\"name\":\"Test 2\"},\"status\":\"success\"}', headers={'Server': 'nginx', 'Content-Type': 'application/json', 'Transfer-Encoding': 'chunked', 'Connection': 'keep-alive', 'Vary': 'Accept-Encoding', 'Cache-Control': 'no-cache, private', 'Date': 'Wed, 12 Jul 2023 20:29:18 GMT', 'X-RateLimit-Limit': '60', 'X-RateLimit-Remaining': '59', 'Access-Control-Allow-Origin': '*', 'X-XSS-Protection': '1; mode=block', 'X-Content-Type-Options': 'nosniff', 'Content-Encoding': 'gzip'}, parsed=UpdateProjectConversationResponse200(status=<UpdateProjectConversationResponse200Status.SUCCESS: 'success'>, data=UpdateProjectConversationResponse200Data(created_at=datetime.datetime(2023, 7, 12, 20, 27, 49, tzinfo=tzutc()), updated_at=datetime.datetime(2023, 7, 12, 20, 29, 18, tzinfo=tzutc()), deleted_at=None, id=425, name='Test 2', project_id=937, created_by=42, session_id='f3597d29-6aac-4c0c-964c-4b70824d2513', additional_properties={'id': 425, 'created_at': '2023-07-12T20:27:49.000000Z', 'updated_at': '2023-07-12T20:29:18.000000Z', 'session_id': 'f3597d29-6aac-4c0c-964c-4b70824d2513', 'project_id': 937, 'created_by': 42, 'name': 'Test 2'}), additional_properties={'data': {'id': 425, 'created_at': '2023-07-12T20:27:49.000000Z', 'updated_at': '2023-07-12T20:29:18.000000Z', 'session_id': 'f3597d29-6aac-4c0c-964c-4b70824d2513', 'project_id': 937, 'created_by': 42, 'name': 'Test 2'}, 'status': 'success'}))\n"
          ]
        }
      ]
    },
    {
      "cell_type": "markdown",
      "source": [
        "**Delete a conversation**"
      ],
      "metadata": {
        "id": "Do654B7CxTo_"
      }
    },
    {
      "cell_type": "code",
      "source": [
        "delete_conversation = CustomGPT.Conversation.delete(project_id=project_id, session_id=session_id)\n",
        "print(delete_conversation)"
      ],
      "metadata": {
        "colab": {
          "base_uri": "https://localhost:8080/"
        },
        "id": "rOECvvyDxWZ_",
        "outputId": "78143f26-2966-4802-c4c1-c71f104c40a4"
      },
      "execution_count": 6,
      "outputs": [
        {
          "output_type": "stream",
          "name": "stdout",
          "text": [
            "Response(status_code=<HTTPStatus.OK: 200>, content=b'{\"data\":{\"deleted\":true},\"status\":\"success\"}', headers={'Server': 'nginx', 'Content-Type': 'application/json', 'Transfer-Encoding': 'chunked', 'Connection': 'keep-alive', 'Vary': 'Accept-Encoding', 'Cache-Control': 'no-cache, private', 'Date': 'Wed, 12 Jul 2023 20:29:26 GMT', 'X-RateLimit-Limit': '60', 'X-RateLimit-Remaining': '58', 'Access-Control-Allow-Origin': '*', 'X-XSS-Protection': '1; mode=block', 'X-Content-Type-Options': 'nosniff', 'Content-Encoding': 'gzip'}, parsed=DeleteProjectConversationResponse200(status=<DeleteProjectConversationResponse200Status.SUCCESS: 'success'>, data=DeleteProjectConversationResponse200Data(deleted=True, additional_properties={'deleted': True}), additional_properties={'data': {'deleted': True}, 'status': 'success'}))\n"
          ]
        }
      ]
    }
  ],
  "metadata": {
    "kernelspec": {
      "display_name": "Python 3",
      "language": "python",
      "name": "python3"
    },
    "language_info": {
      "codemirror_mode": {
        "name": "ipython",
        "version": 3
      },
      "file_extension": ".py",
      "mimetype": "text/x-python",
      "name": "python",
      "nbconvert_exporter": "python",
      "pygments_lexer": "ipython3",
      "version": "3.11.2"
    },
    "orig_nbformat": 4,
    "colab": {
      "provenance": []
    }
  },
  "nbformat": 4,
  "nbformat_minor": 0
}
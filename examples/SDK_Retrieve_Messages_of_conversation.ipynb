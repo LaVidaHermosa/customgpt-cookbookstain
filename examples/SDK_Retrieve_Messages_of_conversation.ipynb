{
  "cells": [
    {
      "cell_type": "code",
      "source": [
        "!pip install customgpt-client==1.1.3"
      ],
      "metadata": {
        "id": "cMS4FTgtE0s1",
        "colab": {
          "base_uri": "https://localhost:8080/"
        },
        "outputId": "b762b46d-0f21-46d3-caa1-2352d20ab11d"
      },
      "execution_count": 2,
      "outputs": [
        {
          "output_type": "stream",
          "name": "stdout",
          "text": [
            "Collecting customgpt-client==1.1.3\n",
            "  Downloading customgpt_client-1.1.3-py3-none-any.whl (404 kB)\n",
            "\u001b[?25l     \u001b[90m━━━━━━━━━━━━━━━━━━━━━━━━━━━━━━━━━━━━━━━━\u001b[0m \u001b[32m0.0/404.5 kB\u001b[0m \u001b[31m?\u001b[0m eta \u001b[36m-:--:--\u001b[0m\r\u001b[2K     \u001b[91m━━━━━━━━━━━━━━━━━━━━━━━━━━\u001b[0m\u001b[91m╸\u001b[0m\u001b[90m━━━━━━━━━━━━\u001b[0m \u001b[32m276.5/404.5 kB\u001b[0m \u001b[31m8.2 MB/s\u001b[0m eta \u001b[36m0:00:01\u001b[0m\r\u001b[2K     \u001b[90m━━━━━━━━━━━━━━━━━━━━━━━━━━━━━━━━━━━━━━━\u001b[0m \u001b[32m404.5/404.5 kB\u001b[0m \u001b[31m8.1 MB/s\u001b[0m eta \u001b[36m0:00:00\u001b[0m\n",
            "\u001b[?25hRequirement already satisfied: attrs>=21.3.0 in /usr/local/lib/python3.10/dist-packages (from customgpt-client==1.1.3) (23.1.0)\n",
            "Requirement already satisfied: python-dateutil<3.0.0,>=2.8.0 in /usr/local/lib/python3.10/dist-packages (from customgpt-client==1.1.3) (2.8.2)\n",
            "Collecting sseclient-py==1.7.2 (from customgpt-client==1.1.3)\n",
            "  Downloading sseclient_py-1.7.2-py2.py3-none-any.whl (8.4 kB)\n",
            "Requirement already satisfied: six>=1.5 in /usr/local/lib/python3.10/dist-packages (from python-dateutil<3.0.0,>=2.8.0->customgpt-client==1.1.3) (1.16.0)\n",
            "Installing collected packages: sseclient-py, customgpt-client\n",
            "Successfully installed customgpt-client-1.1.3 sseclient-py-1.7.2\n"
          ]
        }
      ]
    },
    {
      "cell_type": "markdown",
      "metadata": {
        "id": "PAWpaaSa1WLi"
      },
      "source": [
        "**Initialize Client**\n"
      ]
    },
    {
      "cell_type": "code",
      "execution_count": 3,
      "metadata": {
        "id": "Hc9SsdoR1WLm"
      },
      "outputs": [],
      "source": [
        "from customgpt_client import CustomGPT\n",
        "CustomGPT.api_key = \"YOUR_API_TOKEN\""
      ]
    },
    {
      "cell_type": "markdown",
      "metadata": {
        "id": "Z1ISHsxb1WLo"
      },
      "source": [
        "**Create a project**\n"
      ]
    },
    {
      "cell_type": "code",
      "execution_count": 4,
      "metadata": {
        "id": "PNbGtm_A1WLp",
        "colab": {
          "base_uri": "https://localhost:8080/"
        },
        "outputId": "7f0882b2-b669-4ffc-a41c-77121e9c7ccd"
      },
      "outputs": [
        {
          "output_type": "stream",
          "name": "stdout",
          "text": [
            "Response(status_code=<HTTPStatus.CREATED: 201>, content=b'{\"data\":{\"id\":936,\"project_name\":\"Example ChatBot using Sitemap\",\"sitemap_path\":null,\"user_id\":42,\"is_chat_active\":null,\"created_at\":\"2023-07-12T20:21:01.000000Z\",\"updated_at\":\"2023-07-12T20:21:01.000000Z\",\"is_shared\":null,\"deleted_at\":null,\"type\":\"SITEMAP\"},\"status\":\"success\"}', headers={'Server': 'nginx', 'Content-Type': 'application/json', 'Transfer-Encoding': 'chunked', 'Connection': 'keep-alive', 'Cache-Control': 'no-cache, private', 'Date': 'Wed, 12 Jul 2023 20:21:01 GMT', 'X-RateLimit-Limit': '60', 'X-RateLimit-Remaining': '59', 'Access-Control-Allow-Origin': '*', 'X-XSS-Protection': '1; mode=block', 'X-Content-Type-Options': 'nosniff'}, parsed=CreateProjectResponse201(status=<CreateProjectResponse201Status.SUCCESS: 'success'>, data=CreateProjectResponse201Data(id=936, project_name='Example ChatBot using Sitemap', sitemap_path=None, is_chat_active=None, user_id=42, created_at=datetime.datetime(2023, 7, 12, 20, 21, 1, tzinfo=tzutc()), updated_at=datetime.datetime(2023, 7, 12, 20, 21, 1, tzinfo=tzutc()), deleted_at=None, type=<CreateProjectResponse201DataType.SITEMAP: 'SITEMAP'>, is_shared=None, shareable_slug=None, shareable_link=None, embed_code=None, live_chat_code=None, additional_properties={'id': 936, 'project_name': 'Example ChatBot using Sitemap', 'sitemap_path': None, 'user_id': 42, 'is_chat_active': None, 'created_at': '2023-07-12T20:21:01.000000Z', 'updated_at': '2023-07-12T20:21:01.000000Z', 'is_shared': None, 'deleted_at': None, 'type': 'SITEMAP'}), additional_properties={'data': {'id': 936, 'project_name': 'Example ChatBot using Sitemap', 'sitemap_path': None, 'user_id': 42, 'is_chat_active': None, 'created_at': '2023-07-12T20:21:01.000000Z', 'updated_at': '2023-07-12T20:21:01.000000Z', 'is_shared': None, 'deleted_at': None, 'type': 'SITEMAP'}, 'status': 'success'}))\n"
          ]
        }
      ],
      "source": [
        "# Give a name to your project\n",
        "project_name = 'Example ChatBot using Sitemap'\n",
        "sitemap_path = 'https://adorosario.github.io/small-sitemap.xml'\n",
        "\n",
        "create_project = CustomGPT.Project.create(project_name=project_name, sitemap_path=sitemap_path)\n",
        "print(create_project)"
      ]
    },
    {
      "cell_type": "markdown",
      "source": [
        "**Create a conversation**"
      ],
      "metadata": {
        "id": "43a91gPXiOou"
      }
    },
    {
      "cell_type": "code",
      "execution_count": 5,
      "metadata": {
        "id": "D1La0GFc1WLq",
        "colab": {
          "base_uri": "https://localhost:8080/"
        },
        "outputId": "02bc9940-f0d0-41bc-d9b9-91124db7e4b9"
      },
      "outputs": [
        {
          "output_type": "stream",
          "name": "stdout",
          "text": [
            "Response(status_code=<HTTPStatus.CREATED: 201>, content=b'{\"data\":{\"project_id\":936,\"name\":\"Test\",\"created_by\":42,\"session_id\":\"a4f47780-e783-4da8-b078-2be89f8fcc3d\",\"updated_at\":\"2023-07-12T20:21:03.000000Z\",\"created_at\":\"2023-07-12T20:21:03.000000Z\",\"id\":424,\"project\":{\"id\":936,\"project_name\":\"Example ChatBot using Sitemap\",\"sitemap_path\":null,\"user_id\":42,\"is_chat_active\":false,\"created_at\":\"2023-07-12T20:21:01.000000Z\",\"updated_at\":\"2023-07-12 20:21:01\",\"shareable_slug\":\"5346c1cffbd75fad5b0c7e7548bd3c70\",\"is_shared\":false,\"deleted_at\":null,\"type\":\"SITEMAP\"}},\"status\":\"success\"}', headers={'Server': 'nginx', 'Content-Type': 'application/json', 'Transfer-Encoding': 'chunked', 'Connection': 'keep-alive', 'Cache-Control': 'no-cache, private', 'Date': 'Wed, 12 Jul 2023 20:21:03 GMT', 'X-RateLimit-Limit': '60', 'X-RateLimit-Remaining': '58', 'Access-Control-Allow-Origin': '*', 'X-XSS-Protection': '1; mode=block', 'X-Content-Type-Options': 'nosniff'}, parsed=CreateProjectConversationResponse201(status=<CreateProjectConversationResponse201Status.SUCCESS: 'success'>, data=CreateProjectConversationResponse201Data(created_at=datetime.datetime(2023, 7, 12, 20, 21, 3, tzinfo=tzutc()), updated_at=datetime.datetime(2023, 7, 12, 20, 21, 3, tzinfo=tzutc()), deleted_at=None, id=424, name='Test', project_id=936, created_by=42, session_id='a4f47780-e783-4da8-b078-2be89f8fcc3d', additional_properties={'project_id': 936, 'name': 'Test', 'created_by': 42, 'session_id': 'a4f47780-e783-4da8-b078-2be89f8fcc3d', 'updated_at': '2023-07-12T20:21:03.000000Z', 'created_at': '2023-07-12T20:21:03.000000Z', 'id': 424, 'project': {'id': 936, 'project_name': 'Example ChatBot using Sitemap', 'sitemap_path': None, 'user_id': 42, 'is_chat_active': False, 'created_at': '2023-07-12T20:21:01.000000Z', 'updated_at': '2023-07-12 20:21:01', 'shareable_slug': '5346c1cffbd75fad5b0c7e7548bd3c70', 'is_shared': False, 'deleted_at': None, 'type': 'SITEMAP'}}), additional_properties={'data': {'project_id': 936, 'name': 'Test', 'created_by': 42, 'session_id': 'a4f47780-e783-4da8-b078-2be89f8fcc3d', 'updated_at': '2023-07-12T20:21:03.000000Z', 'created_at': '2023-07-12T20:21:03.000000Z', 'id': 424, 'project': {'id': 936, 'project_name': 'Example ChatBot using Sitemap', 'sitemap_path': None, 'user_id': 42, 'is_chat_active': False, 'created_at': '2023-07-12T20:21:01.000000Z', 'updated_at': '2023-07-12 20:21:01', 'shareable_slug': '5346c1cffbd75fad5b0c7e7548bd3c70', 'is_shared': False, 'deleted_at': None, 'type': 'SITEMAP'}}, 'status': 'success'}))\n"
          ]
        }
      ],
      "source": [
        "# Check status of the project if chat bot is active\n",
        "data = create_project.parsed.data\n",
        "\n",
        "# Get project id from response for created project\n",
        "project_id = data.id\n",
        "# Create conversation\n",
        "create_conversation = CustomGPT.Conversation.create(project_id=project_id, name='Test')\n",
        "print(create_conversation)"
      ]
    },
    {
      "cell_type": "markdown",
      "source": [
        "**Send message to conversation**"
      ],
      "metadata": {
        "id": "3lWDBvw-wuzL"
      }
    },
    {
      "cell_type": "code",
      "source": [
        "session_id = create_conversation.parsed.data.session_id\n",
        "# Create a message to the above conversation\n",
        "\n",
        "# pass in your question to prompt\n",
        "prompt = \"Who is Tom Bradyin 10 words\"\n",
        "\n",
        "stream_response = CustomGPT.Conversation.send(project_id=project_id, session_id=session_id, prompt=prompt, stream=False)\n",
        "print(stream_response)\n"
      ],
      "metadata": {
        "colab": {
          "base_uri": "https://localhost:8080/"
        },
        "id": "JULBvcaGw4uN",
        "outputId": "71d21008-6dee-4b2b-e3ae-049afcfc5e41"
      },
      "execution_count": 9,
      "outputs": [
        {
          "output_type": "stream",
          "name": "stdout",
          "text": [
            "Response(status_code=<HTTPStatus.OK: 200>, content=b'{\"data\":{\"id\":549,\"created_at\":\"2023-07-12T20:24:45.000000Z\",\"updated_at\":\"2023-07-12T20:24:45.000000Z\",\"user_id\":42,\"user_query\":\"Who is Tom Bradyin 10 words\",\"openai_response\":\"Tom Brady is a retired NFL quarterback with seven Super Bowl titles.\",\"citations\":[\"16456.0\",\"16457.0\",\"16450.0\",\"16449.0\"]},\"status\":\"success\"}', headers={'Server': 'nginx', 'Content-Type': 'application/json', 'Transfer-Encoding': 'chunked', 'Connection': 'keep-alive', 'Vary': 'Accept-Encoding', 'Cache-Control': 'no-cache, private', 'Date': 'Wed, 12 Jul 2023 20:24:45 GMT', 'X-RateLimit-Limit': '60', 'X-RateLimit-Remaining': '59', 'Access-Control-Allow-Origin': '*', 'X-XSS-Protection': '1; mode=block', 'X-Content-Type-Options': 'nosniff', 'Content-Encoding': 'gzip'}, parsed=SendMessageToConversationResponse200(status=<SendMessageToConversationResponse200Status.SUCCESS: 'success'>, data=SendMessageToConversationResponse200Data(id=549, user_id=42, user_query='Who is Tom Bradyin 10 words', openai_response='Tom Brady is a retired NFL quarterback with seven Super Bowl titles.', created_at=datetime.datetime(2023, 7, 12, 20, 24, 45, tzinfo=tzutc()), updated_at=datetime.datetime(2023, 7, 12, 20, 24, 45, tzinfo=tzutc()), conversation_id=None, citations=['16456.0', '16457.0', '16450.0', '16449.0'], additional_properties={'id': 549, 'created_at': '2023-07-12T20:24:45.000000Z', 'updated_at': '2023-07-12T20:24:45.000000Z', 'user_id': 42, 'user_query': 'Who is Tom Bradyin 10 words', 'openai_response': 'Tom Brady is a retired NFL quarterback with seven Super Bowl titles.', 'citations': ['16456.0', '16457.0', '16450.0', '16449.0']}), additional_properties={'data': {'id': 549, 'created_at': '2023-07-12T20:24:45.000000Z', 'updated_at': '2023-07-12T20:24:45.000000Z', 'user_id': 42, 'user_query': 'Who is Tom Bradyin 10 words', 'openai_response': 'Tom Brady is a retired NFL quarterback with seven Super Bowl titles.', 'citations': ['16456.0', '16457.0', '16450.0', '16449.0']}, 'status': 'success'}))\n"
          ]
        }
      ]
    },
    {
      "cell_type": "markdown",
      "source": [
        "**Retrieve messages**"
      ],
      "metadata": {
        "id": "Do654B7CxTo_"
      }
    },
    {
      "cell_type": "code",
      "source": [
        "messages = CustomGPT.Conversation.messages(project_id=project_id, session_id=session_id)\n",
        "print(messages)"
      ],
      "metadata": {
        "colab": {
          "base_uri": "https://localhost:8080/"
        },
        "id": "rOECvvyDxWZ_",
        "outputId": "1d7d57b6-53c6-4be9-e4ee-dd149f39172e"
      },
      "execution_count": 10,
      "outputs": [
        {
          "output_type": "stream",
          "name": "stdout",
          "text": [
            "Response(status_code=<HTTPStatus.OK: 200>, content=b'{\"data\":{\"conversation\":{\"id\":424,\"created_at\":\"2023-07-12T20:21:03.000000Z\",\"updated_at\":\"2023-07-12T20:21:03.000000Z\",\"session_id\":\"a4f47780-e783-4da8-b078-2be89f8fcc3d\",\"project_id\":936,\"created_by\":42,\"name\":\"Test\"},\"messages\":{\"current_page\":1,\"data\":[{\"id\":549,\"created_at\":\"2023-07-12T20:24:45.000000Z\",\"updated_at\":\"2023-07-12T20:24:45.000000Z\",\"user_id\":42,\"user_query\":\"Who is Tom Bradyin 10 words\",\"openai_response\":\"Tom Brady is a retired NFL quarterback with seven Super Bowl titles.\",\"citations\":[\"16456.0\",\"16457.0\",\"16450.0\",\"16449.0\"]}],\"first_page_url\":\"https:\\\\/\\\\/dev.customgpt.ai\\\\/api\\\\/v1\\\\/projects\\\\/936\\\\/conversations\\\\/a4f47780-e783-4da8-b078-2be89f8fcc3d\\\\/messages?page=1&order=desc\",\"from\":1,\"last_page\":1,\"last_page_url\":\"https:\\\\/\\\\/dev.customgpt.ai\\\\/api\\\\/v1\\\\/projects\\\\/936\\\\/conversations\\\\/a4f47780-e783-4da8-b078-2be89f8fcc3d\\\\/messages?page=1&order=desc\",\"next_page_url\":null,\"path\":\"https:\\\\/\\\\/dev.customgpt.ai\\\\/api\\\\/v1\\\\/projects\\\\/936\\\\/conversations\\\\/a4f47780-e783-4da8-b078-2be89f8fcc3d\\\\/messages\",\"per_page\":20,\"prev_page_url\":null,\"to\":1,\"total\":1}},\"status\":\"success\"}', headers={'Server': 'nginx', 'Content-Type': 'application/json', 'Transfer-Encoding': 'chunked', 'Connection': 'keep-alive', 'Vary': 'Accept-Encoding', 'Cache-Control': 'no-cache, private', 'Date': 'Wed, 12 Jul 2023 20:24:51 GMT', 'X-RateLimit-Limit': '60', 'X-RateLimit-Remaining': '58', 'Access-Control-Allow-Origin': '*', 'X-XSS-Protection': '1; mode=block', 'X-Content-Type-Options': 'nosniff', 'Content-Encoding': 'gzip'}, parsed=MessagesResponse200(status=<MessagesResponse200Status.SUCCESS: 'success'>, data=MessagesResponse200Data(conversation=MessagesResponse200DataConversation(created_at=datetime.datetime(2023, 7, 12, 20, 21, 3, tzinfo=tzutc()), updated_at=datetime.datetime(2023, 7, 12, 20, 21, 3, tzinfo=tzutc()), deleted_at=None, id=424, name='Test', project_id=936, created_by=42, session_id='a4f47780-e783-4da8-b078-2be89f8fcc3d', additional_properties={'id': 424, 'created_at': '2023-07-12T20:21:03.000000Z', 'updated_at': '2023-07-12T20:21:03.000000Z', 'session_id': 'a4f47780-e783-4da8-b078-2be89f8fcc3d', 'project_id': 936, 'created_by': 42, 'name': 'Test'}), messages=MessagesResponse200DataMessages(current_page=1, data=[MessagesResponse200DataMessagesDataItem(id=549, user_id=42, user_query='Who is Tom Bradyin 10 words', openai_response='Tom Brady is a retired NFL quarterback with seven Super Bowl titles.', created_at=datetime.datetime(2023, 7, 12, 20, 24, 45, tzinfo=tzutc()), updated_at=datetime.datetime(2023, 7, 12, 20, 24, 45, tzinfo=tzutc()), conversation_id=None, citations=['16456.0', '16457.0', '16450.0', '16449.0'], additional_properties={'id': 549, 'created_at': '2023-07-12T20:24:45.000000Z', 'updated_at': '2023-07-12T20:24:45.000000Z', 'user_id': 42, 'user_query': 'Who is Tom Bradyin 10 words', 'openai_response': 'Tom Brady is a retired NFL quarterback with seven Super Bowl titles.', 'citations': ['16456.0', '16457.0', '16450.0', '16449.0']})], first_page_url='https://dev.customgpt.ai/api/v1/projects/936/conversations/a4f47780-e783-4da8-b078-2be89f8fcc3d/messages?page=1&order=desc', from_=1, last_page=1, last_page_url='https://dev.customgpt.ai/api/v1/projects/936/conversations/a4f47780-e783-4da8-b078-2be89f8fcc3d/messages?page=1&order=desc', next_page_url=None, path='https://dev.customgpt.ai/api/v1/projects/936/conversations/a4f47780-e783-4da8-b078-2be89f8fcc3d/messages', per_page=20, prev_page_url=None, to=1, total=1, additional_properties={'current_page': 1, 'data': [{'id': 549, 'created_at': '2023-07-12T20:24:45.000000Z', 'updated_at': '2023-07-12T20:24:45.000000Z', 'user_id': 42, 'user_query': 'Who is Tom Bradyin 10 words', 'openai_response': 'Tom Brady is a retired NFL quarterback with seven Super Bowl titles.', 'citations': ['16456.0', '16457.0', '16450.0', '16449.0']}], 'first_page_url': 'https://dev.customgpt.ai/api/v1/projects/936/conversations/a4f47780-e783-4da8-b078-2be89f8fcc3d/messages?page=1&order=desc', 'from': 1, 'last_page': 1, 'last_page_url': 'https://dev.customgpt.ai/api/v1/projects/936/conversations/a4f47780-e783-4da8-b078-2be89f8fcc3d/messages?page=1&order=desc', 'next_page_url': None, 'path': 'https://dev.customgpt.ai/api/v1/projects/936/conversations/a4f47780-e783-4da8-b078-2be89f8fcc3d/messages', 'per_page': 20, 'prev_page_url': None, 'to': 1, 'total': 1}), additional_properties={'conversation': {'id': 424, 'created_at': '2023-07-12T20:21:03.000000Z', 'updated_at': '2023-07-12T20:21:03.000000Z', 'session_id': 'a4f47780-e783-4da8-b078-2be89f8fcc3d', 'project_id': 936, 'created_by': 42, 'name': 'Test'}, 'messages': {'current_page': 1, 'data': [{'id': 549, 'created_at': '2023-07-12T20:24:45.000000Z', 'updated_at': '2023-07-12T20:24:45.000000Z', 'user_id': 42, 'user_query': 'Who is Tom Bradyin 10 words', 'openai_response': 'Tom Brady is a retired NFL quarterback with seven Super Bowl titles.', 'citations': ['16456.0', '16457.0', '16450.0', '16449.0']}], 'first_page_url': 'https://dev.customgpt.ai/api/v1/projects/936/conversations/a4f47780-e783-4da8-b078-2be89f8fcc3d/messages?page=1&order=desc', 'from': 1, 'last_page': 1, 'last_page_url': 'https://dev.customgpt.ai/api/v1/projects/936/conversations/a4f47780-e783-4da8-b078-2be89f8fcc3d/messages?page=1&order=desc', 'next_page_url': None, 'path': 'https://dev.customgpt.ai/api/v1/projects/936/conversations/a4f47780-e783-4da8-b078-2be89f8fcc3d/messages', 'per_page': 20, 'prev_page_url': None, 'to': 1, 'total': 1}}), additional_properties={'data': {'conversation': {'id': 424, 'created_at': '2023-07-12T20:21:03.000000Z', 'updated_at': '2023-07-12T20:21:03.000000Z', 'session_id': 'a4f47780-e783-4da8-b078-2be89f8fcc3d', 'project_id': 936, 'created_by': 42, 'name': 'Test'}, 'messages': {'current_page': 1, 'data': [{'id': 549, 'created_at': '2023-07-12T20:24:45.000000Z', 'updated_at': '2023-07-12T20:24:45.000000Z', 'user_id': 42, 'user_query': 'Who is Tom Bradyin 10 words', 'openai_response': 'Tom Brady is a retired NFL quarterback with seven Super Bowl titles.', 'citations': ['16456.0', '16457.0', '16450.0', '16449.0']}], 'first_page_url': 'https://dev.customgpt.ai/api/v1/projects/936/conversations/a4f47780-e783-4da8-b078-2be89f8fcc3d/messages?page=1&order=desc', 'from': 1, 'last_page': 1, 'last_page_url': 'https://dev.customgpt.ai/api/v1/projects/936/conversations/a4f47780-e783-4da8-b078-2be89f8fcc3d/messages?page=1&order=desc', 'next_page_url': None, 'path': 'https://dev.customgpt.ai/api/v1/projects/936/conversations/a4f47780-e783-4da8-b078-2be89f8fcc3d/messages', 'per_page': 20, 'prev_page_url': None, 'to': 1, 'total': 1}}, 'status': 'success'}))\n"
          ]
        }
      ]
    }
  ],
  "metadata": {
    "kernelspec": {
      "display_name": "Python 3",
      "language": "python",
      "name": "python3"
    },
    "language_info": {
      "codemirror_mode": {
        "name": "ipython",
        "version": 3
      },
      "file_extension": ".py",
      "mimetype": "text/x-python",
      "name": "python",
      "nbconvert_exporter": "python",
      "pygments_lexer": "ipython3",
      "version": "3.11.2"
    },
    "orig_nbformat": 4,
    "colab": {
      "provenance": []
    }
  },
  "nbformat": 4,
  "nbformat_minor": 0
}
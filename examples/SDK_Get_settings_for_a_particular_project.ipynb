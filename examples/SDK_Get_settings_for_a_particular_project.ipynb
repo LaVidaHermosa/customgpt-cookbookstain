{
  "cells": [
    {
      "cell_type": "code",
      "execution_count": 2,
      "metadata": {
        "colab": {
          "base_uri": "https://localhost:8080/"
        },
        "id": "cMS4FTgtE0s1",
        "outputId": "37495d1d-a83f-4736-fc6e-134c870e6677"
      },
      "outputs": [
        {
          "output_type": "stream",
          "name": "stdout",
          "text": [
            "Collecting customgpt-client==1.1.2\n",
            "  Downloading customgpt_client-1.1.2-py3-none-any.whl (304 kB)\n",
            "\u001b[?25l     \u001b[90m━━━━━━━━━━━━━━━━━━━━━━━━━━━━━━━━━━━━━━━━\u001b[0m \u001b[32m0.0/304.7 kB\u001b[0m \u001b[31m?\u001b[0m eta \u001b[36m-:--:--\u001b[0m\r\u001b[2K     \u001b[91m━━━━━━━━━━━━━━━━━━━━━━━━━━━━━━━━━━━━━\u001b[0m\u001b[90m╺\u001b[0m \u001b[32m297.0/304.7 kB\u001b[0m \u001b[31m11.6 MB/s\u001b[0m eta \u001b[36m0:00:01\u001b[0m\r\u001b[2K     \u001b[90m━━━━━━━━━━━━━━━━━━━━━━━━━━━━━━━━━━━━━━━\u001b[0m \u001b[32m304.7/304.7 kB\u001b[0m \u001b[31m8.2 MB/s\u001b[0m eta \u001b[36m0:00:00\u001b[0m\n",
            "\u001b[?25hRequirement already satisfied: attrs>=21.3.0 in /usr/local/lib/python3.10/dist-packages (from customgpt-client==1.1.2) (23.1.0)\n",
            "Collecting httpx<0.25.0,>=0.15.4 (from customgpt-client==1.1.2)\n",
            "  Downloading httpx-0.24.1-py3-none-any.whl (75 kB)\n",
            "\u001b[?25l     \u001b[90m━━━━━━━━━━━━━━━━━━━━━━━━━━━━━━━━━━━━━━━━\u001b[0m \u001b[32m0.0/75.4 kB\u001b[0m \u001b[31m?\u001b[0m eta \u001b[36m-:--:--\u001b[0m\r\u001b[2K     \u001b[90m━━━━━━━━━━━━━━━━━━━━━━━━━━━━━━━━━━━━━━━━\u001b[0m \u001b[32m75.4/75.4 kB\u001b[0m \u001b[31m8.3 MB/s\u001b[0m eta \u001b[36m0:00:00\u001b[0m\n",
            "\u001b[?25hRequirement already satisfied: python-dateutil<3.0.0,>=2.8.0 in /usr/local/lib/python3.10/dist-packages (from customgpt-client==1.1.2) (2.8.2)\n",
            "Requirement already satisfied: certifi in /usr/local/lib/python3.10/dist-packages (from httpx<0.25.0,>=0.15.4->customgpt-client==1.1.2) (2023.5.7)\n",
            "Collecting httpcore<0.18.0,>=0.15.0 (from httpx<0.25.0,>=0.15.4->customgpt-client==1.1.2)\n",
            "  Downloading httpcore-0.17.2-py3-none-any.whl (72 kB)\n",
            "\u001b[2K     \u001b[90m━━━━━━━━━━━━━━━━━━━━━━━━━━━━━━━━━━━━━━━━\u001b[0m \u001b[32m72.5/72.5 kB\u001b[0m \u001b[31m8.2 MB/s\u001b[0m eta \u001b[36m0:00:00\u001b[0m\n",
            "\u001b[?25hRequirement already satisfied: idna in /usr/local/lib/python3.10/dist-packages (from httpx<0.25.0,>=0.15.4->customgpt-client==1.1.2) (3.4)\n",
            "Requirement already satisfied: sniffio in /usr/local/lib/python3.10/dist-packages (from httpx<0.25.0,>=0.15.4->customgpt-client==1.1.2) (1.3.0)\n",
            "Requirement already satisfied: six>=1.5 in /usr/local/lib/python3.10/dist-packages (from python-dateutil<3.0.0,>=2.8.0->customgpt-client==1.1.2) (1.16.0)\n",
            "Collecting h11<0.15,>=0.13 (from httpcore<0.18.0,>=0.15.0->httpx<0.25.0,>=0.15.4->customgpt-client==1.1.2)\n",
            "  Downloading h11-0.14.0-py3-none-any.whl (58 kB)\n",
            "\u001b[2K     \u001b[90m━━━━━━━━━━━━━━━━━━━━━━━━━━━━━━━━━━━━━━━━\u001b[0m \u001b[32m58.3/58.3 kB\u001b[0m \u001b[31m6.5 MB/s\u001b[0m eta \u001b[36m0:00:00\u001b[0m\n",
            "\u001b[?25hRequirement already satisfied: anyio<5.0,>=3.0 in /usr/local/lib/python3.10/dist-packages (from httpcore<0.18.0,>=0.15.0->httpx<0.25.0,>=0.15.4->customgpt-client==1.1.2) (3.7.0)\n",
            "Requirement already satisfied: exceptiongroup in /usr/local/lib/python3.10/dist-packages (from anyio<5.0,>=3.0->httpcore<0.18.0,>=0.15.0->httpx<0.25.0,>=0.15.4->customgpt-client==1.1.2) (1.1.1)\n",
            "Installing collected packages: h11, httpcore, httpx, customgpt-client\n",
            "Successfully installed customgpt-client-1.1.2 h11-0.14.0 httpcore-0.17.2 httpx-0.24.1\n"
          ]
        }
      ],
      "source": [
        "!pip install customgpt-client==1.1.2"
      ]
    },
    {
      "cell_type": "markdown",
      "metadata": {
        "id": "PAWpaaSa1WLi"
      },
      "source": [
        "**Create your custom chat bot using a sitemap.**\n"
      ]
    },
    {
      "cell_type": "code",
      "execution_count": 3,
      "metadata": {
        "id": "Hc9SsdoR1WLm"
      },
      "outputs": [],
      "source": [
        "from customgpt_client import CustomGPT\n",
        "CustomGPT.api_key = \"YOUR_API_TOKEN\""
      ]
    },
    {
      "cell_type": "markdown",
      "metadata": {
        "id": "Z1ISHsxb1WLo"
      },
      "source": [
        "**An example for to create a project with a sitemap**"
      ]
    },
    {
      "cell_type": "code",
      "execution_count": 4,
      "metadata": {
        "colab": {
          "base_uri": "https://localhost:8080/"
        },
        "id": "PNbGtm_A1WLp",
        "outputId": "6e1a6897-a07b-41ef-e8ef-9e1c9a8a3178"
      },
      "outputs": [
        {
          "output_type": "stream",
          "name": "stdout",
          "text": [
            "Response(status_code=<HTTPStatus.CREATED: 201>, content=b'{\"data\":{\"id\":585,\"project_name\":\"Example ChatBot using Sitemap\",\"sitemap_path\":null,\"user_id\":35,\"is_chat_active\":null,\"created_at\":\"2023-06-27T18:01:54.000000Z\",\"updated_at\":\"2023-06-27T18:01:54.000000Z\",\"is_shared\":null,\"deleted_at\":null,\"type\":\"SITEMAP\"},\"status\":\"success\"}', headers=Headers({'server': 'nginx', 'content-type': 'application/json', 'transfer-encoding': 'chunked', 'connection': 'keep-alive', 'cache-control': 'no-cache, private', 'date': 'Tue, 27 Jun 2023 18:01:54 GMT', 'x-ratelimit-limit': '60', 'x-ratelimit-remaining': '59', 'access-control-allow-origin': '*', 'x-xss-protection': '1; mode=block', 'x-content-type-options': 'nosniff'}), parsed=CreateProjectResponse201(status=<CreateProjectResponse201Status.SUCCESS: 'success'>, data=CreateProjectResponse201Data(id=585, project_name='Example ChatBot using Sitemap', sitemap_path=None, is_chat_active=None, user_id=35, created_at=datetime.datetime(2023, 6, 27, 18, 1, 54, tzinfo=tzutc()), updated_at=datetime.datetime(2023, 6, 27, 18, 1, 54, tzinfo=tzutc()), deleted_at=None, type=<CreateProjectResponse201DataType.SITEMAP: 'SITEMAP'>, is_shared=None, shareable_slug=<customgpt_client.types.Unset object at 0x7f39369ce860>, shareable_link=<customgpt_client.types.Unset object at 0x7f39369ce860>, embed_code=<customgpt_client.types.Unset object at 0x7f39369ce860>, live_chat_code=<customgpt_client.types.Unset object at 0x7f39369ce860>, additional_properties={}), additional_properties={}))\n"
          ]
        }
      ],
      "source": [
        "# Give a name to your project\n",
        "project_name = 'Example ChatBot using Sitemap'\n",
        "sitemap_path = 'https://adorosario.github.io/small-sitemap.xml'\n",
        "\n",
        "create_project = CustomGPT.Project.create(project_name=project_name, sitemap_path=sitemap_path)\n",
        "print(create_project)"
      ]
    },
    {
      "cell_type": "markdown",
      "source": [
        "**Get Project Settings**"
      ],
      "metadata": {
        "id": "DYDQmEzvanvn"
      }
    },
    {
      "cell_type": "code",
      "source": [
        "project_id = create_project.parsed.data.id\n",
        "project_settings = CustomGPT.ProjectSettings.get(project_id=project_id)\n",
        "print(project_settings)\n"
      ],
      "metadata": {
        "colab": {
          "base_uri": "https://localhost:8080/"
        },
        "id": "ptvLSyBIambC",
        "outputId": "c130d388-ead9-4e99-b417-dca920a6a51f"
      },
      "execution_count": 7,
      "outputs": [
        {
          "output_type": "stream",
          "name": "stdout",
          "text": [
            "Response(status_code=<HTTPStatus.OK: 200>, content=b'{\"data\":{\"chatbot_avatar\":\"\",\"chatbot_background\":\"\",\"default_prompt\":\"Ask Me Anything ...\",\"example_questions\":null,\"response_source\":\"default\",\"chatbot_msg_lang\":\"en\",\"remove_branding\":false,\"chatbot_color\":\"#7367f0\"},\"status\":\"success\"}', headers=Headers({'server': 'nginx', 'content-type': 'application/json', 'transfer-encoding': 'chunked', 'connection': 'keep-alive', 'vary': 'Accept-Encoding', 'cache-control': 'no-cache, private', 'date': 'Tue, 27 Jun 2023 18:02:28 GMT', 'x-ratelimit-limit': '60', 'x-ratelimit-remaining': '57', 'access-control-allow-origin': '*', 'x-xss-protection': '1; mode=block', 'x-content-type-options': 'nosniff', 'content-encoding': 'gzip'}), parsed=GetProjectSettingsResponse200(status=<GetProjectSettingsResponse200Status.SUCCESS: 'success'>, data=GetProjectSettingsResponse200Data(chatbot_avatar='', chatbot_background='', default_prompt='Ask Me Anything ...', example_questions=None, response_source=<GetProjectSettingsResponse200DataResponseSource.DEFAULT: 'default'>, chatbot_msg_lang='en', additional_properties={'remove_branding': False, 'chatbot_color': '#7367f0'}), additional_properties={}))\n"
          ]
        }
      ]
    }
  ],
  "metadata": {
    "colab": {
      "provenance": []
    },
    "kernelspec": {
      "display_name": "Python 3",
      "language": "python",
      "name": "python3"
    },
    "language_info": {
      "codemirror_mode": {
        "name": "ipython",
        "version": 3
      },
      "file_extension": ".py",
      "mimetype": "text/x-python",
      "name": "python",
      "nbconvert_exporter": "python",
      "pygments_lexer": "ipython3",
      "version": "3.11.2"
    }
  },
  "nbformat": 4,
  "nbformat_minor": 0
}
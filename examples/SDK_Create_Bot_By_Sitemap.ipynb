{
  "cells": [
    {
      "cell_type": "code",
      "source": [
        "!pip install customgpt-client==1.1.2"
      ],
      "metadata": {
        "colab": {
          "base_uri": "https://localhost:8080/"
        },
        "id": "cMS4FTgtE0s1",
        "outputId": "a8d76a54-2aa2-4717-fb3d-4761308ee438"
      },
      "execution_count": null,
      "outputs": [
        {
          "output_type": "stream",
          "name": "stdout",
          "text": [
            "Looking in indexes: https://pypi.org/simple, https://us-python.pkg.dev/colab-wheels/public/simple/\n",
            "Collecting customgpt-client==1.1.2\n",
            "  Downloading customgpt_client-1.1.2-py3-none-any.whl (304 kB)\n",
            "\u001b[2K     \u001b[90m━━━━━━━━━━━━━━━━━━━━━━━━━━━━━━━━━━━━━━\u001b[0m \u001b[32m304.7/304.7 kB\u001b[0m \u001b[31m11.7 MB/s\u001b[0m eta \u001b[36m0:00:00\u001b[0m\n",
            "\u001b[?25hRequirement already satisfied: attrs>=21.3.0 in /usr/local/lib/python3.10/dist-packages (from customgpt-client==1.1.2) (23.1.0)\n",
            "Collecting httpx<0.25.0,>=0.15.4 (from customgpt-client==1.1.2)\n",
            "  Downloading httpx-0.24.1-py3-none-any.whl (75 kB)\n",
            "\u001b[2K     \u001b[90m━━━━━━━━━━━━━━━━━━━━━━━━━━━━━━━━━━━━━━━━\u001b[0m \u001b[32m75.4/75.4 kB\u001b[0m \u001b[31m8.0 MB/s\u001b[0m eta \u001b[36m0:00:00\u001b[0m\n",
            "\u001b[?25hRequirement already satisfied: python-dateutil<3.0.0,>=2.8.0 in /usr/local/lib/python3.10/dist-packages (from customgpt-client==1.1.2) (2.8.2)\n",
            "Requirement already satisfied: certifi in /usr/local/lib/python3.10/dist-packages (from httpx<0.25.0,>=0.15.4->customgpt-client==1.1.2) (2023.5.7)\n",
            "Collecting httpcore<0.18.0,>=0.15.0 (from httpx<0.25.0,>=0.15.4->customgpt-client==1.1.2)\n",
            "  Downloading httpcore-0.17.2-py3-none-any.whl (72 kB)\n",
            "\u001b[2K     \u001b[90m━━━━━━━━━━━━━━━━━━━━━━━━━━━━━━━━━━━━━━━━\u001b[0m \u001b[32m72.5/72.5 kB\u001b[0m \u001b[31m8.9 MB/s\u001b[0m eta \u001b[36m0:00:00\u001b[0m\n",
            "\u001b[?25hRequirement already satisfied: idna in /usr/local/lib/python3.10/dist-packages (from httpx<0.25.0,>=0.15.4->customgpt-client==1.1.2) (3.4)\n",
            "Requirement already satisfied: sniffio in /usr/local/lib/python3.10/dist-packages (from httpx<0.25.0,>=0.15.4->customgpt-client==1.1.2) (1.3.0)\n",
            "Requirement already satisfied: six>=1.5 in /usr/local/lib/python3.10/dist-packages (from python-dateutil<3.0.0,>=2.8.0->customgpt-client==1.1.2) (1.16.0)\n",
            "Collecting h11<0.15,>=0.13 (from httpcore<0.18.0,>=0.15.0->httpx<0.25.0,>=0.15.4->customgpt-client==1.1.2)\n",
            "  Downloading h11-0.14.0-py3-none-any.whl (58 kB)\n",
            "\u001b[2K     \u001b[90m━━━━━━━━━━━━━━━━━━━━━━━━━━━━━━━━━━━━━━━━\u001b[0m \u001b[32m58.3/58.3 kB\u001b[0m \u001b[31m7.2 MB/s\u001b[0m eta \u001b[36m0:00:00\u001b[0m\n",
            "\u001b[?25hRequirement already satisfied: anyio<5.0,>=3.0 in /usr/local/lib/python3.10/dist-packages (from httpcore<0.18.0,>=0.15.0->httpx<0.25.0,>=0.15.4->customgpt-client==1.1.2) (3.7.0)\n",
            "Requirement already satisfied: exceptiongroup in /usr/local/lib/python3.10/dist-packages (from anyio<5.0,>=3.0->httpcore<0.18.0,>=0.15.0->httpx<0.25.0,>=0.15.4->customgpt-client==1.1.2) (1.1.1)\n",
            "Installing collected packages: h11, httpcore, httpx, customgpt-client\n",
            "Successfully installed customgpt-client-1.1.2 h11-0.14.0 httpcore-0.17.2 httpx-0.24.1\n"
          ]
        }
      ]
    },
    {
      "cell_type": "markdown",
      "metadata": {
        "id": "PAWpaaSa1WLi"
      },
      "source": [
        "**Create your custom chat bot using a sitemap.**\n"
      ]
    },
    {
      "cell_type": "code",
      "execution_count": null,
      "metadata": {
        "id": "Hc9SsdoR1WLm"
      },
      "outputs": [],
      "source": [
        "from customgpt_client import CustomGPT\n",
        "CustomGPT.api_key = \"YOUR_API_TOKEN\""
      ]
    },
    {
      "cell_type": "markdown",
      "metadata": {
        "id": "Z1ISHsxb1WLo"
      },
      "source": [
        "**An example for to create a project with a sitemap**"
      ]
    },
    {
      "cell_type": "code",
      "execution_count": null,
      "metadata": {
        "id": "PNbGtm_A1WLp",
        "colab": {
          "base_uri": "https://localhost:8080/"
        },
        "outputId": "f7eff879-6ec2-4acd-87db-c701f1ea3a7d"
      },
      "outputs": [
        {
          "output_type": "stream",
          "name": "stdout",
          "text": [
            "Response(status_code=<HTTPStatus.CREATED: 201>, content=b'{\"data\":{\"id\":570,\"project_name\":\"Example ChatBot using Sitemap\",\"sitemap_path\":null,\"user_id\":35,\"is_chat_active\":null,\"created_at\":\"2023-06-26T12:44:06.000000Z\",\"updated_at\":\"2023-06-26T12:44:06.000000Z\",\"is_shared\":null,\"deleted_at\":null,\"type\":\"SITEMAP\"},\"status\":\"success\"}', headers=Headers({'server': 'nginx', 'content-type': 'application/json', 'transfer-encoding': 'chunked', 'connection': 'keep-alive', 'cache-control': 'no-cache, private', 'date': 'Mon, 26 Jun 2023 12:44:06 GMT', 'x-ratelimit-limit': '60', 'x-ratelimit-remaining': '59', 'access-control-allow-origin': '*', 'x-xss-protection': '1; mode=block', 'x-content-type-options': 'nosniff'}), parsed=CreateProjectResponse201(status=<CreateProjectResponse201Status.SUCCESS: 'success'>, data=CreateProjectResponse201Data(id=570, project_name='Example ChatBot using Sitemap', sitemap_path=None, is_chat_active=None, user_id=35, created_at=datetime.datetime(2023, 6, 26, 12, 44, 6, tzinfo=tzutc()), updated_at=datetime.datetime(2023, 6, 26, 12, 44, 6, tzinfo=tzutc()), deleted_at=None, type=<CreateProjectResponse201DataType.SITEMAP: 'SITEMAP'>, is_shared=None, shareable_slug=<customgpt_client.types.Unset object at 0x7f0a0c159ea0>, shareable_link=<customgpt_client.types.Unset object at 0x7f0a0c159ea0>, embed_code=<customgpt_client.types.Unset object at 0x7f0a0c159ea0>, live_chat_code=<customgpt_client.types.Unset object at 0x7f0a0c159ea0>, additional_properties={}), additional_properties={}))\n"
          ]
        }
      ],
      "source": [
        "# Give a name to your project\n",
        "project_name = 'Example ChatBot using Sitemap'\n",
        "sitemap_path = 'https://adorosario.github.io/small-sitemap.xml'\n",
        "\n",
        "create_project = CustomGPT.Project.create(project_name=project_name, sitemap_path=sitemap_path)\n",
        "print(create_project)"
      ]
    },
    {
      "cell_type": "code",
      "execution_count": null,
      "metadata": {
        "id": "D1La0GFc1WLq",
        "colab": {
          "base_uri": "https://localhost:8080/"
        },
        "outputId": "78cdda17-967c-4d7f-f26f-ab7880e7e8c8"
      },
      "outputs": [
        {
          "output_type": "stream",
          "name": "stdout",
          "text": [
            "0\n"
          ]
        }
      ],
      "source": [
        "# Check status of the project if chat bot is active\n",
        "data = create_project.parsed.data\n",
        "\n",
        "# Get project id from response for created project\n",
        "project_id = data.id\n",
        "\n",
        "# Check if chat bot is active using `is_chat_active` flag in project detail response\n",
        "# GET project details\n",
        "get_project = CustomGPT.Project.get(project_id=project_id)\n",
        "project_data = get_project.parsed\n",
        "is_chat_active = project_data.data.is_chat_active\n",
        "\n",
        "print(is_chat_active)\n",
        "\n",
        "# One can poll this GET project details API to check if chat bot is active before starting a conversation\n"
      ]
    },
    {
      "cell_type": "code",
      "execution_count": null,
      "metadata": {
        "id": "ZnAs_Bhe1WLr",
        "colab": {
          "base_uri": "https://localhost:8080/"
        },
        "outputId": "ae6b390b-151b-42f0-f882-c4bb1f159f46"
      },
      "outputs": [
        {
          "output_type": "stream",
          "name": "stdout",
          "text": [
            "CreateProjectConversationResponse201(status=<CreateProjectConversationResponse201Status.SUCCESS: 'success'>, data=CreateProjectConversationResponse201Data(created_at=datetime.datetime(2023, 6, 26, 12, 44, 11, tzinfo=tzutc()), updated_at=datetime.datetime(2023, 6, 26, 12, 44, 11, tzinfo=tzutc()), deleted_at=<customgpt_client.types.Unset object at 0x7f0a0c159ea0>, id=239, name='My First Conversation', project_id=570, created_by=35, session_id='92fbe336-c852-4807-bee4-eb1348d24a87', additional_properties={}), additional_properties={})\n"
          ]
        }
      ],
      "source": [
        "# Create a conversation before sending a message to the chat bot\n",
        "project_conversataion = CustomGPT.Conversation.create(project_id=project_id, name=\"My First Conversation\")\n",
        "project_data = project_conversataion.parsed\n",
        "print(project_data)"
      ]
    },
    {
      "cell_type": "code",
      "execution_count": null,
      "metadata": {
        "id": "B4gnIWk31WLs",
        "colab": {
          "base_uri": "https://localhost:8080/"
        },
        "outputId": "fa69fc92-649a-425d-bc97-e364fdc1ae06"
      },
      "outputs": [
        {
          "output_type": "stream",
          "name": "stdout",
          "text": [
            "Response(status_code=<HTTPStatus.OK: 200>, content={'status': 'start', 'prompt': 'Who is Tom Brady'}, headers=Headers({'server': 'nginx', 'content-type': 'text/event-stream; charset=UTF-8', 'transfer-encoding': 'chunked', 'connection': 'keep-alive', 'cache-control': 'no-cache, private', 'date': 'Mon, 26 Jun 2023 12:44:57 GMT', 'x-ratelimit-limit': '60', 'x-ratelimit-remaining': '50', 'access-control-allow-origin': '*', 'x-xss-protection': '1; mode=block', 'x-content-type-options': 'nosniff'}), parsed=None)\n",
            "Response(status_code=<HTTPStatus.OK: 200>, content={'status': 'progress', 'message': 'Tom '}, headers=Headers({'server': 'nginx', 'content-type': 'text/event-stream; charset=UTF-8', 'transfer-encoding': 'chunked', 'connection': 'keep-alive', 'cache-control': 'no-cache, private', 'date': 'Mon, 26 Jun 2023 12:44:57 GMT', 'x-ratelimit-limit': '60', 'x-ratelimit-remaining': '50', 'access-control-allow-origin': '*', 'x-xss-protection': '1; mode=block', 'x-content-type-options': 'nosniff'}), parsed=None)\n",
            "Response(status_code=<HTTPStatus.OK: 200>, content={'status': 'progress', 'message': 'Brady '}, headers=Headers({'server': 'nginx', 'content-type': 'text/event-stream; charset=UTF-8', 'transfer-encoding': 'chunked', 'connection': 'keep-alive', 'cache-control': 'no-cache, private', 'date': 'Mon, 26 Jun 2023 12:44:57 GMT', 'x-ratelimit-limit': '60', 'x-ratelimit-remaining': '50', 'access-control-allow-origin': '*', 'x-xss-protection': '1; mode=block', 'x-content-type-options': 'nosniff'}), parsed=None)\n",
            "Response(status_code=<HTTPStatus.OK: 200>, content={'status': 'progress', 'message': 'is '}, headers=Headers({'server': 'nginx', 'content-type': 'text/event-stream; charset=UTF-8', 'transfer-encoding': 'chunked', 'connection': 'keep-alive', 'cache-control': 'no-cache, private', 'date': 'Mon, 26 Jun 2023 12:44:57 GMT', 'x-ratelimit-limit': '60', 'x-ratelimit-remaining': '50', 'access-control-allow-origin': '*', 'x-xss-protection': '1; mode=block', 'x-content-type-options': 'nosniff'}), parsed=None)\n",
            "Response(status_code=<HTTPStatus.OK: 200>, content={'status': 'progress', 'message': 'the '}, headers=Headers({'server': 'nginx', 'content-type': 'text/event-stream; charset=UTF-8', 'transfer-encoding': 'chunked', 'connection': 'keep-alive', 'cache-control': 'no-cache, private', 'date': 'Mon, 26 Jun 2023 12:44:57 GMT', 'x-ratelimit-limit': '60', 'x-ratelimit-remaining': '50', 'access-control-allow-origin': '*', 'x-xss-protection': '1; mode=block', 'x-content-type-options': 'nosniff'}), parsed=None)\n",
            "Response(status_code=<HTTPStatus.OK: 200>, content={'status': 'progress', 'message': 'most '}, headers=Headers({'server': 'nginx', 'content-type': 'text/event-stream; charset=UTF-8', 'transfer-encoding': 'chunked', 'connection': 'keep-alive', 'cache-control': 'no-cache, private', 'date': 'Mon, 26 Jun 2023 12:44:57 GMT', 'x-ratelimit-limit': '60', 'x-ratelimit-remaining': '50', 'access-control-allow-origin': '*', 'x-xss-protection': '1; mode=block', 'x-content-type-options': 'nosniff'}), parsed=None)\n",
            "Response(status_code=<HTTPStatus.OK: 200>, content={'status': 'progress', 'message': 'successful '}, headers=Headers({'server': 'nginx', 'content-type': 'text/event-stream; charset=UTF-8', 'transfer-encoding': 'chunked', 'connection': 'keep-alive', 'cache-control': 'no-cache, private', 'date': 'Mon, 26 Jun 2023 12:44:57 GMT', 'x-ratelimit-limit': '60', 'x-ratelimit-remaining': '50', 'access-control-allow-origin': '*', 'x-xss-protection': '1; mode=block', 'x-content-type-options': 'nosniff'}), parsed=None)\n",
            "Response(status_code=<HTTPStatus.OK: 200>, content={'status': 'progress', 'message': 'quarterback '}, headers=Headers({'server': 'nginx', 'content-type': 'text/event-stream; charset=UTF-8', 'transfer-encoding': 'chunked', 'connection': 'keep-alive', 'cache-control': 'no-cache, private', 'date': 'Mon, 26 Jun 2023 12:44:57 GMT', 'x-ratelimit-limit': '60', 'x-ratelimit-remaining': '50', 'access-control-allow-origin': '*', 'x-xss-protection': '1; mode=block', 'x-content-type-options': 'nosniff'}), parsed=None)\n",
            "Response(status_code=<HTTPStatus.OK: 200>, content={'status': 'progress', 'message': 'in '}, headers=Headers({'server': 'nginx', 'content-type': 'text/event-stream; charset=UTF-8', 'transfer-encoding': 'chunked', 'connection': 'keep-alive', 'cache-control': 'no-cache, private', 'date': 'Mon, 26 Jun 2023 12:44:57 GMT', 'x-ratelimit-limit': '60', 'x-ratelimit-remaining': '50', 'access-control-allow-origin': '*', 'x-xss-protection': '1; mode=block', 'x-content-type-options': 'nosniff'}), parsed=None)\n",
            "Response(status_code=<HTTPStatus.OK: 200>, content={'status': 'progress', 'message': 'NFL '}, headers=Headers({'server': 'nginx', 'content-type': 'text/event-stream; charset=UTF-8', 'transfer-encoding': 'chunked', 'connection': 'keep-alive', 'cache-control': 'no-cache, private', 'date': 'Mon, 26 Jun 2023 12:44:57 GMT', 'x-ratelimit-limit': '60', 'x-ratelimit-remaining': '50', 'access-control-allow-origin': '*', 'x-xss-protection': '1; mode=block', 'x-content-type-options': 'nosniff'}), parsed=None)\n",
            "Response(status_code=<HTTPStatus.OK: 200>, content={'status': 'progress', 'message': 'history '}, headers=Headers({'server': 'nginx', 'content-type': 'text/event-stream; charset=UTF-8', 'transfer-encoding': 'chunked', 'connection': 'keep-alive', 'cache-control': 'no-cache, private', 'date': 'Mon, 26 Jun 2023 12:44:57 GMT', 'x-ratelimit-limit': '60', 'x-ratelimit-remaining': '50', 'access-control-allow-origin': '*', 'x-xss-protection': '1; mode=block', 'x-content-type-options': 'nosniff'}), parsed=None)\n",
            "Response(status_code=<HTTPStatus.OK: 200>, content={'status': 'progress', 'message': 'and '}, headers=Headers({'server': 'nginx', 'content-type': 'text/event-stream; charset=UTF-8', 'transfer-encoding': 'chunked', 'connection': 'keep-alive', 'cache-control': 'no-cache, private', 'date': 'Mon, 26 Jun 2023 12:44:57 GMT', 'x-ratelimit-limit': '60', 'x-ratelimit-remaining': '50', 'access-control-allow-origin': '*', 'x-xss-protection': '1; mode=block', 'x-content-type-options': 'nosniff'}), parsed=None)\n",
            "Response(status_code=<HTTPStatus.OK: 200>, content={'status': 'progress', 'message': 'one '}, headers=Headers({'server': 'nginx', 'content-type': 'text/event-stream; charset=UTF-8', 'transfer-encoding': 'chunked', 'connection': 'keep-alive', 'cache-control': 'no-cache, private', 'date': 'Mon, 26 Jun 2023 12:44:57 GMT', 'x-ratelimit-limit': '60', 'x-ratelimit-remaining': '50', 'access-control-allow-origin': '*', 'x-xss-protection': '1; mode=block', 'x-content-type-options': 'nosniff'}), parsed=None)\n",
            "Response(status_code=<HTTPStatus.OK: 200>, content={'status': 'progress', 'message': 'of '}, headers=Headers({'server': 'nginx', 'content-type': 'text/event-stream; charset=UTF-8', 'transfer-encoding': 'chunked', 'connection': 'keep-alive', 'cache-control': 'no-cache, private', 'date': 'Mon, 26 Jun 2023 12:44:57 GMT', 'x-ratelimit-limit': '60', 'x-ratelimit-remaining': '50', 'access-control-allow-origin': '*', 'x-xss-protection': '1; mode=block', 'x-content-type-options': 'nosniff'}), parsed=None)\n",
            "Response(status_code=<HTTPStatus.OK: 200>, content={'status': 'progress', 'message': 'the '}, headers=Headers({'server': 'nginx', 'content-type': 'text/event-stream; charset=UTF-8', 'transfer-encoding': 'chunked', 'connection': 'keep-alive', 'cache-control': 'no-cache, private', 'date': 'Mon, 26 Jun 2023 12:44:57 GMT', 'x-ratelimit-limit': '60', 'x-ratelimit-remaining': '50', 'access-control-allow-origin': '*', 'x-xss-protection': '1; mode=block', 'x-content-type-options': 'nosniff'}), parsed=None)\n",
            "Response(status_code=<HTTPStatus.OK: 200>, content={'status': 'progress', 'message': 'greatest '}, headers=Headers({'server': 'nginx', 'content-type': 'text/event-stream; charset=UTF-8', 'transfer-encoding': 'chunked', 'connection': 'keep-alive', 'cache-control': 'no-cache, private', 'date': 'Mon, 26 Jun 2023 12:44:57 GMT', 'x-ratelimit-limit': '60', 'x-ratelimit-remaining': '50', 'access-control-allow-origin': '*', 'x-xss-protection': '1; mode=block', 'x-content-type-options': 'nosniff'}), parsed=None)\n",
            "Response(status_code=<HTTPStatus.OK: 200>, content={'status': 'progress', 'message': 'champions '}, headers=Headers({'server': 'nginx', 'content-type': 'text/event-stream; charset=UTF-8', 'transfer-encoding': 'chunked', 'connection': 'keep-alive', 'cache-control': 'no-cache, private', 'date': 'Mon, 26 Jun 2023 12:44:57 GMT', 'x-ratelimit-limit': '60', 'x-ratelimit-remaining': '50', 'access-control-allow-origin': '*', 'x-xss-protection': '1; mode=block', 'x-content-type-options': 'nosniff'}), parsed=None)\n",
            "Response(status_code=<HTTPStatus.OK: 200>, content={'status': 'progress', 'message': 'in '}, headers=Headers({'server': 'nginx', 'content-type': 'text/event-stream; charset=UTF-8', 'transfer-encoding': 'chunked', 'connection': 'keep-alive', 'cache-control': 'no-cache, private', 'date': 'Mon, 26 Jun 2023 12:44:57 GMT', 'x-ratelimit-limit': '60', 'x-ratelimit-remaining': '50', 'access-control-allow-origin': '*', 'x-xss-protection': '1; mode=block', 'x-content-type-options': 'nosniff'}), parsed=None)\n",
            "Response(status_code=<HTTPStatus.OK: 200>, content={'status': 'progress', 'message': 'professional '}, headers=Headers({'server': 'nginx', 'content-type': 'text/event-stream; charset=UTF-8', 'transfer-encoding': 'chunked', 'connection': 'keep-alive', 'cache-control': 'no-cache, private', 'date': 'Mon, 26 Jun 2023 12:44:57 GMT', 'x-ratelimit-limit': '60', 'x-ratelimit-remaining': '50', 'access-control-allow-origin': '*', 'x-xss-protection': '1; mode=block', 'x-content-type-options': 'nosniff'}), parsed=None)\n",
            "Response(status_code=<HTTPStatus.OK: 200>, content={'status': 'progress', 'message': 'sports. '}, headers=Headers({'server': 'nginx', 'content-type': 'text/event-stream; charset=UTF-8', 'transfer-encoding': 'chunked', 'connection': 'keep-alive', 'cache-control': 'no-cache, private', 'date': 'Mon, 26 Jun 2023 12:44:57 GMT', 'x-ratelimit-limit': '60', 'x-ratelimit-remaining': '50', 'access-control-allow-origin': '*', 'x-xss-protection': '1; mode=block', 'x-content-type-options': 'nosniff'}), parsed=None)\n",
            "Response(status_code=<HTTPStatus.OK: 200>, content={'status': 'progress', 'message': 'He '}, headers=Headers({'server': 'nginx', 'content-type': 'text/event-stream; charset=UTF-8', 'transfer-encoding': 'chunked', 'connection': 'keep-alive', 'cache-control': 'no-cache, private', 'date': 'Mon, 26 Jun 2023 12:44:57 GMT', 'x-ratelimit-limit': '60', 'x-ratelimit-remaining': '50', 'access-control-allow-origin': '*', 'x-xss-protection': '1; mode=block', 'x-content-type-options': 'nosniff'}), parsed=None)\n",
            "Response(status_code=<HTTPStatus.OK: 200>, content={'status': 'progress', 'message': 'has '}, headers=Headers({'server': 'nginx', 'content-type': 'text/event-stream; charset=UTF-8', 'transfer-encoding': 'chunked', 'connection': 'keep-alive', 'cache-control': 'no-cache, private', 'date': 'Mon, 26 Jun 2023 12:44:57 GMT', 'x-ratelimit-limit': '60', 'x-ratelimit-remaining': '50', 'access-control-allow-origin': '*', 'x-xss-protection': '1; mode=block', 'x-content-type-options': 'nosniff'}), parsed=None)\n",
            "Response(status_code=<HTTPStatus.OK: 200>, content={'status': 'progress', 'message': 'retired '}, headers=Headers({'server': 'nginx', 'content-type': 'text/event-stream; charset=UTF-8', 'transfer-encoding': 'chunked', 'connection': 'keep-alive', 'cache-control': 'no-cache, private', 'date': 'Mon, 26 Jun 2023 12:44:57 GMT', 'x-ratelimit-limit': '60', 'x-ratelimit-remaining': '50', 'access-control-allow-origin': '*', 'x-xss-protection': '1; mode=block', 'x-content-type-options': 'nosniff'}), parsed=None)\n",
            "Response(status_code=<HTTPStatus.OK: 200>, content={'status': 'progress', 'message': 'after '}, headers=Headers({'server': 'nginx', 'content-type': 'text/event-stream; charset=UTF-8', 'transfer-encoding': 'chunked', 'connection': 'keep-alive', 'cache-control': 'no-cache, private', 'date': 'Mon, 26 Jun 2023 12:44:57 GMT', 'x-ratelimit-limit': '60', 'x-ratelimit-remaining': '50', 'access-control-allow-origin': '*', 'x-xss-protection': '1; mode=block', 'x-content-type-options': 'nosniff'}), parsed=None)\n",
            "Response(status_code=<HTTPStatus.OK: 200>, content={'status': 'progress', 'message': 'winning '}, headers=Headers({'server': 'nginx', 'content-type': 'text/event-stream; charset=UTF-8', 'transfer-encoding': 'chunked', 'connection': 'keep-alive', 'cache-control': 'no-cache, private', 'date': 'Mon, 26 Jun 2023 12:44:57 GMT', 'x-ratelimit-limit': '60', 'x-ratelimit-remaining': '50', 'access-control-allow-origin': '*', 'x-xss-protection': '1; mode=block', 'x-content-type-options': 'nosniff'}), parsed=None)\n",
            "Response(status_code=<HTTPStatus.OK: 200>, content={'status': 'progress', 'message': 'seven '}, headers=Headers({'server': 'nginx', 'content-type': 'text/event-stream; charset=UTF-8', 'transfer-encoding': 'chunked', 'connection': 'keep-alive', 'cache-control': 'no-cache, private', 'date': 'Mon, 26 Jun 2023 12:44:57 GMT', 'x-ratelimit-limit': '60', 'x-ratelimit-remaining': '50', 'access-control-allow-origin': '*', 'x-xss-protection': '1; mode=block', 'x-content-type-options': 'nosniff'}), parsed=None)\n",
            "Response(status_code=<HTTPStatus.OK: 200>, content={'status': 'progress', 'message': 'Super '}, headers=Headers({'server': 'nginx', 'content-type': 'text/event-stream; charset=UTF-8', 'transfer-encoding': 'chunked', 'connection': 'keep-alive', 'cache-control': 'no-cache, private', 'date': 'Mon, 26 Jun 2023 12:44:57 GMT', 'x-ratelimit-limit': '60', 'x-ratelimit-remaining': '50', 'access-control-allow-origin': '*', 'x-xss-protection': '1; mode=block', 'x-content-type-options': 'nosniff'}), parsed=None)\n",
            "Response(status_code=<HTTPStatus.OK: 200>, content={'status': 'progress', 'message': 'Bowls '}, headers=Headers({'server': 'nginx', 'content-type': 'text/event-stream; charset=UTF-8', 'transfer-encoding': 'chunked', 'connection': 'keep-alive', 'cache-control': 'no-cache, private', 'date': 'Mon, 26 Jun 2023 12:44:57 GMT', 'x-ratelimit-limit': '60', 'x-ratelimit-remaining': '50', 'access-control-allow-origin': '*', 'x-xss-protection': '1; mode=block', 'x-content-type-options': 'nosniff'}), parsed=None)\n",
            "Response(status_code=<HTTPStatus.OK: 200>, content={'status': 'progress', 'message': 'and '}, headers=Headers({'server': 'nginx', 'content-type': 'text/event-stream; charset=UTF-8', 'transfer-encoding': 'chunked', 'connection': 'keep-alive', 'cache-control': 'no-cache, private', 'date': 'Mon, 26 Jun 2023 12:44:57 GMT', 'x-ratelimit-limit': '60', 'x-ratelimit-remaining': '50', 'access-control-allow-origin': '*', 'x-xss-protection': '1; mode=block', 'x-content-type-options': 'nosniff'}), parsed=None)\n",
            "Response(status_code=<HTTPStatus.OK: 200>, content={'status': 'progress', 'message': 'setting '}, headers=Headers({'server': 'nginx', 'content-type': 'text/event-stream; charset=UTF-8', 'transfer-encoding': 'chunked', 'connection': 'keep-alive', 'cache-control': 'no-cache, private', 'date': 'Mon, 26 Jun 2023 12:44:57 GMT', 'x-ratelimit-limit': '60', 'x-ratelimit-remaining': '50', 'access-control-allow-origin': '*', 'x-xss-protection': '1; mode=block', 'x-content-type-options': 'nosniff'}), parsed=None)\n",
            "Response(status_code=<HTTPStatus.OK: 200>, content={'status': 'progress', 'message': 'numerous '}, headers=Headers({'server': 'nginx', 'content-type': 'text/event-stream; charset=UTF-8', 'transfer-encoding': 'chunked', 'connection': 'keep-alive', 'cache-control': 'no-cache, private', 'date': 'Mon, 26 Jun 2023 12:44:57 GMT', 'x-ratelimit-limit': '60', 'x-ratelimit-remaining': '50', 'access-control-allow-origin': '*', 'x-xss-protection': '1; mode=block', 'x-content-type-options': 'nosniff'}), parsed=None)\n",
            "Response(status_code=<HTTPStatus.OK: 200>, content={'status': 'progress', 'message': 'passing '}, headers=Headers({'server': 'nginx', 'content-type': 'text/event-stream; charset=UTF-8', 'transfer-encoding': 'chunked', 'connection': 'keep-alive', 'cache-control': 'no-cache, private', 'date': 'Mon, 26 Jun 2023 12:44:57 GMT', 'x-ratelimit-limit': '60', 'x-ratelimit-remaining': '50', 'access-control-allow-origin': '*', 'x-xss-protection': '1; mode=block', 'x-content-type-options': 'nosniff'}), parsed=None)\n",
            "Response(status_code=<HTTPStatus.OK: 200>, content={'status': 'progress', 'message': 'records '}, headers=Headers({'server': 'nginx', 'content-type': 'text/event-stream; charset=UTF-8', 'transfer-encoding': 'chunked', 'connection': 'keep-alive', 'cache-control': 'no-cache, private', 'date': 'Mon, 26 Jun 2023 12:44:57 GMT', 'x-ratelimit-limit': '60', 'x-ratelimit-remaining': '50', 'access-control-allow-origin': '*', 'x-xss-protection': '1; mode=block', 'x-content-type-options': 'nosniff'}), parsed=None)\n",
            "Response(status_code=<HTTPStatus.OK: 200>, content={'status': 'progress', 'message': 'in '}, headers=Headers({'server': 'nginx', 'content-type': 'text/event-stream; charset=UTF-8', 'transfer-encoding': 'chunked', 'connection': 'keep-alive', 'cache-control': 'no-cache, private', 'date': 'Mon, 26 Jun 2023 12:44:57 GMT', 'x-ratelimit-limit': '60', 'x-ratelimit-remaining': '50', 'access-control-allow-origin': '*', 'x-xss-protection': '1; mode=block', 'x-content-type-options': 'nosniff'}), parsed=None)\n",
            "Response(status_code=<HTTPStatus.OK: 200>, content={'status': 'progress', 'message': 'an '}, headers=Headers({'server': 'nginx', 'content-type': 'text/event-stream; charset=UTF-8', 'transfer-encoding': 'chunked', 'connection': 'keep-alive', 'cache-control': 'no-cache, private', 'date': 'Mon, 26 Jun 2023 12:44:57 GMT', 'x-ratelimit-limit': '60', 'x-ratelimit-remaining': '50', 'access-control-allow-origin': '*', 'x-xss-protection': '1; mode=block', 'x-content-type-options': 'nosniff'}), parsed=None)\n",
            "Response(status_code=<HTTPStatus.OK: 200>, content={'status': 'progress', 'message': 'unprecedented '}, headers=Headers({'server': 'nginx', 'content-type': 'text/event-stream; charset=UTF-8', 'transfer-encoding': 'chunked', 'connection': 'keep-alive', 'cache-control': 'no-cache, private', 'date': 'Mon, 26 Jun 2023 12:44:57 GMT', 'x-ratelimit-limit': '60', 'x-ratelimit-remaining': '50', 'access-control-allow-origin': '*', 'x-xss-protection': '1; mode=block', 'x-content-type-options': 'nosniff'}), parsed=None)\n",
            "Response(status_code=<HTTPStatus.OK: 200>, content={'status': 'progress', 'message': '22-year '}, headers=Headers({'server': 'nginx', 'content-type': 'text/event-stream; charset=UTF-8', 'transfer-encoding': 'chunked', 'connection': 'keep-alive', 'cache-control': 'no-cache, private', 'date': 'Mon, 26 Jun 2023 12:44:57 GMT', 'x-ratelimit-limit': '60', 'x-ratelimit-remaining': '50', 'access-control-allow-origin': '*', 'x-xss-protection': '1; mode=block', 'x-content-type-options': 'nosniff'}), parsed=None)\n",
            "Response(status_code=<HTTPStatus.OK: 200>, content={'status': 'progress', 'message': 'career. '}, headers=Headers({'server': 'nginx', 'content-type': 'text/event-stream; charset=UTF-8', 'transfer-encoding': 'chunked', 'connection': 'keep-alive', 'cache-control': 'no-cache, private', 'date': 'Mon, 26 Jun 2023 12:44:57 GMT', 'x-ratelimit-limit': '60', 'x-ratelimit-remaining': '50', 'access-control-allow-origin': '*', 'x-xss-protection': '1; mode=block', 'x-content-type-options': 'nosniff'}), parsed=None)\n",
            "Response(status_code=<HTTPStatus.OK: 200>, content={'status': 'progress', 'message': 'He '}, headers=Headers({'server': 'nginx', 'content-type': 'text/event-stream; charset=UTF-8', 'transfer-encoding': 'chunked', 'connection': 'keep-alive', 'cache-control': 'no-cache, private', 'date': 'Mon, 26 Jun 2023 12:44:57 GMT', 'x-ratelimit-limit': '60', 'x-ratelimit-remaining': '50', 'access-control-allow-origin': '*', 'x-xss-protection': '1; mode=block', 'x-content-type-options': 'nosniff'}), parsed=None)\n",
            "Response(status_code=<HTTPStatus.OK: 200>, content={'status': 'progress', 'message': 'is '}, headers=Headers({'server': 'nginx', 'content-type': 'text/event-stream; charset=UTF-8', 'transfer-encoding': 'chunked', 'connection': 'keep-alive', 'cache-control': 'no-cache, private', 'date': 'Mon, 26 Jun 2023 12:44:57 GMT', 'x-ratelimit-limit': '60', 'x-ratelimit-remaining': '50', 'access-control-allow-origin': '*', 'x-xss-protection': '1; mode=block', 'x-content-type-options': 'nosniff'}), parsed=None)\n",
            "Response(status_code=<HTTPStatus.OK: 200>, content={'status': 'progress', 'message': 'the '}, headers=Headers({'server': 'nginx', 'content-type': 'text/event-stream; charset=UTF-8', 'transfer-encoding': 'chunked', 'connection': 'keep-alive', 'cache-control': 'no-cache, private', 'date': 'Mon, 26 Jun 2023 12:44:57 GMT', 'x-ratelimit-limit': '60', 'x-ratelimit-remaining': '50', 'access-control-allow-origin': '*', 'x-xss-protection': '1; mode=block', 'x-content-type-options': 'nosniff'}), parsed=None)\n",
            "Response(status_code=<HTTPStatus.OK: 200>, content={'status': 'progress', 'message': 'only '}, headers=Headers({'server': 'nginx', 'content-type': 'text/event-stream; charset=UTF-8', 'transfer-encoding': 'chunked', 'connection': 'keep-alive', 'cache-control': 'no-cache, private', 'date': 'Mon, 26 Jun 2023 12:44:57 GMT', 'x-ratelimit-limit': '60', 'x-ratelimit-remaining': '50', 'access-control-allow-origin': '*', 'x-xss-protection': '1; mode=block', 'x-content-type-options': 'nosniff'}), parsed=None)\n",
            "Response(status_code=<HTTPStatus.OK: 200>, content={'status': 'progress', 'message': 'player '}, headers=Headers({'server': 'nginx', 'content-type': 'text/event-stream; charset=UTF-8', 'transfer-encoding': 'chunked', 'connection': 'keep-alive', 'cache-control': 'no-cache, private', 'date': 'Mon, 26 Jun 2023 12:44:57 GMT', 'x-ratelimit-limit': '60', 'x-ratelimit-remaining': '50', 'access-control-allow-origin': '*', 'x-xss-protection': '1; mode=block', 'x-content-type-options': 'nosniff'}), parsed=None)\n",
            "Response(status_code=<HTTPStatus.OK: 200>, content={'status': 'progress', 'message': 'to '}, headers=Headers({'server': 'nginx', 'content-type': 'text/event-stream; charset=UTF-8', 'transfer-encoding': 'chunked', 'connection': 'keep-alive', 'cache-control': 'no-cache, private', 'date': 'Mon, 26 Jun 2023 12:44:57 GMT', 'x-ratelimit-limit': '60', 'x-ratelimit-remaining': '50', 'access-control-allow-origin': '*', 'x-xss-protection': '1; mode=block', 'x-content-type-options': 'nosniff'}), parsed=None)\n",
            "Response(status_code=<HTTPStatus.OK: 200>, content={'status': 'progress', 'message': 'win '}, headers=Headers({'server': 'nginx', 'content-type': 'text/event-stream; charset=UTF-8', 'transfer-encoding': 'chunked', 'connection': 'keep-alive', 'cache-control': 'no-cache, private', 'date': 'Mon, 26 Jun 2023 12:44:57 GMT', 'x-ratelimit-limit': '60', 'x-ratelimit-remaining': '50', 'access-control-allow-origin': '*', 'x-xss-protection': '1; mode=block', 'x-content-type-options': 'nosniff'}), parsed=None)\n",
            "Response(status_code=<HTTPStatus.OK: 200>, content={'status': 'progress', 'message': 'more '}, headers=Headers({'server': 'nginx', 'content-type': 'text/event-stream; charset=UTF-8', 'transfer-encoding': 'chunked', 'connection': 'keep-alive', 'cache-control': 'no-cache, private', 'date': 'Mon, 26 Jun 2023 12:44:57 GMT', 'x-ratelimit-limit': '60', 'x-ratelimit-remaining': '50', 'access-control-allow-origin': '*', 'x-xss-protection': '1; mode=block', 'x-content-type-options': 'nosniff'}), parsed=None)\n",
            "Response(status_code=<HTTPStatus.OK: 200>, content={'status': 'progress', 'message': 'than '}, headers=Headers({'server': 'nginx', 'content-type': 'text/event-stream; charset=UTF-8', 'transfer-encoding': 'chunked', 'connection': 'keep-alive', 'cache-control': 'no-cache, private', 'date': 'Mon, 26 Jun 2023 12:44:57 GMT', 'x-ratelimit-limit': '60', 'x-ratelimit-remaining': '50', 'access-control-allow-origin': '*', 'x-xss-protection': '1; mode=block', 'x-content-type-options': 'nosniff'}), parsed=None)\n",
            "Response(status_code=<HTTPStatus.OK: 200>, content={'status': 'progress', 'message': 'five '}, headers=Headers({'server': 'nginx', 'content-type': 'text/event-stream; charset=UTF-8', 'transfer-encoding': 'chunked', 'connection': 'keep-alive', 'cache-control': 'no-cache, private', 'date': 'Mon, 26 Jun 2023 12:44:57 GMT', 'x-ratelimit-limit': '60', 'x-ratelimit-remaining': '50', 'access-control-allow-origin': '*', 'x-xss-protection': '1; mode=block', 'x-content-type-options': 'nosniff'}), parsed=None)\n",
            "Response(status_code=<HTTPStatus.OK: 200>, content={'status': 'progress', 'message': 'Super '}, headers=Headers({'server': 'nginx', 'content-type': 'text/event-stream; charset=UTF-8', 'transfer-encoding': 'chunked', 'connection': 'keep-alive', 'cache-control': 'no-cache, private', 'date': 'Mon, 26 Jun 2023 12:44:57 GMT', 'x-ratelimit-limit': '60', 'x-ratelimit-remaining': '50', 'access-control-allow-origin': '*', 'x-xss-protection': '1; mode=block', 'x-content-type-options': 'nosniff'}), parsed=None)\n",
            "Response(status_code=<HTTPStatus.OK: 200>, content={'status': 'progress', 'message': 'Bowls '}, headers=Headers({'server': 'nginx', 'content-type': 'text/event-stream; charset=UTF-8', 'transfer-encoding': 'chunked', 'connection': 'keep-alive', 'cache-control': 'no-cache, private', 'date': 'Mon, 26 Jun 2023 12:44:57 GMT', 'x-ratelimit-limit': '60', 'x-ratelimit-remaining': '50', 'access-control-allow-origin': '*', 'x-xss-protection': '1; mode=block', 'x-content-type-options': 'nosniff'}), parsed=None)\n",
            "Response(status_code=<HTTPStatus.OK: 200>, content={'status': 'progress', 'message': 'and '}, headers=Headers({'server': 'nginx', 'content-type': 'text/event-stream; charset=UTF-8', 'transfer-encoding': 'chunked', 'connection': 'keep-alive', 'cache-control': 'no-cache, private', 'date': 'Mon, 26 Jun 2023 12:44:57 GMT', 'x-ratelimit-limit': '60', 'x-ratelimit-remaining': '50', 'access-control-allow-origin': '*', 'x-xss-protection': '1; mode=block', 'x-content-type-options': 'nosniff'}), parsed=None)\n",
            "Response(status_code=<HTTPStatus.OK: 200>, content={'status': 'progress', 'message': 'has '}, headers=Headers({'server': 'nginx', 'content-type': 'text/event-stream; charset=UTF-8', 'transfer-encoding': 'chunked', 'connection': 'keep-alive', 'cache-control': 'no-cache, private', 'date': 'Mon, 26 Jun 2023 12:44:57 GMT', 'x-ratelimit-limit': '60', 'x-ratelimit-remaining': '50', 'access-control-allow-origin': '*', 'x-xss-protection': '1; mode=block', 'x-content-type-options': 'nosniff'}), parsed=None)\n",
            "Response(status_code=<HTTPStatus.OK: 200>, content={'status': 'progress', 'message': 'been '}, headers=Headers({'server': 'nginx', 'content-type': 'text/event-stream; charset=UTF-8', 'transfer-encoding': 'chunked', 'connection': 'keep-alive', 'cache-control': 'no-cache, private', 'date': 'Mon, 26 Jun 2023 12:44:57 GMT', 'x-ratelimit-limit': '60', 'x-ratelimit-remaining': '50', 'access-control-allow-origin': '*', 'x-xss-protection': '1; mode=block', 'x-content-type-options': 'nosniff'}), parsed=None)\n",
            "Response(status_code=<HTTPStatus.OK: 200>, content={'status': 'progress', 'message': 'MVP '}, headers=Headers({'server': 'nginx', 'content-type': 'text/event-stream; charset=UTF-8', 'transfer-encoding': 'chunked', 'connection': 'keep-alive', 'cache-control': 'no-cache, private', 'date': 'Mon, 26 Jun 2023 12:44:57 GMT', 'x-ratelimit-limit': '60', 'x-ratelimit-remaining': '50', 'access-control-allow-origin': '*', 'x-xss-protection': '1; mode=block', 'x-content-type-options': 'nosniff'}), parsed=None)\n",
            "Response(status_code=<HTTPStatus.OK: 200>, content={'status': 'progress', 'message': 'of '}, headers=Headers({'server': 'nginx', 'content-type': 'text/event-stream; charset=UTF-8', 'transfer-encoding': 'chunked', 'connection': 'keep-alive', 'cache-control': 'no-cache, private', 'date': 'Mon, 26 Jun 2023 12:44:57 GMT', 'x-ratelimit-limit': '60', 'x-ratelimit-remaining': '50', 'access-control-allow-origin': '*', 'x-xss-protection': '1; mode=block', 'x-content-type-options': 'nosniff'}), parsed=None)\n",
            "Response(status_code=<HTTPStatus.OK: 200>, content={'status': 'progress', 'message': 'the '}, headers=Headers({'server': 'nginx', 'content-type': 'text/event-stream; charset=UTF-8', 'transfer-encoding': 'chunked', 'connection': 'keep-alive', 'cache-control': 'no-cache, private', 'date': 'Mon, 26 Jun 2023 12:44:57 GMT', 'x-ratelimit-limit': '60', 'x-ratelimit-remaining': '50', 'access-control-allow-origin': '*', 'x-xss-protection': '1; mode=block', 'x-content-type-options': 'nosniff'}), parsed=None)\n",
            "Response(status_code=<HTTPStatus.OK: 200>, content={'status': 'progress', 'message': 'game '}, headers=Headers({'server': 'nginx', 'content-type': 'text/event-stream; charset=UTF-8', 'transfer-encoding': 'chunked', 'connection': 'keep-alive', 'cache-control': 'no-cache, private', 'date': 'Mon, 26 Jun 2023 12:44:57 GMT', 'x-ratelimit-limit': '60', 'x-ratelimit-remaining': '50', 'access-control-allow-origin': '*', 'x-xss-protection': '1; mode=block', 'x-content-type-options': 'nosniff'}), parsed=None)\n",
            "Response(status_code=<HTTPStatus.OK: 200>, content={'status': 'progress', 'message': 'five '}, headers=Headers({'server': 'nginx', 'content-type': 'text/event-stream; charset=UTF-8', 'transfer-encoding': 'chunked', 'connection': 'keep-alive', 'cache-control': 'no-cache, private', 'date': 'Mon, 26 Jun 2023 12:44:57 GMT', 'x-ratelimit-limit': '60', 'x-ratelimit-remaining': '50', 'access-control-allow-origin': '*', 'x-xss-protection': '1; mode=block', 'x-content-type-options': 'nosniff'}), parsed=None)\n",
            "Response(status_code=<HTTPStatus.OK: 200>, content={'status': 'progress', 'message': 'times. '}, headers=Headers({'server': 'nginx', 'content-type': 'text/event-stream; charset=UTF-8', 'transfer-encoding': 'chunked', 'connection': 'keep-alive', 'cache-control': 'no-cache, private', 'date': 'Mon, 26 Jun 2023 12:44:57 GMT', 'x-ratelimit-limit': '60', 'x-ratelimit-remaining': '50', 'access-control-allow-origin': '*', 'x-xss-protection': '1; mode=block', 'x-content-type-options': 'nosniff'}), parsed=None)\n",
            "Response(status_code=<HTTPStatus.OK: 200>, content={'status': 'progress', 'message': 'He '}, headers=Headers({'server': 'nginx', 'content-type': 'text/event-stream; charset=UTF-8', 'transfer-encoding': 'chunked', 'connection': 'keep-alive', 'cache-control': 'no-cache, private', 'date': 'Mon, 26 Jun 2023 12:44:57 GMT', 'x-ratelimit-limit': '60', 'x-ratelimit-remaining': '50', 'access-control-allow-origin': '*', 'x-xss-protection': '1; mode=block', 'x-content-type-options': 'nosniff'}), parsed=None)\n",
            "Response(status_code=<HTTPStatus.OK: 200>, content={'status': 'progress', 'message': 'also '}, headers=Headers({'server': 'nginx', 'content-type': 'text/event-stream; charset=UTF-8', 'transfer-encoding': 'chunked', 'connection': 'keep-alive', 'cache-control': 'no-cache, private', 'date': 'Mon, 26 Jun 2023 12:44:57 GMT', 'x-ratelimit-limit': '60', 'x-ratelimit-remaining': '50', 'access-control-allow-origin': '*', 'x-xss-protection': '1; mode=block', 'x-content-type-options': 'nosniff'}), parsed=None)\n",
            "Response(status_code=<HTTPStatus.OK: 200>, content={'status': 'progress', 'message': 'holds '}, headers=Headers({'server': 'nginx', 'content-type': 'text/event-stream; charset=UTF-8', 'transfer-encoding': 'chunked', 'connection': 'keep-alive', 'cache-control': 'no-cache, private', 'date': 'Mon, 26 Jun 2023 12:44:57 GMT', 'x-ratelimit-limit': '60', 'x-ratelimit-remaining': '50', 'access-control-allow-origin': '*', 'x-xss-protection': '1; mode=block', 'x-content-type-options': 'nosniff'}), parsed=None)\n",
            "Response(status_code=<HTTPStatus.OK: 200>, content={'status': 'progress', 'message': 'marks '}, headers=Headers({'server': 'nginx', 'content-type': 'text/event-stream; charset=UTF-8', 'transfer-encoding': 'chunked', 'connection': 'keep-alive', 'cache-control': 'no-cache, private', 'date': 'Mon, 26 Jun 2023 12:44:57 GMT', 'x-ratelimit-limit': '60', 'x-ratelimit-remaining': '50', 'access-control-allow-origin': '*', 'x-xss-protection': '1; mode=block', 'x-content-type-options': 'nosniff'}), parsed=None)\n",
            "Response(status_code=<HTTPStatus.OK: 200>, content={'status': 'progress', 'message': 'for '}, headers=Headers({'server': 'nginx', 'content-type': 'text/event-stream; charset=UTF-8', 'transfer-encoding': 'chunked', 'connection': 'keep-alive', 'cache-control': 'no-cache, private', 'date': 'Mon, 26 Jun 2023 12:44:57 GMT', 'x-ratelimit-limit': '60', 'x-ratelimit-remaining': '50', 'access-control-allow-origin': '*', 'x-xss-protection': '1; mode=block', 'x-content-type-options': 'nosniff'}), parsed=None)\n",
            "Response(status_code=<HTTPStatus.OK: 200>, content={'status': 'progress', 'message': 'regular-season '}, headers=Headers({'server': 'nginx', 'content-type': 'text/event-stream; charset=UTF-8', 'transfer-encoding': 'chunked', 'connection': 'keep-alive', 'cache-control': 'no-cache, private', 'date': 'Mon, 26 Jun 2023 12:44:57 GMT', 'x-ratelimit-limit': '60', 'x-ratelimit-remaining': '50', 'access-control-allow-origin': '*', 'x-xss-protection': '1; mode=block', 'x-content-type-options': 'nosniff'}), parsed=None)\n",
            "Response(status_code=<HTTPStatus.OK: 200>, content={'status': 'progress', 'message': 'wins '}, headers=Headers({'server': 'nginx', 'content-type': 'text/event-stream; charset=UTF-8', 'transfer-encoding': 'chunked', 'connection': 'keep-alive', 'cache-control': 'no-cache, private', 'date': 'Mon, 26 Jun 2023 12:44:57 GMT', 'x-ratelimit-limit': '60', 'x-ratelimit-remaining': '50', 'access-control-allow-origin': '*', 'x-xss-protection': '1; mode=block', 'x-content-type-options': 'nosniff'}), parsed=None)\n",
            "Response(status_code=<HTTPStatus.OK: 200>, content={'status': 'progress', 'message': '(251), '}, headers=Headers({'server': 'nginx', 'content-type': 'text/event-stream; charset=UTF-8', 'transfer-encoding': 'chunked', 'connection': 'keep-alive', 'cache-control': 'no-cache, private', 'date': 'Mon, 26 Jun 2023 12:44:57 GMT', 'x-ratelimit-limit': '60', 'x-ratelimit-remaining': '50', 'access-control-allow-origin': '*', 'x-xss-protection': '1; mode=block', 'x-content-type-options': 'nosniff'}), parsed=None)\n",
            "Response(status_code=<HTTPStatus.OK: 200>, content={'status': 'progress', 'message': 'Super '}, headers=Headers({'server': 'nginx', 'content-type': 'text/event-stream; charset=UTF-8', 'transfer-encoding': 'chunked', 'connection': 'keep-alive', 'cache-control': 'no-cache, private', 'date': 'Mon, 26 Jun 2023 12:44:57 GMT', 'x-ratelimit-limit': '60', 'x-ratelimit-remaining': '50', 'access-control-allow-origin': '*', 'x-xss-protection': '1; mode=block', 'x-content-type-options': 'nosniff'}), parsed=None)\n",
            "Response(status_code=<HTTPStatus.OK: 200>, content={'status': 'progress', 'message': 'Bowl '}, headers=Headers({'server': 'nginx', 'content-type': 'text/event-stream; charset=UTF-8', 'transfer-encoding': 'chunked', 'connection': 'keep-alive', 'cache-control': 'no-cache, private', 'date': 'Mon, 26 Jun 2023 12:44:57 GMT', 'x-ratelimit-limit': '60', 'x-ratelimit-remaining': '50', 'access-control-allow-origin': '*', 'x-xss-protection': '1; mode=block', 'x-content-type-options': 'nosniff'}), parsed=None)\n",
            "Response(status_code=<HTTPStatus.OK: 200>, content={'status': 'progress', 'message': 'appearances '}, headers=Headers({'server': 'nginx', 'content-type': 'text/event-stream; charset=UTF-8', 'transfer-encoding': 'chunked', 'connection': 'keep-alive', 'cache-control': 'no-cache, private', 'date': 'Mon, 26 Jun 2023 12:44:57 GMT', 'x-ratelimit-limit': '60', 'x-ratelimit-remaining': '50', 'access-control-allow-origin': '*', 'x-xss-protection': '1; mode=block', 'x-content-type-options': 'nosniff'}), parsed=None)\n",
            "Response(status_code=<HTTPStatus.OK: 200>, content={'status': 'progress', 'message': '(10), '}, headers=Headers({'server': 'nginx', 'content-type': 'text/event-stream; charset=UTF-8', 'transfer-encoding': 'chunked', 'connection': 'keep-alive', 'cache-control': 'no-cache, private', 'date': 'Mon, 26 Jun 2023 12:44:57 GMT', 'x-ratelimit-limit': '60', 'x-ratelimit-remaining': '50', 'access-control-allow-origin': '*', 'x-xss-protection': '1; mode=block', 'x-content-type-options': 'nosniff'}), parsed=None)\n",
            "Response(status_code=<HTTPStatus.OK: 200>, content={'status': 'progress', 'message': 'playoff '}, headers=Headers({'server': 'nginx', 'content-type': 'text/event-stream; charset=UTF-8', 'transfer-encoding': 'chunked', 'connection': 'keep-alive', 'cache-control': 'no-cache, private', 'date': 'Mon, 26 Jun 2023 12:44:57 GMT', 'x-ratelimit-limit': '60', 'x-ratelimit-remaining': '50', 'access-control-allow-origin': '*', 'x-xss-protection': '1; mode=block', 'x-content-type-options': 'nosniff'}), parsed=None)\n",
            "Response(status_code=<HTTPStatus.OK: 200>, content={'status': 'progress', 'message': 'games '}, headers=Headers({'server': 'nginx', 'content-type': 'text/event-stream; charset=UTF-8', 'transfer-encoding': 'chunked', 'connection': 'keep-alive', 'cache-control': 'no-cache, private', 'date': 'Mon, 26 Jun 2023 12:44:57 GMT', 'x-ratelimit-limit': '60', 'x-ratelimit-remaining': '50', 'access-control-allow-origin': '*', 'x-xss-protection': '1; mode=block', 'x-content-type-options': 'nosniff'}), parsed=None)\n",
            "Response(status_code=<HTTPStatus.OK: 200>, content={'status': 'progress', 'message': 'and '}, headers=Headers({'server': 'nginx', 'content-type': 'text/event-stream; charset=UTF-8', 'transfer-encoding': 'chunked', 'connection': 'keep-alive', 'cache-control': 'no-cache, private', 'date': 'Mon, 26 Jun 2023 12:44:57 GMT', 'x-ratelimit-limit': '60', 'x-ratelimit-remaining': '50', 'access-control-allow-origin': '*', 'x-xss-protection': '1; mode=block', 'x-content-type-options': 'nosniff'}), parsed=None)\n",
            "Response(status_code=<HTTPStatus.OK: 200>, content={'status': 'progress', 'message': 'wins '}, headers=Headers({'server': 'nginx', 'content-type': 'text/event-stream; charset=UTF-8', 'transfer-encoding': 'chunked', 'connection': 'keep-alive', 'cache-control': 'no-cache, private', 'date': 'Mon, 26 Jun 2023 12:44:57 GMT', 'x-ratelimit-limit': '60', 'x-ratelimit-remaining': '50', 'access-control-allow-origin': '*', 'x-xss-protection': '1; mode=block', 'x-content-type-options': 'nosniff'}), parsed=None)\n",
            "Response(status_code=<HTTPStatus.OK: 200>, content={'status': 'progress', 'message': '(48, '}, headers=Headers({'server': 'nginx', 'content-type': 'text/event-stream; charset=UTF-8', 'transfer-encoding': 'chunked', 'connection': 'keep-alive', 'cache-control': 'no-cache, private', 'date': 'Mon, 26 Jun 2023 12:44:57 GMT', 'x-ratelimit-limit': '60', 'x-ratelimit-remaining': '50', 'access-control-allow-origin': '*', 'x-xss-protection': '1; mode=block', 'x-content-type-options': 'nosniff'}), parsed=None)\n",
            "Response(status_code=<HTTPStatus.OK: 200>, content={'status': 'progress', 'message': '35), '}, headers=Headers({'server': 'nginx', 'content-type': 'text/event-stream; charset=UTF-8', 'transfer-encoding': 'chunked', 'connection': 'keep-alive', 'cache-control': 'no-cache, private', 'date': 'Mon, 26 Jun 2023 12:44:57 GMT', 'x-ratelimit-limit': '60', 'x-ratelimit-remaining': '50', 'access-control-allow-origin': '*', 'x-xss-protection': '1; mode=block', 'x-content-type-options': 'nosniff'}), parsed=None)\n",
            "Response(status_code=<HTTPStatus.OK: 200>, content={'status': 'progress', 'message': 'as '}, headers=Headers({'server': 'nginx', 'content-type': 'text/event-stream; charset=UTF-8', 'transfer-encoding': 'chunked', 'connection': 'keep-alive', 'cache-control': 'no-cache, private', 'date': 'Mon, 26 Jun 2023 12:44:57 GMT', 'x-ratelimit-limit': '60', 'x-ratelimit-remaining': '50', 'access-control-allow-origin': '*', 'x-xss-protection': '1; mode=block', 'x-content-type-options': 'nosniff'}), parsed=None)\n",
            "Response(status_code=<HTTPStatus.OK: 200>, content={'status': 'progress', 'message': 'well '}, headers=Headers({'server': 'nginx', 'content-type': 'text/event-stream; charset=UTF-8', 'transfer-encoding': 'chunked', 'connection': 'keep-alive', 'cache-control': 'no-cache, private', 'date': 'Mon, 26 Jun 2023 12:44:57 GMT', 'x-ratelimit-limit': '60', 'x-ratelimit-remaining': '50', 'access-control-allow-origin': '*', 'x-xss-protection': '1; mode=block', 'x-content-type-options': 'nosniff'}), parsed=None)\n",
            "Response(status_code=<HTTPStatus.OK: 200>, content={'status': 'progress', 'message': 'as '}, headers=Headers({'server': 'nginx', 'content-type': 'text/event-stream; charset=UTF-8', 'transfer-encoding': 'chunked', 'connection': 'keep-alive', 'cache-control': 'no-cache, private', 'date': 'Mon, 26 Jun 2023 12:44:57 GMT', 'x-ratelimit-limit': '60', 'x-ratelimit-remaining': '50', 'access-control-allow-origin': '*', 'x-xss-protection': '1; mode=block', 'x-content-type-options': 'nosniff'}), parsed=None)\n",
            "Response(status_code=<HTTPStatus.OK: 200>, content={'status': 'progress', 'message': 'playoff '}, headers=Headers({'server': 'nginx', 'content-type': 'text/event-stream; charset=UTF-8', 'transfer-encoding': 'chunked', 'connection': 'keep-alive', 'cache-control': 'no-cache, private', 'date': 'Mon, 26 Jun 2023 12:44:57 GMT', 'x-ratelimit-limit': '60', 'x-ratelimit-remaining': '50', 'access-control-allow-origin': '*', 'x-xss-protection': '1; mode=block', 'x-content-type-options': 'nosniff'}), parsed=None)\n",
            "Response(status_code=<HTTPStatus.OK: 200>, content={'status': 'progress', 'message': 'yards '}, headers=Headers({'server': 'nginx', 'content-type': 'text/event-stream; charset=UTF-8', 'transfer-encoding': 'chunked', 'connection': 'keep-alive', 'cache-control': 'no-cache, private', 'date': 'Mon, 26 Jun 2023 12:44:57 GMT', 'x-ratelimit-limit': '60', 'x-ratelimit-remaining': '50', 'access-control-allow-origin': '*', 'x-xss-protection': '1; mode=block', 'x-content-type-options': 'nosniff'}), parsed=None)\n",
            "Response(status_code=<HTTPStatus.OK: 200>, content={'status': 'progress', 'message': '(13,400) '}, headers=Headers({'server': 'nginx', 'content-type': 'text/event-stream; charset=UTF-8', 'transfer-encoding': 'chunked', 'connection': 'keep-alive', 'cache-control': 'no-cache, private', 'date': 'Mon, 26 Jun 2023 12:44:57 GMT', 'x-ratelimit-limit': '60', 'x-ratelimit-remaining': '50', 'access-control-allow-origin': '*', 'x-xss-protection': '1; mode=block', 'x-content-type-options': 'nosniff'}), parsed=None)\n",
            "Response(status_code=<HTTPStatus.OK: 200>, content={'status': 'progress', 'message': 'and '}, headers=Headers({'server': 'nginx', 'content-type': 'text/event-stream; charset=UTF-8', 'transfer-encoding': 'chunked', 'connection': 'keep-alive', 'cache-control': 'no-cache, private', 'date': 'Mon, 26 Jun 2023 12:44:57 GMT', 'x-ratelimit-limit': '60', 'x-ratelimit-remaining': '50', 'access-control-allow-origin': '*', 'x-xss-protection': '1; mode=block', 'x-content-type-options': 'nosniff'}), parsed=None)\n",
            "Response(status_code=<HTTPStatus.OK: 200>, content={'status': 'progress', 'message': 'TDs '}, headers=Headers({'server': 'nginx', 'content-type': 'text/event-stream; charset=UTF-8', 'transfer-encoding': 'chunked', 'connection': 'keep-alive', 'cache-control': 'no-cache, private', 'date': 'Mon, 26 Jun 2023 12:44:57 GMT', 'x-ratelimit-limit': '60', 'x-ratelimit-remaining': '50', 'access-control-allow-origin': '*', 'x-xss-protection': '1; mode=block', 'x-content-type-options': 'nosniff'}), parsed=None)\n",
            "Response(status_code=<HTTPStatus.OK: 200>, content={'status': 'progress', 'message': '(88). '}, headers=Headers({'server': 'nginx', 'content-type': 'text/event-stream; charset=UTF-8', 'transfer-encoding': 'chunked', 'connection': 'keep-alive', 'cache-control': 'no-cache, private', 'date': 'Mon, 26 Jun 2023 12:44:57 GMT', 'x-ratelimit-limit': '60', 'x-ratelimit-remaining': '50', 'access-control-allow-origin': '*', 'x-xss-protection': '1; mode=block', 'x-content-type-options': 'nosniff'}), parsed=None)\n",
            "Response(status_code=<HTTPStatus.OK: 200>, content={'status': 'progress', 'message': 'He '}, headers=Headers({'server': 'nginx', 'content-type': 'text/event-stream; charset=UTF-8', 'transfer-encoding': 'chunked', 'connection': 'keep-alive', 'cache-control': 'no-cache, private', 'date': 'Mon, 26 Jun 2023 12:44:57 GMT', 'x-ratelimit-limit': '60', 'x-ratelimit-remaining': '50', 'access-control-allow-origin': '*', 'x-xss-protection': '1; mode=block', 'x-content-type-options': 'nosniff'}), parsed=None)\n",
            "Response(status_code=<HTTPStatus.OK: 200>, content={'status': 'progress', 'message': 'is '}, headers=Headers({'server': 'nginx', 'content-type': 'text/event-stream; charset=UTF-8', 'transfer-encoding': 'chunked', 'connection': 'keep-alive', 'cache-control': 'no-cache, private', 'date': 'Mon, 26 Jun 2023 12:44:57 GMT', 'x-ratelimit-limit': '60', 'x-ratelimit-remaining': '50', 'access-control-allow-origin': '*', 'x-xss-protection': '1; mode=block', 'x-content-type-options': 'nosniff'}), parsed=None)\n",
            "Response(status_code=<HTTPStatus.OK: 200>, content={'status': 'progress', 'message': 'the '}, headers=Headers({'server': 'nginx', 'content-type': 'text/event-stream; charset=UTF-8', 'transfer-encoding': 'chunked', 'connection': 'keep-alive', 'cache-control': 'no-cache, private', 'date': 'Mon, 26 Jun 2023 12:44:57 GMT', 'x-ratelimit-limit': '60', 'x-ratelimit-remaining': '50', 'access-control-allow-origin': '*', 'x-xss-protection': '1; mode=block', 'x-content-type-options': 'nosniff'}), parsed=None)\n",
            "Response(status_code=<HTTPStatus.OK: 200>, content={'status': 'progress', 'message': 'NFL’s '}, headers=Headers({'server': 'nginx', 'content-type': 'text/event-stream; charset=UTF-8', 'transfer-encoding': 'chunked', 'connection': 'keep-alive', 'cache-control': 'no-cache, private', 'date': 'Mon, 26 Jun 2023 12:44:57 GMT', 'x-ratelimit-limit': '60', 'x-ratelimit-remaining': '50', 'access-control-allow-origin': '*', 'x-xss-protection': '1; mode=block', 'x-content-type-options': 'nosniff'}), parsed=None)\n",
            "Response(status_code=<HTTPStatus.OK: 200>, content={'status': 'progress', 'message': 'career '}, headers=Headers({'server': 'nginx', 'content-type': 'text/event-stream; charset=UTF-8', 'transfer-encoding': 'chunked', 'connection': 'keep-alive', 'cache-control': 'no-cache, private', 'date': 'Mon, 26 Jun 2023 12:44:57 GMT', 'x-ratelimit-limit': '60', 'x-ratelimit-remaining': '50', 'access-control-allow-origin': '*', 'x-xss-protection': '1; mode=block', 'x-content-type-options': 'nosniff'}), parsed=None)\n",
            "Response(status_code=<HTTPStatus.OK: 200>, content={'status': 'progress', 'message': 'leader '}, headers=Headers({'server': 'nginx', 'content-type': 'text/event-stream; charset=UTF-8', 'transfer-encoding': 'chunked', 'connection': 'keep-alive', 'cache-control': 'no-cache, private', 'date': 'Mon, 26 Jun 2023 12:44:57 GMT', 'x-ratelimit-limit': '60', 'x-ratelimit-remaining': '50', 'access-control-allow-origin': '*', 'x-xss-protection': '1; mode=block', 'x-content-type-options': 'nosniff'}), parsed=None)\n",
            "Response(status_code=<HTTPStatus.OK: 200>, content={'status': 'progress', 'message': 'in '}, headers=Headers({'server': 'nginx', 'content-type': 'text/event-stream; charset=UTF-8', 'transfer-encoding': 'chunked', 'connection': 'keep-alive', 'cache-control': 'no-cache, private', 'date': 'Mon, 26 Jun 2023 12:44:57 GMT', 'x-ratelimit-limit': '60', 'x-ratelimit-remaining': '50', 'access-control-allow-origin': '*', 'x-xss-protection': '1; mode=block', 'x-content-type-options': 'nosniff'}), parsed=None)\n",
            "Response(status_code=<HTTPStatus.OK: 200>, content={'status': 'progress', 'message': 'yards '}, headers=Headers({'server': 'nginx', 'content-type': 'text/event-stream; charset=UTF-8', 'transfer-encoding': 'chunked', 'connection': 'keep-alive', 'cache-control': 'no-cache, private', 'date': 'Mon, 26 Jun 2023 12:44:57 GMT', 'x-ratelimit-limit': '60', 'x-ratelimit-remaining': '50', 'access-control-allow-origin': '*', 'x-xss-protection': '1; mode=block', 'x-content-type-options': 'nosniff'}), parsed=None)\n",
            "Response(status_code=<HTTPStatus.OK: 200>, content={'status': 'progress', 'message': 'passing '}, headers=Headers({'server': 'nginx', 'content-type': 'text/event-stream; charset=UTF-8', 'transfer-encoding': 'chunked', 'connection': 'keep-alive', 'cache-control': 'no-cache, private', 'date': 'Mon, 26 Jun 2023 12:44:57 GMT', 'x-ratelimit-limit': '60', 'x-ratelimit-remaining': '50', 'access-control-allow-origin': '*', 'x-xss-protection': '1; mode=block', 'x-content-type-options': 'nosniff'}), parsed=None)\n",
            "Response(status_code=<HTTPStatus.OK: 200>, content={'status': 'progress', 'message': '(89,214) '}, headers=Headers({'server': 'nginx', 'content-type': 'text/event-stream; charset=UTF-8', 'transfer-encoding': 'chunked', 'connection': 'keep-alive', 'cache-control': 'no-cache, private', 'date': 'Mon, 26 Jun 2023 12:44:57 GMT', 'x-ratelimit-limit': '60', 'x-ratelimit-remaining': '50', 'access-control-allow-origin': '*', 'x-xss-protection': '1; mode=block', 'x-content-type-options': 'nosniff'}), parsed=None)\n",
            "Response(status_code=<HTTPStatus.OK: 200>, content={'status': 'progress', 'message': 'and '}, headers=Headers({'server': 'nginx', 'content-type': 'text/event-stream; charset=UTF-8', 'transfer-encoding': 'chunked', 'connection': 'keep-alive', 'cache-control': 'no-cache, private', 'date': 'Mon, 26 Jun 2023 12:44:57 GMT', 'x-ratelimit-limit': '60', 'x-ratelimit-remaining': '50', 'access-control-allow-origin': '*', 'x-xss-protection': '1; mode=block', 'x-content-type-options': 'nosniff'}), parsed=None)\n",
            "Response(status_code=<HTTPStatus.OK: 200>, content={'status': 'progress', 'message': 'touchdowns '}, headers=Headers({'server': 'nginx', 'content-type': 'text/event-stream; charset=UTF-8', 'transfer-encoding': 'chunked', 'connection': 'keep-alive', 'cache-control': 'no-cache, private', 'date': 'Mon, 26 Jun 2023 12:44:57 GMT', 'x-ratelimit-limit': '60', 'x-ratelimit-remaining': '50', 'access-control-allow-origin': '*', 'x-xss-protection': '1; mode=block', 'x-content-type-options': 'nosniff'}), parsed=None)\n",
            "Response(status_code=<HTTPStatus.OK: 200>, content={'status': 'progress', 'message': '(649). '}, headers=Headers({'server': 'nginx', 'content-type': 'text/event-stream; charset=UTF-8', 'transfer-encoding': 'chunked', 'connection': 'keep-alive', 'cache-control': 'no-cache, private', 'date': 'Mon, 26 Jun 2023 12:44:57 GMT', 'x-ratelimit-limit': '60', 'x-ratelimit-remaining': '50', 'access-control-allow-origin': '*', 'x-xss-protection': '1; mode=block', 'x-content-type-options': 'nosniff'}), parsed=None)\n",
            "Response(status_code=<HTTPStatus.OK: 200>, content={'status': 'finish', 'id': 444, 'created_at': '2023-06-26T12:44:48.000000Z', 'session_id': '92fbe336-c852-4807-bee4-eb1348d24a87', 'citations': [12535, 12537, 12543, 12542, 12544]}, headers=Headers({'server': 'nginx', 'content-type': 'text/event-stream; charset=UTF-8', 'transfer-encoding': 'chunked', 'connection': 'keep-alive', 'cache-control': 'no-cache, private', 'date': 'Mon, 26 Jun 2023 12:44:57 GMT', 'x-ratelimit-limit': '60', 'x-ratelimit-remaining': '50', 'access-control-allow-origin': '*', 'x-xss-protection': '1; mode=block', 'x-content-type-options': 'nosniff'}), parsed=None)\n"
          ]
        }
      ],
      "source": [
        "session_id = project_data.data.session_id\n",
        "# Create a message to the above conversation\n",
        "\n",
        "# pass in your question to prompt\n",
        "prompt = \"Who is Tom Brady\"\n",
        "\n",
        "stream_response = CustomGPT.Conversation.send(project_id=project_id, session_id=session_id, prompt=prompt, stream=True)\n",
        "for event in stream_response:\n",
        "    print(event)"
      ]
    },
    {
      "cell_type": "code",
      "source": [],
      "metadata": {
        "id": "FJSmijEUDA8e"
      },
      "execution_count": null,
      "outputs": []
    }
  ],
  "metadata": {
    "kernelspec": {
      "display_name": "Python 3",
      "language": "python",
      "name": "python3"
    },
    "language_info": {
      "codemirror_mode": {
        "name": "ipython",
        "version": 3
      },
      "file_extension": ".py",
      "mimetype": "text/x-python",
      "name": "python",
      "nbconvert_exporter": "python",
      "pygments_lexer": "ipython3",
      "version": "3.11.2"
    },
    "orig_nbformat": 4,
    "colab": {
      "provenance": []
    }
  },
  "nbformat": 4,
  "nbformat_minor": 0
}
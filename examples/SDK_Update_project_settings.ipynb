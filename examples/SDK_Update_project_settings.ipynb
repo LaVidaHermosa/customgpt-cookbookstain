{
  "cells": [
    {
      "cell_type": "code",
      "execution_count": 1,
      "metadata": {
        "colab": {
          "base_uri": "https://localhost:8080/"
        },
        "id": "cMS4FTgtE0s1",
        "outputId": "437379cd-084e-4039-9bc4-f91d2e9fdcce"
      },
      "outputs": [
        {
          "output_type": "stream",
          "name": "stdout",
          "text": [
            "Collecting customgpt-client==1.1.2\n",
            "  Downloading customgpt_client-1.1.2-py3-none-any.whl (304 kB)\n",
            "\u001b[?25l     \u001b[90m━━━━━━━━━━━━━━━━━━━━━━━━━━━━━━━━━━━━━━━━\u001b[0m \u001b[32m0.0/304.7 kB\u001b[0m \u001b[31m?\u001b[0m eta \u001b[36m-:--:--\u001b[0m\r\u001b[2K     \u001b[91m━━━━━━━━━━━━━━━━━━━━━━━━━━━━━━━━━━━━━━\u001b[0m\u001b[90m╺\u001b[0m \u001b[32m297.0/304.7 kB\u001b[0m \u001b[31m9.2 MB/s\u001b[0m eta \u001b[36m0:00:01\u001b[0m\r\u001b[2K     \u001b[90m━━━━━━━━━━━━━━━━━━━━━━━━━━━━━━━━━━━━━━━\u001b[0m \u001b[32m304.7/304.7 kB\u001b[0m \u001b[31m7.0 MB/s\u001b[0m eta \u001b[36m0:00:00\u001b[0m\n",
            "\u001b[?25hRequirement already satisfied: attrs>=21.3.0 in /usr/local/lib/python3.10/dist-packages (from customgpt-client==1.1.2) (23.1.0)\n",
            "Collecting httpx<0.25.0,>=0.15.4 (from customgpt-client==1.1.2)\n",
            "  Downloading httpx-0.24.1-py3-none-any.whl (75 kB)\n",
            "\u001b[2K     \u001b[90m━━━━━━━━━━━━━━━━━━━━━━━━━━━━━━━━━━━━━━━━\u001b[0m \u001b[32m75.4/75.4 kB\u001b[0m \u001b[31m8.4 MB/s\u001b[0m eta \u001b[36m0:00:00\u001b[0m\n",
            "\u001b[?25hRequirement already satisfied: python-dateutil<3.0.0,>=2.8.0 in /usr/local/lib/python3.10/dist-packages (from customgpt-client==1.1.2) (2.8.2)\n",
            "Requirement already satisfied: certifi in /usr/local/lib/python3.10/dist-packages (from httpx<0.25.0,>=0.15.4->customgpt-client==1.1.2) (2023.5.7)\n",
            "Collecting httpcore<0.18.0,>=0.15.0 (from httpx<0.25.0,>=0.15.4->customgpt-client==1.1.2)\n",
            "  Downloading httpcore-0.17.2-py3-none-any.whl (72 kB)\n",
            "\u001b[2K     \u001b[90m━━━━━━━━━━━━━━━━━━━━━━━━━━━━━━━━━━━━━━━━\u001b[0m \u001b[32m72.5/72.5 kB\u001b[0m \u001b[31m8.0 MB/s\u001b[0m eta \u001b[36m0:00:00\u001b[0m\n",
            "\u001b[?25hRequirement already satisfied: idna in /usr/local/lib/python3.10/dist-packages (from httpx<0.25.0,>=0.15.4->customgpt-client==1.1.2) (3.4)\n",
            "Requirement already satisfied: sniffio in /usr/local/lib/python3.10/dist-packages (from httpx<0.25.0,>=0.15.4->customgpt-client==1.1.2) (1.3.0)\n",
            "Requirement already satisfied: six>=1.5 in /usr/local/lib/python3.10/dist-packages (from python-dateutil<3.0.0,>=2.8.0->customgpt-client==1.1.2) (1.16.0)\n",
            "Collecting h11<0.15,>=0.13 (from httpcore<0.18.0,>=0.15.0->httpx<0.25.0,>=0.15.4->customgpt-client==1.1.2)\n",
            "  Downloading h11-0.14.0-py3-none-any.whl (58 kB)\n",
            "\u001b[2K     \u001b[90m━━━━━━━━━━━━━━━━━━━━━━━━━━━━━━━━━━━━━━━━\u001b[0m \u001b[32m58.3/58.3 kB\u001b[0m \u001b[31m6.8 MB/s\u001b[0m eta \u001b[36m0:00:00\u001b[0m\n",
            "\u001b[?25hRequirement already satisfied: anyio<5.0,>=3.0 in /usr/local/lib/python3.10/dist-packages (from httpcore<0.18.0,>=0.15.0->httpx<0.25.0,>=0.15.4->customgpt-client==1.1.2) (3.7.0)\n",
            "Requirement already satisfied: exceptiongroup in /usr/local/lib/python3.10/dist-packages (from anyio<5.0,>=3.0->httpcore<0.18.0,>=0.15.0->httpx<0.25.0,>=0.15.4->customgpt-client==1.1.2) (1.1.1)\n",
            "Installing collected packages: h11, httpcore, httpx, customgpt-client\n",
            "Successfully installed customgpt-client-1.1.2 h11-0.14.0 httpcore-0.17.2 httpx-0.24.1\n"
          ]
        }
      ],
      "source": [
        "!pip install customgpt-client==1.1.2"
      ]
    },
    {
      "cell_type": "markdown",
      "metadata": {
        "id": "PAWpaaSa1WLi"
      },
      "source": [
        "**Create your custom chat bot using a sitemap.**\n"
      ]
    },
    {
      "cell_type": "code",
      "execution_count": 2,
      "metadata": {
        "id": "Hc9SsdoR1WLm"
      },
      "outputs": [],
      "source": [
        "from customgpt_client import CustomGPT\n",
        "CustomGPT.api_key = \"YOUR_API_TOKEN\""
      ]
    },
    {
      "cell_type": "markdown",
      "metadata": {
        "id": "Z1ISHsxb1WLo"
      },
      "source": [
        "**An example for to create a project with a sitemap**"
      ]
    },
    {
      "cell_type": "code",
      "execution_count": 3,
      "metadata": {
        "colab": {
          "base_uri": "https://localhost:8080/"
        },
        "id": "PNbGtm_A1WLp",
        "outputId": "f0149da3-a7e7-4bb8-d361-04bef1bd258f"
      },
      "outputs": [
        {
          "output_type": "stream",
          "name": "stdout",
          "text": [
            "Response(status_code=<HTTPStatus.CREATED: 201>, content=b'{\"data\":{\"id\":586,\"project_name\":\"Example ChatBot using Sitemap\",\"sitemap_path\":null,\"user_id\":35,\"is_chat_active\":null,\"created_at\":\"2023-06-27T18:15:50.000000Z\",\"updated_at\":\"2023-06-27T18:15:50.000000Z\",\"is_shared\":null,\"deleted_at\":null,\"type\":\"SITEMAP\"},\"status\":\"success\"}', headers=Headers({'server': 'nginx', 'content-type': 'application/json', 'transfer-encoding': 'chunked', 'connection': 'keep-alive', 'cache-control': 'no-cache, private', 'date': 'Tue, 27 Jun 2023 18:15:50 GMT', 'x-ratelimit-limit': '60', 'x-ratelimit-remaining': '59', 'access-control-allow-origin': '*', 'x-xss-protection': '1; mode=block', 'x-content-type-options': 'nosniff'}), parsed=CreateProjectResponse201(status=<CreateProjectResponse201Status.SUCCESS: 'success'>, data=CreateProjectResponse201Data(id=586, project_name='Example ChatBot using Sitemap', sitemap_path=None, is_chat_active=None, user_id=35, created_at=datetime.datetime(2023, 6, 27, 18, 15, 50, tzinfo=tzutc()), updated_at=datetime.datetime(2023, 6, 27, 18, 15, 50, tzinfo=tzutc()), deleted_at=None, type=<CreateProjectResponse201DataType.SITEMAP: 'SITEMAP'>, is_shared=None, shareable_slug=<customgpt_client.types.Unset object at 0x7fd13f30a740>, shareable_link=<customgpt_client.types.Unset object at 0x7fd13f30a740>, embed_code=<customgpt_client.types.Unset object at 0x7fd13f30a740>, live_chat_code=<customgpt_client.types.Unset object at 0x7fd13f30a740>, additional_properties={}), additional_properties={}))\n"
          ]
        }
      ],
      "source": [
        "# Give a name to your project\n",
        "project_name = 'Example ChatBot using Sitemap'\n",
        "sitemap_path = 'https://adorosario.github.io/small-sitemap.xml'\n",
        "\n",
        "create_project = CustomGPT.Project.create(project_name=project_name, sitemap_path=sitemap_path)\n",
        "print(create_project)"
      ]
    },
    {
      "cell_type": "markdown",
      "source": [
        "**Get Project settings**"
      ],
      "metadata": {
        "id": "JgXAwGsFavRE"
      }
    },
    {
      "cell_type": "code",
      "source": [
        "project_id = create_project.parsed.data.id\n",
        "project_setting = CustomGPT.ProjectSettings.get(project_id=project_id)\n",
        "print(project_setting)"
      ],
      "metadata": {
        "colab": {
          "base_uri": "https://localhost:8080/"
        },
        "id": "ptvLSyBIambC",
        "outputId": "523fe67f-b6d7-4782-a640-23d4a3e22830"
      },
      "execution_count": 6,
      "outputs": [
        {
          "output_type": "stream",
          "name": "stdout",
          "text": [
            "Response(status_code=<HTTPStatus.OK: 200>, content=b'{\"data\":{\"chatbot_avatar\":\"\",\"chatbot_background\":\"\",\"default_prompt\":\"Ask Me Anything ...\",\"example_questions\":null,\"response_source\":\"default\",\"chatbot_msg_lang\":\"en\",\"remove_branding\":false,\"chatbot_color\":\"#7367f0\"},\"status\":\"success\"}', headers=Headers({'server': 'nginx', 'content-type': 'application/json', 'transfer-encoding': 'chunked', 'connection': 'keep-alive', 'vary': 'Accept-Encoding', 'cache-control': 'no-cache, private', 'date': 'Tue, 27 Jun 2023 18:16:23 GMT', 'x-ratelimit-limit': '60', 'x-ratelimit-remaining': '57', 'access-control-allow-origin': '*', 'x-xss-protection': '1; mode=block', 'x-content-type-options': 'nosniff', 'content-encoding': 'gzip'}), parsed=GetProjectSettingsResponse200(status=<GetProjectSettingsResponse200Status.SUCCESS: 'success'>, data=GetProjectSettingsResponse200Data(chatbot_avatar='', chatbot_background='', default_prompt='Ask Me Anything ...', example_questions=None, response_source=<GetProjectSettingsResponse200DataResponseSource.DEFAULT: 'default'>, chatbot_msg_lang='en', additional_properties={'remove_branding': False, 'chatbot_color': '#7367f0'}), additional_properties={}))\n"
          ]
        }
      ]
    },
    {
      "cell_type": "markdown",
      "source": [
        "**Update Project Settings**"
      ],
      "metadata": {
        "id": "uG1qGrYuEr9_"
      }
    },
    {
      "cell_type": "code",
      "source": [
        "from google.colab import files\n",
        "from customgpt_client.types import File\n",
        "chatbot_avatar = files.upload()\n",
        "file_content_avatar = next(iter(chatbot_avatar.values()))\n",
        "chatbot_background = files.upload()\n",
        "file_content_bg = next(iter(chatbot_background.values()))\n",
        "default_prompt = 'Ask away'\n",
        "example_questions = ['post', 'post2']\n",
        "chatbot_msg_lang = 'ur'\n",
        "update_project_setting = CustomGPT.ProjectSettings.update(project_id=project_id, chat_bot_avatar=File(payload=file_content_avatar, file_name='Yes'), chat_bot_bg=File(payload=file_content_bg, file_name='test'), default_prompt=default_prompt, example_questions=example_questions, chatbot_msg_lang=chatbot_msg_lang)\n",
        "print(update_project_setting)"
      ],
      "metadata": {
        "colab": {
          "base_uri": "https://localhost:8080/",
          "height": 170
        },
        "id": "F2_m9gmjEro-",
        "outputId": "280df5ce-9b0a-470a-c367-da0df4550195"
      },
      "execution_count": 12,
      "outputs": [
        {
          "output_type": "display_data",
          "data": {
            "text/plain": [
              "<IPython.core.display.HTML object>"
            ],
            "text/html": [
              "\n",
              "     <input type=\"file\" id=\"files-cf5672ef-c2c7-4c28-9a4d-e639a28d9233\" name=\"files[]\" multiple disabled\n",
              "        style=\"border:none\" />\n",
              "     <output id=\"result-cf5672ef-c2c7-4c28-9a4d-e639a28d9233\">\n",
              "      Upload widget is only available when the cell has been executed in the\n",
              "      current browser session. Please rerun this cell to enable.\n",
              "      </output>\n",
              "      <script>// Copyright 2017 Google LLC\n",
              "//\n",
              "// Licensed under the Apache License, Version 2.0 (the \"License\");\n",
              "// you may not use this file except in compliance with the License.\n",
              "// You may obtain a copy of the License at\n",
              "//\n",
              "//      http://www.apache.org/licenses/LICENSE-2.0\n",
              "//\n",
              "// Unless required by applicable law or agreed to in writing, software\n",
              "// distributed under the License is distributed on an \"AS IS\" BASIS,\n",
              "// WITHOUT WARRANTIES OR CONDITIONS OF ANY KIND, either express or implied.\n",
              "// See the License for the specific language governing permissions and\n",
              "// limitations under the License.\n",
              "\n",
              "/**\n",
              " * @fileoverview Helpers for google.colab Python module.\n",
              " */\n",
              "(function(scope) {\n",
              "function span(text, styleAttributes = {}) {\n",
              "  const element = document.createElement('span');\n",
              "  element.textContent = text;\n",
              "  for (const key of Object.keys(styleAttributes)) {\n",
              "    element.style[key] = styleAttributes[key];\n",
              "  }\n",
              "  return element;\n",
              "}\n",
              "\n",
              "// Max number of bytes which will be uploaded at a time.\n",
              "const MAX_PAYLOAD_SIZE = 100 * 1024;\n",
              "\n",
              "function _uploadFiles(inputId, outputId) {\n",
              "  const steps = uploadFilesStep(inputId, outputId);\n",
              "  const outputElement = document.getElementById(outputId);\n",
              "  // Cache steps on the outputElement to make it available for the next call\n",
              "  // to uploadFilesContinue from Python.\n",
              "  outputElement.steps = steps;\n",
              "\n",
              "  return _uploadFilesContinue(outputId);\n",
              "}\n",
              "\n",
              "// This is roughly an async generator (not supported in the browser yet),\n",
              "// where there are multiple asynchronous steps and the Python side is going\n",
              "// to poll for completion of each step.\n",
              "// This uses a Promise to block the python side on completion of each step,\n",
              "// then passes the result of the previous step as the input to the next step.\n",
              "function _uploadFilesContinue(outputId) {\n",
              "  const outputElement = document.getElementById(outputId);\n",
              "  const steps = outputElement.steps;\n",
              "\n",
              "  const next = steps.next(outputElement.lastPromiseValue);\n",
              "  return Promise.resolve(next.value.promise).then((value) => {\n",
              "    // Cache the last promise value to make it available to the next\n",
              "    // step of the generator.\n",
              "    outputElement.lastPromiseValue = value;\n",
              "    return next.value.response;\n",
              "  });\n",
              "}\n",
              "\n",
              "/**\n",
              " * Generator function which is called between each async step of the upload\n",
              " * process.\n",
              " * @param {string} inputId Element ID of the input file picker element.\n",
              " * @param {string} outputId Element ID of the output display.\n",
              " * @return {!Iterable<!Object>} Iterable of next steps.\n",
              " */\n",
              "function* uploadFilesStep(inputId, outputId) {\n",
              "  const inputElement = document.getElementById(inputId);\n",
              "  inputElement.disabled = false;\n",
              "\n",
              "  const outputElement = document.getElementById(outputId);\n",
              "  outputElement.innerHTML = '';\n",
              "\n",
              "  const pickedPromise = new Promise((resolve) => {\n",
              "    inputElement.addEventListener('change', (e) => {\n",
              "      resolve(e.target.files);\n",
              "    });\n",
              "  });\n",
              "\n",
              "  const cancel = document.createElement('button');\n",
              "  inputElement.parentElement.appendChild(cancel);\n",
              "  cancel.textContent = 'Cancel upload';\n",
              "  const cancelPromise = new Promise((resolve) => {\n",
              "    cancel.onclick = () => {\n",
              "      resolve(null);\n",
              "    };\n",
              "  });\n",
              "\n",
              "  // Wait for the user to pick the files.\n",
              "  const files = yield {\n",
              "    promise: Promise.race([pickedPromise, cancelPromise]),\n",
              "    response: {\n",
              "      action: 'starting',\n",
              "    }\n",
              "  };\n",
              "\n",
              "  cancel.remove();\n",
              "\n",
              "  // Disable the input element since further picks are not allowed.\n",
              "  inputElement.disabled = true;\n",
              "\n",
              "  if (!files) {\n",
              "    return {\n",
              "      response: {\n",
              "        action: 'complete',\n",
              "      }\n",
              "    };\n",
              "  }\n",
              "\n",
              "  for (const file of files) {\n",
              "    const li = document.createElement('li');\n",
              "    li.append(span(file.name, {fontWeight: 'bold'}));\n",
              "    li.append(span(\n",
              "        `(${file.type || 'n/a'}) - ${file.size} bytes, ` +\n",
              "        `last modified: ${\n",
              "            file.lastModifiedDate ? file.lastModifiedDate.toLocaleDateString() :\n",
              "                                    'n/a'} - `));\n",
              "    const percent = span('0% done');\n",
              "    li.appendChild(percent);\n",
              "\n",
              "    outputElement.appendChild(li);\n",
              "\n",
              "    const fileDataPromise = new Promise((resolve) => {\n",
              "      const reader = new FileReader();\n",
              "      reader.onload = (e) => {\n",
              "        resolve(e.target.result);\n",
              "      };\n",
              "      reader.readAsArrayBuffer(file);\n",
              "    });\n",
              "    // Wait for the data to be ready.\n",
              "    let fileData = yield {\n",
              "      promise: fileDataPromise,\n",
              "      response: {\n",
              "        action: 'continue',\n",
              "      }\n",
              "    };\n",
              "\n",
              "    // Use a chunked sending to avoid message size limits. See b/62115660.\n",
              "    let position = 0;\n",
              "    do {\n",
              "      const length = Math.min(fileData.byteLength - position, MAX_PAYLOAD_SIZE);\n",
              "      const chunk = new Uint8Array(fileData, position, length);\n",
              "      position += length;\n",
              "\n",
              "      const base64 = btoa(String.fromCharCode.apply(null, chunk));\n",
              "      yield {\n",
              "        response: {\n",
              "          action: 'append',\n",
              "          file: file.name,\n",
              "          data: base64,\n",
              "        },\n",
              "      };\n",
              "\n",
              "      let percentDone = fileData.byteLength === 0 ?\n",
              "          100 :\n",
              "          Math.round((position / fileData.byteLength) * 100);\n",
              "      percent.textContent = `${percentDone}% done`;\n",
              "\n",
              "    } while (position < fileData.byteLength);\n",
              "  }\n",
              "\n",
              "  // All done.\n",
              "  yield {\n",
              "    response: {\n",
              "      action: 'complete',\n",
              "    }\n",
              "  };\n",
              "}\n",
              "\n",
              "scope.google = scope.google || {};\n",
              "scope.google.colab = scope.google.colab || {};\n",
              "scope.google.colab._files = {\n",
              "  _uploadFiles,\n",
              "  _uploadFilesContinue,\n",
              "};\n",
              "})(self);\n",
              "</script> "
            ]
          },
          "metadata": {}
        },
        {
          "output_type": "stream",
          "name": "stdout",
          "text": [
            "Saving larance roberts.jpg to larance roberts (7).jpg\n"
          ]
        },
        {
          "output_type": "display_data",
          "data": {
            "text/plain": [
              "<IPython.core.display.HTML object>"
            ],
            "text/html": [
              "\n",
              "     <input type=\"file\" id=\"files-888e3a66-615b-41c6-822d-0e34f06fc3dc\" name=\"files[]\" multiple disabled\n",
              "        style=\"border:none\" />\n",
              "     <output id=\"result-888e3a66-615b-41c6-822d-0e34f06fc3dc\">\n",
              "      Upload widget is only available when the cell has been executed in the\n",
              "      current browser session. Please rerun this cell to enable.\n",
              "      </output>\n",
              "      <script>// Copyright 2017 Google LLC\n",
              "//\n",
              "// Licensed under the Apache License, Version 2.0 (the \"License\");\n",
              "// you may not use this file except in compliance with the License.\n",
              "// You may obtain a copy of the License at\n",
              "//\n",
              "//      http://www.apache.org/licenses/LICENSE-2.0\n",
              "//\n",
              "// Unless required by applicable law or agreed to in writing, software\n",
              "// distributed under the License is distributed on an \"AS IS\" BASIS,\n",
              "// WITHOUT WARRANTIES OR CONDITIONS OF ANY KIND, either express or implied.\n",
              "// See the License for the specific language governing permissions and\n",
              "// limitations under the License.\n",
              "\n",
              "/**\n",
              " * @fileoverview Helpers for google.colab Python module.\n",
              " */\n",
              "(function(scope) {\n",
              "function span(text, styleAttributes = {}) {\n",
              "  const element = document.createElement('span');\n",
              "  element.textContent = text;\n",
              "  for (const key of Object.keys(styleAttributes)) {\n",
              "    element.style[key] = styleAttributes[key];\n",
              "  }\n",
              "  return element;\n",
              "}\n",
              "\n",
              "// Max number of bytes which will be uploaded at a time.\n",
              "const MAX_PAYLOAD_SIZE = 100 * 1024;\n",
              "\n",
              "function _uploadFiles(inputId, outputId) {\n",
              "  const steps = uploadFilesStep(inputId, outputId);\n",
              "  const outputElement = document.getElementById(outputId);\n",
              "  // Cache steps on the outputElement to make it available for the next call\n",
              "  // to uploadFilesContinue from Python.\n",
              "  outputElement.steps = steps;\n",
              "\n",
              "  return _uploadFilesContinue(outputId);\n",
              "}\n",
              "\n",
              "// This is roughly an async generator (not supported in the browser yet),\n",
              "// where there are multiple asynchronous steps and the Python side is going\n",
              "// to poll for completion of each step.\n",
              "// This uses a Promise to block the python side on completion of each step,\n",
              "// then passes the result of the previous step as the input to the next step.\n",
              "function _uploadFilesContinue(outputId) {\n",
              "  const outputElement = document.getElementById(outputId);\n",
              "  const steps = outputElement.steps;\n",
              "\n",
              "  const next = steps.next(outputElement.lastPromiseValue);\n",
              "  return Promise.resolve(next.value.promise).then((value) => {\n",
              "    // Cache the last promise value to make it available to the next\n",
              "    // step of the generator.\n",
              "    outputElement.lastPromiseValue = value;\n",
              "    return next.value.response;\n",
              "  });\n",
              "}\n",
              "\n",
              "/**\n",
              " * Generator function which is called between each async step of the upload\n",
              " * process.\n",
              " * @param {string} inputId Element ID of the input file picker element.\n",
              " * @param {string} outputId Element ID of the output display.\n",
              " * @return {!Iterable<!Object>} Iterable of next steps.\n",
              " */\n",
              "function* uploadFilesStep(inputId, outputId) {\n",
              "  const inputElement = document.getElementById(inputId);\n",
              "  inputElement.disabled = false;\n",
              "\n",
              "  const outputElement = document.getElementById(outputId);\n",
              "  outputElement.innerHTML = '';\n",
              "\n",
              "  const pickedPromise = new Promise((resolve) => {\n",
              "    inputElement.addEventListener('change', (e) => {\n",
              "      resolve(e.target.files);\n",
              "    });\n",
              "  });\n",
              "\n",
              "  const cancel = document.createElement('button');\n",
              "  inputElement.parentElement.appendChild(cancel);\n",
              "  cancel.textContent = 'Cancel upload';\n",
              "  const cancelPromise = new Promise((resolve) => {\n",
              "    cancel.onclick = () => {\n",
              "      resolve(null);\n",
              "    };\n",
              "  });\n",
              "\n",
              "  // Wait for the user to pick the files.\n",
              "  const files = yield {\n",
              "    promise: Promise.race([pickedPromise, cancelPromise]),\n",
              "    response: {\n",
              "      action: 'starting',\n",
              "    }\n",
              "  };\n",
              "\n",
              "  cancel.remove();\n",
              "\n",
              "  // Disable the input element since further picks are not allowed.\n",
              "  inputElement.disabled = true;\n",
              "\n",
              "  if (!files) {\n",
              "    return {\n",
              "      response: {\n",
              "        action: 'complete',\n",
              "      }\n",
              "    };\n",
              "  }\n",
              "\n",
              "  for (const file of files) {\n",
              "    const li = document.createElement('li');\n",
              "    li.append(span(file.name, {fontWeight: 'bold'}));\n",
              "    li.append(span(\n",
              "        `(${file.type || 'n/a'}) - ${file.size} bytes, ` +\n",
              "        `last modified: ${\n",
              "            file.lastModifiedDate ? file.lastModifiedDate.toLocaleDateString() :\n",
              "                                    'n/a'} - `));\n",
              "    const percent = span('0% done');\n",
              "    li.appendChild(percent);\n",
              "\n",
              "    outputElement.appendChild(li);\n",
              "\n",
              "    const fileDataPromise = new Promise((resolve) => {\n",
              "      const reader = new FileReader();\n",
              "      reader.onload = (e) => {\n",
              "        resolve(e.target.result);\n",
              "      };\n",
              "      reader.readAsArrayBuffer(file);\n",
              "    });\n",
              "    // Wait for the data to be ready.\n",
              "    let fileData = yield {\n",
              "      promise: fileDataPromise,\n",
              "      response: {\n",
              "        action: 'continue',\n",
              "      }\n",
              "    };\n",
              "\n",
              "    // Use a chunked sending to avoid message size limits. See b/62115660.\n",
              "    let position = 0;\n",
              "    do {\n",
              "      const length = Math.min(fileData.byteLength - position, MAX_PAYLOAD_SIZE);\n",
              "      const chunk = new Uint8Array(fileData, position, length);\n",
              "      position += length;\n",
              "\n",
              "      const base64 = btoa(String.fromCharCode.apply(null, chunk));\n",
              "      yield {\n",
              "        response: {\n",
              "          action: 'append',\n",
              "          file: file.name,\n",
              "          data: base64,\n",
              "        },\n",
              "      };\n",
              "\n",
              "      let percentDone = fileData.byteLength === 0 ?\n",
              "          100 :\n",
              "          Math.round((position / fileData.byteLength) * 100);\n",
              "      percent.textContent = `${percentDone}% done`;\n",
              "\n",
              "    } while (position < fileData.byteLength);\n",
              "  }\n",
              "\n",
              "  // All done.\n",
              "  yield {\n",
              "    response: {\n",
              "      action: 'complete',\n",
              "    }\n",
              "  };\n",
              "}\n",
              "\n",
              "scope.google = scope.google || {};\n",
              "scope.google.colab = scope.google.colab || {};\n",
              "scope.google.colab._files = {\n",
              "  _uploadFiles,\n",
              "  _uploadFilesContinue,\n",
              "};\n",
              "})(self);\n",
              "</script> "
            ]
          },
          "metadata": {}
        },
        {
          "output_type": "stream",
          "name": "stdout",
          "text": [
            "Saving larance roberts.jpg to larance roberts (8).jpg\n",
            "Response(status_code=<HTTPStatus.OK: 200>, content=b'{\"data\":{\"updated\":true},\"status\":\"success\"}', headers=Headers({'server': 'nginx', 'content-type': 'application/json', 'transfer-encoding': 'chunked', 'connection': 'keep-alive', 'vary': 'Accept-Encoding', 'cache-control': 'no-cache, private', 'date': 'Tue, 27 Jun 2023 18:28:09 GMT', 'x-ratelimit-limit': '60', 'x-ratelimit-remaining': '59', 'access-control-allow-origin': '*', 'x-xss-protection': '1; mode=block', 'x-content-type-options': 'nosniff', 'content-encoding': 'gzip'}), parsed=UpdateProjectSettingsResponse200(status=<UpdateProjectSettingsResponse200Status.SUCCESS: 'success'>, data=UpdateProjectSettingsResponse200Data(updated=True, additional_properties={}), additional_properties={}))\n"
          ]
        }
      ]
    },
    {
      "cell_type": "markdown",
      "source": [
        "**Check Project Settings update**"
      ],
      "metadata": {
        "id": "QL2nBEDgHSBV"
      }
    },
    {
      "cell_type": "code",
      "source": [
        "project_setting = CustomGPT.ProjectSettings.get(project_id=project_id)\n",
        "print(project_setting)"
      ],
      "metadata": {
        "colab": {
          "base_uri": "https://localhost:8080/"
        },
        "id": "Ly6EVJhKHWwU",
        "outputId": "e3e0f28d-e355-494b-81c3-53d7936fb98b"
      },
      "execution_count": 13,
      "outputs": [
        {
          "output_type": "stream",
          "name": "stdout",
          "text": [
            "Response(status_code=<HTTPStatus.OK: 200>, content=b'{\"data\":{\"chatbot_avatar\":\"https:\\\\/\\\\/dev.customgpt.ai\\\\/storage\\\\/chat_bot_avatar\\\\/tLt5do8AOnJA6DDyc73yEmHSTd01btU8D95jJ81W.jpg\",\"chatbot_background\":\"https:\\\\/\\\\/dev.customgpt.ai\\\\/storage\\\\/chat_bot_bg\\\\/gMMZ2NXsToJuGEZsqNV6k2xC8qzaJPrQrSNwhBp3.jpg\",\"default_prompt\":\"Ask away\",\"example_questions\":[\"post\",\"post2\"],\"response_source\":\"default\",\"chatbot_msg_lang\":\"ur\",\"remove_branding\":0,\"chatbot_color\":\"#7367f0\"},\"status\":\"success\"}', headers=Headers({'server': 'nginx', 'content-type': 'application/json', 'transfer-encoding': 'chunked', 'connection': 'keep-alive', 'vary': 'Accept-Encoding', 'cache-control': 'no-cache, private', 'date': 'Tue, 27 Jun 2023 18:28:50 GMT', 'x-ratelimit-limit': '60', 'x-ratelimit-remaining': '58', 'access-control-allow-origin': '*', 'x-xss-protection': '1; mode=block', 'x-content-type-options': 'nosniff', 'content-encoding': 'gzip'}), parsed=GetProjectSettingsResponse200(status=<GetProjectSettingsResponse200Status.SUCCESS: 'success'>, data=GetProjectSettingsResponse200Data(chatbot_avatar='https://dev.customgpt.ai/storage/chat_bot_avatar/tLt5do8AOnJA6DDyc73yEmHSTd01btU8D95jJ81W.jpg', chatbot_background='https://dev.customgpt.ai/storage/chat_bot_bg/gMMZ2NXsToJuGEZsqNV6k2xC8qzaJPrQrSNwhBp3.jpg', default_prompt='Ask away', example_questions=['post', 'post2'], response_source=<GetProjectSettingsResponse200DataResponseSource.DEFAULT: 'default'>, chatbot_msg_lang='ur', additional_properties={'remove_branding': 0, 'chatbot_color': '#7367f0'}), additional_properties={}))\n"
          ]
        }
      ]
    }
  ],
  "metadata": {
    "colab": {
      "provenance": []
    },
    "kernelspec": {
      "display_name": "Python 3",
      "language": "python",
      "name": "python3"
    },
    "language_info": {
      "codemirror_mode": {
        "name": "ipython",
        "version": 3
      },
      "file_extension": ".py",
      "mimetype": "text/x-python",
      "name": "python",
      "nbconvert_exporter": "python",
      "pygments_lexer": "ipython3",
      "version": "3.11.2"
    }
  },
  "nbformat": 4,
  "nbformat_minor": 0
}
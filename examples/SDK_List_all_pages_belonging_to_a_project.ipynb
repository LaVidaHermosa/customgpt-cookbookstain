{
  "cells": [
    {
      "cell_type": "code",
      "execution_count": 1,
      "metadata": {
        "colab": {
          "base_uri": "https://localhost:8080/"
        },
        "id": "cMS4FTgtE0s1",
        "outputId": "f0b8c15f-c483-4929-9a08-09338357e8f3"
      },
      "outputs": [
        {
          "output_type": "stream",
          "name": "stdout",
          "text": [
            ""
          ]
        }
      ],
      "source": [
        "!pip install customgpt-client==1.1.3"
      ]
    },
    {
      "cell_type": "markdown",
      "metadata": {
        "id": "PAWpaaSa1WLi"
      },
      "source": [
        "**Create your custom chat bot using a sitemap.**\n"
      ]
    },
    {
      "cell_type": "code",
      "execution_count": 5,
      "metadata": {
        "id": "Hc9SsdoR1WLm"
      },
      "outputs": [],
      "source": [
        "from customgpt_client import CustomGPT\n",
        "CustomGPT.api_key = \"YOUR_API_TOKEN\""
      ]
    },
    {
      "cell_type": "markdown",
      "metadata": {
        "id": "Z1ISHsxb1WLo"
      },
      "source": [
        "**An example for to create a project with a sitemap**"
      ]
    },
    {
      "cell_type": "code",
      "execution_count": 6,
      "metadata": {
        "colab": {
          "base_uri": "https://localhost:8080/"
        },
        "id": "PNbGtm_A1WLp",
        "outputId": "cc03dfc7-2164-4bde-fc0c-231450b96938"
      },
      "outputs": [
        {
          "output_type": "stream",
          "name": "stdout",
          "text": [
            ""
          ]
        }
      ],
      "source": [
        "# Give a name to your project\n",
        "project_name = 'Example ChatBot using Sitemap'\n",
        "sitemap_path = 'https://adorosario.github.io/small-sitemap.xml'\n",
        "\n",
        "create_project = CustomGPT.Project.create(project_name=project_name, sitemap_path=sitemap_path)\n",
        "print(create_project)"
      ]
    },
    {
      "cell_type": "markdown",
      "source": [
        "**Add conversation to fill in pages**"
      ],
      "metadata": {
        "id": "JgXAwGsFavRE"
      }
    },
    {
      "cell_type": "code",
      "execution_count": 7,
      "metadata": {
        "colab": {
          "base_uri": "https://localhost:8080/"
        },
        "id": "D1La0GFc1WLq",
        "outputId": "7b8ca797-b19f-42e6-93aa-1a9100620384"
      },
      "outputs": [
        {
          "output_type": "stream",
          "name": "stdout",
          "text": [
            ""
          ]
        }
      ],
      "source": [
        "project_id = create_project.parsed.data.id\n",
        "# to make the chatbot sharable we will set is_shared to 1\n",
        "project_conversation = CustomGPT.Conversation.create(project_id=project_id, name='conversation')\n",
        "print(project_conversation)"
      ]
    },
    {
      "cell_type": "markdown",
      "source": [
        "**Get Project Page**"
      ],
      "metadata": {
        "id": "DYDQmEzvanvn"
      }
    },
    {
      "cell_type": "code",
      "source": [
        "project_pages = CustomGPT.Page.get(project_id=project_id)\n",
        "print(project_pages)\n",
        "total = project_pages.parsed.data.pages.total\n",
        "for i in range(total):\n",
        "  page_num = i +1\n",
        "  page = CustomGPT.Page.get(project_id=project_id, page=page_num)\n",
        "  print(page)"
      ],
      "metadata": {
        "colab": {
          "base_uri": "https://localhost:8080/"
        },
        "id": "ptvLSyBIambC",
        "outputId": "e1b68dd8-440f-4686-8e0b-64df11563d48"
      },
      "execution_count": 26,
      "outputs": [
        {
          "output_type": "stream",
          "name": "stdout",
          "text": [
            ""
          ]
        }
      ]
    }
  ],
  "metadata": {
    "colab": {
      "provenance": []
    },
    "kernelspec": {
      "display_name": "Python 3",
      "language": "python",
      "name": "python3"
    },
    "language_info": {
      "codemirror_mode": {
        "name": "ipython",
        "version": 3
      },
      "file_extension": ".py",
      "mimetype": "text/x-python",
      "name": "python",
      "nbconvert_exporter": "python",
      "pygments_lexer": "ipython3",
      "version": "3.11.2"
    }
  },
  "nbformat": 4,
  "nbformat_minor": 0
}

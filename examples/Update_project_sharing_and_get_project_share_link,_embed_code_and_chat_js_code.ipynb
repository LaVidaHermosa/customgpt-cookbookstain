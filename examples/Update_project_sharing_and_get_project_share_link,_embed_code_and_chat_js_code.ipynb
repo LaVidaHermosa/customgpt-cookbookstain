{
  "cells": [
    {
      "cell_type": "markdown",
      "metadata": {
        "id": "PAWpaaSa1WLi"
      },
      "source": [
        "**Update project sharing and get project share link, embed code and chat.js code**\n"
      ]
    },
    {
      "cell_type": "code",
      "execution_count": null,
      "metadata": {
        "id": "Hc9SsdoR1WLm"
      },
      "outputs": [],
      "source": [
        "# setup API URL and API Token\n",
        "api_endpoint = 'https://app.customgpt.ai/api/v1/'\n",
        "api_token = 'ADD_YOUR_API_TOKEN_HERE'\n",
        "\n",
        "headers = {\n",
        "    'Content-type': 'application/json',\n",
        "    'Authorization': 'Bearer ' + api_token\n",
        "}\n",
        "# imports\n",
        "import requests\n",
        "import json"
      ]
    },
    {
      "cell_type": "markdown",
      "source": [
        "**Create a project for the account**"
      ],
      "metadata": {
        "id": "SDGeV1BbMTmS"
      }
    },
    {
      "cell_type": "code",
      "execution_count": null,
      "metadata": {
        "id": "PNbGtm_A1WLp",
        "colab": {
          "base_uri": "https://localhost:8080/"
        },
        "outputId": "7924059c-5cf1-41f0-953f-c622df889524"
      },
      "outputs": [
        {
          "output_type": "stream",
          "name": "stdout",
          "text": [
            "{\"data\":{\"id\":508,\"project_name\":\"Example ChatBot using Sitemap\",\"sitemap_path\":null,\"user_id\":35,\"is_chat_active\":null,\"created_at\":\"2023-06-24T21:08:58.000000Z\",\"updated_at\":\"2023-06-24T21:08:58.000000Z\",\"is_shared\":null,\"deleted_at\":null,\"type\":\"SITEMAP\"},\"status\":\"success\"}\n"
          ]
        }
      ],
      "source": [
        "# Give a name to your project\n",
        "project_name = 'Example ChatBot using Sitemap'\n",
        "sitemap_path = 'https://adorosario.github.io/small-sitemap.xml'\n",
        "\n",
        "payload = json.dumps({\n",
        "    \"project_name\": project_name,\n",
        "    \"sitemap_path\": sitemap_path\n",
        "})\n",
        "\n",
        "url = api_endpoint + 'projects'\n",
        "\n",
        "create_project = requests.request('POST', url, headers=headers, data=payload)\n",
        "print(create_project.text)"
      ]
    },
    {
      "cell_type": "markdown",
      "source": [
        "**Update project sharing status**\n"
      ],
      "metadata": {
        "id": "3f0Raa_UOquJ"
      }
    },
    {
      "cell_type": "code",
      "source": [
        "data = json.loads(create_project.text)[\"data\"]\n",
        "project_id = data[\"id\"]\n",
        "payload = json.dumps({\n",
        "    \"is_shared\": True\n",
        "})\n",
        "# Update the project\n",
        "url = api_endpoint + 'projects' + f\"/{project_id}\"\n",
        "\n",
        "update_project = requests.request('POST', url, headers=headers, data=payload)\n"
      ],
      "metadata": {
        "id": "uoCUM2FdMR-V"
      },
      "execution_count": null,
      "outputs": []
    },
    {
      "cell_type": "markdown",
      "source": [
        "**Get Share Link, embed code and livechat**\n"
      ],
      "metadata": {
        "id": "0EnOjit4O4XU"
      }
    },
    {
      "cell_type": "code",
      "source": [
        "# Check status of the project if chat bot is active\n",
        "data = json.loads(update_project.text)[\"data\"]\n",
        "share_link = data['shareable_link']\n",
        "print('Share Link')\n",
        "print(share_link)\n",
        "embed_code = data['embed_code']\n",
        "print('Embed Code')\n",
        "print(embed_code)\n",
        "live_chat_code = data['live_chat_code']\n",
        "print('Live Chat Code')\n",
        "print(live_chat_code)"
      ],
      "metadata": {
        "id": "g7VqloUVMuQJ",
        "colab": {
          "base_uri": "https://localhost:8080/"
        },
        "outputId": "ca5c296a-f69d-429f-d2f6-7e17d32f41b3"
      },
      "execution_count": null,
      "outputs": [
        {
          "output_type": "stream",
          "name": "stdout",
          "text": [
            "Share Link\n",
            "https://dev.customgpt.ai/api/v1/projects/508/conversations?shareable_slug=4f5293ab51ff008006c4ba33cfc6c8fb\n",
            "Embed Code\n",
            "<div id='customgpt_chat'></div><script div_id='customgpt_chat' p_key='508' p_key='4f5293ab51ff008006c4ba33cfc6c8fb' src='https://cdn.customgpt.ai/js/embed.js' width='400'></script>\n",
            "Live Chat Code\n",
            "<script src='https://cdn.customgpt.ai/js/chat.js'></script><script>window.onload = function () { CustomGPT.init({ p_id: '508', p_key: '4f5293ab51ff008006c4ba33cfc6c8fb' }); };</script>\n"
          ]
        }
      ]
    },
    {
      "cell_type": "code",
      "source": [],
      "metadata": {
        "id": "ZrQhz8F0PCyE"
      },
      "execution_count": null,
      "outputs": []
    }
  ],
  "metadata": {
    "kernelspec": {
      "display_name": "Python 3",
      "language": "python",
      "name": "python3"
    },
    "language_info": {
      "codemirror_mode": {
        "name": "ipython",
        "version": 3
      },
      "file_extension": ".py",
      "mimetype": "text/x-python",
      "name": "python",
      "nbconvert_exporter": "python",
      "pygments_lexer": "ipython3",
      "version": "3.11.2"
    },
    "orig_nbformat": 4,
    "colab": {
      "provenance": []
    }
  },
  "nbformat": 4,
  "nbformat_minor": 0
}